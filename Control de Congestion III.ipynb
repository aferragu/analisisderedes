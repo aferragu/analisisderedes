{
 "cells": [
  {
   "cell_type": "markdown",
   "metadata": {
    "slideshow": {
     "slide_type": "slide"
    }
   },
   "source": [
    "# Curso Análisis de Redes\n",
    "\n",
    "## Cátedra Teoría de las Telecomunicaciones - Universidad ORT Uruguay\n",
    "\n",
    "\n",
    "\n",
    "# Control de congestión en redes (3a. parte)"
   ]
  },
  {
   "cell_type": "code",
   "execution_count": 1,
   "metadata": {
    "slideshow": {
     "slide_type": "skip"
    }
   },
   "outputs": [],
   "source": [
    "#using Pkg;Pkg.instantiate(); Pkg.update()"
   ]
  },
  {
   "cell_type": "markdown",
   "metadata": {
    "slideshow": {
     "slide_type": "slide"
    }
   },
   "source": [
    "## El problema de asignación de recursos\n",
    "\n",
    "El problema de control de congestión en redes es un caso particular del problema de *asignación de recursos*.\n",
    "\n",
    "* Existe un bien *escaso* a repartir: el ancho de banda de los enlaces.\n",
    "\n",
    "* Las conexiones solicitan recursos a lo largo de su ruta.\n",
    "\n",
    "* Los enlaces imponen *restricciones de capacidad*.\n",
    "\n",
    "> **Problema:**\n",
    ">\n",
    "> ¿Cuánto ancho de banda se debe asignar a cada conexión respetando las restricciones de los enlaces?\n"
   ]
  },
  {
   "cell_type": "markdown",
   "metadata": {
    "slideshow": {
     "slide_type": "slide"
    }
   },
   "source": [
    "### Ejemplo\n",
    "\n",
    "En la siguiente red con $3$ conexiones compartiendo $2$ enlaces:\n",
    "\n",
    "* ¿Cuáles son las asignaciones factibles?\n",
    "* ¿Cuál es la asignación más lógica?\n",
    "\n",
    "![Parking lot](images/parking_lot.png)"
   ]
  },
  {
   "cell_type": "markdown",
   "metadata": {
    "slideshow": {
     "slide_type": "slide"
    }
   },
   "source": [
    "### Restricciones de capacidad\n",
    "\n",
    "Las *restricciones de capacidad* de la red anterior son:\n",
    "\n",
    "$$x_1 + x_2 \\leqslant C_1,$$\n",
    "\n",
    "$$x_1 + x_3 \\leqslant C_2.$$\n",
    "\n",
    "Las asignaciones factibles son el conjunto:\n",
    "\n",
    "$$\\mathcal{C} = \\{(x_i): x_i\\geqslant 0, x_1+x_2\\leqslant C_1, x_1+x_3\\leqslant C_2\\}$$\n",
    "\n",
    "denominado **región de capacidad de la red**."
   ]
  },
  {
   "cell_type": "markdown",
   "metadata": {
    "slideshow": {
     "slide_type": "slide"
    }
   },
   "source": [
    "### Restricciones de capacidad: diagrama\n",
    "\n",
    "Para el caso del ejemplo, la región $\\mathcal{C}$ tiene la siguiente forma:\n",
    "![Parking Lot constraints](images/parking_lot_constraints.png)"
   ]
  },
  {
   "cell_type": "markdown",
   "metadata": {
    "slideshow": {
     "slide_type": "slide"
    }
   },
   "source": [
    "### Matriz de ruteo\n",
    "\n",
    "Una forma concisa de expresar la región de capacidad es considerar la matriz:\n",
    "\n",
    "$$R = (R_{lr}) \\quad R_{lr}= \\begin{cases} 1 \\text{ si la ruta $r$ pasa por el enlace $l$,}\\\\\n",
    "                                           0 \\text{ en otro caso.}\\end{cases}$$ \n",
    "                                           \n",
    "Si $C=(c_l)$ es un vector columna con las capacidades de los enlaces, entonces la región de capacidad es:\n",
    "\n",
    "$$\\mathcal{C} = \\{x: x\\geqslant 0, Rx\\leqslant C\\}$$\n",
    "\n",
    "donde las desigualdades son coordenada a coordenada.\n",
    "\n",
    "**Observación:** al ser un conjunto de desigualdades lineales, el resultado siempre es un politopo en la región $x_i\\geqslant 0$."
   ]
  },
  {
   "cell_type": "markdown",
   "metadata": {
    "slideshow": {
     "slide_type": "slide"
    }
   },
   "source": [
    "### Matriz de ruteo: ejemplo.\n",
    "\n",
    "En el ejemplo anterior:\n",
    "\n",
    "$$R = \\begin{pmatrix} 1 & 1 & 0 \\\\1 & 0 & 1\\end{pmatrix} \\quad x=\\begin{pmatrix}x_1\\\\x_2\\\\x_3\\end{pmatrix} \\quad C=\\begin{pmatrix}C_1\\\\C_2\\end{pmatrix}.$$"
   ]
  },
  {
   "cell_type": "markdown",
   "metadata": {
    "slideshow": {
     "slide_type": "slide"
    }
   },
   "source": [
    "## Asignaciones eficientes\n",
    "\n",
    "La descripción anterior nos muestra cuáles asignaciones son *factibles*. Pero la asignación $x=(0,\\ldots,0)$ siempre es factible pero no es deseable. Surge entonces la pregunta de qué asignaciones son *eficientes*.\n",
    "\n",
    "> **Definición:** (Pareto-eficiencia)\n",
    ">\n",
    "> Una asignación $x\\in \\mathcal{C}$ es Pareto-eficiente si y solo si no se puede incrementar la asignación de $x_i$ sin empeorar algún $x_j$ con $j\\neq i$.\n",
    ">\n",
    "> Matemáticamente, $x$ es Pareto eficiente si para toda $x'\\in \\mathcal{C}$ con $x'_i>x_i$ existe $j$ tal que $x'_j<x_j$."
   ]
  },
  {
   "cell_type": "markdown",
   "metadata": {
    "slideshow": {
     "slide_type": "slide"
    }
   },
   "source": [
    "### Ejemplo\n",
    "\n",
    "Para el ejemplo anterior, la región Pareto-eficiente es la indicada en color azul:\n",
    "\n",
    "<img src=\"images/parking_lot_pareto.png\" width=700px />"
   ]
  },
  {
   "cell_type": "markdown",
   "metadata": {
    "slideshow": {
     "slide_type": "slide"
    }
   },
   "source": [
    "## Asignación de máximo throughput\n",
    "\n",
    "Del conjunto de asignaciones, puede tener sentido elegir aquella que *transporta más información* por la red. Esta es la asignación de máximo throughput, y que puede definirse mediante el siguiente problema:\n",
    "\n",
    "> **Problema** (max-throughput):\n",
    ">\n",
    "> $$\\max \\sum_i x_i$$\n",
    ">\n",
    "> sujeto a:\n",
    ">\n",
    "> $$Rx\\leqslant C,$$\n",
    "> $$x\\geqslant 0.$$\n",
    "\n",
    "Es decir, maximizar la asignación total sujeto a las restricciones de capacidad. Denotaremos por $x^+$ la solución de este problema."
   ]
  },
  {
   "cell_type": "markdown",
   "metadata": {
    "slideshow": {
     "slide_type": "slide"
    }
   },
   "source": [
    "### Solución para la red de ejemplo.\n",
    "\n",
    "El problema anterior es un *problema de optimización lineal* o *programación lineal*. Se trata de optimizar una función objetivo lineal sujeto a restricciones de desigualdad lineales (semiespacios).\n",
    "\n",
    "> **Propiedad**: siempre existe un vértice del politopo $\\mathcal{C}$ que es solución del problema.\n",
    "\n",
    "Existen múltiples algoritmos para encontrar el óptimo (ej: el [método simplex](https://en.wikipedia.org/wiki/Simplex_algorithm) que recorre los vértices ordenadamente). En Julia lo implementamos con la bilbioteca `JuMP` que permite resolver problemas de optimización, y utilizando el solver gratuito `Ipopt`."
   ]
  },
  {
   "cell_type": "code",
   "execution_count": 3,
   "metadata": {
    "scrolled": false,
    "slideshow": {
     "slide_type": "slide"
    }
   },
   "outputs": [
    {
     "name": "stdout",
     "output_type": "stream",
     "text": [
      "Asignación:\n",
      "x1=0.0\n",
      "x2=100.00000100999975\n",
      "x3=80.00000080999975\n"
     ]
    }
   ],
   "source": [
    "using JuMP, Ipopt\n",
    "\n",
    "C1=100.0\n",
    "C2=80.0\n",
    "\n",
    "## Defino el problema de optimización de maximo throughput\n",
    "model = Model(\n",
    "           optimizer_with_attributes(\n",
    "               Ipopt.Optimizer, \"tol\" => 1e-12, \"print_level\" => 0\n",
    "    )\n",
    ")\n",
    "\n",
    "@variable(model,x[1:3]>=0)\n",
    "\n",
    "con1 = @constraint(model, x[1]+x[2]<=C1)\n",
    "con2 = @constraint(model, x[1]+x[3]<=C2)\n",
    "\n",
    "@objective(model,Max,sum(x))\n",
    "\n",
    "#Resuelvo\n",
    "optimize!(model)\n",
    "\n",
    "#Imprimo la salida\n",
    "println(\"Asignación:\")\n",
    "println(\"x1=$(value(x[1]))\")\n",
    "println(\"x2=$(value(x[2]))\")\n",
    "println(\"x3=$(value(x[3]))\")"
   ]
  },
  {
   "cell_type": "markdown",
   "metadata": {
    "slideshow": {
     "slide_type": "slide"
    }
   },
   "source": [
    "### Diagrama:\n",
    "\n",
    "Volviendo al diagrama de capacidad:\n",
    "\n",
    "<img src=\"images/parking_lot_max_throughput.png\" width=700px />"
   ]
  },
  {
   "cell_type": "markdown",
   "metadata": {
    "slideshow": {
     "slide_type": "slide"
    }
   },
   "source": [
    "### Eficiencia vs. justicia\n",
    "\n",
    "La solución de máximo throughput es entonces:\n",
    "\n",
    "$$x_1^+ = 0, \\quad x_2^+ = C_1, \\quad x_3^+=C_2,$$\n",
    "\n",
    "Claramente maximiza el throughput (nunca puede ser más que $C_1+C_2$ y este alcanza dicha cota) pero penaliza excesivamente la ruta larga!\n",
    "\n",
    "**Observación:** este resultado es general. Al querer maximizar el throughput, la asignación le quita recursos a las rutas que usan más de un enlace (porque dicha capacidad asignada cuenta una vez sola) y le da preferencia a las rutas cortas.\n",
    "\n",
    "**Conclusión:** no siempre lo maś eficiente es lo más justo."
   ]
  },
  {
   "cell_type": "markdown",
   "metadata": {
    "slideshow": {
     "slide_type": "slide"
    }
   },
   "source": [
    "## Max-min fairness\n",
    "\n",
    "Se busca entonces una asignación que reparta los recursos de manera \"justa\". Tomando ideas de la economía, se define la asignación *max-min fair* o de *justicia max-min* como sigue:\n",
    "\n",
    "> **Asignación max-min**:\n",
    ">\n",
    "> La asignación $x^*\\in \\mathcal{C}$ es *max-min fair* si verifica la siguiente propiedad: para toda otra asignación factible, no se puede incrementar la asignación de una ruta sin disminuir alguna *que ya tenía menos*.\n",
    ">\n",
    "> Matemáticamente, si $x'\\in\\mathcal{C}$ y $x'_i >x^*_i$ entonces existe $j$ tal que $x^*_j\\leqslant x^*_i$ y $x'_j<x^*_j$."
   ]
  },
  {
   "cell_type": "markdown",
   "metadata": {
    "slideshow": {
     "slide_type": "slide"
    }
   },
   "source": [
    "### Propiedades\n",
    "\n",
    "La asignación max-min verifica las siguientes propiedades:\n",
    "\n",
    "1. Es una asignación Pareto-eficiente.\n",
    "\n",
    "2. Para toda otra asignación $x\\in \\mathcal{C}$ se tiene que:\n",
    "$$\\min_i x_i^* \\geqslant \\min_i x_i$$\n",
    "\n",
    "Por lo tanto, el que se lleva menos, se lleva lo más posible."
   ]
  },
  {
   "cell_type": "markdown",
   "metadata": {
    "slideshow": {
     "slide_type": "slide"
    }
   },
   "source": [
    "### Algoritmo de water-filling\n",
    "\n",
    "El cálculo de la asignación max-min se hace mediante el *algoritmo de water-filling* que se describe a continuación:\n",
    "\n",
    "> **Algoritmo de water-filling:**\n",
    ">\n",
    "> 1. Se comienza con $x=(0,\\ldots,0)$.\n",
    "> 2. Se incrementa todas las fuentes por igual hasta saturar un enlace.\n",
    "> 3. Todas las fuentes que comparten dicho enlace se fijan.\n",
    "> 4. Se vuelve al paso 2 incrementando solo las fuentes que no se fijaron.\n",
    "> 5. El algoritmo termina cuando todas las fuentes están fijas."
   ]
  },
  {
   "cell_type": "markdown",
   "metadata": {},
   "source": [
    "### Ejemplo\n",
    "\n",
    "Para la red de ejemplo:\n",
    "\n",
    "1. Comenzamos con $x=(0,0,0)$.\n",
    "2. Incrementamos parejo hasta llegar a $x=(40,40,40)$. En ese momento satura el enlace $2$ ($x_1+x_3=80$).\n",
    "3. Fijamos las fuentes $x_1^*=40$ y $x_3^*=40$ y queda libre la $2$.\n",
    "4. Incrementamos la fuente $2$ hasta que $x_2^* = 60$, saturando el enlace $1$. Todas las fuentes están fijas.\n",
    "\n",
    "Resultado:\n",
    "\n",
    "$$x_1^* = 40, \\quad x_2^*=60, \\quad x_3^*=40.$$\n"
   ]
  },
  {
   "cell_type": "markdown",
   "metadata": {
    "slideshow": {
     "slide_type": "slide"
    }
   },
   "source": [
    "### Diagrama:\n",
    "\n",
    "<img src=\"images/parking_lot_max_min.png\" width=600px />"
   ]
  },
  {
   "cell_type": "code",
   "execution_count": 5,
   "metadata": {
    "slideshow": {
     "slide_type": "slide"
    }
   },
   "outputs": [
    {
     "name": "stdout",
     "output_type": "stream",
     "text": [
      "Asignación:\n",
      "x1=0.0\n",
      "x2=100.00000100999975\n",
      "x3=80.00000080999975\n"
     ]
    }
   ],
   "source": [
    "model = Model(\n",
    "           optimizer_with_attributes(\n",
    "               Ipopt.Optimizer, \"tol\" => 1e-12, \"print_level\" => 0\n",
    "    )\n",
    ")\n",
    "\n",
    "@variable(model,x[1:3]>=0)\n",
    "@variable(model, z>=0)\n",
    "\n",
    "con1 = @constraint(model, x[1]+x[2]<=C1)\n",
    "con2 = @constraint(model, x[1]+x[3]<=C2)\n",
    "\n",
    "@objective(model,Max,sum(x))\n",
    "\n",
    "optimize!(model)\n",
    "\n",
    "println(\"Asignación:\")\n",
    "println(\"x1=$(value(x[1]))\")\n",
    "println(\"x2=$(value(x[2]))\")\n",
    "println(\"x3=$(value(x[3]))\")"
   ]
  },
  {
   "cell_type": "markdown",
   "metadata": {
    "slideshow": {
     "slide_type": "slide"
    }
   },
   "source": [
    "### Relación entre max-min y max-throughput\n",
    "\n",
    "Las asignaciones obtenidas fueron entonces:\n",
    "\n",
    "* $x^+ = (0,100,80)$, throughput total $\\sum_i x_i^+ = 180$.\n",
    "\n",
    "* $x^* = (40,60,40)$, throughput total $\\sum_i x_i^* = 140$.\n",
    "\n",
    "es decir, sacrificamos throughput neto para \"emparejar\" la asignación. Observar que el mínimo sube de $0$ a $40$.\n",
    "\n"
   ]
  },
  {
   "cell_type": "markdown",
   "metadata": {
    "slideshow": {
     "slide_type": "slide"
    }
   },
   "source": [
    "## Asignación TCP/Reno\n",
    "\n",
    "Luego de analizadas teóricamente las posibles asignaciones, nos gustaría entender cuál es la asignación de recursos que logra TCP/Reno, con su mecanismo de *control distribuido* donde cada fuente regula su propia velocidad en feedback.\n",
    "\n",
    "**Hipótesis:**\n",
    "\n",
    " * Cada fuente TCP opera en feedback con la probabilidad de pérdida siguiendo la fórmula de Mathis:\n",
    " \n",
    " $$ x_r = \\frac{1}{RTT} \\sqrt{\\frac{1.5}{p_r}}.$$\n",
    " \n",
    " * Despreciamos los retardos de cola, por lo que el $RTT$ de la conexión es la suma de los $RTT$ de los enlaces que atraviesa."
   ]
  },
  {
   "cell_type": "markdown",
   "metadata": {
    "slideshow": {
     "slide_type": "slide"
    }
   },
   "source": [
    "### Modelo de enlace.\n",
    "\n",
    "Como vimos antes, en el análisis de un cuello de botella, el enlace opera sin pérdidas hasta llegar a su capacidad, y luego inmediatamente la probabilidad de pérdida se vuelve positiva, regulando a las fuentes.\n",
    "\n",
    "**Modelo:**\n",
    "\n",
    "Modelamos un enlace como una no-linealidad que opera en uno de los siguientes estados:\n",
    "\n",
    " * *No saturado:* \n",
    "$$\\sum_{r\\in l} x_r < c_l \\quad \\text{y} \\quad p_l=0.$$\n",
    "         \n",
    " * *Saturado:*\n",
    "$$\\sum_{r\\in l} x_r = c_l \\quad \\text{y} \\quad p_l>0.$$\n",
    "\n",
    "\n",
    "**Observación:** es similar al modelo del diodo ideal, donde o bien $v=0$ e $i>0$ o $i=0$ y $v>0$. Notar que en ambos casos siempre tenemos una ecuación."
   ]
  },
  {
   "cell_type": "markdown",
   "metadata": {
    "slideshow": {
     "slide_type": "slide"
    }
   },
   "source": [
    "### Pérdidas en una ruta\n",
    "\n",
    "Finalmente, tenemos la siguiente aproximación. Supongamos que una ruta $r$ atraviesa los enlaces $l_1,l_2,\\ldots,l_k$ en orden. La probabilidad de pérdida de la ruta $r$ es entonces:\n",
    "\n",
    "$$p_r = p_{l_1} + (1-p_{l_1})p_{l_2} + (1-p_{l_1})(1-p_{l_2})p_{l_3} + \\ldots + (1-p_{l_1})\\cdots(1-p_{l_{k-1}})p_{l_k}.$$\n",
    "\n",
    "Si las probabilidades de pérdida son pequeñas $p_{l}\\ll 1$, podemos hacer la siguiente aproximación:\n",
    "\n",
    "$$p_r = \\sum_{l\\in r} p_l = \\sum_{r} R_{lr}p_l.$$"
   ]
  },
  {
   "cell_type": "markdown",
   "metadata": {
    "slideshow": {
     "slide_type": "slide"
    }
   },
   "source": [
    "### Cálculo de la asignación TCP\n",
    "\n",
    "Combinando todo lo anterior, debemos hallar, dada una red con $N$ rutas y $L$ enlaces debemos calcular:\n",
    "\n",
    " $$x_r, \\; r=1,\\ldots,N; \\quad p_l, \\; l=1,\\ldots,L.$$\n",
    "\n",
    " En total $N+L$ incógnitas.\n",
    "\n",
    "> **Algoritmo:** (Asignación TCP)\n",
    ">\n",
    "> 1. Se hace una hipótesis de saturación de enlaces.\n",
    "> 2. Para los enlaces saturados, se utiliza $\\sum_{r\\in l} x_r = c_l$.\n",
    "> 3. Para los enlaces no saturados, se utiliza $p_l=0$. En total $L$ ecuaciones de enlace.\n",
    "> 4. Para cada fuente se utiliza la fórmula de Mathis:\n",
    "> $$x_r = \\frac{1}{RTT_r} \\sqrt{\\frac{1.5}{p_r}}$$\n",
    "> con $p_r = \\sum_{l\\in r} p_l$. Total $N$ ecuaciones de fuente.\n",
    "> 5. Se resuelve el sistema hallando la asignación $x^0$ de TCP.\n",
    "> 6. Con la asignación hallada, se verifican todas las hipótesis de saturación, es decir:\n",
    ">      * Si $p_l=0$, verifico $\\sum_{r\\in l} x^0_r < c_l$.\n",
    ">      * Si $\\sum_{r\\in l} x^0_r = c_l$ verifico que $p_l>0$."
   ]
  },
  {
   "cell_type": "markdown",
   "metadata": {
    "slideshow": {
     "slide_type": "slide"
    }
   },
   "source": [
    "## Ejercicio\n",
    "\n",
    "Considere la siguiente red, cuyas restricciones de capacidad se diagraman a continuación:\n",
    "\n",
    "![Three links](images/three_links.png)\n",
    "\n",
    "1. Discutir cuál es la región Pareto-eficiente.\n",
    "2. Calcular cuál(es) asignaciones son de máximo throughput.\n",
    "3. Calcular la asignación max-min mediante el algoritmo de water-filling.\n",
    "4. Calcular la asignación de TCP/Reno. Puede suponer inicialmente que los enlaces saturados son los mismos que en max-min como hipótesis inicial (pero deberá verificarla)."
   ]
  },
  {
   "cell_type": "markdown",
   "metadata": {
    "slideshow": {
     "slide_type": "slide"
    }
   },
   "source": [
    "### Restricciones de capacidad\n",
    "\n",
    "<img src=\"images/three_link_constraints.png\" width=\"700px\" />"
   ]
  }
 ],
 "metadata": {
  "@webio": {
   "lastCommId": null,
   "lastKernelId": null
  },
  "celltoolbar": "Slideshow",
  "kernelspec": {
   "display_name": "Julia 1.5.3",
   "language": "julia",
   "name": "julia-1.5"
  },
  "language_info": {
   "file_extension": ".jl",
   "mimetype": "application/julia",
   "name": "julia",
   "version": "1.5.3"
  }
 },
 "nbformat": 4,
 "nbformat_minor": 4
}
