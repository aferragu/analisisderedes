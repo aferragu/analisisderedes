{
 "cells": [
  {
   "cell_type": "markdown",
   "metadata": {
    "slideshow": {
     "slide_type": "slide"
    }
   },
   "source": [
    "# Curso Análisis de Redes\n",
    "\n",
    "## Cátedra Teoría de las Telecomunicaciones - Universidad ORT Uruguay\n",
    "\n",
    "\n",
    "\n",
    "# Control de congestión en redes (4a. parte)"
   ]
  },
  {
   "cell_type": "code",
   "execution_count": 1,
   "metadata": {
    "slideshow": {
     "slide_type": "skip"
    }
   },
   "outputs": [],
   "source": [
    "#using Pkg;Pkg.instantiate(); Pkg.update()"
   ]
  },
  {
   "cell_type": "markdown",
   "metadata": {
    "slideshow": {
     "slide_type": "slide"
    }
   },
   "source": [
    "## Más allá de TCP/Reno\n",
    "\n",
    " * El algoritmo de Control de Congestión de TCP sobrevivió (y posibilitó) la explosión de Internet en los años 90.\n",
    "\n",
    " * La razón de su éxito es precisamente que logra una asignación *adecuada* y *eficiente* de manera *completamente descentralizada*.\n",
    " \n",
    " * Sin embargo, a comienzos de la década del 2000, se vio que era insuficiente para redes con alto producto retardo por ancho de banda ($C\\times d$)."
   ]
  },
  {
   "cell_type": "markdown",
   "metadata": {
    "slideshow": {
     "slide_type": "slide"
    }
   },
   "source": [
    "### Problemas con alto retardo\n",
    "\n",
    " * En las redes con alto retardo, aparecieron fenómenos de sincronización y oscilaciones.\n",
    " * Esto se debe al *retardo en el lazo de control*, porque reaccionamos tarde a las pérdidas.\n",
    " * A su vez, RTTs más grandes degradan la velocidad por la fórmula de Mathis, como ya vimos."
   ]
  },
  {
   "cell_type": "markdown",
   "metadata": {
    "slideshow": {
     "slide_type": "slide"
    }
   },
   "source": [
    "### Problemas con alto ancho de banda\n",
    "\n",
    " * El mecanismo de bajada de TCP requiere demasiados RTTs para subir la ventana si $W_{max}$ es grande.\n",
    " * Esto puede hacer que la ventana opere mucho tiempo por debajo de la óptima (ver ejercicio del obligatorio)\n",
    " * Otra forma de evidenciar este problema es también usando la fórmula de Mathis:\n",
    " \n",
    " > **Ejemplo:** Supongamos que una fuente TCP tiene un $RTT$ de $200ms$ y el enlace es de $50Mbps$ (ej. fibra). Operando con paquetes de $1500$ bytes la fórmula de Mathis indica que:\n",
    " >\n",
    " > $$ x = \\frac{1500\\times 8}{0.2}\\sqrt{\\frac{1.5}{p}}.$$\n",
    " >\n",
    " > De donde, si queremos qe $x=50Mbps$, necesitamos:\n",
    " >\n",
    " > $$ p \\approx 2\\times 10^{-6}$$\n",
    " \n",
    "De lo anterior, se pierde un paquete cada aproximadamente $500.000$, es decir ¡$1$ paquete cada $715$ MBytes transmitidos! Solo los flujos muy largos ven esto.\n"
   ]
  },
  {
   "cell_type": "markdown",
   "metadata": {},
   "source": [
    "## Alternativas a TCP/Reno:\n",
    "\n",
    "Durante los años 2000 se propusieron innumerables alternativas para solucionar los problemas de TCP/Reno:\n",
    "\n",
    "* High Speed TCP\n",
    "* TCP-Westwood\n",
    "* TCP-Illinois\n",
    "* Fast TCP\n",
    "* Compound TCP\n",
    "* STCP\n",
    "* TCP-BIC\n",
    "* TCP Cubic\n",
    "* etc. etc.\n",
    "\n",
    "Hoy en día, la alternativa más utilizada es [**TCP-Cubic**](https://tools.ietf.org/html/rfc8312)."
   ]
  },
  {
   "cell_type": "markdown",
   "metadata": {
    "slideshow": {
     "slide_type": "slide"
    }
   },
   "source": [
    "### TCP - Cubic\n",
    "\n",
    "<img style=\"float:right; width:350px; padding-left: 2em\" src=\"../images/cubic_window.png\"/>\n",
    "\n",
    "**Ideas clave:**\n",
    "\n",
    "* Ser más agresivo en la subida de ventana para volver al punto de pérdida.\n",
    "\n",
    "* Luego de volver, comenzar una fase de probing para subir la ventana.\n",
    "\n",
    "* Al ver una pérdida, bajar un porcentaje menor al $50\\%$.\n",
    "\n",
    "* Hacer que la fase de subida y probing *no dependan del $RTT$* sino del tiempo absoluto desde la congestión.\n",
    "\n",
    "El resultado fue una parábola cúbica sin demasiada explicación de por qué:\n",
    "\n",
    "$$\\begin{array}{lcr}cwnd\\ =\\ C(T-K)^{3}+w_{max}\\\\ K={\\sqrt[{3}]{\\frac {w_{max}(1-\\beta )}{C}}}\\end{array}$$\n",
    "\n",
    "Con:\n",
    "\n",
    " - β SHOULD be set to 0.7 (Section 4.5)\n",
    " - C SHOULD be set to 0.4 (Section 5)\n",
    "\n",
    "El algoritmo se popularizó y fue tomado inmediatamente por Linux (ergo, por casi todos los servidores de Internet) y luego por Windows.\n",
    "\n",
    "<img style=\"float: center; width:500px\" src=\"../images/cubic_window_2.png\"/>\n"
   ]
  },
  {
   "cell_type": "markdown",
   "metadata": {
    "slideshow": {
     "slide_type": "slide"
    }
   },
   "source": [
    "### Cubic vs. Reno\n",
    "\n",
    "Para ver el comportamiento comparado de Cubic vs. Reno realizamos la siguiente prueba en un enlace cuello de botella de $C=10Mbps$ y $d=100ms$. Ventana óptima $W^* = 83$ paq."
   ]
  },
  {
   "cell_type": "code",
   "execution_count": null,
   "metadata": {
    "slideshow": {
     "slide_type": "fragment"
    }
   },
   "outputs": [],
   "source": [
    "using CSV, DataFrames, Plots, LaTeXStrings\n",
    "default(size=(900,400), legend=:bottomright, legendfontsize=10)\n",
    "\n",
    "df = CSV.File(\"datos/cubic_vs_reno.tr\", header=false) |> DataFrame"
   ]
  },
  {
   "cell_type": "code",
   "execution_count": null,
   "metadata": {
    "slideshow": {
     "slide_type": "slide"
    }
   },
   "outputs": [],
   "source": [
    "df1 = filter(row-> occursin(\"57719\",row[2]),df)\n",
    "df2 = filter(row-> occursin(\"57720\",row[2]),df)\n",
    "\n",
    "t1 = df1[!,1]\n",
    "w1=df1[!,7]\n",
    "t2 = df2[!,1]\n",
    "w2=df2[!,7]\n",
    "\n",
    "plot([t1,t2],[w1,w2], label=[\"Reno\" \"Cubic\"], xlabel=L\"t\", ylabel=L\"cwnd\")"
   ]
  },
  {
   "cell_type": "code",
   "execution_count": null,
   "metadata": {
    "slideshow": {
     "slide_type": "slide"
    }
   },
   "outputs": [],
   "source": [
    "seq1 = parse.(Int64,df1[!,5])\n",
    "seq1 = seq1 .-seq1[1]\n",
    "seq2 = parse.(Int64,df2[!,5])\n",
    "seq2 = seq2 .-seq2[1]\n",
    "plot([t1,t2],[seq1,seq2], label=[\"Reno\" \"Cubic\"], xlabel=L\"t\", ylabel=L\"Bytes\")"
   ]
  },
  {
   "cell_type": "markdown",
   "metadata": {
    "slideshow": {
     "slide_type": "slide"
    }
   },
   "source": [
    "## Últimos progresos\n",
    "\n",
    "En los últimos años, el tema del control de congestión ha vuelto a ser rediscutido básicamente en dos contextos:\n",
    "\n",
    " * **Data Centers:** aquí las conexiones tienen anchos de banda gigantescos pero retardos minúsculos. Las necesidades son bien distintas. En 2010 se propuso DataCenter TCP (DCTCP) para encarar este caso.\n",
    " \n",
    " * **Big-Fat-Networks** este es el contexto donde Cubic superó a Reno, pero con el crecimiento del ancho de banda, operar en base a pérdidas no parece una buena idea.\n",
    " \n",
    "\n",
    "\n",
    "**Idea:** Medir el RTT de la conexión y operar en base a retardo y no pérdidas."
   ]
  },
  {
   "cell_type": "markdown",
   "metadata": {
    "slideshow": {
     "slide_type": "slide"
    }
   },
   "source": [
    "### TCP basado en retardos.\n",
    "\n",
    "* Es una vieja idea. Fue propuesta por Bramko y Peterson en TCP-Vegas en los 1994.\n",
    "\n",
    "  *  **Idea:** medir el RTT de la conexión. Cuando empieza a aumentar es porque saturamos el enlace y comenzó a encolar.\n",
    " \n",
    "* Podemos pensar que el *retardo de cola* es el precio del enlace, en lugar de la probabilidad de pérdida.\n",
    " \n",
    "* Si es una única conexión funciona bárbaro.\n",
    "\n",
    "* **Problema:** si una conexión entre luego que otra, ya ve el enlace cargado y no tiene una buena estimación del retardo de propagación base.\n",
    "\n",
    "* En el año 2000 se propne TCP-Fast, basado en la misma idea pero con argumentos de diseño más matemáticos."
   ]
  },
  {
   "cell_type": "markdown",
   "metadata": {
    "slideshow": {
     "slide_type": "slide"
    }
   },
   "source": [
    "### TCP BBR (Bottleneck bandwidth and RTT)\n",
    "\n",
    "* [Propuesto](https://github.com/google/bbr) por Google en 2016. Es de [código abierto](https://git.kernel.org/pub/scm/linux/kernel/git/netdev/net-next.git/tree/net/ipv4/tcp_bbr.c).\n",
    "\n",
    "* Se basa en la idea de estimar el RTT de la conexión, por lo que sufre en principio de los mismos problemas de injusticia temporal que las variantes anteriores.\n",
    "\n",
    "* Sin embargo, dicen que opera mejor. Hay que estudiarlo. Posiblemente sea la próxima etapa."
   ]
  }
 ],
 "metadata": {
  "@webio": {
   "lastCommId": null,
   "lastKernelId": null
  },
  "celltoolbar": "Slideshow",
  "hide_input": false,
  "kernelspec": {
   "display_name": "Julia 1.6.3",
   "language": "julia",
   "name": "julia-1.6"
  },
  "language_info": {
   "file_extension": ".jl",
   "mimetype": "application/julia",
   "name": "julia",
   "version": "1.6.3"
  }
 },
 "nbformat": 4,
 "nbformat_minor": 4
}
