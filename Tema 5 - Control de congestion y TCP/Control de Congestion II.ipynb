{
 "cells": [
  {
   "cell_type": "markdown",
   "metadata": {
    "slideshow": {
     "slide_type": "slide"
    }
   },
   "source": [
    "# Curso Análisis de Redes\n",
    "\n",
    "## Cátedra Teoría de las Telecomunicaciones - Universidad ORT Uruguay\n",
    "\n",
    "\n",
    "\n",
    "# Control de congestión en redes (2a. parte)"
   ]
  },
  {
   "cell_type": "code",
   "execution_count": 1,
   "metadata": {
    "slideshow": {
     "slide_type": "skip"
    }
   },
   "outputs": [],
   "source": [
    "#using Pkg;Pkg.instantiate(); Pkg.update()"
   ]
  },
  {
   "cell_type": "markdown",
   "metadata": {
    "slideshow": {
     "slide_type": "slide"
    }
   },
   "source": [
    "## Análisis de TCP/Reno en fase Congestion Avoidance\n",
    "\n",
    "Como vimos en el cuaderno anterior, al llegar a régimen TCP/Reno opera mayormente en la fase Congestion Avoidance, donde se da la mayor parte de transferencia de paquetes.\n",
    "\n",
    "Queremos analizar entonces el comportamiento de TCP/Reno en esta fase.\n",
    "\n",
    "Comencemos por analizar una fuente en un enlace cuello de botella."
   ]
  },
  {
   "cell_type": "markdown",
   "metadata": {
    "slideshow": {
     "slide_type": "slide"
    }
   },
   "source": [
    "### Comportamiento de un enlace cuello de botella\n",
    "\n",
    "Recordemos el comportamiento respecto a la ventana de un enlace cuello de botella:\n",
    "\n",
    "![Bottleneck](images/ventana_bottleneck.png)"
   ]
  },
  {
   "cell_type": "markdown",
   "metadata": {
    "slideshow": {
     "slide_type": "slide"
    }
   },
   "source": [
    "### Evolución de la ventana, caso buffer pequeño.\n",
    "\n",
    "Consideremos primero el caso en que el **buffer es pequeño** respecto a la ventana óptima, TCP Reno operará de la siguiente forma:\n",
    "\n",
    "![TCP Reno low buffer](images/tcp_reno_a.png)"
   ]
  },
  {
   "cell_type": "markdown",
   "metadata": {
    "slideshow": {
     "slide_type": "slide"
    }
   },
   "source": [
    "### Evolución de los parámetros de desempeño\n",
    "\n",
    "Combinando la evolución de la ventana con el comportamiento del enlace obtenemos:\n",
    "\n",
    "![TCP Reno low buffer b](images/tcp_reno_b.png)\n",
    "\n",
    "En particular, se observa que TCP no aprovecha al máximo la capacidad en este caso."
   ]
  },
  {
   "cell_type": "markdown",
   "metadata": {
    "slideshow": {
     "slide_type": "slide"
    }
   },
   "source": [
    "### Evolución de la ventana, caso buffer grande\n",
    "\n",
    "Supongamos ahora que el buffer es suficientemente grande, obtenemos la siguiente evolución:\n",
    "\n",
    "![TCP Reno high buffer](images/tcp_reno_c.png)"
   ]
  },
  {
   "cell_type": "markdown",
   "metadata": {
    "slideshow": {
     "slide_type": "slide"
    }
   },
   "source": [
    "### Evolución de los parámetros de desempeño\n",
    "\n",
    "Combinando la evolución de la ventana con el comportamiento del enlace obtenemos:\n",
    "\n",
    "![TCP Reno low buffer d](images/tcp_reno_d.png)\n",
    "\n",
    "En este caso sí se aprovecha la capacidad al máximo."
   ]
  },
  {
   "cell_type": "markdown",
   "metadata": {
    "slideshow": {
     "slide_type": "slide"
    }
   },
   "source": [
    "### Conclusión\n",
    "\n",
    "Debido a la forma en que oscila la ventana de TCP/Reno, es necesario un buffer suficientemente grande para mantener la oscilación dentro del buffer y no perder velocidad.\n",
    "\n",
    "**Buffer óptimo:** $$B=W^* =Cd.$$\n",
    "\n",
    "De modo que al bajar a la mitad siempre quede encima de $W^*$.\n",
    "\n",
    "**Problema:** Esto llevó a un fenómeno de \"buffer-bloating\" debido a que la memoria en buffer pasa a ser del mismo tamaño que la \"memoria\" de la red, con impacto en la latencia de otros tipos de tráfico. En realidad no es claro que el tamaño del buffer deba ser del mismo tamaño que $Cd$ si hay *múltiples conexiones* y  *no todas las conexiones pierden al mismo tiempo*."
   ]
  },
  {
   "cell_type": "markdown",
   "metadata": {
    "slideshow": {
     "slide_type": "slide"
    }
   },
   "source": [
    "## Modelo en feedback de TCP/Reno\n",
    "\n",
    "El protocolo de Control de Congestión de TCP/Reno está basado en las *pérdidas* como medida de feedback de la congestión de la red.\n",
    "\n",
    "Resulta entonces interesante analizar la relación entre el throughput alcanzado y la probabilidad de pérdida de paquetes que se logra.\n",
    "\n",
    "El primer modelo en este sentido es propuesto hacia 1997 por Matt Mathis.\n",
    "\n",
    "**Hipótesis:**\n",
    "\n",
    " * Condiciones estáticas de la red (congestión, retardo)\n",
    " * Pérdidas solo por congestión cuando satura.\n",
    " * El protocolo se mantiene en fase CA."
   ]
  },
  {
   "cell_type": "markdown",
   "metadata": {
    "slideshow": {
     "slide_type": "slide"
    }
   },
   "source": [
    "### Diagrama\n",
    "\n",
    "![TCP/Reno](images/modelo_mathis.png)"
   ]
  },
  {
   "cell_type": "markdown",
   "metadata": {
    "slideshow": {
     "slide_type": "slide"
    }
   },
   "source": [
    "### Análisis\n",
    "\n",
    "Del diagrama anterior, vemos que TCP/Reno opera en régimen entre dos valores de ventana podemos deducir que:\n",
    "\n",
    "* En régimen, estando en fase CA, a TCP/Reno le lleva $W_{max}/2$ subidas de ventana pasar de la ventana mínima a la máxima.\n",
    "\n",
    "* Cada subida de ventana demora un $RTT$, por lo que cada ciclo dura $\\Delta t = W_{max}/2 \\times RTT$.\n",
    "\n",
    "* En cada ciclo se envían:\n",
    "\n",
    "$$\\# paq = \\frac{\\frac{W_{max}}{2} + W_{max}}{2} \\times \\frac{W_{max}}{2} = \\bar{W} \\times \\frac{W_{max}}{2} = \\frac{2}{3}\\bar{W}^2$$\n",
    "\n",
    "paquetes.\n",
    "\n",
    "* En cada ciclo se pierde un paquete al exceder la ventana."
   ]
  },
  {
   "cell_type": "markdown",
   "metadata": {
    "slideshow": {
     "slide_type": "slide"
    }
   },
   "source": [
    "### Fórmula de Mathis\n",
    "\n",
    "Podemos calcular entonces la probabilidad de pérdida observada por el flujo:\n",
    "\n",
    "$$p = \\frac{1}{\\#paq} = \\frac{3}{2 \\bar{W}^2}$$\n",
    "\n",
    "O bien la ventana media en función de las pérdidas:\n",
    "\n",
    "$$\\bar{W} = \\sqrt{\\frac{3}{2p}}$$\n",
    "\n",
    "Por último la velocidad de transmisión es:\n",
    "\n",
    "$$x=\\frac{\\#paq}{\\Delta t} = \\frac{\\bar{W}\\times W_{max}/2}{W_{max}/2 \\times RTT} = \\frac{\\bar{W}}{RTT}$$\n",
    "\n",
    "> Resultando la **Fórmula de Mathis:**\n",
    ">\n",
    "> $$x= \\frac{1}{RTT} \\sqrt{\\frac{3}{2p}}.$$"
   ]
  },
  {
   "cell_type": "markdown",
   "metadata": {
    "slideshow": {
     "slide_type": "slide"
    }
   },
   "source": [
    "### Ejemplo\n",
    "\n",
    "Retomemos el ejemplo del cuaderno anterior, donde un TCP/Reno opera en un enlace de $C=100$ paq/s y $d=0.1$s, con un buffer de $5$ paquetes.\n",
    "\n",
    "En ese caso, en régimen, TCP/Reno oscila entre 8 y 16 paquetes, con una ventana media de $\\bar{W}=12$ y una probabilidad de pérdida de:\n",
    "\n",
    "$$p=\\frac{1}{\\# paq} = \\frac{1}{108}.$$\n",
    "\n",
    "Aplicando la fórmula de Mathis para la ventana media queda:\n",
    "\n",
    "$$\\bar{W} = \\sqrt{\\frac{3}{2p}} = \\sqrt{162} = 12,72$$\n",
    "\n",
    "por lo que la aproximación es razonable."
   ]
  },
  {
   "cell_type": "markdown",
   "metadata": {
    "slideshow": {
     "slide_type": "slide"
    }
   },
   "source": [
    "## Modelo de TCP/Reno compartiendo un enlace cuello de botella.\n",
    "\n",
    "Apliquemos el modelo anterior para analizar el comportamiento de un cuello de botella con *múltiples fuentes*.\n",
    "\n",
    "* Suponemos $N$ fuentes similares compartiendo un enlace cuello de botella.\n",
    "\n",
    "* Las $N$ fuentes usan TCP/Reno y tienen el mismo RTT.\n",
    "\n",
    "![Single link many sources](images/single_link_b.png)\n",
    "\n"
   ]
  },
  {
   "cell_type": "markdown",
   "metadata": {
    "slideshow": {
     "slide_type": "slide"
    }
   },
   "source": [
    "### Modelo\n",
    "\n",
    "* Suponemos que cada fuente TCP/Reno verifica la fórmula de Mathis:\n",
    "\n",
    "$$x_i = \\frac{1}{RTT} \\sqrt{\\frac{1.5}{p}}.$$\n",
    "\n",
    "* Los flujos se combinan en el enlace, produciendo una tasa de arribos:\n",
    "\n",
    "$$y = \\sum_{i=1}^N x_i.$$\n",
    "\n",
    "* El enlace tiene capacidad $C$, por lo que, de todo lo que le llega, descarta el sobrante. Más exactamente:\n",
    "\n",
    "$$p = \\frac{(y-C)^+}{y} = \\left(1-\\frac{C}{y}\\right)^+ = \\max\\{1-C/y,0\\}.$$"
   ]
  },
  {
   "cell_type": "markdown",
   "metadata": {
    "slideshow": {
     "slide_type": "slide"
    }
   },
   "source": [
    "### Solución\n",
    "\n",
    "Por lo tanto, despreciando el retardo de cola ($RTT=d$) el sistema debe operar en el punto:\n",
    "\n",
    "$$\\left\\{\\begin{align}\n",
    "x &= \\frac{1}{d} \\sqrt{\\frac{1.5}{p}}, \\\\\n",
    "p &= 1-\\frac{C}{Nx}.\n",
    "\\end{align}\\right.$$\n",
    "\n",
    "\n",
    "### Ejemplo\n",
    "\n",
    "Tomemos $N=10$, $C=1000$ paq/s y $d=100$ ms. y resolvamos numéricamente."
   ]
  },
  {
   "cell_type": "code",
   "execution_count": 2,
   "metadata": {
    "slideshow": {
     "slide_type": "slide"
    }
   },
   "outputs": [
    {
     "data": {
      "image/png": "[encoded data removed]",
      "image/svg+xml": [
       "<?xml version=\"1.0\" encoding=\"utf-8\"?>\n",
       "<svg xmlns=\"http://www.w3.org/2000/svg\" xmlns:xlink=\"http://www.w3.org/1999/xlink\" width=\"1000\" height=\"500\" viewBox=\"0 0 4000 2000\">\n",
       "<defs>\n",
       "  <clipPath id=\"clip580\">\n",
       "    <rect x=\"0\" y=\"0\" width=\"4000\" height=\"2000\"/>\n",
       "  </clipPath>\n",
       "</defs>\n",
       "<path clip-path=\"url(#clip580)\" d=\"\n",
       "M0 2000 L4000 2000 L4000 0 L0 0  Z\n",
       "  \" fill=\"#ffffff\" fill-rule=\"evenodd\" fill-opacity=\"1\"/>\n",
       "<defs>\n",
       "  <clipPath id=\"clip581\">\n",
       "    <rect x=\"800\" y=\"0\" width=\"2801\" height=\"2000\"/>\n",
       "  </clipPath>\n",
       "</defs>\n",
       "<path clip-path=\"url(#clip580)\" d=\"\n",
       "M209.439 1854.68 L3952.76 1854.68 L3952.76 47.2441 L209.439 47.2441  Z\n",
       "  \" fill=\"#ffffff\" fill-rule=\"evenodd\" fill-opacity=\"1\"/>\n",
       "<defs>\n",
       "  <clipPath id=\"clip582\">\n",
       "    <rect x=\"209\" y=\"47\" width=\"3744\" height=\"1808\"/>\n",
       "  </clipPath>\n",
       "</defs>\n",
       "<polyline clip-path=\"url(#clip582)\" style=\"stroke:#000000; stroke-width:2; stroke-opacity:0.1; fill:none\" points=\"\n",
       "  209.439,1854.68 209.439,47.2441 \n",
       "  \"/>\n",
       "<polyline clip-path=\"url(#clip582)\" style=\"stroke:#000000; stroke-width:2; stroke-opacity:0.1; fill:none\" points=\"\n",
       "  958.102,1854.68 958.102,47.2441 \n",
       "  \"/>\n",
       "<polyline clip-path=\"url(#clip582)\" style=\"stroke:#000000; stroke-width:2; stroke-opacity:0.1; fill:none\" points=\"\n",
       "  1706.77,1854.68 1706.77,47.2441 \n",
       "  \"/>\n",
       "<polyline clip-path=\"url(#clip582)\" style=\"stroke:#000000; stroke-width:2; stroke-opacity:0.1; fill:none\" points=\"\n",
       "  2455.43,1854.68 2455.43,47.2441 \n",
       "  \"/>\n",
       "<polyline clip-path=\"url(#clip582)\" style=\"stroke:#000000; stroke-width:2; stroke-opacity:0.1; fill:none\" points=\"\n",
       "  3204.09,1854.68 3204.09,47.2441 \n",
       "  \"/>\n",
       "<polyline clip-path=\"url(#clip582)\" style=\"stroke:#000000; stroke-width:2; stroke-opacity:0.1; fill:none\" points=\"\n",
       "  3952.76,1854.68 3952.76,47.2441 \n",
       "  \"/>\n",
       "<polyline clip-path=\"url(#clip580)\" style=\"stroke:#000000; stroke-width:4; stroke-opacity:1; fill:none\" points=\"\n",
       "  209.439,1854.68 3952.76,1854.68 \n",
       "  \"/>\n",
       "<polyline clip-path=\"url(#clip580)\" style=\"stroke:#000000; stroke-width:4; stroke-opacity:1; fill:none\" points=\"\n",
       "  209.439,1854.68 209.439,1832.99 \n",
       "  \"/>\n",
       "<polyline clip-path=\"url(#clip580)\" style=\"stroke:#000000; stroke-width:4; stroke-opacity:1; fill:none\" points=\"\n",
       "  958.102,1854.68 958.102,1832.99 \n",
       "  \"/>\n",
       "<polyline clip-path=\"url(#clip580)\" style=\"stroke:#000000; stroke-width:4; stroke-opacity:1; fill:none\" points=\"\n",
       "  1706.77,1854.68 1706.77,1832.99 \n",
       "  \"/>\n",
       "<polyline clip-path=\"url(#clip580)\" style=\"stroke:#000000; stroke-width:4; stroke-opacity:1; fill:none\" points=\"\n",
       "  2455.43,1854.68 2455.43,1832.99 \n",
       "  \"/>\n",
       "<polyline clip-path=\"url(#clip580)\" style=\"stroke:#000000; stroke-width:4; stroke-opacity:1; fill:none\" points=\"\n",
       "  3204.09,1854.68 3204.09,1832.99 \n",
       "  \"/>\n",
       "<polyline clip-path=\"url(#clip580)\" style=\"stroke:#000000; stroke-width:4; stroke-opacity:1; fill:none\" points=\"\n",
       "  3952.76,1854.68 3952.76,1832.99 \n",
       "  \"/>\n",
       "<path clip-path=\"url(#clip580)\" d=\"M 0 0 M177.448 1896.67 Q173.837 1896.67 172.008 1900.23 Q170.203 1903.77 170.203 1910.9 Q170.203 1918.01 172.008 1921.57 Q173.837 1925.12 177.448 1925.12 Q181.082 1925.12 182.888 1921.57 Q184.716 1918.01 184.716 1910.9 Q184.716 1903.77 182.888 1900.23 Q181.082 1896.67 177.448 1896.67 M177.448 1892.96 Q183.258 1892.96 186.314 1897.57 Q189.392 1902.15 189.392 1910.9 Q189.392 1919.63 186.314 1924.24 Q183.258 1928.82 177.448 1928.82 Q171.638 1928.82 168.559 1924.24 Q165.504 1919.63 165.504 1910.9 Q165.504 1902.15 168.559 1897.57 Q171.638 1892.96 177.448 1892.96 Z\" fill=\"#000000\" fill-rule=\"evenodd\" fill-opacity=\"1\" /><path clip-path=\"url(#clip580)\" d=\"M 0 0 M194.462 1922.27 L199.346 1922.27 L199.346 1928.15 L194.462 1928.15 L194.462 1922.27 Z\" fill=\"#000000\" fill-rule=\"evenodd\" fill-opacity=\"1\" /><path clip-path=\"url(#clip580)\" d=\"M 0 0 M214.415 1896.67 Q210.804 1896.67 208.976 1900.23 Q207.17 1903.77 207.17 1910.9 Q207.17 1918.01 208.976 1921.57 Q210.804 1925.12 214.415 1925.12 Q218.05 1925.12 219.855 1921.57 Q221.684 1918.01 221.684 1910.9 Q221.684 1903.77 219.855 1900.23 Q218.05 1896.67 214.415 1896.67 M214.415 1892.96 Q220.226 1892.96 223.281 1897.57 Q226.36 1902.15 226.36 1910.9 Q226.36 1919.63 223.281 1924.24 Q220.226 1928.82 214.415 1928.82 Q208.605 1928.82 205.527 1924.24 Q202.471 1919.63 202.471 1910.9 Q202.471 1902.15 205.527 1897.57 Q208.605 1892.96 214.415 1892.96 Z\" fill=\"#000000\" fill-rule=\"evenodd\" fill-opacity=\"1\" /><path clip-path=\"url(#clip580)\" d=\"M 0 0 M241.429 1896.67 Q237.818 1896.67 235.989 1900.23 Q234.184 1903.77 234.184 1910.9 Q234.184 1918.01 235.989 1921.57 Q237.818 1925.12 241.429 1925.12 Q245.063 1925.12 246.869 1921.57 Q248.698 1918.01 248.698 1910.9 Q248.698 1903.77 246.869 1900.23 Q245.063 1896.67 241.429 1896.67 M241.429 1892.96 Q247.239 1892.96 250.295 1897.57 Q253.373 1902.15 253.373 1910.9 Q253.373 1919.63 250.295 1924.24 Q247.239 1928.82 241.429 1928.82 Q235.619 1928.82 232.54 1924.24 Q229.485 1919.63 229.485 1910.9 Q229.485 1902.15 232.54 1897.57 Q235.619 1892.96 241.429 1892.96 Z\" fill=\"#000000\" fill-rule=\"evenodd\" fill-opacity=\"1\" /><path clip-path=\"url(#clip580)\" d=\"M 0 0 M926.91 1896.67 Q923.299 1896.67 921.47 1900.23 Q919.665 1903.77 919.665 1910.9 Q919.665 1918.01 921.47 1921.57 Q923.299 1925.12 926.91 1925.12 Q930.544 1925.12 932.35 1921.57 Q934.179 1918.01 934.179 1910.9 Q934.179 1903.77 932.35 1900.23 Q930.544 1896.67 926.91 1896.67 M926.91 1892.96 Q932.72 1892.96 935.776 1897.57 Q938.854 1902.15 938.854 1910.9 Q938.854 1919.63 935.776 1924.24 Q932.72 1928.82 926.91 1928.82 Q921.1 1928.82 918.021 1924.24 Q914.966 1919.63 914.966 1910.9 Q914.966 1902.15 918.021 1897.57 Q921.1 1892.96 926.91 1892.96 Z\" fill=\"#000000\" fill-rule=\"evenodd\" fill-opacity=\"1\" /><path clip-path=\"url(#clip580)\" d=\"M 0 0 M943.924 1922.27 L948.808 1922.27 L948.808 1928.15 L943.924 1928.15 L943.924 1922.27 Z\" fill=\"#000000\" fill-rule=\"evenodd\" fill-opacity=\"1\" /><path clip-path=\"url(#clip580)\" d=\"M 0 0 M963.877 1896.67 Q960.266 1896.67 958.438 1900.23 Q956.632 1903.77 956.632 1910.9 Q956.632 1918.01 958.438 1921.57 Q960.266 1925.12 963.877 1925.12 Q967.512 1925.12 969.317 1921.57 Q971.146 1918.01 971.146 1910.9 Q971.146 1903.77 969.317 1900.23 Q967.512 1896.67 963.877 1896.67 M963.877 1892.96 Q969.688 1892.96 972.743 1897.57 Q975.822 1902.15 975.822 1910.9 Q975.822 1919.63 972.743 1924.24 Q969.688 1928.82 963.877 1928.82 Q958.067 1928.82 954.989 1924.24 Q951.933 1919.63 951.933 1910.9 Q951.933 1902.15 954.989 1897.57 Q958.067 1892.96 963.877 1892.96 Z\" fill=\"#000000\" fill-rule=\"evenodd\" fill-opacity=\"1\" /><path clip-path=\"url(#clip580)\" d=\"M 0 0 M984.919 1924.21 L1001.24 1924.21 L1001.24 1928.15 L979.294 1928.15 L979.294 1924.21 Q981.956 1921.46 986.539 1916.83 Q991.146 1912.18 992.326 1910.83 Q994.572 1908.31 995.451 1906.57 Q996.354 1904.81 996.354 1903.12 Q996.354 1900.37 994.41 1898.63 Q992.488 1896.9 989.387 1896.9 Q987.188 1896.9 984.734 1897.66 Q982.303 1898.43 979.526 1899.98 L979.526 1895.25 Q982.35 1894.12 984.803 1893.54 Q987.257 1892.96 989.294 1892.96 Q994.664 1892.96 997.859 1895.65 Q1001.05 1898.33 1001.05 1902.82 Q1001.05 1904.95 1000.24 1906.87 Q999.456 1908.77 997.349 1911.37 Q996.771 1912.04 993.669 1915.25 Q990.567 1918.45 984.919 1924.21 Z\" fill=\"#000000\" fill-rule=\"evenodd\" fill-opacity=\"1\" /><path clip-path=\"url(#clip580)\" d=\"M 0 0 M1674.53 1896.67 Q1670.92 1896.67 1669.09 1900.23 Q1667.29 1903.77 1667.29 1910.9 Q1667.29 1918.01 1669.09 1921.57 Q1670.92 1925.12 1674.53 1925.12 Q1678.17 1925.12 1679.97 1921.57 Q1681.8 1918.01 1681.8 1910.9 Q1681.8 1903.77 1679.97 1900.23 Q1678.17 1896.67 1674.53 1896.67 M1674.53 1892.96 Q1680.34 1892.96 1683.4 1897.57 Q1686.48 1902.15 1686.48 1910.9 Q1686.48 1919.63 1683.4 1924.24 Q1680.34 1928.82 1674.53 1928.82 Q1668.72 1928.82 1665.64 1924.24 Q1662.59 1919.63 1662.59 1910.9 Q1662.59 1902.15 1665.64 1897.57 Q1668.72 1892.96 1674.53 1892.96 Z\" fill=\"#000000\" fill-rule=\"evenodd\" fill-opacity=\"1\" /><path clip-path=\"url(#clip580)\" d=\"M 0 0 M1691.55 1922.27 L1696.43 1922.27 L1696.43 1928.15 L1691.55 1928.15 L1691.55 1922.27 Z\" fill=\"#000000\" fill-rule=\"evenodd\" fill-opacity=\"1\" /><path clip-path=\"url(#clip580)\" d=\"M 0 0 M1711.5 1896.67 Q1707.89 1896.67 1706.06 1900.23 Q1704.25 1903.77 1704.25 1910.9 Q1704.25 1918.01 1706.06 1921.57 Q1707.89 1925.12 1711.5 1925.12 Q1715.13 1925.12 1716.94 1921.57 Q1718.77 1918.01 1718.77 1910.9 Q1718.77 1903.77 1716.94 1900.23 Q1715.13 1896.67 1711.5 1896.67 M1711.5 1892.96 Q1717.31 1892.96 1720.36 1897.57 Q1723.44 1902.15 1723.44 1910.9 Q1723.44 1919.63 1720.36 1924.24 Q1717.31 1928.82 1711.5 1928.82 Q1705.69 1928.82 1702.61 1924.24 Q1699.55 1919.63 1699.55 1910.9 Q1699.55 1902.15 1702.61 1897.57 Q1705.69 1892.96 1711.5 1892.96 Z\" fill=\"#000000\" fill-rule=\"evenodd\" fill-opacity=\"1\" /><path clip-path=\"url(#clip580)\" d=\"M 0 0 M1741.36 1897.66 L1729.55 1916.11 L1741.36 1916.11 L1741.36 1897.66 M1740.13 1893.59 L1746.01 1893.59 L1746.01 1916.11 L1750.94 1916.11 L1750.94 1920 L1746.01 1920 L1746.01 1928.15 L1741.36 1928.15 L1741.36 1920 L1725.76 1920 L1725.76 1915.49 L1740.13 1893.59 Z\" fill=\"#000000\" fill-rule=\"evenodd\" fill-opacity=\"1\" /><path clip-path=\"url(#clip580)\" d=\"M 0 0 M2423.36 1896.67 Q2419.75 1896.67 2417.92 1900.23 Q2416.11 1903.77 2416.11 1910.9 Q2416.11 1918.01 2417.92 1921.57 Q2419.75 1925.12 2423.36 1925.12 Q2426.99 1925.12 2428.8 1921.57 Q2430.63 1918.01 2430.63 1910.9 Q2430.63 1903.77 2428.8 1900.23 Q2426.99 1896.67 2423.36 1896.67 M2423.36 1892.96 Q2429.17 1892.96 2432.22 1897.57 Q2435.3 1902.15 2435.3 1910.9 Q2435.3 1919.63 2432.22 1924.24 Q2429.17 1928.82 2423.36 1928.82 Q2417.55 1928.82 2414.47 1924.24 Q2411.41 1919.63 2411.41 1910.9 Q2411.41 1902.15 2414.47 1897.57 Q2417.55 1892.96 2423.36 1892.96 Z\" fill=\"#000000\" fill-rule=\"evenodd\" fill-opacity=\"1\" /><path clip-path=\"url(#clip580)\" d=\"M 0 0 M2440.37 1922.27 L2445.26 1922.27 L2445.26 1928.15 L2440.37 1928.15 L2440.37 1922.27 Z\" fill=\"#000000\" fill-rule=\"evenodd\" fill-opacity=\"1\" /><path clip-path=\"url(#clip580)\" d=\"M 0 0 M2460.32 1896.67 Q2456.71 1896.67 2454.88 1900.23 Q2453.08 1903.77 2453.08 1910.9 Q2453.08 1918.01 2454.88 1921.57 Q2456.71 1925.12 2460.32 1925.12 Q2463.96 1925.12 2465.76 1921.57 Q2467.59 1918.01 2467.59 1910.9 Q2467.59 1903.77 2465.76 1900.23 Q2463.96 1896.67 2460.32 1896.67 M2460.32 1892.96 Q2466.13 1892.96 2469.19 1897.57 Q2472.27 1902.15 2472.27 1910.9 Q2472.27 1919.63 2469.19 1924.24 Q2466.13 1928.82 2460.32 1928.82 Q2454.51 1928.82 2451.44 1924.24 Q2448.38 1919.63 2448.38 1910.9 Q2448.38 1902.15 2451.44 1897.57 Q2454.51 1892.96 2460.32 1892.96 Z\" fill=\"#000000\" fill-rule=\"evenodd\" fill-opacity=\"1\" /><path clip-path=\"url(#clip580)\" d=\"M 0 0 M2487.92 1909 Q2484.77 1909 2482.92 1911.16 Q2481.09 1913.31 2481.09 1917.06 Q2481.09 1920.79 2482.92 1922.96 Q2484.77 1925.12 2487.92 1925.12 Q2491.07 1925.12 2492.89 1922.96 Q2494.75 1920.79 2494.75 1917.06 Q2494.75 1913.31 2492.89 1911.16 Q2491.07 1909 2487.92 1909 M2497.2 1894.35 L2497.2 1898.61 Q2495.44 1897.78 2493.63 1897.34 Q2491.85 1896.9 2490.09 1896.9 Q2485.46 1896.9 2483.01 1900.02 Q2480.58 1903.15 2480.23 1909.47 Q2481.6 1907.45 2483.66 1906.39 Q2485.72 1905.3 2488.19 1905.3 Q2493.4 1905.3 2496.41 1908.47 Q2499.44 1911.62 2499.44 1917.06 Q2499.44 1922.38 2496.3 1925.6 Q2493.15 1928.82 2487.92 1928.82 Q2481.92 1928.82 2478.75 1924.24 Q2475.58 1919.63 2475.58 1910.9 Q2475.58 1902.71 2479.47 1897.85 Q2483.36 1892.96 2489.91 1892.96 Q2491.67 1892.96 2493.45 1893.31 Q2495.26 1893.66 2497.2 1894.35 Z\" fill=\"#000000\" fill-rule=\"evenodd\" fill-opacity=\"1\" /><path clip-path=\"url(#clip580)\" d=\"M 0 0 M3172.15 1896.67 Q3168.54 1896.67 3166.71 1900.23 Q3164.9 1903.77 3164.9 1910.9 Q3164.9 1918.01 3166.71 1921.57 Q3168.54 1925.12 3172.15 1925.12 Q3175.78 1925.12 3177.59 1921.57 Q3179.42 1918.01 3179.42 1910.9 Q3179.42 1903.77 3177.59 1900.23 Q3175.78 1896.67 3172.15 1896.67 M3172.15 1892.96 Q3177.96 1892.96 3181.01 1897.57 Q3184.09 1902.15 3184.09 1910.9 Q3184.09 1919.63 3181.01 1924.24 Q3177.96 1928.82 3172.15 1928.82 Q3166.34 1928.82 3163.26 1924.24 Q3160.2 1919.63 3160.2 1910.9 Q3160.2 1902.15 3163.26 1897.57 Q3166.34 1892.96 3172.15 1892.96 Z\" fill=\"#000000\" fill-rule=\"evenodd\" fill-opacity=\"1\" /><path clip-path=\"url(#clip580)\" d=\"M 0 0 M3189.16 1922.27 L3194.05 1922.27 L3194.05 1928.15 L3189.16 1928.15 L3189.16 1922.27 Z\" fill=\"#000000\" fill-rule=\"evenodd\" fill-opacity=\"1\" /><path clip-path=\"url(#clip580)\" d=\"M 0 0 M3209.12 1896.67 Q3205.5 1896.67 3203.68 1900.23 Q3201.87 1903.77 3201.87 1910.9 Q3201.87 1918.01 3203.68 1921.57 Q3205.5 1925.12 3209.12 1925.12 Q3212.75 1925.12 3214.56 1921.57 Q3216.38 1918.01 3216.38 1910.9 Q3216.38 1903.77 3214.56 1900.23 Q3212.75 1896.67 3209.12 1896.67 M3209.12 1892.96 Q3214.93 1892.96 3217.98 1897.57 Q3221.06 1902.15 3221.06 1910.9 Q3221.06 1919.63 3217.98 1924.24 Q3214.93 1928.82 3209.12 1928.82 Q3203.31 1928.82 3200.23 1924.24 Q3197.17 1919.63 3197.17 1910.9 Q3197.17 1902.15 3200.23 1897.57 Q3203.31 1892.96 3209.12 1892.96 Z\" fill=\"#000000\" fill-rule=\"evenodd\" fill-opacity=\"1\" /><path clip-path=\"url(#clip580)\" d=\"M 0 0 M3236.13 1911.74 Q3232.8 1911.74 3230.87 1913.52 Q3228.98 1915.3 3228.98 1918.43 Q3228.98 1921.55 3230.87 1923.33 Q3232.8 1925.12 3236.13 1925.12 Q3239.46 1925.12 3241.38 1923.33 Q3243.31 1921.53 3243.31 1918.43 Q3243.31 1915.3 3241.38 1913.52 Q3239.49 1911.74 3236.13 1911.74 M3231.45 1909.75 Q3228.44 1909 3226.75 1906.94 Q3225.09 1904.88 3225.09 1901.92 Q3225.09 1897.78 3228.03 1895.37 Q3230.99 1892.96 3236.13 1892.96 Q3241.29 1892.96 3244.23 1895.37 Q3247.17 1897.78 3247.17 1901.92 Q3247.17 1904.88 3245.48 1906.94 Q3243.81 1909 3240.83 1909.75 Q3244.21 1910.53 3246.08 1912.82 Q3247.98 1915.12 3247.98 1918.43 Q3247.98 1923.45 3244.9 1926.13 Q3241.85 1928.82 3236.13 1928.82 Q3230.41 1928.82 3227.33 1926.13 Q3224.28 1923.45 3224.28 1918.43 Q3224.28 1915.12 3226.18 1912.82 Q3228.07 1910.53 3231.45 1909.75 M3229.74 1902.36 Q3229.74 1905.05 3231.41 1906.55 Q3233.1 1908.06 3236.13 1908.06 Q3239.14 1908.06 3240.83 1906.55 Q3242.54 1905.05 3242.54 1902.36 Q3242.54 1899.68 3240.83 1898.17 Q3239.14 1896.67 3236.13 1896.67 Q3233.1 1896.67 3231.41 1898.17 Q3229.74 1899.68 3229.74 1902.36 Z\" fill=\"#000000\" fill-rule=\"evenodd\" fill-opacity=\"1\" /><path clip-path=\"url(#clip580)\" d=\"M 0 0 M3921.38 1896.67 Q3917.77 1896.67 3915.94 1900.23 Q3914.13 1903.77 3914.13 1910.9 Q3914.13 1918.01 3915.94 1921.57 Q3917.77 1925.12 3921.38 1925.12 Q3925.01 1925.12 3926.82 1921.57 Q3928.65 1918.01 3928.65 1910.9 Q3928.65 1903.77 3926.82 1900.23 Q3925.01 1896.67 3921.38 1896.67 M3921.38 1892.96 Q3927.19 1892.96 3930.24 1897.57 Q3933.32 1902.15 3933.32 1910.9 Q3933.32 1919.63 3930.24 1924.24 Q3927.19 1928.82 3921.38 1928.82 Q3915.57 1928.82 3912.49 1924.24 Q3909.43 1919.63 3909.43 1910.9 Q3909.43 1902.15 3912.49 1897.57 Q3915.57 1892.96 3921.38 1892.96 Z\" fill=\"#000000\" fill-rule=\"evenodd\" fill-opacity=\"1\" /><path clip-path=\"url(#clip580)\" d=\"M 0 0 M3938.39 1922.27 L3943.28 1922.27 L3943.28 1928.15 L3938.39 1928.15 L3938.39 1922.27 Z\" fill=\"#000000\" fill-rule=\"evenodd\" fill-opacity=\"1\" /><path clip-path=\"url(#clip580)\" d=\"M 0 0 M3949.16 1924.21 L3956.8 1924.21 L3956.8 1897.85 L3948.49 1899.51 L3948.49 1895.25 L3956.75 1893.59 L3961.42 1893.59 L3961.42 1924.21 L3969.06 1924.21 L3969.06 1928.15 L3949.16 1928.15 L3949.16 1924.21 Z\" fill=\"#000000\" fill-rule=\"evenodd\" fill-opacity=\"1\" /><path clip-path=\"url(#clip580)\" d=\"M 0 0 M3984.13 1896.67 Q3980.52 1896.67 3978.69 1900.23 Q3976.89 1903.77 3976.89 1910.9 Q3976.89 1918.01 3978.69 1921.57 Q3980.52 1925.12 3984.13 1925.12 Q3987.77 1925.12 3989.57 1921.57 Q3991.4 1918.01 3991.4 1910.9 Q3991.4 1903.77 3989.57 1900.23 Q3987.77 1896.67 3984.13 1896.67 M3984.13 1892.96 Q3989.94 1892.96 3993 1897.57 Q3996.08 1902.15 3996.08 1910.9 Q3996.08 1919.63 3993 1924.24 Q3989.94 1928.82 3984.13 1928.82 Q3978.32 1928.82 3975.24 1924.24 Q3972.19 1919.63 3972.19 1910.9 Q3972.19 1902.15 3975.24 1897.57 Q3978.32 1892.96 3984.13 1892.96 Z\" fill=\"#000000\" fill-rule=\"evenodd\" fill-opacity=\"1\" /><path clip-path=\"url(#clip580)\" d=\"M 0 0 M2099.11 1952.49 Q2099.11 1957.19 2096.72 1961.74 Q2094.37 1966.28 2090.67 1969.08 Q2086.97 1971.85 2083.2 1971.85 Q2080.94 1971.85 2079.43 1970.62 Q2077.95 1969.37 2077.14 1967.6 Q2076.53 1969.79 2075.21 1975.04 Q2073.89 1980.29 2073.89 1980.8 Q2073.89 1981.09 2073.95 1981.22 Q2074.02 1981.35 2074.31 1981.51 Q2074.6 1981.7 2075.31 1981.77 Q2076.02 1981.86 2077.21 1981.86 Q2077.82 1981.86 2078.04 1981.86 Q2078.3 1981.9 2078.53 1982.06 Q2078.79 1982.22 2078.79 1982.57 Q2078.79 1983.89 2077.59 1983.89 Q2076.53 1983.89 2074.34 1983.8 Q2072.15 1983.7 2071.06 1983.7 Q2070.12 1983.7 2068.25 1983.8 Q2066.39 1983.89 2065.52 1983.89 Q2064.65 1983.89 2064.65 1983.12 Q2064.65 1982.67 2064.78 1982.38 Q2064.87 1982.12 2065.13 1981.99 Q2065.39 1981.9 2065.61 1981.86 Q2065.81 1981.86 2066.19 1981.86 Q2067.67 1981.86 2068.32 1981.61 Q2068.96 1981.38 2069.19 1980.9 Q2069.45 1980.45 2069.74 1979.16 L2077.14 1949.79 Q2077.59 1947.82 2077.59 1946.44 Q2077.59 1944.7 2077.05 1944.05 Q2076.5 1943.41 2075.53 1943.41 Q2073.86 1943.41 2072.76 1945.41 Q2071.67 1947.4 2070.73 1951.27 Q2070.44 1952.33 2070.25 1952.56 Q2070.09 1952.78 2069.61 1952.78 Q2068.8 1952.75 2068.8 1952.11 Q2068.8 1951.94 2069.06 1950.91 Q2069.32 1949.85 2069.8 1948.31 Q2070.32 1946.73 2070.86 1945.73 Q2071.19 1945.05 2071.47 1944.6 Q2071.76 1944.15 2072.34 1943.44 Q2072.96 1942.73 2073.83 1942.35 Q2074.7 1941.96 2075.76 1941.96 Q2077.82 1941.96 2079.53 1943.18 Q2081.23 1944.41 2081.68 1946.89 Q2083.52 1944.73 2085.77 1943.35 Q2088.03 1941.96 2090.32 1941.96 Q2094.12 1941.96 2096.6 1944.92 Q2099.11 1947.85 2099.11 1952.49 M2094.34 1949.59 Q2094.34 1946.66 2093.21 1945.05 Q2092.12 1943.41 2090.12 1943.41 Q2087.64 1943.41 2084.78 1945.92 Q2081.94 1948.31 2081.36 1950.53 L2078.11 1963.44 L2077.92 1964.5 Q2077.92 1964.7 2078.01 1965.28 Q2078.14 1965.83 2078.5 1966.73 Q2078.88 1967.63 2079.4 1968.43 Q2079.95 1969.21 2080.91 1969.79 Q2081.91 1970.37 2083.13 1970.37 Q2085.1 1970.37 2087.22 1968.63 Q2089.38 1966.89 2090.99 1963.6 Q2091.99 1961.48 2093.15 1956.9 Q2094.34 1952.3 2094.34 1949.59 Z\" fill=\"#000000\" fill-rule=\"evenodd\" fill-opacity=\"1\" /><polyline clip-path=\"url(#clip582)\" style=\"stroke:#000000; stroke-width:2; stroke-opacity:0.1; fill:none\" points=\"\n",
       "  209.439,1854.68 3952.76,1854.68 \n",
       "  \"/>\n",
       "<polyline clip-path=\"url(#clip582)\" style=\"stroke:#000000; stroke-width:2; stroke-opacity:0.1; fill:none\" points=\"\n",
       "  209.439,1402.82 3952.76,1402.82 \n",
       "  \"/>\n",
       "<polyline clip-path=\"url(#clip582)\" style=\"stroke:#000000; stroke-width:2; stroke-opacity:0.1; fill:none\" points=\"\n",
       "  209.439,950.96 3952.76,950.96 \n",
       "  \"/>\n",
       "<polyline clip-path=\"url(#clip582)\" style=\"stroke:#000000; stroke-width:2; stroke-opacity:0.1; fill:none\" points=\"\n",
       "  209.439,499.102 3952.76,499.102 \n",
       "  \"/>\n",
       "<polyline clip-path=\"url(#clip582)\" style=\"stroke:#000000; stroke-width:2; stroke-opacity:0.1; fill:none\" points=\"\n",
       "  209.439,47.2441 3952.76,47.2441 \n",
       "  \"/>\n",
       "<polyline clip-path=\"url(#clip580)\" style=\"stroke:#000000; stroke-width:4; stroke-opacity:1; fill:none\" points=\"\n",
       "  209.439,1854.68 209.439,47.2441 \n",
       "  \"/>\n",
       "<polyline clip-path=\"url(#clip580)\" style=\"stroke:#000000; stroke-width:4; stroke-opacity:1; fill:none\" points=\"\n",
       "  209.439,1854.68 254.358,1854.68 \n",
       "  \"/>\n",
       "<polyline clip-path=\"url(#clip580)\" style=\"stroke:#000000; stroke-width:4; stroke-opacity:1; fill:none\" points=\"\n",
       "  209.439,1402.82 254.358,1402.82 \n",
       "  \"/>\n",
       "<polyline clip-path=\"url(#clip580)\" style=\"stroke:#000000; stroke-width:4; stroke-opacity:1; fill:none\" points=\"\n",
       "  209.439,950.96 254.358,950.96 \n",
       "  \"/>\n",
       "<polyline clip-path=\"url(#clip580)\" style=\"stroke:#000000; stroke-width:4; stroke-opacity:1; fill:none\" points=\"\n",
       "  209.439,499.102 254.358,499.102 \n",
       "  \"/>\n",
       "<polyline clip-path=\"url(#clip580)\" style=\"stroke:#000000; stroke-width:4; stroke-opacity:1; fill:none\" points=\"\n",
       "  209.439,47.2441 254.358,47.2441 \n",
       "  \"/>\n",
       "<path clip-path=\"url(#clip580)\" d=\"M 0 0 M137.494 1840.47 Q133.883 1840.47 132.054 1844.04 Q130.249 1847.58 130.249 1854.71 Q130.249 1861.82 132.054 1865.38 Q133.883 1868.92 137.494 1868.92 Q141.128 1868.92 142.934 1865.38 Q144.763 1861.82 144.763 1854.71 Q144.763 1847.58 142.934 1844.04 Q141.128 1840.47 137.494 1840.47 M137.494 1836.77 Q143.304 1836.77 146.36 1841.38 Q149.439 1845.96 149.439 1854.71 Q149.439 1863.44 146.36 1868.04 Q143.304 1872.63 137.494 1872.63 Q131.684 1872.63 128.605 1868.04 Q125.55 1863.44 125.55 1854.71 Q125.55 1845.96 128.605 1841.38 Q131.684 1836.77 137.494 1836.77 Z\" fill=\"#000000\" fill-rule=\"evenodd\" fill-opacity=\"1\" /><path clip-path=\"url(#clip580)\" d=\"M 0 0 M101.522 1385.54 L119.879 1385.54 L119.879 1389.47 L105.805 1389.47 L105.805 1397.95 Q106.823 1397.6 107.842 1397.44 Q108.86 1397.25 109.879 1397.25 Q115.666 1397.25 119.045 1400.42 Q122.425 1403.59 122.425 1409.01 Q122.425 1414.59 118.953 1417.69 Q115.48 1420.77 109.161 1420.77 Q106.985 1420.77 104.717 1420.4 Q102.471 1420.03 100.064 1419.29 L100.064 1414.59 Q102.147 1415.72 104.369 1416.28 Q106.592 1416.83 109.068 1416.83 Q113.073 1416.83 115.411 1414.73 Q117.749 1412.62 117.749 1409.01 Q117.749 1405.4 115.411 1403.29 Q113.073 1401.19 109.068 1401.19 Q107.193 1401.19 105.318 1401.6 Q103.467 1402.02 101.522 1402.9 L101.522 1385.54 Z\" fill=\"#000000\" fill-rule=\"evenodd\" fill-opacity=\"1\" /><path clip-path=\"url(#clip580)\" d=\"M 0 0 M137.494 1388.62 Q133.883 1388.62 132.054 1392.18 Q130.249 1395.72 130.249 1402.85 Q130.249 1409.96 132.054 1413.52 Q133.883 1417.07 137.494 1417.07 Q141.128 1417.07 142.934 1413.52 Q144.763 1409.96 144.763 1402.85 Q144.763 1395.72 142.934 1392.18 Q141.128 1388.62 137.494 1388.62 M137.494 1384.91 Q143.304 1384.91 146.36 1389.52 Q149.439 1394.1 149.439 1402.85 Q149.439 1411.58 146.36 1416.19 Q143.304 1420.77 137.494 1420.77 Q131.684 1420.77 128.605 1416.19 Q125.55 1411.58 125.55 1402.85 Q125.55 1394.1 128.605 1389.52 Q131.684 1384.91 137.494 1384.91 Z\" fill=\"#000000\" fill-rule=\"evenodd\" fill-opacity=\"1\" /><path clip-path=\"url(#clip580)\" d=\"M 0 0 M75.5037 964.305 L83.1426 964.305 L83.1426 937.939 L74.8325 939.606 L74.8325 935.347 L83.0963 933.68 L87.7722 933.68 L87.7722 964.305 L95.411 964.305 L95.411 968.24 L75.5037 968.24 L75.5037 964.305 Z\" fill=\"#000000\" fill-rule=\"evenodd\" fill-opacity=\"1\" /><path clip-path=\"url(#clip580)\" d=\"M 0 0 M110.48 936.759 Q106.869 936.759 105.041 940.323 Q103.235 943.865 103.235 950.995 Q103.235 958.101 105.041 961.666 Q106.869 965.208 110.48 965.208 Q114.115 965.208 115.92 961.666 Q117.749 958.101 117.749 950.995 Q117.749 943.865 115.92 940.323 Q114.115 936.759 110.48 936.759 M110.48 933.055 Q116.291 933.055 119.346 937.661 Q122.425 942.245 122.425 950.995 Q122.425 959.721 119.346 964.328 Q116.291 968.911 110.48 968.911 Q104.67 968.911 101.592 964.328 Q98.536 959.721 98.536 950.995 Q98.536 942.245 101.592 937.661 Q104.67 933.055 110.48 933.055 Z\" fill=\"#000000\" fill-rule=\"evenodd\" fill-opacity=\"1\" /><path clip-path=\"url(#clip580)\" d=\"M 0 0 M137.494 936.759 Q133.883 936.759 132.054 940.323 Q130.249 943.865 130.249 950.995 Q130.249 958.101 132.054 961.666 Q133.883 965.208 137.494 965.208 Q141.128 965.208 142.934 961.666 Q144.763 958.101 144.763 950.995 Q144.763 943.865 142.934 940.323 Q141.128 936.759 137.494 936.759 M137.494 933.055 Q143.304 933.055 146.36 937.661 Q149.439 942.245 149.439 950.995 Q149.439 959.721 146.36 964.328 Q143.304 968.911 137.494 968.911 Q131.684 968.911 128.605 964.328 Q125.55 959.721 125.55 950.995 Q125.55 942.245 128.605 937.661 Q131.684 933.055 137.494 933.055 Z\" fill=\"#000000\" fill-rule=\"evenodd\" fill-opacity=\"1\" /><path clip-path=\"url(#clip580)\" d=\"M 0 0 M76.4991 512.447 L84.138 512.447 L84.138 486.081 L75.8278 487.748 L75.8278 483.489 L84.0917 481.822 L88.7676 481.822 L88.7676 512.447 L96.4064 512.447 L96.4064 516.382 L76.4991 516.382 L76.4991 512.447 Z\" fill=\"#000000\" fill-rule=\"evenodd\" fill-opacity=\"1\" /><path clip-path=\"url(#clip580)\" d=\"M 0 0 M101.522 481.822 L119.879 481.822 L119.879 485.757 L105.805 485.757 L105.805 494.229 Q106.823 493.882 107.842 493.72 Q108.86 493.535 109.879 493.535 Q115.666 493.535 119.045 496.706 Q122.425 499.877 122.425 505.294 Q122.425 510.873 118.953 513.975 Q115.48 517.053 109.161 517.053 Q106.985 517.053 104.717 516.683 Q102.471 516.313 100.064 515.572 L100.064 510.873 Q102.147 512.007 104.369 512.563 Q106.592 513.118 109.068 513.118 Q113.073 513.118 115.411 511.012 Q117.749 508.905 117.749 505.294 Q117.749 501.683 115.411 499.577 Q113.073 497.47 109.068 497.47 Q107.193 497.47 105.318 497.887 Q103.467 498.303 101.522 499.183 L101.522 481.822 Z\" fill=\"#000000\" fill-rule=\"evenodd\" fill-opacity=\"1\" /><path clip-path=\"url(#clip580)\" d=\"M 0 0 M137.494 484.901 Q133.883 484.901 132.054 488.465 Q130.249 492.007 130.249 499.137 Q130.249 506.243 132.054 509.808 Q133.883 513.35 137.494 513.35 Q141.128 513.35 142.934 509.808 Q144.763 506.243 144.763 499.137 Q144.763 492.007 142.934 488.465 Q141.128 484.901 137.494 484.901 M137.494 481.197 Q143.304 481.197 146.36 485.803 Q149.439 490.387 149.439 499.137 Q149.439 507.864 146.36 512.47 Q143.304 517.053 137.494 517.053 Q131.684 517.053 128.605 512.47 Q125.55 507.864 125.55 499.137 Q125.55 490.387 128.605 485.803 Q131.684 481.197 137.494 481.197 Z\" fill=\"#000000\" fill-rule=\"evenodd\" fill-opacity=\"1\" /><path clip-path=\"url(#clip580)\" d=\"M 0 0 M79.0917 60.5889 L95.411 60.5889 L95.411 64.5241 L73.4667 64.5241 L73.4667 60.5889 Q76.1287 57.8343 80.7121 53.2047 Q85.3185 48.552 86.4991 47.2094 Q88.7444 44.6862 89.624 42.9501 Q90.5268 41.1909 90.5268 39.5011 Q90.5268 36.7465 88.5824 35.0104 Q86.6611 33.2743 83.5593 33.2743 Q81.3602 33.2743 78.9065 34.0381 Q76.476 34.802 73.6982 36.3529 L73.6982 31.6308 Q76.5223 30.4965 78.9759 29.9178 Q81.4296 29.3391 83.4667 29.3391 Q88.837 29.3391 92.0314 32.0243 Q95.2259 34.7094 95.2259 39.2002 Q95.2259 41.3298 94.4157 43.2511 Q93.6286 45.1492 91.5222 47.7418 Q90.9435 48.4131 87.8416 51.6306 Q84.7398 54.8251 79.0917 60.5889 Z\" fill=\"#000000\" fill-rule=\"evenodd\" fill-opacity=\"1\" /><path clip-path=\"url(#clip580)\" d=\"M 0 0 M110.48 33.0428 Q106.869 33.0428 105.041 36.6076 Q103.235 40.1492 103.235 47.2788 Q103.235 54.3853 105.041 57.9501 Q106.869 61.4917 110.48 61.4917 Q114.115 61.4917 115.92 57.9501 Q117.749 54.3853 117.749 47.2788 Q117.749 40.1492 115.92 36.6076 Q114.115 33.0428 110.48 33.0428 M110.48 29.3391 Q116.291 29.3391 119.346 33.9456 Q122.425 38.5289 122.425 47.2788 Q122.425 56.0056 119.346 60.6121 Q116.291 65.1954 110.48 65.1954 Q104.67 65.1954 101.592 60.6121 Q98.536 56.0056 98.536 47.2788 Q98.536 38.5289 101.592 33.9456 Q104.67 29.3391 110.48 29.3391 Z\" fill=\"#000000\" fill-rule=\"evenodd\" fill-opacity=\"1\" /><path clip-path=\"url(#clip580)\" d=\"M 0 0 M137.494 33.0428 Q133.883 33.0428 132.054 36.6076 Q130.249 40.1492 130.249 47.2788 Q130.249 54.3853 132.054 57.9501 Q133.883 61.4917 137.494 61.4917 Q141.128 61.4917 142.934 57.9501 Q144.763 54.3853 144.763 47.2788 Q144.763 40.1492 142.934 36.6076 Q141.128 33.0428 137.494 33.0428 M137.494 29.3391 Q143.304 29.3391 146.36 33.9456 Q149.439 38.5289 149.439 47.2788 Q149.439 56.0056 146.36 60.6121 Q143.304 65.1954 137.494 65.1954 Q131.684 65.1954 128.605 60.6121 Q125.55 56.0056 125.55 47.2788 Q125.55 38.5289 128.605 33.9456 Q131.684 29.3391 137.494 29.3391 Z\" fill=\"#000000\" fill-rule=\"evenodd\" fill-opacity=\"1\" /><path clip-path=\"url(#clip580)\" d=\"M 0 0 M30.8844 936.812 Q32.6879 936.812 33.7185 937.939 Q34.7169 939.066 34.7169 940.354 Q34.7169 941.578 34.0083 942.222 Q33.2998 942.867 32.398 942.867 Q31.1742 942.867 30.1114 941.965 Q29.0486 941.063 28.8232 939.71 Q27.9858 941.031 27.9858 942.995 Q27.9858 944.284 28.6621 945.411 Q29.3385 946.506 30.208 947.182 Q31.0776 947.826 32.3336 948.406 Q33.5574 948.953 34.2982 949.179 Q35.0067 949.372 35.7796 949.533 L44.7973 951.788 Q49.0807 952.883 50.5943 952.883 Q52.4623 952.883 53.7183 951.981 Q54.9421 951.079 54.9421 949.276 Q54.9421 948.567 54.7489 947.762 Q54.5235 946.957 53.9437 945.926 Q53.3318 944.863 52.4301 943.929 Q51.4961 942.963 49.918 942.029 Q48.3399 941.095 46.311 940.483 Q45.6024 940.29 45.6024 939.646 Q45.6024 938.841 46.2465 938.841 Q46.794 938.841 47.9535 939.292 Q49.0807 939.71 50.5621 940.644 Q52.0114 941.546 53.3318 942.738 Q54.6201 943.929 55.5218 945.701 Q56.4236 947.472 56.4236 949.404 Q56.4236 952.174 54.9421 954.01 Q53.4607 955.846 51.3995 956.522 Q51.6893 956.683 52.0758 956.908 Q52.4623 957.134 53.3318 957.81 Q54.1692 958.454 54.8133 959.195 Q55.4252 959.936 55.9083 961.095 Q56.4236 962.222 56.4236 963.446 Q56.4236 964.992 55.9727 966.377 Q55.5218 967.729 54.4912 968.696 Q53.4607 969.662 52.0436 969.662 Q50.4655 969.662 49.3705 968.599 Q48.2433 967.504 48.2433 966.023 Q48.2433 965.089 48.7908 964.348 Q49.3383 963.575 50.5299 963.575 Q51.8504 963.575 52.8488 964.477 Q53.8471 965.378 54.1048 966.667 Q54.9421 965.346 54.9421 963.382 Q54.9421 961.256 53.0742 959.581 Q51.2063 957.907 48.0823 957.102 Q40.5783 955.105 37.2289 954.332 Q33.8473 953.559 32.398 953.559 Q31.0454 953.559 30.1114 953.913 Q29.1774 954.267 28.7588 954.879 Q28.3079 955.459 28.1469 956.007 Q27.9858 956.522 27.9858 957.102 Q27.9858 958.068 28.3723 959.163 Q28.7588 960.226 29.6605 961.514 Q30.5301 962.77 32.3336 963.961 Q34.1371 965.153 36.617 965.958 Q37.3577 966.119 37.3577 966.828 Q37.3255 967.601 36.6814 967.601 Q36.1339 967.601 35.0067 967.182 Q33.8473 966.731 32.398 965.829 Q30.9488 964.895 29.6605 963.704 Q28.3401 962.48 27.4383 960.709 Q26.5366 958.905 26.5366 956.973 Q26.5366 956.103 26.7298 955.266 Q26.8908 954.396 27.3739 953.366 Q27.857 952.303 28.9198 951.369 Q29.9826 950.435 31.5285 949.855 Q30.7877 949.469 30.0792 948.953 Q29.3707 948.406 28.5011 947.569 Q27.5994 946.699 27.0841 945.507 Q26.5366 944.284 26.5366 942.931 Q26.5366 941.611 26.8908 940.322 Q27.2129 939.034 28.2757 937.939 Q29.3063 936.812 30.8844 936.812 Z\" fill=\"#000000\" fill-rule=\"evenodd\" fill-opacity=\"1\" /><polyline clip-path=\"url(#clip582)\" style=\"stroke:#009af9; stroke-width:4; stroke-opacity:1; fill:none\" points=\"\n",
       "  246.872,-1645.4 284.305,-620.252 321.738,-166.094 359.171,104.638 396.604,289.394 434.038,425.776 471.471,531.771 508.904,617.212 546.337,687.984 583.77,747.854 \n",
       "  621.203,799.363 658.637,844.291 696.07,883.929 733.503,919.241 770.936,950.96 808.369,979.657 845.802,1005.78 883.236,1029.7 920.669,1051.7 958.102,1072.03 \n",
       "  995.535,1090.9 1032.97,1108.46 1070.4,1124.86 1107.83,1140.23 1145.27,1154.66 1182.7,1168.25 1220.13,1181.09 1257.57,1193.22 1295,1204.73 1332.43,1215.65 \n",
       "  1369.87,1226.04 1407.3,1235.94 1444.73,1245.39 1482.17,1254.42 1519.6,1263.05 1557.03,1271.33 1594.47,1279.27 1631.9,1286.89 1669.33,1294.22 1706.77,1301.27 \n",
       "  1744.2,1308.06 1781.63,1314.6 1819.07,1320.92 1856.5,1327.02 1893.93,1332.92 1931.36,1338.62 1968.8,1344.14 2006.23,1349.48 2043.66,1354.66 2081.1,1359.69 \n",
       "  2118.53,1364.57 2155.96,1369.3 2193.4,1373.9 2230.83,1378.38 2268.26,1382.73 2305.7,1386.96 2343.13,1391.08 2380.56,1395.09 2418,1399 2455.43,1402.82 \n",
       "  2492.86,1406.54 2530.3,1410.17 2567.73,1413.71 2605.16,1417.17 2642.59,1420.54 2680.03,1423.85 2717.46,1427.07 2754.89,1430.23 2792.33,1433.32 2829.76,1436.34 \n",
       "  2867.19,1439.29 2904.63,1442.19 2942.06,1445.02 2979.49,1447.8 3016.93,1450.52 3054.36,1453.19 3091.79,1455.81 3129.23,1458.37 3166.66,1460.89 3204.09,1463.36 \n",
       "  3241.53,1465.78 3278.96,1468.16 3316.39,1470.49 3353.83,1472.79 3391.26,1475.04 3428.69,1477.25 3466.12,1479.43 3503.56,1481.57 3540.99,1483.67 3578.42,1485.74 \n",
       "  3615.86,1487.77 3653.29,1489.77 3690.72,1491.73 3728.16,1493.67 3765.59,1495.58 3803.02,1497.45 3840.46,1499.3 3877.89,1501.11 3915.32,1502.9 3952.76,1504.67 \n",
       "  \n",
       "  \"/>\n",
       "<polyline clip-path=\"url(#clip582)\" style=\"stroke:#e26f46; stroke-width:4; stroke-opacity:1; fill:none\" points=\"\n",
       "  209.439,950.96 246.872,950.055 284.305,949.149 321.738,948.241 359.171,947.331 396.604,946.419 434.038,945.505 471.471,944.589 508.904,943.672 546.337,942.753 \n",
       "  583.77,941.831 621.203,940.908 658.637,939.984 696.07,939.057 733.503,938.128 770.936,937.198 808.369,936.265 845.802,935.331 883.236,934.395 920.669,933.457 \n",
       "  958.102,932.517 995.535,931.575 1032.97,930.631 1070.4,929.685 1107.83,928.737 1145.27,927.788 1182.7,926.836 1220.13,925.883 1257.57,924.927 1295,923.969 \n",
       "  1332.43,923.01 1369.87,922.048 1407.3,921.085 1444.73,920.12 1482.17,919.152 1519.6,918.183 1557.03,917.211 1594.47,916.238 1631.9,915.262 1669.33,914.285 \n",
       "  1706.77,913.305 1744.2,912.323 1781.63,911.34 1819.07,910.354 1856.5,909.366 1893.93,908.376 1931.36,907.385 1968.8,906.391 2006.23,905.394 2043.66,904.396 \n",
       "  2081.1,903.396 2118.53,902.394 2155.96,901.389 2193.4,900.382 2230.83,899.374 2268.26,898.363 2305.7,897.35 2343.13,896.334 2380.56,895.317 2418,894.298 \n",
       "  2455.43,893.276 2492.86,892.252 2530.3,891.226 2567.73,890.198 2605.16,889.167 2642.59,888.135 2680.03,887.1 2717.46,886.063 2754.89,885.024 2792.33,883.982 \n",
       "  2829.76,882.938 2867.19,881.892 2904.63,880.844 2942.06,879.794 2979.49,878.741 3016.93,877.686 3054.36,876.628 3091.79,875.569 3129.23,874.507 3166.66,873.443 \n",
       "  3204.09,872.376 3241.53,871.307 3278.96,870.236 3316.39,869.162 3353.83,868.086 3391.26,867.008 3428.69,865.928 3466.12,864.845 3503.56,863.759 3540.99,862.672 \n",
       "  3578.42,861.581 3615.86,860.489 3653.29,859.394 3690.72,858.297 3728.16,857.197 3765.59,856.095 3803.02,854.99 3840.46,853.883 3877.89,852.774 3915.32,851.662 \n",
       "  3952.76,850.547 \n",
       "  \"/>\n",
       "<path clip-path=\"url(#clip580)\" d=\"\n",
       "M3232 356.972 L3827.98 356.972 L3827.98 107.492 L3232 107.492  Z\n",
       "  \" fill=\"#ffffff\" fill-rule=\"evenodd\" fill-opacity=\"1\"/>\n",
       "<polyline clip-path=\"url(#clip580)\" style=\"stroke:#000000; stroke-width:4; stroke-opacity:1; fill:none\" points=\"\n",
       "  3232,356.972 3827.98,356.972 3827.98,107.492 3232,107.492 3232,356.972 \n",
       "  \"/>\n",
       "<polyline clip-path=\"url(#clip580)\" style=\"stroke:#009af9; stroke-width:5.5; stroke-opacity:1; fill:none\" points=\"\n",
       "  3273.59,190.652 3523.15,190.652 \n",
       "  \"/>\n",
       "<path clip-path=\"url(#clip580)\" d=\"M 0 0 M3564.74 166.892 L3574.32 166.892 L3586.45 199.23 L3598.64 166.892 L3608.22 166.892 L3608.22 214.412 L3601.95 214.412 L3601.95 172.685 L3589.69 205.277 L3583.23 205.277 L3570.98 172.685 L3570.98 214.412 L3564.74 214.412 L3564.74 166.892 Z\" fill=\"#000000\" fill-rule=\"evenodd\" fill-opacity=\"1\" /><path clip-path=\"url(#clip580)\" d=\"M 0 0 M3630.56 196.492 Q3623.46 196.492 3620.73 198.116 Q3617.99 199.739 3617.99 203.654 Q3617.99 206.773 3620.03 208.619 Q3622.09 210.433 3625.63 210.433 Q3630.5 210.433 3633.43 206.996 Q3636.39 203.526 3636.39 197.797 L3636.39 196.492 L3630.56 196.492 M3642.24 194.073 L3642.24 214.412 L3636.39 214.412 L3636.39 209.001 Q3634.38 212.247 3631.39 213.807 Q3628.4 215.335 3624.07 215.335 Q3618.59 215.335 3615.35 212.279 Q3612.13 209.192 3612.13 204.036 Q3612.13 198.02 3616.14 194.965 Q3620.19 191.909 3628.17 191.909 L3636.39 191.909 L3636.39 191.336 Q3636.39 187.294 3633.71 185.098 Q3631.07 182.87 3626.26 182.87 Q3623.21 182.87 3620.31 183.602 Q3617.42 184.334 3614.74 185.798 L3614.74 180.387 Q3617.96 179.146 3620.98 178.541 Q3624 177.904 3626.87 177.904 Q3634.6 177.904 3638.42 181.915 Q3642.24 185.925 3642.24 194.073 Z\" fill=\"#000000\" fill-rule=\"evenodd\" fill-opacity=\"1\" /><path clip-path=\"url(#clip580)\" d=\"M 0 0 M3654.18 168.642 L3654.18 178.764 L3666.24 178.764 L3666.24 183.315 L3654.18 183.315 L3654.18 202.667 Q3654.18 207.028 3655.36 208.269 Q3656.57 209.51 3660.23 209.51 L3666.24 209.51 L3666.24 214.412 L3660.23 214.412 Q3653.45 214.412 3650.87 211.897 Q3648.29 209.351 3648.29 202.667 L3648.29 183.315 L3643.99 183.315 L3643.99 178.764 L3648.29 178.764 L3648.29 168.642 L3654.18 168.642 Z\" fill=\"#000000\" fill-rule=\"evenodd\" fill-opacity=\"1\" /><path clip-path=\"url(#clip580)\" d=\"M 0 0 M3702.02 192.896 L3702.02 214.412 L3696.16 214.412 L3696.16 193.087 Q3696.16 188.026 3694.19 185.512 Q3692.21 182.997 3688.27 182.997 Q3683.52 182.997 3680.79 186.021 Q3678.05 189.044 3678.05 194.264 L3678.05 214.412 L3672.16 214.412 L3672.16 164.887 L3678.05 164.887 L3678.05 184.302 Q3680.15 181.087 3682.98 179.496 Q3685.85 177.904 3689.57 177.904 Q3695.71 177.904 3698.87 181.724 Q3702.02 185.512 3702.02 192.896 Z\" fill=\"#000000\" fill-rule=\"evenodd\" fill-opacity=\"1\" /><path clip-path=\"url(#clip580)\" d=\"M 0 0 M3708.16 178.764 L3714.02 178.764 L3714.02 214.412 L3708.16 214.412 L3708.16 178.764 M3708.16 164.887 L3714.02 164.887 L3714.02 172.303 L3708.16 172.303 L3708.16 164.887 Z\" fill=\"#000000\" fill-rule=\"evenodd\" fill-opacity=\"1\" /><path clip-path=\"url(#clip580)\" d=\"M 0 0 M3742.88 179.814 L3742.88 185.352 Q3740.4 184.079 3737.73 183.443 Q3735.05 182.806 3732.19 182.806 Q3727.83 182.806 3725.63 184.143 Q3723.47 185.48 3723.47 188.153 Q3723.47 190.19 3725.03 191.368 Q3726.59 192.514 3731.3 193.564 L3733.3 194.01 Q3739.54 195.347 3742.15 197.797 Q3744.79 200.216 3744.79 204.577 Q3744.79 209.542 3740.85 212.438 Q3736.93 215.335 3730.06 215.335 Q3727.19 215.335 3724.07 214.762 Q3720.99 214.221 3717.55 213.107 L3717.55 207.059 Q3720.8 208.746 3723.95 209.606 Q3727.1 210.433 3730.18 210.433 Q3734.32 210.433 3736.55 209.033 Q3738.78 207.601 3738.78 205.022 Q3738.78 202.635 3737.15 201.362 Q3735.56 200.089 3730.12 198.911 L3728.08 198.434 Q3722.64 197.288 3720.22 194.933 Q3717.8 192.546 3717.8 188.408 Q3717.8 183.379 3721.37 180.642 Q3724.93 177.904 3731.49 177.904 Q3734.74 177.904 3737.6 178.382 Q3740.47 178.859 3742.88 179.814 Z\" fill=\"#000000\" fill-rule=\"evenodd\" fill-opacity=\"1\" /><polyline clip-path=\"url(#clip580)\" style=\"stroke:#e26f46; stroke-width:5.5; stroke-opacity:1; fill:none\" points=\"\n",
       "  3273.59,273.812 3523.15,273.812 \n",
       "  \"/>\n",
       "<path clip-path=\"url(#clip580)\" d=\"M 0 0 M3564.74 250.052 L3571.17 250.052 L3571.17 292.161 L3594.31 292.161 L3594.31 297.572 L3564.74 297.572 L3564.74 250.052 Z\" fill=\"#000000\" fill-rule=\"evenodd\" fill-opacity=\"1\" /><path clip-path=\"url(#clip580)\" d=\"M 0 0 M3600.45 261.924 L3606.31 261.924 L3606.31 297.572 L3600.45 297.572 L3600.45 261.924 M3600.45 248.047 L3606.31 248.047 L3606.31 255.463 L3600.45 255.463 L3600.45 248.047 Z\" fill=\"#000000\" fill-rule=\"evenodd\" fill-opacity=\"1\" /><path clip-path=\"url(#clip580)\" d=\"M 0 0 M3642.08 276.056 L3642.08 297.572 L3636.23 297.572 L3636.23 276.247 Q3636.23 271.186 3634.25 268.672 Q3632.28 266.157 3628.33 266.157 Q3623.59 266.157 3620.85 269.181 Q3618.12 272.204 3618.12 277.424 L3618.12 297.572 L3612.23 297.572 L3612.23 261.924 L3618.12 261.924 L3618.12 267.462 Q3620.22 264.247 3623.05 262.656 Q3625.91 261.064 3629.64 261.064 Q3635.78 261.064 3638.93 264.884 Q3642.08 268.672 3642.08 276.056 Z\" fill=\"#000000\" fill-rule=\"evenodd\" fill-opacity=\"1\" /><path clip-path=\"url(#clip580)\" d=\"M 0 0 M3648 248.047 L3653.89 248.047 L3653.89 277.297 L3671.37 261.924 L3678.85 261.924 L3659.94 278.602 L3679.64 297.572 L3672 297.572 L3653.89 280.162 L3653.89 297.572 L3648 297.572 L3648 248.047 Z\" fill=\"#000000\" fill-rule=\"evenodd\" fill-opacity=\"1\" /></svg>\n"
      ],
      "text/html": [
       "<?xml version=\"1.0\" encoding=\"utf-8\"?>\n",
       "<svg xmlns=\"http://www.w3.org/2000/svg\" xmlns:xlink=\"http://www.w3.org/1999/xlink\" width=\"1000\" height=\"500\" viewBox=\"0 0 4000 2000\">\n",
       "<defs>\n",
       "  <clipPath id=\"clip630\">\n",
       "    <rect x=\"0\" y=\"0\" width=\"4000\" height=\"2000\"/>\n",
       "  </clipPath>\n",
       "</defs>\n",
       "<path clip-path=\"url(#clip630)\" d=\"\n",
       "M0 2000 L4000 2000 L4000 0 L0 0  Z\n",
       "  \" fill=\"#ffffff\" fill-rule=\"evenodd\" fill-opacity=\"1\"/>\n",
       "<defs>\n",
       "  <clipPath id=\"clip631\">\n",
       "    <rect x=\"800\" y=\"0\" width=\"2801\" height=\"2000\"/>\n",
       "  </clipPath>\n",
       "</defs>\n",
       "<defs>\n",
       "  <clipPath id=\"clip632\">\n",
       "    <rect x=\"209\" y=\"47\" width=\"3744\" height=\"1808\"/>\n",
       "  </clipPath>\n",
       "</defs>\n",
       "<path clip-path=\"url(#clip630)\" d=\"\n",
       "M209.439 1854.68 L3952.76 1854.68 L3952.76 47.2441 L209.439 47.2441  Z\n",
       "  \" fill=\"#ffffff\" fill-rule=\"evenodd\" fill-opacity=\"1\"/>\n",
       "<polyline clip-path=\"url(#clip632)\" style=\"stroke:#000000; stroke-width:2; stroke-opacity:0.1; fill:none\" points=\"\n",
       "  209.439,1854.68 209.439,47.2441 \n",
       "  \"/>\n",
       "<polyline clip-path=\"url(#clip632)\" style=\"stroke:#000000; stroke-width:2; stroke-opacity:0.1; fill:none\" points=\"\n",
       "  958.102,1854.68 958.102,47.2441 \n",
       "  \"/>\n",
       "<polyline clip-path=\"url(#clip632)\" style=\"stroke:#000000; stroke-width:2; stroke-opacity:0.1; fill:none\" points=\"\n",
       "  1706.77,1854.68 1706.77,47.2441 \n",
       "  \"/>\n",
       "<polyline clip-path=\"url(#clip632)\" style=\"stroke:#000000; stroke-width:2; stroke-opacity:0.1; fill:none\" points=\"\n",
       "  2455.43,1854.68 2455.43,47.2441 \n",
       "  \"/>\n",
       "<polyline clip-path=\"url(#clip632)\" style=\"stroke:#000000; stroke-width:2; stroke-opacity:0.1; fill:none\" points=\"\n",
       "  3204.09,1854.68 3204.09,47.2441 \n",
       "  \"/>\n",
       "<polyline clip-path=\"url(#clip632)\" style=\"stroke:#000000; stroke-width:2; stroke-opacity:0.1; fill:none\" points=\"\n",
       "  3952.76,1854.68 3952.76,47.2441 \n",
       "  \"/>\n",
       "<polyline clip-path=\"url(#clip630)\" style=\"stroke:#000000; stroke-width:4; stroke-opacity:1; fill:none\" points=\"\n",
       "  209.439,1854.68 3952.76,1854.68 \n",
       "  \"/>\n",
       "<polyline clip-path=\"url(#clip630)\" style=\"stroke:#000000; stroke-width:4; stroke-opacity:1; fill:none\" points=\"\n",
       "  209.439,1854.68 209.439,1832.99 \n",
       "  \"/>\n",
       "<polyline clip-path=\"url(#clip630)\" style=\"stroke:#000000; stroke-width:4; stroke-opacity:1; fill:none\" points=\"\n",
       "  958.102,1854.68 958.102,1832.99 \n",
       "  \"/>\n",
       "<polyline clip-path=\"url(#clip630)\" style=\"stroke:#000000; stroke-width:4; stroke-opacity:1; fill:none\" points=\"\n",
       "  1706.77,1854.68 1706.77,1832.99 \n",
       "  \"/>\n",
       "<polyline clip-path=\"url(#clip630)\" style=\"stroke:#000000; stroke-width:4; stroke-opacity:1; fill:none\" points=\"\n",
       "  2455.43,1854.68 2455.43,1832.99 \n",
       "  \"/>\n",
       "<polyline clip-path=\"url(#clip630)\" style=\"stroke:#000000; stroke-width:4; stroke-opacity:1; fill:none\" points=\"\n",
       "  3204.09,1854.68 3204.09,1832.99 \n",
       "  \"/>\n",
       "<polyline clip-path=\"url(#clip630)\" style=\"stroke:#000000; stroke-width:4; stroke-opacity:1; fill:none\" points=\"\n",
       "  3952.76,1854.68 3952.76,1832.99 \n",
       "  \"/>\n",
       "<path clip-path=\"url(#clip630)\" d=\"M 0 0 M177.448 1896.67 Q173.837 1896.67 172.008 1900.23 Q170.203 1903.77 170.203 1910.9 Q170.203 1918.01 172.008 1921.57 Q173.837 1925.12 177.448 1925.12 Q181.082 1925.12 182.888 1921.57 Q184.716 1918.01 184.716 1910.9 Q184.716 1903.77 182.888 1900.23 Q181.082 1896.67 177.448 1896.67 M177.448 1892.96 Q183.258 1892.96 186.314 1897.57 Q189.392 1902.15 189.392 1910.9 Q189.392 1919.63 186.314 1924.24 Q183.258 1928.82 177.448 1928.82 Q171.638 1928.82 168.559 1924.24 Q165.504 1919.63 165.504 1910.9 Q165.504 1902.15 168.559 1897.57 Q171.638 1892.96 177.448 1892.96 Z\" fill=\"#000000\" fill-rule=\"evenodd\" fill-opacity=\"1\" /><path clip-path=\"url(#clip630)\" d=\"M 0 0 M194.462 1922.27 L199.346 1922.27 L199.346 1928.15 L194.462 1928.15 L194.462 1922.27 Z\" fill=\"#000000\" fill-rule=\"evenodd\" fill-opacity=\"1\" /><path clip-path=\"url(#clip630)\" d=\"M 0 0 M214.415 1896.67 Q210.804 1896.67 208.976 1900.23 Q207.17 1903.77 207.17 1910.9 Q207.17 1918.01 208.976 1921.57 Q210.804 1925.12 214.415 1925.12 Q218.05 1925.12 219.855 1921.57 Q221.684 1918.01 221.684 1910.9 Q221.684 1903.77 219.855 1900.23 Q218.05 1896.67 214.415 1896.67 M214.415 1892.96 Q220.226 1892.96 223.281 1897.57 Q226.36 1902.15 226.36 1910.9 Q226.36 1919.63 223.281 1924.24 Q220.226 1928.82 214.415 1928.82 Q208.605 1928.82 205.527 1924.24 Q202.471 1919.63 202.471 1910.9 Q202.471 1902.15 205.527 1897.57 Q208.605 1892.96 214.415 1892.96 Z\" fill=\"#000000\" fill-rule=\"evenodd\" fill-opacity=\"1\" /><path clip-path=\"url(#clip630)\" d=\"M 0 0 M241.429 1896.67 Q237.818 1896.67 235.989 1900.23 Q234.184 1903.77 234.184 1910.9 Q234.184 1918.01 235.989 1921.57 Q237.818 1925.12 241.429 1925.12 Q245.063 1925.12 246.869 1921.57 Q248.698 1918.01 248.698 1910.9 Q248.698 1903.77 246.869 1900.23 Q245.063 1896.67 241.429 1896.67 M241.429 1892.96 Q247.239 1892.96 250.295 1897.57 Q253.373 1902.15 253.373 1910.9 Q253.373 1919.63 250.295 1924.24 Q247.239 1928.82 241.429 1928.82 Q235.619 1928.82 232.54 1924.24 Q229.485 1919.63 229.485 1910.9 Q229.485 1902.15 232.54 1897.57 Q235.619 1892.96 241.429 1892.96 Z\" fill=\"#000000\" fill-rule=\"evenodd\" fill-opacity=\"1\" /><path clip-path=\"url(#clip630)\" d=\"M 0 0 M926.91 1896.67 Q923.299 1896.67 921.47 1900.23 Q919.665 1903.77 919.665 1910.9 Q919.665 1918.01 921.47 1921.57 Q923.299 1925.12 926.91 1925.12 Q930.544 1925.12 932.35 1921.57 Q934.179 1918.01 934.179 1910.9 Q934.179 1903.77 932.35 1900.23 Q930.544 1896.67 926.91 1896.67 M926.91 1892.96 Q932.72 1892.96 935.776 1897.57 Q938.854 1902.15 938.854 1910.9 Q938.854 1919.63 935.776 1924.24 Q932.72 1928.82 926.91 1928.82 Q921.1 1928.82 918.021 1924.24 Q914.966 1919.63 914.966 1910.9 Q914.966 1902.15 918.021 1897.57 Q921.1 1892.96 926.91 1892.96 Z\" fill=\"#000000\" fill-rule=\"evenodd\" fill-opacity=\"1\" /><path clip-path=\"url(#clip630)\" d=\"M 0 0 M943.924 1922.27 L948.808 1922.27 L948.808 1928.15 L943.924 1928.15 L943.924 1922.27 Z\" fill=\"#000000\" fill-rule=\"evenodd\" fill-opacity=\"1\" /><path clip-path=\"url(#clip630)\" d=\"M 0 0 M963.877 1896.67 Q960.266 1896.67 958.438 1900.23 Q956.632 1903.77 956.632 1910.9 Q956.632 1918.01 958.438 1921.57 Q960.266 1925.12 963.877 1925.12 Q967.512 1925.12 969.317 1921.57 Q971.146 1918.01 971.146 1910.9 Q971.146 1903.77 969.317 1900.23 Q967.512 1896.67 963.877 1896.67 M963.877 1892.96 Q969.688 1892.96 972.743 1897.57 Q975.822 1902.15 975.822 1910.9 Q975.822 1919.63 972.743 1924.24 Q969.688 1928.82 963.877 1928.82 Q958.067 1928.82 954.989 1924.24 Q951.933 1919.63 951.933 1910.9 Q951.933 1902.15 954.989 1897.57 Q958.067 1892.96 963.877 1892.96 Z\" fill=\"#000000\" fill-rule=\"evenodd\" fill-opacity=\"1\" /><path clip-path=\"url(#clip630)\" d=\"M 0 0 M984.919 1924.21 L1001.24 1924.21 L1001.24 1928.15 L979.294 1928.15 L979.294 1924.21 Q981.956 1921.46 986.539 1916.83 Q991.146 1912.18 992.326 1910.83 Q994.572 1908.31 995.451 1906.57 Q996.354 1904.81 996.354 1903.12 Q996.354 1900.37 994.41 1898.63 Q992.488 1896.9 989.387 1896.9 Q987.188 1896.9 984.734 1897.66 Q982.303 1898.43 979.526 1899.98 L979.526 1895.25 Q982.35 1894.12 984.803 1893.54 Q987.257 1892.96 989.294 1892.96 Q994.664 1892.96 997.859 1895.65 Q1001.05 1898.33 1001.05 1902.82 Q1001.05 1904.95 1000.24 1906.87 Q999.456 1908.77 997.349 1911.37 Q996.771 1912.04 993.669 1915.25 Q990.567 1918.45 984.919 1924.21 Z\" fill=\"#000000\" fill-rule=\"evenodd\" fill-opacity=\"1\" /><path clip-path=\"url(#clip630)\" d=\"M 0 0 M1674.53 1896.67 Q1670.92 1896.67 1669.09 1900.23 Q1667.29 1903.77 1667.29 1910.9 Q1667.29 1918.01 1669.09 1921.57 Q1670.92 1925.12 1674.53 1925.12 Q1678.17 1925.12 1679.97 1921.57 Q1681.8 1918.01 1681.8 1910.9 Q1681.8 1903.77 1679.97 1900.23 Q1678.17 1896.67 1674.53 1896.67 M1674.53 1892.96 Q1680.34 1892.96 1683.4 1897.57 Q1686.48 1902.15 1686.48 1910.9 Q1686.48 1919.63 1683.4 1924.24 Q1680.34 1928.82 1674.53 1928.82 Q1668.72 1928.82 1665.64 1924.24 Q1662.59 1919.63 1662.59 1910.9 Q1662.59 1902.15 1665.64 1897.57 Q1668.72 1892.96 1674.53 1892.96 Z\" fill=\"#000000\" fill-rule=\"evenodd\" fill-opacity=\"1\" /><path clip-path=\"url(#clip630)\" d=\"M 0 0 M1691.55 1922.27 L1696.43 1922.27 L1696.43 1928.15 L1691.55 1928.15 L1691.55 1922.27 Z\" fill=\"#000000\" fill-rule=\"evenodd\" fill-opacity=\"1\" /><path clip-path=\"url(#clip630)\" d=\"M 0 0 M1711.5 1896.67 Q1707.89 1896.67 1706.06 1900.23 Q1704.25 1903.77 1704.25 1910.9 Q1704.25 1918.01 1706.06 1921.57 Q1707.89 1925.12 1711.5 1925.12 Q1715.13 1925.12 1716.94 1921.57 Q1718.77 1918.01 1718.77 1910.9 Q1718.77 1903.77 1716.94 1900.23 Q1715.13 1896.67 1711.5 1896.67 M1711.5 1892.96 Q1717.31 1892.96 1720.36 1897.57 Q1723.44 1902.15 1723.44 1910.9 Q1723.44 1919.63 1720.36 1924.24 Q1717.31 1928.82 1711.5 1928.82 Q1705.69 1928.82 1702.61 1924.24 Q1699.55 1919.63 1699.55 1910.9 Q1699.55 1902.15 1702.61 1897.57 Q1705.69 1892.96 1711.5 1892.96 Z\" fill=\"#000000\" fill-rule=\"evenodd\" fill-opacity=\"1\" /><path clip-path=\"url(#clip630)\" d=\"M 0 0 M1741.36 1897.66 L1729.55 1916.11 L1741.36 1916.11 L1741.36 1897.66 M1740.13 1893.59 L1746.01 1893.59 L1746.01 1916.11 L1750.94 1916.11 L1750.94 1920 L1746.01 1920 L1746.01 1928.15 L1741.36 1928.15 L1741.36 1920 L1725.76 1920 L1725.76 1915.49 L1740.13 1893.59 Z\" fill=\"#000000\" fill-rule=\"evenodd\" fill-opacity=\"1\" /><path clip-path=\"url(#clip630)\" d=\"M 0 0 M2423.36 1896.67 Q2419.75 1896.67 2417.92 1900.23 Q2416.11 1903.77 2416.11 1910.9 Q2416.11 1918.01 2417.92 1921.57 Q2419.75 1925.12 2423.36 1925.12 Q2426.99 1925.12 2428.8 1921.57 Q2430.63 1918.01 2430.63 1910.9 Q2430.63 1903.77 2428.8 1900.23 Q2426.99 1896.67 2423.36 1896.67 M2423.36 1892.96 Q2429.17 1892.96 2432.22 1897.57 Q2435.3 1902.15 2435.3 1910.9 Q2435.3 1919.63 2432.22 1924.24 Q2429.17 1928.82 2423.36 1928.82 Q2417.55 1928.82 2414.47 1924.24 Q2411.41 1919.63 2411.41 1910.9 Q2411.41 1902.15 2414.47 1897.57 Q2417.55 1892.96 2423.36 1892.96 Z\" fill=\"#000000\" fill-rule=\"evenodd\" fill-opacity=\"1\" /><path clip-path=\"url(#clip630)\" d=\"M 0 0 M2440.37 1922.27 L2445.26 1922.27 L2445.26 1928.15 L2440.37 1928.15 L2440.37 1922.27 Z\" fill=\"#000000\" fill-rule=\"evenodd\" fill-opacity=\"1\" /><path clip-path=\"url(#clip630)\" d=\"M 0 0 M2460.32 1896.67 Q2456.71 1896.67 2454.88 1900.23 Q2453.08 1903.77 2453.08 1910.9 Q2453.08 1918.01 2454.88 1921.57 Q2456.71 1925.12 2460.32 1925.12 Q2463.96 1925.12 2465.76 1921.57 Q2467.59 1918.01 2467.59 1910.9 Q2467.59 1903.77 2465.76 1900.23 Q2463.96 1896.67 2460.32 1896.67 M2460.32 1892.96 Q2466.13 1892.96 2469.19 1897.57 Q2472.27 1902.15 2472.27 1910.9 Q2472.27 1919.63 2469.19 1924.24 Q2466.13 1928.82 2460.32 1928.82 Q2454.51 1928.82 2451.44 1924.24 Q2448.38 1919.63 2448.38 1910.9 Q2448.38 1902.15 2451.44 1897.57 Q2454.51 1892.96 2460.32 1892.96 Z\" fill=\"#000000\" fill-rule=\"evenodd\" fill-opacity=\"1\" /><path clip-path=\"url(#clip630)\" d=\"M 0 0 M2487.92 1909 Q2484.77 1909 2482.92 1911.16 Q2481.09 1913.31 2481.09 1917.06 Q2481.09 1920.79 2482.92 1922.96 Q2484.77 1925.12 2487.92 1925.12 Q2491.07 1925.12 2492.89 1922.96 Q2494.75 1920.79 2494.75 1917.06 Q2494.75 1913.31 2492.89 1911.16 Q2491.07 1909 2487.92 1909 M2497.2 1894.35 L2497.2 1898.61 Q2495.44 1897.78 2493.63 1897.34 Q2491.85 1896.9 2490.09 1896.9 Q2485.46 1896.9 2483.01 1900.02 Q2480.58 1903.15 2480.23 1909.47 Q2481.6 1907.45 2483.66 1906.39 Q2485.72 1905.3 2488.19 1905.3 Q2493.4 1905.3 2496.41 1908.47 Q2499.44 1911.62 2499.44 1917.06 Q2499.44 1922.38 2496.3 1925.6 Q2493.15 1928.82 2487.92 1928.82 Q2481.92 1928.82 2478.75 1924.24 Q2475.58 1919.63 2475.58 1910.9 Q2475.58 1902.71 2479.47 1897.85 Q2483.36 1892.96 2489.91 1892.96 Q2491.67 1892.96 2493.45 1893.31 Q2495.26 1893.66 2497.2 1894.35 Z\" fill=\"#000000\" fill-rule=\"evenodd\" fill-opacity=\"1\" /><path clip-path=\"url(#clip630)\" d=\"M 0 0 M3172.15 1896.67 Q3168.54 1896.67 3166.71 1900.23 Q3164.9 1903.77 3164.9 1910.9 Q3164.9 1918.01 3166.71 1921.57 Q3168.54 1925.12 3172.15 1925.12 Q3175.78 1925.12 3177.59 1921.57 Q3179.42 1918.01 3179.42 1910.9 Q3179.42 1903.77 3177.59 1900.23 Q3175.78 1896.67 3172.15 1896.67 M3172.15 1892.96 Q3177.96 1892.96 3181.01 1897.57 Q3184.09 1902.15 3184.09 1910.9 Q3184.09 1919.63 3181.01 1924.24 Q3177.96 1928.82 3172.15 1928.82 Q3166.34 1928.82 3163.26 1924.24 Q3160.2 1919.63 3160.2 1910.9 Q3160.2 1902.15 3163.26 1897.57 Q3166.34 1892.96 3172.15 1892.96 Z\" fill=\"#000000\" fill-rule=\"evenodd\" fill-opacity=\"1\" /><path clip-path=\"url(#clip630)\" d=\"M 0 0 M3189.16 1922.27 L3194.05 1922.27 L3194.05 1928.15 L3189.16 1928.15 L3189.16 1922.27 Z\" fill=\"#000000\" fill-rule=\"evenodd\" fill-opacity=\"1\" /><path clip-path=\"url(#clip630)\" d=\"M 0 0 M3209.12 1896.67 Q3205.5 1896.67 3203.68 1900.23 Q3201.87 1903.77 3201.87 1910.9 Q3201.87 1918.01 3203.68 1921.57 Q3205.5 1925.12 3209.12 1925.12 Q3212.75 1925.12 3214.56 1921.57 Q3216.38 1918.01 3216.38 1910.9 Q3216.38 1903.77 3214.56 1900.23 Q3212.75 1896.67 3209.12 1896.67 M3209.12 1892.96 Q3214.93 1892.96 3217.98 1897.57 Q3221.06 1902.15 3221.06 1910.9 Q3221.06 1919.63 3217.98 1924.24 Q3214.93 1928.82 3209.12 1928.82 Q3203.31 1928.82 3200.23 1924.24 Q3197.17 1919.63 3197.17 1910.9 Q3197.17 1902.15 3200.23 1897.57 Q3203.31 1892.96 3209.12 1892.96 Z\" fill=\"#000000\" fill-rule=\"evenodd\" fill-opacity=\"1\" /><path clip-path=\"url(#clip630)\" d=\"M 0 0 M3236.13 1911.74 Q3232.8 1911.74 3230.87 1913.52 Q3228.98 1915.3 3228.98 1918.43 Q3228.98 1921.55 3230.87 1923.33 Q3232.8 1925.12 3236.13 1925.12 Q3239.46 1925.12 3241.38 1923.33 Q3243.31 1921.53 3243.31 1918.43 Q3243.31 1915.3 3241.38 1913.52 Q3239.49 1911.74 3236.13 1911.74 M3231.45 1909.75 Q3228.44 1909 3226.75 1906.94 Q3225.09 1904.88 3225.09 1901.92 Q3225.09 1897.78 3228.03 1895.37 Q3230.99 1892.96 3236.13 1892.96 Q3241.29 1892.96 3244.23 1895.37 Q3247.17 1897.78 3247.17 1901.92 Q3247.17 1904.88 3245.48 1906.94 Q3243.81 1909 3240.83 1909.75 Q3244.21 1910.53 3246.08 1912.82 Q3247.98 1915.12 3247.98 1918.43 Q3247.98 1923.45 3244.9 1926.13 Q3241.85 1928.82 3236.13 1928.82 Q3230.41 1928.82 3227.33 1926.13 Q3224.28 1923.45 3224.28 1918.43 Q3224.28 1915.12 3226.18 1912.82 Q3228.07 1910.53 3231.45 1909.75 M3229.74 1902.36 Q3229.74 1905.05 3231.41 1906.55 Q3233.1 1908.06 3236.13 1908.06 Q3239.14 1908.06 3240.83 1906.55 Q3242.54 1905.05 3242.54 1902.36 Q3242.54 1899.68 3240.83 1898.17 Q3239.14 1896.67 3236.13 1896.67 Q3233.1 1896.67 3231.41 1898.17 Q3229.74 1899.68 3229.74 1902.36 Z\" fill=\"#000000\" fill-rule=\"evenodd\" fill-opacity=\"1\" /><path clip-path=\"url(#clip630)\" d=\"M 0 0 M3921.38 1896.67 Q3917.77 1896.67 3915.94 1900.23 Q3914.13 1903.77 3914.13 1910.9 Q3914.13 1918.01 3915.94 1921.57 Q3917.77 1925.12 3921.38 1925.12 Q3925.01 1925.12 3926.82 1921.57 Q3928.65 1918.01 3928.65 1910.9 Q3928.65 1903.77 3926.82 1900.23 Q3925.01 1896.67 3921.38 1896.67 M3921.38 1892.96 Q3927.19 1892.96 3930.24 1897.57 Q3933.32 1902.15 3933.32 1910.9 Q3933.32 1919.63 3930.24 1924.24 Q3927.19 1928.82 3921.38 1928.82 Q3915.57 1928.82 3912.49 1924.24 Q3909.43 1919.63 3909.43 1910.9 Q3909.43 1902.15 3912.49 1897.57 Q3915.57 1892.96 3921.38 1892.96 Z\" fill=\"#000000\" fill-rule=\"evenodd\" fill-opacity=\"1\" /><path clip-path=\"url(#clip630)\" d=\"M 0 0 M3938.39 1922.27 L3943.28 1922.27 L3943.28 1928.15 L3938.39 1928.15 L3938.39 1922.27 Z\" fill=\"#000000\" fill-rule=\"evenodd\" fill-opacity=\"1\" /><path clip-path=\"url(#clip630)\" d=\"M 0 0 M3949.16 1924.21 L3956.8 1924.21 L3956.8 1897.85 L3948.49 1899.51 L3948.49 1895.25 L3956.75 1893.59 L3961.42 1893.59 L3961.42 1924.21 L3969.06 1924.21 L3969.06 1928.15 L3949.16 1928.15 L3949.16 1924.21 Z\" fill=\"#000000\" fill-rule=\"evenodd\" fill-opacity=\"1\" /><path clip-path=\"url(#clip630)\" d=\"M 0 0 M3984.13 1896.67 Q3980.52 1896.67 3978.69 1900.23 Q3976.89 1903.77 3976.89 1910.9 Q3976.89 1918.01 3978.69 1921.57 Q3980.52 1925.12 3984.13 1925.12 Q3987.77 1925.12 3989.57 1921.57 Q3991.4 1918.01 3991.4 1910.9 Q3991.4 1903.77 3989.57 1900.23 Q3987.77 1896.67 3984.13 1896.67 M3984.13 1892.96 Q3989.94 1892.96 3993 1897.57 Q3996.08 1902.15 3996.08 1910.9 Q3996.08 1919.63 3993 1924.24 Q3989.94 1928.82 3984.13 1928.82 Q3978.32 1928.82 3975.24 1924.24 Q3972.19 1919.63 3972.19 1910.9 Q3972.19 1902.15 3975.24 1897.57 Q3978.32 1892.96 3984.13 1892.96 Z\" fill=\"#000000\" fill-rule=\"evenodd\" fill-opacity=\"1\" /><path clip-path=\"url(#clip630)\" d=\"M 0 0 M2099.11 1952.49 Q2099.11 1957.19 2096.72 1961.74 Q2094.37 1966.28 2090.67 1969.08 Q2086.97 1971.85 2083.2 1971.85 Q2080.94 1971.85 2079.43 1970.62 Q2077.95 1969.37 2077.14 1967.6 Q2076.53 1969.79 2075.21 1975.04 Q2073.89 1980.29 2073.89 1980.8 Q2073.89 1981.09 2073.95 1981.22 Q2074.02 1981.35 2074.31 1981.51 Q2074.6 1981.7 2075.31 1981.77 Q2076.02 1981.86 2077.21 1981.86 Q2077.82 1981.86 2078.04 1981.86 Q2078.3 1981.9 2078.53 1982.06 Q2078.79 1982.22 2078.79 1982.57 Q2078.79 1983.89 2077.59 1983.89 Q2076.53 1983.89 2074.34 1983.8 Q2072.15 1983.7 2071.06 1983.7 Q2070.12 1983.7 2068.25 1983.8 Q2066.39 1983.89 2065.52 1983.89 Q2064.65 1983.89 2064.65 1983.12 Q2064.65 1982.67 2064.78 1982.38 Q2064.87 1982.12 2065.13 1981.99 Q2065.39 1981.9 2065.61 1981.86 Q2065.81 1981.86 2066.19 1981.86 Q2067.67 1981.86 2068.32 1981.61 Q2068.96 1981.38 2069.19 1980.9 Q2069.45 1980.45 2069.74 1979.16 L2077.14 1949.79 Q2077.59 1947.82 2077.59 1946.44 Q2077.59 1944.7 2077.05 1944.05 Q2076.5 1943.41 2075.53 1943.41 Q2073.86 1943.41 2072.76 1945.41 Q2071.67 1947.4 2070.73 1951.27 Q2070.44 1952.33 2070.25 1952.56 Q2070.09 1952.78 2069.61 1952.78 Q2068.8 1952.75 2068.8 1952.11 Q2068.8 1951.94 2069.06 1950.91 Q2069.32 1949.85 2069.8 1948.31 Q2070.32 1946.73 2070.86 1945.73 Q2071.19 1945.05 2071.47 1944.6 Q2071.76 1944.15 2072.34 1943.44 Q2072.96 1942.73 2073.83 1942.35 Q2074.7 1941.96 2075.76 1941.96 Q2077.82 1941.96 2079.53 1943.18 Q2081.23 1944.41 2081.68 1946.89 Q2083.52 1944.73 2085.77 1943.35 Q2088.03 1941.96 2090.32 1941.96 Q2094.12 1941.96 2096.6 1944.92 Q2099.11 1947.85 2099.11 1952.49 M2094.34 1949.59 Q2094.34 1946.66 2093.21 1945.05 Q2092.12 1943.41 2090.12 1943.41 Q2087.64 1943.41 2084.78 1945.92 Q2081.94 1948.31 2081.36 1950.53 L2078.11 1963.44 L2077.92 1964.5 Q2077.92 1964.7 2078.01 1965.28 Q2078.14 1965.83 2078.5 1966.73 Q2078.88 1967.63 2079.4 1968.43 Q2079.95 1969.21 2080.91 1969.79 Q2081.91 1970.37 2083.13 1970.37 Q2085.1 1970.37 2087.22 1968.63 Q2089.38 1966.89 2090.99 1963.6 Q2091.99 1961.48 2093.15 1956.9 Q2094.34 1952.3 2094.34 1949.59 Z\" fill=\"#000000\" fill-rule=\"evenodd\" fill-opacity=\"1\" /><polyline clip-path=\"url(#clip632)\" style=\"stroke:#000000; stroke-width:2; stroke-opacity:0.1; fill:none\" points=\"\n",
       "  209.439,1854.68 3952.76,1854.68 \n",
       "  \"/>\n",
       "<polyline clip-path=\"url(#clip632)\" style=\"stroke:#000000; stroke-width:2; stroke-opacity:0.1; fill:none\" points=\"\n",
       "  209.439,1402.82 3952.76,1402.82 \n",
       "  \"/>\n",
       "<polyline clip-path=\"url(#clip632)\" style=\"stroke:#000000; stroke-width:2; stroke-opacity:0.1; fill:none\" points=\"\n",
       "  209.439,950.96 3952.76,950.96 \n",
       "  \"/>\n",
       "<polyline clip-path=\"url(#clip632)\" style=\"stroke:#000000; stroke-width:2; stroke-opacity:0.1; fill:none\" points=\"\n",
       "  209.439,499.102 3952.76,499.102 \n",
       "  \"/>\n",
       "<polyline clip-path=\"url(#clip632)\" style=\"stroke:#000000; stroke-width:2; stroke-opacity:0.1; fill:none\" points=\"\n",
       "  209.439,47.2441 3952.76,47.2441 \n",
       "  \"/>\n",
       "<polyline clip-path=\"url(#clip630)\" style=\"stroke:#000000; stroke-width:4; stroke-opacity:1; fill:none\" points=\"\n",
       "  209.439,1854.68 209.439,47.2441 \n",
       "  \"/>\n",
       "<polyline clip-path=\"url(#clip630)\" style=\"stroke:#000000; stroke-width:4; stroke-opacity:1; fill:none\" points=\"\n",
       "  209.439,1854.68 254.358,1854.68 \n",
       "  \"/>\n",
       "<polyline clip-path=\"url(#clip630)\" style=\"stroke:#000000; stroke-width:4; stroke-opacity:1; fill:none\" points=\"\n",
       "  209.439,1402.82 254.358,1402.82 \n",
       "  \"/>\n",
       "<polyline clip-path=\"url(#clip630)\" style=\"stroke:#000000; stroke-width:4; stroke-opacity:1; fill:none\" points=\"\n",
       "  209.439,950.96 254.358,950.96 \n",
       "  \"/>\n",
       "<polyline clip-path=\"url(#clip630)\" style=\"stroke:#000000; stroke-width:4; stroke-opacity:1; fill:none\" points=\"\n",
       "  209.439,499.102 254.358,499.102 \n",
       "  \"/>\n",
       "<polyline clip-path=\"url(#clip630)\" style=\"stroke:#000000; stroke-width:4; stroke-opacity:1; fill:none\" points=\"\n",
       "  209.439,47.2441 254.358,47.2441 \n",
       "  \"/>\n",
       "<path clip-path=\"url(#clip630)\" d=\"M 0 0 M137.494 1840.47 Q133.883 1840.47 132.054 1844.04 Q130.249 1847.58 130.249 1854.71 Q130.249 1861.82 132.054 1865.38 Q133.883 1868.92 137.494 1868.92 Q141.128 1868.92 142.934 1865.38 Q144.763 1861.82 144.763 1854.71 Q144.763 1847.58 142.934 1844.04 Q141.128 1840.47 137.494 1840.47 M137.494 1836.77 Q143.304 1836.77 146.36 1841.38 Q149.439 1845.96 149.439 1854.71 Q149.439 1863.44 146.36 1868.04 Q143.304 1872.63 137.494 1872.63 Q131.684 1872.63 128.605 1868.04 Q125.55 1863.44 125.55 1854.71 Q125.55 1845.96 128.605 1841.38 Q131.684 1836.77 137.494 1836.77 Z\" fill=\"#000000\" fill-rule=\"evenodd\" fill-opacity=\"1\" /><path clip-path=\"url(#clip630)\" d=\"M 0 0 M101.522 1385.54 L119.879 1385.54 L119.879 1389.47 L105.805 1389.47 L105.805 1397.95 Q106.823 1397.6 107.842 1397.44 Q108.86 1397.25 109.879 1397.25 Q115.666 1397.25 119.045 1400.42 Q122.425 1403.59 122.425 1409.01 Q122.425 1414.59 118.953 1417.69 Q115.48 1420.77 109.161 1420.77 Q106.985 1420.77 104.717 1420.4 Q102.471 1420.03 100.064 1419.29 L100.064 1414.59 Q102.147 1415.72 104.369 1416.28 Q106.592 1416.83 109.068 1416.83 Q113.073 1416.83 115.411 1414.73 Q117.749 1412.62 117.749 1409.01 Q117.749 1405.4 115.411 1403.29 Q113.073 1401.19 109.068 1401.19 Q107.193 1401.19 105.318 1401.6 Q103.467 1402.02 101.522 1402.9 L101.522 1385.54 Z\" fill=\"#000000\" fill-rule=\"evenodd\" fill-opacity=\"1\" /><path clip-path=\"url(#clip630)\" d=\"M 0 0 M137.494 1388.62 Q133.883 1388.62 132.054 1392.18 Q130.249 1395.72 130.249 1402.85 Q130.249 1409.96 132.054 1413.52 Q133.883 1417.07 137.494 1417.07 Q141.128 1417.07 142.934 1413.52 Q144.763 1409.96 144.763 1402.85 Q144.763 1395.72 142.934 1392.18 Q141.128 1388.62 137.494 1388.62 M137.494 1384.91 Q143.304 1384.91 146.36 1389.52 Q149.439 1394.1 149.439 1402.85 Q149.439 1411.58 146.36 1416.19 Q143.304 1420.77 137.494 1420.77 Q131.684 1420.77 128.605 1416.19 Q125.55 1411.58 125.55 1402.85 Q125.55 1394.1 128.605 1389.52 Q131.684 1384.91 137.494 1384.91 Z\" fill=\"#000000\" fill-rule=\"evenodd\" fill-opacity=\"1\" /><path clip-path=\"url(#clip630)\" d=\"M 0 0 M75.5037 964.305 L83.1426 964.305 L83.1426 937.939 L74.8325 939.606 L74.8325 935.347 L83.0963 933.68 L87.7722 933.68 L87.7722 964.305 L95.411 964.305 L95.411 968.24 L75.5037 968.24 L75.5037 964.305 Z\" fill=\"#000000\" fill-rule=\"evenodd\" fill-opacity=\"1\" /><path clip-path=\"url(#clip630)\" d=\"M 0 0 M110.48 936.759 Q106.869 936.759 105.041 940.323 Q103.235 943.865 103.235 950.995 Q103.235 958.101 105.041 961.666 Q106.869 965.208 110.48 965.208 Q114.115 965.208 115.92 961.666 Q117.749 958.101 117.749 950.995 Q117.749 943.865 115.92 940.323 Q114.115 936.759 110.48 936.759 M110.48 933.055 Q116.291 933.055 119.346 937.661 Q122.425 942.245 122.425 950.995 Q122.425 959.721 119.346 964.328 Q116.291 968.911 110.48 968.911 Q104.67 968.911 101.592 964.328 Q98.536 959.721 98.536 950.995 Q98.536 942.245 101.592 937.661 Q104.67 933.055 110.48 933.055 Z\" fill=\"#000000\" fill-rule=\"evenodd\" fill-opacity=\"1\" /><path clip-path=\"url(#clip630)\" d=\"M 0 0 M137.494 936.759 Q133.883 936.759 132.054 940.323 Q130.249 943.865 130.249 950.995 Q130.249 958.101 132.054 961.666 Q133.883 965.208 137.494 965.208 Q141.128 965.208 142.934 961.666 Q144.763 958.101 144.763 950.995 Q144.763 943.865 142.934 940.323 Q141.128 936.759 137.494 936.759 M137.494 933.055 Q143.304 933.055 146.36 937.661 Q149.439 942.245 149.439 950.995 Q149.439 959.721 146.36 964.328 Q143.304 968.911 137.494 968.911 Q131.684 968.911 128.605 964.328 Q125.55 959.721 125.55 950.995 Q125.55 942.245 128.605 937.661 Q131.684 933.055 137.494 933.055 Z\" fill=\"#000000\" fill-rule=\"evenodd\" fill-opacity=\"1\" /><path clip-path=\"url(#clip630)\" d=\"M 0 0 M76.4991 512.447 L84.138 512.447 L84.138 486.081 L75.8278 487.748 L75.8278 483.489 L84.0917 481.822 L88.7676 481.822 L88.7676 512.447 L96.4064 512.447 L96.4064 516.382 L76.4991 516.382 L76.4991 512.447 Z\" fill=\"#000000\" fill-rule=\"evenodd\" fill-opacity=\"1\" /><path clip-path=\"url(#clip630)\" d=\"M 0 0 M101.522 481.822 L119.879 481.822 L119.879 485.757 L105.805 485.757 L105.805 494.229 Q106.823 493.882 107.842 493.72 Q108.86 493.535 109.879 493.535 Q115.666 493.535 119.045 496.706 Q122.425 499.877 122.425 505.294 Q122.425 510.873 118.953 513.975 Q115.48 517.053 109.161 517.053 Q106.985 517.053 104.717 516.683 Q102.471 516.313 100.064 515.572 L100.064 510.873 Q102.147 512.007 104.369 512.563 Q106.592 513.118 109.068 513.118 Q113.073 513.118 115.411 511.012 Q117.749 508.905 117.749 505.294 Q117.749 501.683 115.411 499.577 Q113.073 497.47 109.068 497.47 Q107.193 497.47 105.318 497.887 Q103.467 498.303 101.522 499.183 L101.522 481.822 Z\" fill=\"#000000\" fill-rule=\"evenodd\" fill-opacity=\"1\" /><path clip-path=\"url(#clip630)\" d=\"M 0 0 M137.494 484.901 Q133.883 484.901 132.054 488.465 Q130.249 492.007 130.249 499.137 Q130.249 506.243 132.054 509.808 Q133.883 513.35 137.494 513.35 Q141.128 513.35 142.934 509.808 Q144.763 506.243 144.763 499.137 Q144.763 492.007 142.934 488.465 Q141.128 484.901 137.494 484.901 M137.494 481.197 Q143.304 481.197 146.36 485.803 Q149.439 490.387 149.439 499.137 Q149.439 507.864 146.36 512.47 Q143.304 517.053 137.494 517.053 Q131.684 517.053 128.605 512.47 Q125.55 507.864 125.55 499.137 Q125.55 490.387 128.605 485.803 Q131.684 481.197 137.494 481.197 Z\" fill=\"#000000\" fill-rule=\"evenodd\" fill-opacity=\"1\" /><path clip-path=\"url(#clip630)\" d=\"M 0 0 M79.0917 60.5889 L95.411 60.5889 L95.411 64.5241 L73.4667 64.5241 L73.4667 60.5889 Q76.1287 57.8343 80.7121 53.2047 Q85.3185 48.552 86.4991 47.2094 Q88.7444 44.6862 89.624 42.9501 Q90.5268 41.1909 90.5268 39.5011 Q90.5268 36.7465 88.5824 35.0104 Q86.6611 33.2743 83.5593 33.2743 Q81.3602 33.2743 78.9065 34.0381 Q76.476 34.802 73.6982 36.3529 L73.6982 31.6308 Q76.5223 30.4965 78.9759 29.9178 Q81.4296 29.3391 83.4667 29.3391 Q88.837 29.3391 92.0314 32.0243 Q95.2259 34.7094 95.2259 39.2002 Q95.2259 41.3298 94.4157 43.2511 Q93.6286 45.1492 91.5222 47.7418 Q90.9435 48.4131 87.8416 51.6306 Q84.7398 54.8251 79.0917 60.5889 Z\" fill=\"#000000\" fill-rule=\"evenodd\" fill-opacity=\"1\" /><path clip-path=\"url(#clip630)\" d=\"M 0 0 M110.48 33.0428 Q106.869 33.0428 105.041 36.6076 Q103.235 40.1492 103.235 47.2788 Q103.235 54.3853 105.041 57.9501 Q106.869 61.4917 110.48 61.4917 Q114.115 61.4917 115.92 57.9501 Q117.749 54.3853 117.749 47.2788 Q117.749 40.1492 115.92 36.6076 Q114.115 33.0428 110.48 33.0428 M110.48 29.3391 Q116.291 29.3391 119.346 33.9456 Q122.425 38.5289 122.425 47.2788 Q122.425 56.0056 119.346 60.6121 Q116.291 65.1954 110.48 65.1954 Q104.67 65.1954 101.592 60.6121 Q98.536 56.0056 98.536 47.2788 Q98.536 38.5289 101.592 33.9456 Q104.67 29.3391 110.48 29.3391 Z\" fill=\"#000000\" fill-rule=\"evenodd\" fill-opacity=\"1\" /><path clip-path=\"url(#clip630)\" d=\"M 0 0 M137.494 33.0428 Q133.883 33.0428 132.054 36.6076 Q130.249 40.1492 130.249 47.2788 Q130.249 54.3853 132.054 57.9501 Q133.883 61.4917 137.494 61.4917 Q141.128 61.4917 142.934 57.9501 Q144.763 54.3853 144.763 47.2788 Q144.763 40.1492 142.934 36.6076 Q141.128 33.0428 137.494 33.0428 M137.494 29.3391 Q143.304 29.3391 146.36 33.9456 Q149.439 38.5289 149.439 47.2788 Q149.439 56.0056 146.36 60.6121 Q143.304 65.1954 137.494 65.1954 Q131.684 65.1954 128.605 60.6121 Q125.55 56.0056 125.55 47.2788 Q125.55 38.5289 128.605 33.9456 Q131.684 29.3391 137.494 29.3391 Z\" fill=\"#000000\" fill-rule=\"evenodd\" fill-opacity=\"1\" /><path clip-path=\"url(#clip630)\" d=\"M 0 0 M30.8844 936.812 Q32.6879 936.812 33.7185 937.939 Q34.7169 939.066 34.7169 940.354 Q34.7169 941.578 34.0083 942.222 Q33.2998 942.867 32.398 942.867 Q31.1742 942.867 30.1114 941.965 Q29.0486 941.063 28.8232 939.71 Q27.9858 941.031 27.9858 942.995 Q27.9858 944.284 28.6621 945.411 Q29.3385 946.506 30.208 947.182 Q31.0776 947.826 32.3336 948.406 Q33.5574 948.953 34.2982 949.179 Q35.0067 949.372 35.7796 949.533 L44.7973 951.788 Q49.0807 952.883 50.5943 952.883 Q52.4623 952.883 53.7183 951.981 Q54.9421 951.079 54.9421 949.276 Q54.9421 948.567 54.7489 947.762 Q54.5235 946.957 53.9437 945.926 Q53.3318 944.863 52.4301 943.929 Q51.4961 942.963 49.918 942.029 Q48.3399 941.095 46.311 940.483 Q45.6024 940.29 45.6024 939.646 Q45.6024 938.841 46.2465 938.841 Q46.794 938.841 47.9535 939.292 Q49.0807 939.71 50.5621 940.644 Q52.0114 941.546 53.3318 942.738 Q54.6201 943.929 55.5218 945.701 Q56.4236 947.472 56.4236 949.404 Q56.4236 952.174 54.9421 954.01 Q53.4607 955.846 51.3995 956.522 Q51.6893 956.683 52.0758 956.908 Q52.4623 957.134 53.3318 957.81 Q54.1692 958.454 54.8133 959.195 Q55.4252 959.936 55.9083 961.095 Q56.4236 962.222 56.4236 963.446 Q56.4236 964.992 55.9727 966.377 Q55.5218 967.729 54.4912 968.696 Q53.4607 969.662 52.0436 969.662 Q50.4655 969.662 49.3705 968.599 Q48.2433 967.504 48.2433 966.023 Q48.2433 965.089 48.7908 964.348 Q49.3383 963.575 50.5299 963.575 Q51.8504 963.575 52.8488 964.477 Q53.8471 965.378 54.1048 966.667 Q54.9421 965.346 54.9421 963.382 Q54.9421 961.256 53.0742 959.581 Q51.2063 957.907 48.0823 957.102 Q40.5783 955.105 37.2289 954.332 Q33.8473 953.559 32.398 953.559 Q31.0454 953.559 30.1114 953.913 Q29.1774 954.267 28.7588 954.879 Q28.3079 955.459 28.1469 956.007 Q27.9858 956.522 27.9858 957.102 Q27.9858 958.068 28.3723 959.163 Q28.7588 960.226 29.6605 961.514 Q30.5301 962.77 32.3336 963.961 Q34.1371 965.153 36.617 965.958 Q37.3577 966.119 37.3577 966.828 Q37.3255 967.601 36.6814 967.601 Q36.1339 967.601 35.0067 967.182 Q33.8473 966.731 32.398 965.829 Q30.9488 964.895 29.6605 963.704 Q28.3401 962.48 27.4383 960.709 Q26.5366 958.905 26.5366 956.973 Q26.5366 956.103 26.7298 955.266 Q26.8908 954.396 27.3739 953.366 Q27.857 952.303 28.9198 951.369 Q29.9826 950.435 31.5285 949.855 Q30.7877 949.469 30.0792 948.953 Q29.3707 948.406 28.5011 947.569 Q27.5994 946.699 27.0841 945.507 Q26.5366 944.284 26.5366 942.931 Q26.5366 941.611 26.8908 940.322 Q27.2129 939.034 28.2757 937.939 Q29.3063 936.812 30.8844 936.812 Z\" fill=\"#000000\" fill-rule=\"evenodd\" fill-opacity=\"1\" /><polyline clip-path=\"url(#clip632)\" style=\"stroke:#009af9; stroke-width:4; stroke-opacity:1; fill:none\" points=\"\n",
       "  246.872,-1645.4 284.305,-620.252 321.738,-166.094 359.171,104.638 396.604,289.394 434.038,425.776 471.471,531.771 508.904,617.212 546.337,687.984 583.77,747.854 \n",
       "  621.203,799.363 658.637,844.291 696.07,883.929 733.503,919.241 770.936,950.96 808.369,979.657 845.802,1005.78 883.236,1029.7 920.669,1051.7 958.102,1072.03 \n",
       "  995.535,1090.9 1032.97,1108.46 1070.4,1124.86 1107.83,1140.23 1145.27,1154.66 1182.7,1168.25 1220.13,1181.09 1257.57,1193.22 1295,1204.73 1332.43,1215.65 \n",
       "  1369.87,1226.04 1407.3,1235.94 1444.73,1245.39 1482.17,1254.42 1519.6,1263.05 1557.03,1271.33 1594.47,1279.27 1631.9,1286.89 1669.33,1294.22 1706.77,1301.27 \n",
       "  1744.2,1308.06 1781.63,1314.6 1819.07,1320.92 1856.5,1327.02 1893.93,1332.92 1931.36,1338.62 1968.8,1344.14 2006.23,1349.48 2043.66,1354.66 2081.1,1359.69 \n",
       "  2118.53,1364.57 2155.96,1369.3 2193.4,1373.9 2230.83,1378.38 2268.26,1382.73 2305.7,1386.96 2343.13,1391.08 2380.56,1395.09 2418,1399 2455.43,1402.82 \n",
       "  2492.86,1406.54 2530.3,1410.17 2567.73,1413.71 2605.16,1417.17 2642.59,1420.54 2680.03,1423.85 2717.46,1427.07 2754.89,1430.23 2792.33,1433.32 2829.76,1436.34 \n",
       "  2867.19,1439.29 2904.63,1442.19 2942.06,1445.02 2979.49,1447.8 3016.93,1450.52 3054.36,1453.19 3091.79,1455.81 3129.23,1458.37 3166.66,1460.89 3204.09,1463.36 \n",
       "  3241.53,1465.78 3278.96,1468.16 3316.39,1470.49 3353.83,1472.79 3391.26,1475.04 3428.69,1477.25 3466.12,1479.43 3503.56,1481.57 3540.99,1483.67 3578.42,1485.74 \n",
       "  3615.86,1487.77 3653.29,1489.77 3690.72,1491.73 3728.16,1493.67 3765.59,1495.58 3803.02,1497.45 3840.46,1499.3 3877.89,1501.11 3915.32,1502.9 3952.76,1504.67 \n",
       "  \n",
       "  \"/>\n",
       "<polyline clip-path=\"url(#clip632)\" style=\"stroke:#e26f46; stroke-width:4; stroke-opacity:1; fill:none\" points=\"\n",
       "  209.439,950.96 246.872,950.055 284.305,949.149 321.738,948.241 359.171,947.331 396.604,946.419 434.038,945.505 471.471,944.589 508.904,943.672 546.337,942.753 \n",
       "  583.77,941.831 621.203,940.908 658.637,939.984 696.07,939.057 733.503,938.128 770.936,937.198 808.369,936.265 845.802,935.331 883.236,934.395 920.669,933.457 \n",
       "  958.102,932.517 995.535,931.575 1032.97,930.631 1070.4,929.685 1107.83,928.737 1145.27,927.788 1182.7,926.836 1220.13,925.883 1257.57,924.927 1295,923.969 \n",
       "  1332.43,923.01 1369.87,922.048 1407.3,921.085 1444.73,920.12 1482.17,919.152 1519.6,918.183 1557.03,917.211 1594.47,916.238 1631.9,915.262 1669.33,914.285 \n",
       "  1706.77,913.305 1744.2,912.323 1781.63,911.34 1819.07,910.354 1856.5,909.366 1893.93,908.376 1931.36,907.385 1968.8,906.391 2006.23,905.394 2043.66,904.396 \n",
       "  2081.1,903.396 2118.53,902.394 2155.96,901.389 2193.4,900.382 2230.83,899.374 2268.26,898.363 2305.7,897.35 2343.13,896.334 2380.56,895.317 2418,894.298 \n",
       "  2455.43,893.276 2492.86,892.252 2530.3,891.226 2567.73,890.198 2605.16,889.167 2642.59,888.135 2680.03,887.1 2717.46,886.063 2754.89,885.024 2792.33,883.982 \n",
       "  2829.76,882.938 2867.19,881.892 2904.63,880.844 2942.06,879.794 2979.49,878.741 3016.93,877.686 3054.36,876.628 3091.79,875.569 3129.23,874.507 3166.66,873.443 \n",
       "  3204.09,872.376 3241.53,871.307 3278.96,870.236 3316.39,869.162 3353.83,868.086 3391.26,867.008 3428.69,865.928 3466.12,864.845 3503.56,863.759 3540.99,862.672 \n",
       "  3578.42,861.581 3615.86,860.489 3653.29,859.394 3690.72,858.297 3728.16,857.197 3765.59,856.095 3803.02,854.99 3840.46,853.883 3877.89,852.774 3915.32,851.662 \n",
       "  3952.76,850.547 \n",
       "  \"/>\n",
       "<path clip-path=\"url(#clip630)\" d=\"\n",
       "M3232 356.972 L3827.98 356.972 L3827.98 107.492 L3232 107.492  Z\n",
       "  \" fill=\"#ffffff\" fill-rule=\"evenodd\" fill-opacity=\"1\"/>\n",
       "<polyline clip-path=\"url(#clip630)\" style=\"stroke:#000000; stroke-width:4; stroke-opacity:1; fill:none\" points=\"\n",
       "  3232,356.972 3827.98,356.972 3827.98,107.492 3232,107.492 3232,356.972 \n",
       "  \"/>\n",
       "<polyline clip-path=\"url(#clip630)\" style=\"stroke:#009af9; stroke-width:5.5; stroke-opacity:1; fill:none\" points=\"\n",
       "  3273.59,190.652 3523.15,190.652 \n",
       "  \"/>\n",
       "<path clip-path=\"url(#clip630)\" d=\"M 0 0 M3564.74 166.892 L3574.32 166.892 L3586.45 199.23 L3598.64 166.892 L3608.22 166.892 L3608.22 214.412 L3601.95 214.412 L3601.95 172.685 L3589.69 205.277 L3583.23 205.277 L3570.98 172.685 L3570.98 214.412 L3564.74 214.412 L3564.74 166.892 Z\" fill=\"#000000\" fill-rule=\"evenodd\" fill-opacity=\"1\" /><path clip-path=\"url(#clip630)\" d=\"M 0 0 M3630.56 196.492 Q3623.46 196.492 3620.73 198.116 Q3617.99 199.739 3617.99 203.654 Q3617.99 206.773 3620.03 208.619 Q3622.09 210.433 3625.63 210.433 Q3630.5 210.433 3633.43 206.996 Q3636.39 203.526 3636.39 197.797 L3636.39 196.492 L3630.56 196.492 M3642.24 194.073 L3642.24 214.412 L3636.39 214.412 L3636.39 209.001 Q3634.38 212.247 3631.39 213.807 Q3628.4 215.335 3624.07 215.335 Q3618.59 215.335 3615.35 212.279 Q3612.13 209.192 3612.13 204.036 Q3612.13 198.02 3616.14 194.965 Q3620.19 191.909 3628.17 191.909 L3636.39 191.909 L3636.39 191.336 Q3636.39 187.294 3633.71 185.098 Q3631.07 182.87 3626.26 182.87 Q3623.21 182.87 3620.31 183.602 Q3617.42 184.334 3614.74 185.798 L3614.74 180.387 Q3617.96 179.146 3620.98 178.541 Q3624 177.904 3626.87 177.904 Q3634.6 177.904 3638.42 181.915 Q3642.24 185.925 3642.24 194.073 Z\" fill=\"#000000\" fill-rule=\"evenodd\" fill-opacity=\"1\" /><path clip-path=\"url(#clip630)\" d=\"M 0 0 M3654.18 168.642 L3654.18 178.764 L3666.24 178.764 L3666.24 183.315 L3654.18 183.315 L3654.18 202.667 Q3654.18 207.028 3655.36 208.269 Q3656.57 209.51 3660.23 209.51 L3666.24 209.51 L3666.24 214.412 L3660.23 214.412 Q3653.45 214.412 3650.87 211.897 Q3648.29 209.351 3648.29 202.667 L3648.29 183.315 L3643.99 183.315 L3643.99 178.764 L3648.29 178.764 L3648.29 168.642 L3654.18 168.642 Z\" fill=\"#000000\" fill-rule=\"evenodd\" fill-opacity=\"1\" /><path clip-path=\"url(#clip630)\" d=\"M 0 0 M3702.02 192.896 L3702.02 214.412 L3696.16 214.412 L3696.16 193.087 Q3696.16 188.026 3694.19 185.512 Q3692.21 182.997 3688.27 182.997 Q3683.52 182.997 3680.79 186.021 Q3678.05 189.044 3678.05 194.264 L3678.05 214.412 L3672.16 214.412 L3672.16 164.887 L3678.05 164.887 L3678.05 184.302 Q3680.15 181.087 3682.98 179.496 Q3685.85 177.904 3689.57 177.904 Q3695.71 177.904 3698.87 181.724 Q3702.02 185.512 3702.02 192.896 Z\" fill=\"#000000\" fill-rule=\"evenodd\" fill-opacity=\"1\" /><path clip-path=\"url(#clip630)\" d=\"M 0 0 M3708.16 178.764 L3714.02 178.764 L3714.02 214.412 L3708.16 214.412 L3708.16 178.764 M3708.16 164.887 L3714.02 164.887 L3714.02 172.303 L3708.16 172.303 L3708.16 164.887 Z\" fill=\"#000000\" fill-rule=\"evenodd\" fill-opacity=\"1\" /><path clip-path=\"url(#clip630)\" d=\"M 0 0 M3742.88 179.814 L3742.88 185.352 Q3740.4 184.079 3737.73 183.443 Q3735.05 182.806 3732.19 182.806 Q3727.83 182.806 3725.63 184.143 Q3723.47 185.48 3723.47 188.153 Q3723.47 190.19 3725.03 191.368 Q3726.59 192.514 3731.3 193.564 L3733.3 194.01 Q3739.54 195.347 3742.15 197.797 Q3744.79 200.216 3744.79 204.577 Q3744.79 209.542 3740.85 212.438 Q3736.93 215.335 3730.06 215.335 Q3727.19 215.335 3724.07 214.762 Q3720.99 214.221 3717.55 213.107 L3717.55 207.059 Q3720.8 208.746 3723.95 209.606 Q3727.1 210.433 3730.18 210.433 Q3734.32 210.433 3736.55 209.033 Q3738.78 207.601 3738.78 205.022 Q3738.78 202.635 3737.15 201.362 Q3735.56 200.089 3730.12 198.911 L3728.08 198.434 Q3722.64 197.288 3720.22 194.933 Q3717.8 192.546 3717.8 188.408 Q3717.8 183.379 3721.37 180.642 Q3724.93 177.904 3731.49 177.904 Q3734.74 177.904 3737.6 178.382 Q3740.47 178.859 3742.88 179.814 Z\" fill=\"#000000\" fill-rule=\"evenodd\" fill-opacity=\"1\" /><polyline clip-path=\"url(#clip630)\" style=\"stroke:#e26f46; stroke-width:5.5; stroke-opacity:1; fill:none\" points=\"\n",
       "  3273.59,273.812 3523.15,273.812 \n",
       "  \"/>\n",
       "<path clip-path=\"url(#clip630)\" d=\"M 0 0 M3564.74 250.052 L3571.17 250.052 L3571.17 292.161 L3594.31 292.161 L3594.31 297.572 L3564.74 297.572 L3564.74 250.052 Z\" fill=\"#000000\" fill-rule=\"evenodd\" fill-opacity=\"1\" /><path clip-path=\"url(#clip630)\" d=\"M 0 0 M3600.45 261.924 L3606.31 261.924 L3606.31 297.572 L3600.45 297.572 L3600.45 261.924 M3600.45 248.047 L3606.31 248.047 L3606.31 255.463 L3600.45 255.463 L3600.45 248.047 Z\" fill=\"#000000\" fill-rule=\"evenodd\" fill-opacity=\"1\" /><path clip-path=\"url(#clip630)\" d=\"M 0 0 M3642.08 276.056 L3642.08 297.572 L3636.23 297.572 L3636.23 276.247 Q3636.23 271.186 3634.25 268.672 Q3632.28 266.157 3628.33 266.157 Q3623.59 266.157 3620.85 269.181 Q3618.12 272.204 3618.12 277.424 L3618.12 297.572 L3612.23 297.572 L3612.23 261.924 L3618.12 261.924 L3618.12 267.462 Q3620.22 264.247 3623.05 262.656 Q3625.91 261.064 3629.64 261.064 Q3635.78 261.064 3638.93 264.884 Q3642.08 268.672 3642.08 276.056 Z\" fill=\"#000000\" fill-rule=\"evenodd\" fill-opacity=\"1\" /><path clip-path=\"url(#clip630)\" d=\"M 0 0 M3648 248.047 L3653.89 248.047 L3653.89 277.297 L3671.37 261.924 L3678.85 261.924 L3659.94 278.602 L3679.64 297.572 L3672 297.572 L3653.89 280.162 L3653.89 297.572 L3648 297.572 L3648 248.047 Z\" fill=\"#000000\" fill-rule=\"evenodd\" fill-opacity=\"1\" /></svg>\n"
      ]
     },
     "execution_count": 2,
     "metadata": {},
     "output_type": "execute_result"
    }
   ],
   "source": [
    "using Plots, LaTeXStrings\n",
    "default(size=(1000,500), legendfontsize=11)\n",
    "\n",
    "n=10\n",
    "C=1000\n",
    "d=0.1\n",
    "\n",
    "p=(0:0.001:0.1)\n",
    "\n",
    "plot(p,1/d*sqrt.(1.5./p),xlim=(0,0.1),ylim=(0,200), label=\"Mathis\", xlabel=L\"p\", ylabel=L\"x\")\n",
    "plot!(p,C/n./(1 .-p), label=\"Link\")"
   ]
  },
  {
   "cell_type": "markdown",
   "metadata": {
    "slideshow": {
     "slide_type": "slide"
    }
   },
   "source": [
    "### Solución\n",
    "\n",
    "Resolviendo el sistema de ecuaciones queda:\n",
    "\n",
    "$$\\frac{1}{d}\\sqrt{\\frac{1.5}{p}} = \\frac{C}{N(1-p)}.$$\n",
    "\n",
    "De donde $p\\approx 0.015$ y $x = 101.5$, y el reparto es equitativo."
   ]
  },
  {
   "cell_type": "markdown",
   "metadata": {
    "slideshow": {
     "slide_type": "slide"
    }
   },
   "source": [
    "### Conclusiones\n",
    "\n",
    "El modelo de Mathis permite analizar situaciones más generales de compartición de ancho de banda, generalizando la idea anterior. Exploraremos estas ideas en el próximo cuaderno."
   ]
  }
 ],
 "metadata": {
  "@webio": {
   "lastCommId": null,
   "lastKernelId": null
  },
  "celltoolbar": "Slideshow",
  "kernelspec": {
   "display_name": "Julia 1.5.3",
   "language": "julia",
   "name": "julia-1.5"
  },
  "language_info": {
   "file_extension": ".jl",
   "mimetype": "application/julia",
   "name": "julia",
   "version": "1.5.3"
  }
 },
 "nbformat": 4,
 "nbformat_minor": 4
}
