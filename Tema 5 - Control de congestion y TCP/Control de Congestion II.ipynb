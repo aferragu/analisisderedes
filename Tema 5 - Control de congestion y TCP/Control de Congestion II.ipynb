{
 "cells": [
  {
   "cell_type": "markdown",
   "metadata": {
    "slideshow": {
     "slide_type": "slide"
    }
   },
   "source": [
    "# Curso Análisis de Redes\n",
    "\n",
    "## Cátedra Teoría de las Telecomunicaciones - Universidad ORT Uruguay\n",
    "\n",
    "\n",
    "\n",
    "# Control de congestión en redes (2a. parte)"
   ]
  },
  {
   "cell_type": "code",
   "execution_count": 1,
   "metadata": {
    "slideshow": {
     "slide_type": "skip"
    }
   },
   "outputs": [],
   "source": [
    "#using Pkg;Pkg.instantiate(); Pkg.update()"
   ]
  },
  {
   "cell_type": "markdown",
   "metadata": {
    "slideshow": {
     "slide_type": "slide"
    }
   },
   "source": [
    "## Análisis de TCP/Reno en fase Congestion Avoidance\n",
    "\n",
    "Como vimos en el cuaderno anterior, al llegar a régimen TCP/Reno opera mayormente en la fase Congestion Avoidance, donde se da la mayor parte de transferencia de paquetes.\n",
    "\n",
    "Queremos analizar entonces el comportamiento de TCP/Reno en esta fase.\n",
    "\n",
    "Comencemos por analizar una fuente en un enlace cuello de botella."
   ]
  },
  {
   "cell_type": "markdown",
   "metadata": {
    "slideshow": {
     "slide_type": "slide"
    }
   },
   "source": [
    "### Comportamiento de un enlace cuello de botella\n",
    "\n",
    "Recordemos el comportamiento respecto a la ventana de un enlace cuello de botella:\n",
    "\n",
    "![Bottleneck](../images/ventana_bottleneck.png)"
   ]
  },
  {
   "cell_type": "markdown",
   "metadata": {
    "slideshow": {
     "slide_type": "slide"
    }
   },
   "source": [
    "### Evolución de la ventana, caso buffer pequeño.\n",
    "\n",
    "Consideremos primero el caso en que el **buffer es pequeño** respecto a la ventana óptima, TCP Reno operará de la siguiente forma:\n",
    "\n",
    "![TCP Reno low buffer](../images/tcp_reno_a.png)"
   ]
  },
  {
   "cell_type": "markdown",
   "metadata": {
    "slideshow": {
     "slide_type": "slide"
    }
   },
   "source": [
    "### Evolución de los parámetros de desempeño\n",
    "\n",
    "Combinando la evolución de la ventana con el comportamiento del enlace obtenemos:\n",
    "\n",
    "![TCP Reno low buffer b](../images/tcp_reno_b.png)\n",
    "\n",
    "En particular, se observa que TCP no aprovecha al máximo la capacidad en este caso."
   ]
  },
  {
   "cell_type": "markdown",
   "metadata": {
    "slideshow": {
     "slide_type": "slide"
    }
   },
   "source": [
    "### Evolución de la ventana, caso buffer grande\n",
    "\n",
    "Supongamos ahora que el buffer es suficientemente grande, obtenemos la siguiente evolución:\n",
    "\n",
    "![TCP Reno high buffer](../images/tcp_reno_c.png)"
   ]
  },
  {
   "cell_type": "markdown",
   "metadata": {
    "slideshow": {
     "slide_type": "slide"
    }
   },
   "source": [
    "### Evolución de los parámetros de desempeño\n",
    "\n",
    "Combinando la evolución de la ventana con el comportamiento del enlace obtenemos:\n",
    "\n",
    "![TCP Reno high buffer d](../images/tcp_reno_d.png)\n",
    "\n",
    "En este caso sí se aprovecha la capacidad al máximo."
   ]
  },
  {
   "cell_type": "markdown",
   "metadata": {
    "slideshow": {
     "slide_type": "slide"
    }
   },
   "source": [
    "### Conclusión\n",
    "\n",
    "Debido a la forma en que oscila la ventana de TCP/Reno, es necesario un buffer suficientemente grande para mantener la oscilación dentro del buffer y no perder velocidad.\n",
    "\n",
    "**Buffer óptimo:** $$B=W^* =Cd.$$\n",
    "\n",
    "De modo que al bajar a la mitad siempre quede encima de $W^*$.\n",
    "\n",
    "**Problema:** Esto llevó a un fenómeno de \"buffer-bloating\" debido a que la memoria en buffer pasa a ser del mismo tamaño que la \"memoria\" de la red, con impacto en la latencia de otros tipos de tráfico. En realidad no es claro que el tamaño del buffer deba ser del mismo tamaño que $Cd$ si hay *múltiples conexiones* y  *no todas las conexiones pierden al mismo tiempo*."
   ]
  },
  {
   "cell_type": "markdown",
   "metadata": {
    "slideshow": {
     "slide_type": "slide"
    }
   },
   "source": [
    "## Modelo en feedback de TCP/Reno\n",
    "\n",
    "El protocolo de Control de Congestión de TCP/Reno está basado en las *pérdidas* como medida de feedback de la congestión de la red.\n",
    "\n",
    "Resulta entonces interesante analizar la relación entre el throughput alcanzado y la probabilidad de pérdida de paquetes que se logra.\n",
    "\n",
    "El primer modelo en este sentido es propuesto hacia 1997 por Matt Mathis.\n",
    "\n",
    "**Hipótesis:**\n",
    "\n",
    " * Condiciones estáticas de la red (congestión, retardo)\n",
    " * Pérdidas solo por congestión cuando satura.\n",
    " * El protocolo se mantiene en fase CA."
   ]
  },
  {
   "cell_type": "markdown",
   "metadata": {
    "slideshow": {
     "slide_type": "slide"
    }
   },
   "source": [
    "### Diagrama\n",
    "\n",
    "![TCP/Reno](../images/modelo_mathis.png)"
   ]
  },
  {
   "cell_type": "markdown",
   "metadata": {
    "slideshow": {
     "slide_type": "slide"
    }
   },
   "source": [
    "### Análisis\n",
    "\n",
    "Del diagrama anterior, vemos que TCP/Reno opera en régimen entre dos valores de ventana podemos deducir que:\n",
    "\n",
    "* En régimen, estando en fase CA, a TCP/Reno le lleva $W_{max}/2$ subidas de ventana pasar de la ventana mínima a la máxima.\n",
    "\n",
    "* Cada subida de ventana demora un $RTT$, por lo que cada ciclo dura $\\Delta t = W_{max}/2 \\times RTT$.\n",
    "\n",
    "* En cada ciclo se envían:\n",
    "\n",
    "$$\\# paq = \\frac{\\frac{W_{max}}{2} + W_{max}}{2} \\times \\frac{W_{max}}{2} = \\bar{W} \\times \\frac{W_{max}}{2} = \\frac{2}{3}\\bar{W}^2$$\n",
    "\n",
    "paquetes.\n",
    "\n",
    "* En cada ciclo se pierde un paquete al exceder la ventana."
   ]
  },
  {
   "cell_type": "markdown",
   "metadata": {
    "slideshow": {
     "slide_type": "slide"
    }
   },
   "source": [
    "### Fórmula de Mathis\n",
    "\n",
    "Podemos calcular entonces la probabilidad de pérdida observada por el flujo:\n",
    "\n",
    "$$p = \\frac{1}{\\#paq} = \\frac{3}{2 \\bar{W}^2}$$\n",
    "\n",
    "O bien la ventana media en función de las pérdidas:\n",
    "\n",
    "$$\\bar{W} = \\sqrt{\\frac{3}{2p}}$$\n",
    "\n",
    "Por último la velocidad de transmisión es:\n",
    "\n",
    "$$x=\\frac{\\#paq}{\\Delta t} = \\frac{\\bar{W}\\times W_{max}/2}{W_{max}/2 \\times RTT} = \\frac{\\bar{W}}{RTT}$$\n",
    "\n",
    "> Resultando la **Fórmula de Mathis:**\n",
    ">\n",
    "> $$x= \\frac{1}{RTT} \\sqrt{\\frac{3}{2p}}.$$"
   ]
  },
  {
   "cell_type": "markdown",
   "metadata": {
    "slideshow": {
     "slide_type": "slide"
    }
   },
   "source": [
    "### Ejemplo\n",
    "\n",
    "Retomemos el ejemplo del cuaderno anterior, donde un TCP/Reno opera en un enlace de $C=100$ paq/s y $d=0.1$s, con un buffer de $5$ paquetes.\n",
    "\n",
    "En ese caso, en régimen, TCP/Reno oscila entre 8 y 16 paquetes, con una ventana media de $\\bar{W}=12$ y una probabilidad de pérdida de:\n",
    "\n",
    "$$p=\\frac{1}{\\# paq} = \\frac{1}{108}.$$\n",
    "\n",
    "Aplicando la fórmula de Mathis para la ventana media queda:\n",
    "\n",
    "$$\\bar{W} = \\sqrt{\\frac{3}{2p}} = \\sqrt{162} = 12,72$$\n",
    "\n",
    "por lo que la aproximación es razonable."
   ]
  },
  {
   "cell_type": "markdown",
   "metadata": {
    "slideshow": {
     "slide_type": "slide"
    }
   },
   "source": [
    "## Modelo de TCP/Reno compartiendo un enlace cuello de botella.\n",
    "\n",
    "Apliquemos el modelo anterior para analizar el comportamiento de un cuello de botella con *múltiples fuentes*.\n",
    "\n",
    "* Suponemos $N$ fuentes similares compartiendo un enlace cuello de botella.\n",
    "\n",
    "* Las $N$ fuentes usan TCP/Reno y tienen el mismo RTT.\n",
    "\n",
    "![Single link many sources](../images/single_link_b.png)\n",
    "\n"
   ]
  },
  {
   "cell_type": "markdown",
   "metadata": {
    "slideshow": {
     "slide_type": "slide"
    }
   },
   "source": [
    "### Modelo\n",
    "\n",
    "* Suponemos que cada fuente TCP/Reno verifica la fórmula de Mathis:\n",
    "\n",
    "$$x_i = \\frac{1}{RTT} \\sqrt{\\frac{1.5}{p}}.$$\n",
    "\n",
    "* Los flujos se combinan en el enlace, produciendo una tasa de arribos:\n",
    "\n",
    "$$y = \\sum_{i=1}^N x_i.$$\n",
    "\n",
    "* El enlace tiene capacidad $C$, por lo que, de todo lo que le llega, descarta el sobrante. Más exactamente:\n",
    "\n",
    "$$p = \\frac{(y-C)^+}{y} = \\left(1-\\frac{C}{y}\\right)^+ = \\max\\{1-C/y,0\\}.$$"
   ]
  },
  {
   "cell_type": "markdown",
   "metadata": {
    "slideshow": {
     "slide_type": "slide"
    }
   },
   "source": [
    "### Solución\n",
    "\n",
    "Por lo tanto, despreciando el retardo de cola ($RTT=d$) el sistema debe operar en el punto:\n",
    "\n",
    "$$\\left\\{\\begin{align}\n",
    "x &= \\frac{1}{d} \\sqrt{\\frac{1.5}{p}}, \\\\\n",
    "p &= 1-\\frac{C}{Nx}.\n",
    "\\end{align}\\right.$$\n",
    "\n",
    "\n",
    "### Ejemplo\n",
    "\n",
    "Tomemos $N=10$, $C=1000$ paq/s y $d=100$ ms. y resolvamos numéricamente."
   ]
  },
  {
   "cell_type": "code",
   "execution_count": 2,
   "metadata": {
    "slideshow": {
     "slide_type": "slide"
    }
   },
   "outputs": [
    {
     "data": {
      "image/png": "[encoded data removed]",
      "image/svg+xml": [
       "<?xml version=\"1.0\" encoding=\"utf-8\"?>\n",
       "<svg xmlns=\"http://www.w3.org/2000/svg\" xmlns:xlink=\"http://www.w3.org/1999/xlink\" width=\"900\" height=\"400\" viewBox=\"0 0 3600 1600\">\n",
       "<defs>\n",
       "  <clipPath id=\"clip070\">\n",
       "    <rect x=\"0\" y=\"0\" width=\"3600\" height=\"1600\"/>\n",
       "  </clipPath>\n",
       "</defs>\n",
       "<path clip-path=\"url(#clip070)\" d=\"\n",
       "M0 1600 L3600 1600 L3600 0 L0 0  Z\n",
       "  \" fill=\"#ffffff\" fill-rule=\"evenodd\" fill-opacity=\"1\"/>\n",
       "<defs>\n",
       "  <clipPath id=\"clip071\">\n",
       "    <rect x=\"720\" y=\"0\" width=\"2521\" height=\"1600\"/>\n",
       "  </clipPath>\n",
       "</defs>\n",
       "<path clip-path=\"url(#clip070)\" d=\"\n",
       "M230.285 1450.54 L3552.76 1450.54 L3552.76 47.2441 L230.285 47.2441  Z\n",
       "  \" fill=\"#ffffff\" fill-rule=\"evenodd\" fill-opacity=\"1\"/>\n",
       "<defs>\n",
       "  <clipPath id=\"clip072\">\n",
       "    <rect x=\"230\" y=\"47\" width=\"3323\" height=\"1404\"/>\n",
       "  </clipPath>\n",
       "</defs>\n",
       "<polyline clip-path=\"url(#clip072)\" style=\"stroke:#000000; stroke-linecap:butt; stroke-linejoin:round; stroke-width:2; stroke-opacity:0.1; fill:none\" points=\"\n",
       "  230.285,1450.54 230.285,47.2441 \n",
       "  \"/>\n",
       "<polyline clip-path=\"url(#clip072)\" style=\"stroke:#000000; stroke-linecap:butt; stroke-linejoin:round; stroke-width:2; stroke-opacity:0.1; fill:none\" points=\"\n",
       "  894.78,1450.54 894.78,47.2441 \n",
       "  \"/>\n",
       "<polyline clip-path=\"url(#clip072)\" style=\"stroke:#000000; stroke-linecap:butt; stroke-linejoin:round; stroke-width:2; stroke-opacity:0.1; fill:none\" points=\"\n",
       "  1559.27,1450.54 1559.27,47.2441 \n",
       "  \"/>\n",
       "<polyline clip-path=\"url(#clip072)\" style=\"stroke:#000000; stroke-linecap:butt; stroke-linejoin:round; stroke-width:2; stroke-opacity:0.1; fill:none\" points=\"\n",
       "  2223.77,1450.54 2223.77,47.2441 \n",
       "  \"/>\n",
       "<polyline clip-path=\"url(#clip072)\" style=\"stroke:#000000; stroke-linecap:butt; stroke-linejoin:round; stroke-width:2; stroke-opacity:0.1; fill:none\" points=\"\n",
       "  2888.26,1450.54 2888.26,47.2441 \n",
       "  \"/>\n",
       "<polyline clip-path=\"url(#clip072)\" style=\"stroke:#000000; stroke-linecap:butt; stroke-linejoin:round; stroke-width:2; stroke-opacity:0.1; fill:none\" points=\"\n",
       "  3552.76,1450.54 3552.76,47.2441 \n",
       "  \"/>\n",
       "<polyline clip-path=\"url(#clip070)\" style=\"stroke:#000000; stroke-linecap:butt; stroke-linejoin:round; stroke-width:4; stroke-opacity:1; fill:none\" points=\"\n",
       "  230.285,1450.54 3552.76,1450.54 \n",
       "  \"/>\n",
       "<polyline clip-path=\"url(#clip070)\" style=\"stroke:#000000; stroke-linecap:butt; stroke-linejoin:round; stroke-width:4; stroke-opacity:1; fill:none\" points=\"\n",
       "  230.285,1450.54 230.285,1431.64 \n",
       "  \"/>\n",
       "<polyline clip-path=\"url(#clip070)\" style=\"stroke:#000000; stroke-linecap:butt; stroke-linejoin:round; stroke-width:4; stroke-opacity:1; fill:none\" points=\"\n",
       "  894.78,1450.54 894.78,1431.64 \n",
       "  \"/>\n",
       "<polyline clip-path=\"url(#clip070)\" style=\"stroke:#000000; stroke-linecap:butt; stroke-linejoin:round; stroke-width:4; stroke-opacity:1; fill:none\" points=\"\n",
       "  1559.27,1450.54 1559.27,1431.64 \n",
       "  \"/>\n",
       "<polyline clip-path=\"url(#clip070)\" style=\"stroke:#000000; stroke-linecap:butt; stroke-linejoin:round; stroke-width:4; stroke-opacity:1; fill:none\" points=\"\n",
       "  2223.77,1450.54 2223.77,1431.64 \n",
       "  \"/>\n",
       "<polyline clip-path=\"url(#clip070)\" style=\"stroke:#000000; stroke-linecap:butt; stroke-linejoin:round; stroke-width:4; stroke-opacity:1; fill:none\" points=\"\n",
       "  2888.26,1450.54 2888.26,1431.64 \n",
       "  \"/>\n",
       "<polyline clip-path=\"url(#clip070)\" style=\"stroke:#000000; stroke-linecap:butt; stroke-linejoin:round; stroke-width:4; stroke-opacity:1; fill:none\" points=\"\n",
       "  3552.76,1450.54 3552.76,1431.64 \n",
       "  \"/>\n",
       "<path clip-path=\"url(#clip070)\" d=\"M192.589 1491.06 Q188.978 1491.06 187.149 1494.62 Q185.344 1498.16 185.344 1505.29 Q185.344 1512.4 187.149 1515.97 Q188.978 1519.51 192.589 1519.51 Q196.223 1519.51 198.029 1515.97 Q199.857 1512.4 199.857 1505.29 Q199.857 1498.16 198.029 1494.62 Q196.223 1491.06 192.589 1491.06 M192.589 1487.35 Q198.399 1487.35 201.455 1491.96 Q204.533 1496.54 204.533 1505.29 Q204.533 1514.02 201.455 1518.63 Q198.399 1523.21 192.589 1523.21 Q186.779 1523.21 183.7 1518.63 Q180.645 1514.02 180.645 1505.29 Q180.645 1496.54 183.7 1491.96 Q186.779 1487.35 192.589 1487.35 Z\" fill=\"#000000\" fill-rule=\"evenodd\" fill-opacity=\"1\" /><path clip-path=\"url(#clip070)\" d=\"M212.751 1516.66 L217.635 1516.66 L217.635 1522.54 L212.751 1522.54 L212.751 1516.66 Z\" fill=\"#000000\" fill-rule=\"evenodd\" fill-opacity=\"1\" /><path clip-path=\"url(#clip070)\" d=\"M237.82 1491.06 Q234.209 1491.06 232.38 1494.62 Q230.575 1498.16 230.575 1505.29 Q230.575 1512.4 232.38 1515.97 Q234.209 1519.51 237.82 1519.51 Q241.454 1519.51 243.26 1515.97 Q245.089 1512.4 245.089 1505.29 Q245.089 1498.16 243.26 1494.62 Q241.454 1491.06 237.82 1491.06 M237.82 1487.35 Q243.63 1487.35 246.686 1491.96 Q249.765 1496.54 249.765 1505.29 Q249.765 1514.02 246.686 1518.63 Q243.63 1523.21 237.82 1523.21 Q232.01 1523.21 228.931 1518.63 Q225.876 1514.02 225.876 1505.29 Q225.876 1496.54 228.931 1491.96 Q232.01 1487.35 237.82 1487.35 Z\" fill=\"#000000\" fill-rule=\"evenodd\" fill-opacity=\"1\" /><path clip-path=\"url(#clip070)\" d=\"M267.982 1491.06 Q264.371 1491.06 262.542 1494.62 Q260.737 1498.16 260.737 1505.29 Q260.737 1512.4 262.542 1515.97 Q264.371 1519.51 267.982 1519.51 Q271.616 1519.51 273.422 1515.97 Q275.25 1512.4 275.25 1505.29 Q275.25 1498.16 273.422 1494.62 Q271.616 1491.06 267.982 1491.06 M267.982 1487.35 Q273.792 1487.35 276.848 1491.96 Q279.926 1496.54 279.926 1505.29 Q279.926 1514.02 276.848 1518.63 Q273.792 1523.21 267.982 1523.21 Q262.172 1523.21 259.093 1518.63 Q256.038 1514.02 256.038 1505.29 Q256.038 1496.54 259.093 1491.96 Q262.172 1487.35 267.982 1487.35 Z\" fill=\"#000000\" fill-rule=\"evenodd\" fill-opacity=\"1\" /><path clip-path=\"url(#clip070)\" d=\"M857.882 1491.06 Q854.27 1491.06 852.442 1494.62 Q850.636 1498.16 850.636 1505.29 Q850.636 1512.4 852.442 1515.97 Q854.27 1519.51 857.882 1519.51 Q861.516 1519.51 863.321 1515.97 Q865.15 1512.4 865.15 1505.29 Q865.15 1498.16 863.321 1494.62 Q861.516 1491.06 857.882 1491.06 M857.882 1487.35 Q863.692 1487.35 866.747 1491.96 Q869.826 1496.54 869.826 1505.29 Q869.826 1514.02 866.747 1518.63 Q863.692 1523.21 857.882 1523.21 Q852.071 1523.21 848.993 1518.63 Q845.937 1514.02 845.937 1505.29 Q845.937 1496.54 848.993 1491.96 Q852.071 1487.35 857.882 1487.35 Z\" fill=\"#000000\" fill-rule=\"evenodd\" fill-opacity=\"1\" /><path clip-path=\"url(#clip070)\" d=\"M878.044 1516.66 L882.928 1516.66 L882.928 1522.54 L878.044 1522.54 L878.044 1516.66 Z\" fill=\"#000000\" fill-rule=\"evenodd\" fill-opacity=\"1\" /><path clip-path=\"url(#clip070)\" d=\"M903.113 1491.06 Q899.502 1491.06 897.673 1494.62 Q895.867 1498.16 895.867 1505.29 Q895.867 1512.4 897.673 1515.97 Q899.502 1519.51 903.113 1519.51 Q906.747 1519.51 908.553 1515.97 Q910.381 1512.4 910.381 1505.29 Q910.381 1498.16 908.553 1494.62 Q906.747 1491.06 903.113 1491.06 M903.113 1487.35 Q908.923 1487.35 911.979 1491.96 Q915.057 1496.54 915.057 1505.29 Q915.057 1514.02 911.979 1518.63 Q908.923 1523.21 903.113 1523.21 Q897.303 1523.21 894.224 1518.63 Q891.168 1514.02 891.168 1505.29 Q891.168 1496.54 894.224 1491.96 Q897.303 1487.35 903.113 1487.35 Z\" fill=\"#000000\" fill-rule=\"evenodd\" fill-opacity=\"1\" /><path clip-path=\"url(#clip070)\" d=\"M927.303 1518.6 L943.622 1518.6 L943.622 1522.54 L921.678 1522.54 L921.678 1518.6 Q924.34 1515.85 928.923 1511.22 Q933.529 1506.57 934.71 1505.23 Q936.955 1502.7 937.835 1500.97 Q938.738 1499.21 938.738 1497.52 Q938.738 1494.76 936.793 1493.03 Q934.872 1491.29 931.77 1491.29 Q929.571 1491.29 927.117 1492.05 Q924.687 1492.82 921.909 1494.37 L921.909 1489.65 Q924.733 1488.51 927.187 1487.93 Q929.64 1487.35 931.677 1487.35 Q937.048 1487.35 940.242 1490.04 Q943.437 1492.73 943.437 1497.22 Q943.437 1499.35 942.627 1501.27 Q941.839 1503.16 939.733 1505.76 Q939.154 1506.43 936.052 1509.65 Q932.951 1512.84 927.303 1518.6 Z\" fill=\"#000000\" fill-rule=\"evenodd\" fill-opacity=\"1\" /><path clip-path=\"url(#clip070)\" d=\"M1521.33 1491.06 Q1517.72 1491.06 1515.89 1494.62 Q1514.09 1498.16 1514.09 1505.29 Q1514.09 1512.4 1515.89 1515.97 Q1517.72 1519.51 1521.33 1519.51 Q1524.97 1519.51 1526.77 1515.97 Q1528.6 1512.4 1528.6 1505.29 Q1528.6 1498.16 1526.77 1494.62 Q1524.97 1491.06 1521.33 1491.06 M1521.33 1487.35 Q1527.14 1487.35 1530.2 1491.96 Q1533.28 1496.54 1533.28 1505.29 Q1533.28 1514.02 1530.2 1518.63 Q1527.14 1523.21 1521.33 1523.21 Q1515.52 1523.21 1512.45 1518.63 Q1509.39 1514.02 1509.39 1505.29 Q1509.39 1496.54 1512.45 1491.96 Q1515.52 1487.35 1521.33 1487.35 Z\" fill=\"#000000\" fill-rule=\"evenodd\" fill-opacity=\"1\" /><path clip-path=\"url(#clip070)\" d=\"M1541.5 1516.66 L1546.38 1516.66 L1546.38 1522.54 L1541.5 1522.54 L1541.5 1516.66 Z\" fill=\"#000000\" fill-rule=\"evenodd\" fill-opacity=\"1\" /><path clip-path=\"url(#clip070)\" d=\"M1566.57 1491.06 Q1562.95 1491.06 1561.13 1494.62 Q1559.32 1498.16 1559.32 1505.29 Q1559.32 1512.4 1561.13 1515.97 Q1562.95 1519.51 1566.57 1519.51 Q1570.2 1519.51 1572.01 1515.97 Q1573.83 1512.4 1573.83 1505.29 Q1573.83 1498.16 1572.01 1494.62 Q1570.2 1491.06 1566.57 1491.06 M1566.57 1487.35 Q1572.38 1487.35 1575.43 1491.96 Q1578.51 1496.54 1578.51 1505.29 Q1578.51 1514.02 1575.43 1518.63 Q1572.38 1523.21 1566.57 1523.21 Q1560.76 1523.21 1557.68 1518.63 Q1554.62 1514.02 1554.62 1505.29 Q1554.62 1496.54 1557.68 1491.96 Q1560.76 1487.35 1566.57 1487.35 Z\" fill=\"#000000\" fill-rule=\"evenodd\" fill-opacity=\"1\" /><path clip-path=\"url(#clip070)\" d=\"M1599.57 1492.05 L1587.77 1510.5 L1599.57 1510.5 L1599.57 1492.05 M1598.35 1487.98 L1604.23 1487.98 L1604.23 1510.5 L1609.16 1510.5 L1609.16 1514.39 L1604.23 1514.39 L1604.23 1522.54 L1599.57 1522.54 L1599.57 1514.39 L1583.97 1514.39 L1583.97 1509.88 L1598.35 1487.98 Z\" fill=\"#000000\" fill-rule=\"evenodd\" fill-opacity=\"1\" /><path clip-path=\"url(#clip070)\" d=\"M2185.99 1491.06 Q2182.38 1491.06 2180.55 1494.62 Q2178.74 1498.16 2178.74 1505.29 Q2178.74 1512.4 2180.55 1515.97 Q2182.38 1519.51 2185.99 1519.51 Q2189.62 1519.51 2191.43 1515.97 Q2193.26 1512.4 2193.26 1505.29 Q2193.26 1498.16 2191.43 1494.62 Q2189.62 1491.06 2185.99 1491.06 M2185.99 1487.35 Q2191.8 1487.35 2194.86 1491.96 Q2197.93 1496.54 2197.93 1505.29 Q2197.93 1514.02 2194.86 1518.63 Q2191.8 1523.21 2185.99 1523.21 Q2180.18 1523.21 2177.1 1518.63 Q2174.05 1514.02 2174.05 1505.29 Q2174.05 1496.54 2177.1 1491.96 Q2180.18 1487.35 2185.99 1487.35 Z\" fill=\"#000000\" fill-rule=\"evenodd\" fill-opacity=\"1\" /><path clip-path=\"url(#clip070)\" d=\"M2206.15 1516.66 L2211.04 1516.66 L2211.04 1522.54 L2206.15 1522.54 L2206.15 1516.66 Z\" fill=\"#000000\" fill-rule=\"evenodd\" fill-opacity=\"1\" /><path clip-path=\"url(#clip070)\" d=\"M2231.22 1491.06 Q2227.61 1491.06 2225.78 1494.62 Q2223.98 1498.16 2223.98 1505.29 Q2223.98 1512.4 2225.78 1515.97 Q2227.61 1519.51 2231.22 1519.51 Q2234.86 1519.51 2236.66 1515.97 Q2238.49 1512.4 2238.49 1505.29 Q2238.49 1498.16 2236.66 1494.62 Q2234.86 1491.06 2231.22 1491.06 M2231.22 1487.35 Q2237.03 1487.35 2240.09 1491.96 Q2243.17 1496.54 2243.17 1505.29 Q2243.17 1514.02 2240.09 1518.63 Q2237.03 1523.21 2231.22 1523.21 Q2225.41 1523.21 2222.33 1518.63 Q2219.28 1514.02 2219.28 1505.29 Q2219.28 1496.54 2222.33 1491.96 Q2225.41 1487.35 2231.22 1487.35 Z\" fill=\"#000000\" fill-rule=\"evenodd\" fill-opacity=\"1\" /><path clip-path=\"url(#clip070)\" d=\"M2261.96 1503.4 Q2258.81 1503.4 2256.96 1505.55 Q2255.13 1507.7 2255.13 1511.45 Q2255.13 1515.18 2256.96 1517.35 Q2258.81 1519.51 2261.96 1519.51 Q2265.11 1519.51 2266.94 1517.35 Q2268.79 1515.18 2268.79 1511.45 Q2268.79 1507.7 2266.94 1505.55 Q2265.11 1503.4 2261.96 1503.4 M2271.24 1488.74 L2271.24 1493 Q2269.49 1492.17 2267.68 1491.73 Q2265.9 1491.29 2264.14 1491.29 Q2259.51 1491.29 2257.05 1494.41 Q2254.62 1497.54 2254.28 1503.86 Q2255.64 1501.85 2257.7 1500.78 Q2259.76 1499.69 2262.24 1499.69 Q2267.45 1499.69 2270.46 1502.86 Q2273.49 1506.01 2273.49 1511.45 Q2273.49 1516.78 2270.34 1519.99 Q2267.19 1523.21 2261.96 1523.21 Q2255.97 1523.21 2252.8 1518.63 Q2249.62 1514.02 2249.62 1505.29 Q2249.62 1497.1 2253.51 1492.24 Q2257.4 1487.35 2263.95 1487.35 Q2265.71 1487.35 2267.49 1487.7 Q2269.3 1488.05 2271.24 1488.74 Z\" fill=\"#000000\" fill-rule=\"evenodd\" fill-opacity=\"1\" /><path clip-path=\"url(#clip070)\" d=\"M2850.61 1491.06 Q2847 1491.06 2845.17 1494.62 Q2843.37 1498.16 2843.37 1505.29 Q2843.37 1512.4 2845.17 1515.97 Q2847 1519.51 2850.61 1519.51 Q2854.25 1519.51 2856.05 1515.97 Q2857.88 1512.4 2857.88 1505.29 Q2857.88 1498.16 2856.05 1494.62 Q2854.25 1491.06 2850.61 1491.06 M2850.61 1487.35 Q2856.42 1487.35 2859.48 1491.96 Q2862.56 1496.54 2862.56 1505.29 Q2862.56 1514.02 2859.48 1518.63 Q2856.42 1523.21 2850.61 1523.21 Q2844.8 1523.21 2841.72 1518.63 Q2838.67 1514.02 2838.67 1505.29 Q2838.67 1496.54 2841.72 1491.96 Q2844.8 1487.35 2850.61 1487.35 Z\" fill=\"#000000\" fill-rule=\"evenodd\" fill-opacity=\"1\" /><path clip-path=\"url(#clip070)\" d=\"M2870.77 1516.66 L2875.66 1516.66 L2875.66 1522.54 L2870.77 1522.54 L2870.77 1516.66 Z\" fill=\"#000000\" fill-rule=\"evenodd\" fill-opacity=\"1\" /><path clip-path=\"url(#clip070)\" d=\"M2895.84 1491.06 Q2892.23 1491.06 2890.4 1494.62 Q2888.6 1498.16 2888.6 1505.29 Q2888.6 1512.4 2890.4 1515.97 Q2892.23 1519.51 2895.84 1519.51 Q2899.48 1519.51 2901.28 1515.97 Q2903.11 1512.4 2903.11 1505.29 Q2903.11 1498.16 2901.28 1494.62 Q2899.48 1491.06 2895.84 1491.06 M2895.84 1487.35 Q2901.65 1487.35 2904.71 1491.96 Q2907.79 1496.54 2907.79 1505.29 Q2907.79 1514.02 2904.71 1518.63 Q2901.65 1523.21 2895.84 1523.21 Q2890.03 1523.21 2886.95 1518.63 Q2883.9 1514.02 2883.9 1505.29 Q2883.9 1496.54 2886.95 1491.96 Q2890.03 1487.35 2895.84 1487.35 Z\" fill=\"#000000\" fill-rule=\"evenodd\" fill-opacity=\"1\" /><path clip-path=\"url(#clip070)\" d=\"M2926 1506.13 Q2922.67 1506.13 2920.75 1507.91 Q2918.85 1509.69 2918.85 1512.82 Q2918.85 1515.94 2920.75 1517.73 Q2922.67 1519.51 2926 1519.51 Q2929.34 1519.51 2931.26 1517.73 Q2933.18 1515.92 2933.18 1512.82 Q2933.18 1509.69 2931.26 1507.91 Q2929.36 1506.13 2926 1506.13 M2921.33 1504.14 Q2918.32 1503.4 2916.63 1501.34 Q2914.96 1499.28 2914.96 1496.31 Q2914.96 1492.17 2917.9 1489.76 Q2920.87 1487.35 2926 1487.35 Q2931.17 1487.35 2934.11 1489.76 Q2937.05 1492.17 2937.05 1496.31 Q2937.05 1499.28 2935.36 1501.34 Q2933.69 1503.4 2930.7 1504.14 Q2934.08 1504.92 2935.96 1507.22 Q2937.86 1509.51 2937.86 1512.82 Q2937.86 1517.84 2934.78 1520.53 Q2931.72 1523.21 2926 1523.21 Q2920.29 1523.21 2917.21 1520.53 Q2914.15 1517.84 2914.15 1512.82 Q2914.15 1509.51 2916.05 1507.22 Q2917.95 1504.92 2921.33 1504.14 M2919.62 1496.75 Q2919.62 1499.44 2921.28 1500.94 Q2922.97 1502.45 2926 1502.45 Q2929.01 1502.45 2930.7 1500.94 Q2932.42 1499.44 2932.42 1496.75 Q2932.42 1494.07 2930.7 1492.56 Q2929.01 1491.06 2926 1491.06 Q2922.97 1491.06 2921.28 1492.56 Q2919.62 1494.07 2919.62 1496.75 Z\" fill=\"#000000\" fill-rule=\"evenodd\" fill-opacity=\"1\" /><path clip-path=\"url(#clip070)\" d=\"M3515.06 1491.06 Q3511.45 1491.06 3509.62 1494.62 Q3507.81 1498.16 3507.81 1505.29 Q3507.81 1512.4 3509.62 1515.97 Q3511.45 1519.51 3515.06 1519.51 Q3518.69 1519.51 3520.5 1515.97 Q3522.33 1512.4 3522.33 1505.29 Q3522.33 1498.16 3520.5 1494.62 Q3518.69 1491.06 3515.06 1491.06 M3515.06 1487.35 Q3520.87 1487.35 3523.93 1491.96 Q3527 1496.54 3527 1505.29 Q3527 1514.02 3523.93 1518.63 Q3520.87 1523.21 3515.06 1523.21 Q3509.25 1523.21 3506.17 1518.63 Q3503.11 1514.02 3503.11 1505.29 Q3503.11 1496.54 3506.17 1491.96 Q3509.25 1487.35 3515.06 1487.35 Z\" fill=\"#000000\" fill-rule=\"evenodd\" fill-opacity=\"1\" /><path clip-path=\"url(#clip070)\" d=\"M3535.22 1516.66 L3540.11 1516.66 L3540.11 1522.54 L3535.22 1522.54 L3535.22 1516.66 Z\" fill=\"#000000\" fill-rule=\"evenodd\" fill-opacity=\"1\" /><path clip-path=\"url(#clip070)\" d=\"M3551.1 1518.6 L3558.74 1518.6 L3558.74 1492.24 L3550.43 1493.91 L3550.43 1489.65 L3558.69 1487.98 L3563.37 1487.98 L3563.37 1518.6 L3571.01 1518.6 L3571.01 1522.54 L3551.1 1522.54 L3551.1 1518.6 Z\" fill=\"#000000\" fill-rule=\"evenodd\" fill-opacity=\"1\" /><path clip-path=\"url(#clip070)\" d=\"M3590.45 1491.06 Q3586.84 1491.06 3585.01 1494.62 Q3583.21 1498.16 3583.21 1505.29 Q3583.21 1512.4 3585.01 1515.97 Q3586.84 1519.51 3590.45 1519.51 Q3594.09 1519.51 3595.89 1515.97 Q3597.72 1512.4 3597.72 1505.29 Q3597.72 1498.16 3595.89 1494.62 Q3594.09 1491.06 3590.45 1491.06 M3590.45 1487.35 Q3596.26 1487.35 3599.32 1491.96 Q3602.4 1496.54 3602.4 1505.29 Q3602.4 1514.02 3599.32 1518.63 Q3596.26 1523.21 3590.45 1523.21 Q3584.64 1523.21 3581.56 1518.63 Q3578.51 1514.02 3578.51 1505.29 Q3578.51 1496.54 3581.56 1491.96 Q3584.64 1487.35 3590.45 1487.35 Z\" fill=\"#000000\" fill-rule=\"evenodd\" fill-opacity=\"1\" /><path clip-path=\"url(#clip070)\" d=\"M1909.56 1591.02 Q1909.56 1595.72 1907.17 1600.26 Q1904.82 1604.8 1901.12 1607.6 Q1897.41 1610.37 1893.65 1610.37 Q1891.39 1610.37 1889.88 1609.15 Q1888.4 1607.89 1887.59 1606.12 Q1886.98 1608.31 1885.66 1613.56 Q1884.34 1618.81 1884.34 1619.33 Q1884.34 1619.62 1884.4 1619.75 Q1884.47 1619.87 1884.76 1620.04 Q1885.05 1620.23 1885.76 1620.29 Q1886.46 1620.39 1887.66 1620.39 Q1888.27 1620.39 1888.49 1620.39 Q1888.75 1620.42 1888.98 1620.58 Q1889.23 1620.74 1889.23 1621.1 Q1889.23 1622.42 1888.04 1622.42 Q1886.98 1622.42 1884.79 1622.32 Q1882.6 1622.23 1881.5 1622.23 Q1880.57 1622.23 1878.7 1622.32 Q1876.83 1622.42 1875.96 1622.42 Q1875.09 1622.42 1875.09 1621.65 Q1875.09 1621.2 1875.22 1620.91 Q1875.32 1620.65 1875.58 1620.52 Q1875.84 1620.42 1876.06 1620.39 Q1876.25 1620.39 1876.64 1620.39 Q1878.12 1620.39 1878.77 1620.13 Q1879.41 1619.91 1879.64 1619.42 Q1879.89 1618.97 1880.18 1617.68 L1887.59 1588.31 Q1888.04 1586.35 1888.04 1584.96 Q1888.04 1583.22 1887.49 1582.58 Q1886.95 1581.94 1885.98 1581.94 Q1884.31 1581.94 1883.21 1583.93 Q1882.12 1585.93 1881.18 1589.79 Q1880.89 1590.86 1880.7 1591.08 Q1880.54 1591.31 1880.05 1591.31 Q1879.25 1591.28 1879.25 1590.63 Q1879.25 1590.47 1879.51 1589.44 Q1879.76 1588.38 1880.25 1586.83 Q1880.76 1585.25 1881.31 1584.25 Q1881.63 1583.58 1881.92 1583.13 Q1882.21 1582.68 1882.79 1581.97 Q1883.4 1581.26 1884.27 1580.87 Q1885.14 1580.49 1886.21 1580.49 Q1888.27 1580.49 1889.97 1581.71 Q1891.68 1582.93 1892.13 1585.41 Q1893.97 1583.26 1896.22 1581.87 Q1898.48 1580.49 1900.76 1580.49 Q1904.56 1580.49 1907.04 1583.45 Q1909.56 1586.38 1909.56 1591.02 M1904.79 1588.12 Q1904.79 1585.19 1903.66 1583.58 Q1902.57 1581.94 1900.57 1581.94 Q1898.09 1581.94 1895.22 1584.45 Q1892.39 1586.83 1891.81 1589.05 L1888.56 1601.97 L1888.36 1603.03 Q1888.36 1603.22 1888.46 1603.8 Q1888.59 1604.35 1888.94 1605.25 Q1889.33 1606.15 1889.85 1606.96 Q1890.39 1607.73 1891.36 1608.31 Q1892.36 1608.89 1893.58 1608.89 Q1895.55 1608.89 1897.67 1607.15 Q1899.83 1605.41 1901.44 1602.13 Q1902.44 1600 1903.6 1595.43 Q1904.79 1590.82 1904.79 1588.12 Z\" fill=\"#000000\" fill-rule=\"evenodd\" fill-opacity=\"1\" /><polyline clip-path=\"url(#clip072)\" style=\"stroke:#000000; stroke-linecap:butt; stroke-linejoin:round; stroke-width:2; stroke-opacity:0.1; fill:none\" points=\"\n",
       "  230.285,1450.54 3552.76,1450.54 \n",
       "  \"/>\n",
       "<polyline clip-path=\"url(#clip072)\" style=\"stroke:#000000; stroke-linecap:butt; stroke-linejoin:round; stroke-width:2; stroke-opacity:0.1; fill:none\" points=\"\n",
       "  230.285,1099.72 3552.76,1099.72 \n",
       "  \"/>\n",
       "<polyline clip-path=\"url(#clip072)\" style=\"stroke:#000000; stroke-linecap:butt; stroke-linejoin:round; stroke-width:2; stroke-opacity:0.1; fill:none\" points=\"\n",
       "  230.285,748.892 3552.76,748.892 \n",
       "  \"/>\n",
       "<polyline clip-path=\"url(#clip072)\" style=\"stroke:#000000; stroke-linecap:butt; stroke-linejoin:round; stroke-width:2; stroke-opacity:0.1; fill:none\" points=\"\n",
       "  230.285,398.068 3552.76,398.068 \n",
       "  \"/>\n",
       "<polyline clip-path=\"url(#clip072)\" style=\"stroke:#000000; stroke-linecap:butt; stroke-linejoin:round; stroke-width:2; stroke-opacity:0.1; fill:none\" points=\"\n",
       "  230.285,47.2441 3552.76,47.2441 \n",
       "  \"/>\n",
       "<polyline clip-path=\"url(#clip070)\" style=\"stroke:#000000; stroke-linecap:butt; stroke-linejoin:round; stroke-width:4; stroke-opacity:1; fill:none\" points=\"\n",
       "  230.285,1450.54 230.285,47.2441 \n",
       "  \"/>\n",
       "<polyline clip-path=\"url(#clip070)\" style=\"stroke:#000000; stroke-linecap:butt; stroke-linejoin:round; stroke-width:4; stroke-opacity:1; fill:none\" points=\"\n",
       "  230.285,1450.54 249.183,1450.54 \n",
       "  \"/>\n",
       "<polyline clip-path=\"url(#clip070)\" style=\"stroke:#000000; stroke-linecap:butt; stroke-linejoin:round; stroke-width:4; stroke-opacity:1; fill:none\" points=\"\n",
       "  230.285,1099.72 249.183,1099.72 \n",
       "  \"/>\n",
       "<polyline clip-path=\"url(#clip070)\" style=\"stroke:#000000; stroke-linecap:butt; stroke-linejoin:round; stroke-width:4; stroke-opacity:1; fill:none\" points=\"\n",
       "  230.285,748.892 249.183,748.892 \n",
       "  \"/>\n",
       "<polyline clip-path=\"url(#clip070)\" style=\"stroke:#000000; stroke-linecap:butt; stroke-linejoin:round; stroke-width:4; stroke-opacity:1; fill:none\" points=\"\n",
       "  230.285,398.068 249.183,398.068 \n",
       "  \"/>\n",
       "<polyline clip-path=\"url(#clip070)\" style=\"stroke:#000000; stroke-linecap:butt; stroke-linejoin:round; stroke-width:4; stroke-opacity:1; fill:none\" points=\"\n",
       "  230.285,47.2441 249.183,47.2441 \n",
       "  \"/>\n",
       "<path clip-path=\"url(#clip070)\" d=\"M164.341 1436.34 Q160.73 1436.34 158.901 1439.9 Q157.096 1443.44 157.096 1450.57 Q157.096 1457.68 158.901 1461.25 Q160.73 1464.79 164.341 1464.79 Q167.975 1464.79 169.781 1461.25 Q171.61 1457.68 171.61 1450.57 Q171.61 1443.44 169.781 1439.9 Q167.975 1436.34 164.341 1436.34 M164.341 1432.63 Q170.151 1432.63 173.207 1437.24 Q176.285 1441.82 176.285 1450.57 Q176.285 1459.3 173.207 1463.91 Q170.151 1468.49 164.341 1468.49 Q158.531 1468.49 155.452 1463.91 Q152.397 1459.3 152.397 1450.57 Q152.397 1441.82 155.452 1437.24 Q158.531 1432.63 164.341 1432.63 Z\" fill=\"#000000\" fill-rule=\"evenodd\" fill-opacity=\"1\" /><path clip-path=\"url(#clip070)\" d=\"M124.226 1082.44 L142.582 1082.44 L142.582 1086.37 L128.508 1086.37 L128.508 1094.84 Q129.526 1094.5 130.545 1094.33 Q131.563 1094.15 132.582 1094.15 Q138.369 1094.15 141.749 1097.32 Q145.128 1100.49 145.128 1105.91 Q145.128 1111.49 141.656 1114.59 Q138.184 1117.67 131.864 1117.67 Q129.688 1117.67 127.42 1117.3 Q125.175 1116.93 122.767 1116.19 L122.767 1111.49 Q124.851 1112.62 127.073 1113.18 Q129.295 1113.73 131.772 1113.73 Q135.776 1113.73 138.114 1111.63 Q140.452 1109.52 140.452 1105.91 Q140.452 1102.3 138.114 1100.19 Q135.776 1098.08 131.772 1098.08 Q129.897 1098.08 128.022 1098.5 Q126.17 1098.92 124.226 1099.8 L124.226 1082.44 Z\" fill=\"#000000\" fill-rule=\"evenodd\" fill-opacity=\"1\" /><path clip-path=\"url(#clip070)\" d=\"M164.341 1085.51 Q160.73 1085.51 158.901 1089.08 Q157.096 1092.62 157.096 1099.75 Q157.096 1106.86 158.901 1110.42 Q160.73 1113.96 164.341 1113.96 Q167.975 1113.96 169.781 1110.42 Q171.61 1106.86 171.61 1099.75 Q171.61 1092.62 169.781 1089.08 Q167.975 1085.51 164.341 1085.51 M164.341 1081.81 Q170.151 1081.81 173.207 1086.42 Q176.285 1091 176.285 1099.75 Q176.285 1108.48 173.207 1113.08 Q170.151 1117.67 164.341 1117.67 Q158.531 1117.67 155.452 1113.08 Q152.397 1108.48 152.397 1099.75 Q152.397 1091 155.452 1086.42 Q158.531 1081.81 164.341 1081.81 Z\" fill=\"#000000\" fill-rule=\"evenodd\" fill-opacity=\"1\" /><path clip-path=\"url(#clip070)\" d=\"M94.8276 762.237 L102.466 762.237 L102.466 735.871 L94.1563 737.538 L94.1563 733.279 L102.42 731.612 L107.096 731.612 L107.096 762.237 L114.735 762.237 L114.735 766.172 L94.8276 766.172 L94.8276 762.237 Z\" fill=\"#000000\" fill-rule=\"evenodd\" fill-opacity=\"1\" /><path clip-path=\"url(#clip070)\" d=\"M134.179 734.691 Q130.568 734.691 128.739 738.255 Q126.934 741.797 126.934 748.927 Q126.934 756.033 128.739 759.598 Q130.568 763.14 134.179 763.14 Q137.813 763.14 139.619 759.598 Q141.448 756.033 141.448 748.927 Q141.448 741.797 139.619 738.255 Q137.813 734.691 134.179 734.691 M134.179 730.987 Q139.989 730.987 143.045 735.593 Q146.124 740.177 146.124 748.927 Q146.124 757.653 143.045 762.26 Q139.989 766.843 134.179 766.843 Q128.369 766.843 125.29 762.26 Q122.235 757.653 122.235 748.927 Q122.235 740.177 125.29 735.593 Q128.369 730.987 134.179 730.987 Z\" fill=\"#000000\" fill-rule=\"evenodd\" fill-opacity=\"1\" /><path clip-path=\"url(#clip070)\" d=\"M164.341 734.691 Q160.73 734.691 158.901 738.255 Q157.096 741.797 157.096 748.927 Q157.096 756.033 158.901 759.598 Q160.73 763.14 164.341 763.14 Q167.975 763.14 169.781 759.598 Q171.61 756.033 171.61 748.927 Q171.61 741.797 169.781 738.255 Q167.975 734.691 164.341 734.691 M164.341 730.987 Q170.151 730.987 173.207 735.593 Q176.285 740.177 176.285 748.927 Q176.285 757.653 173.207 762.26 Q170.151 766.843 164.341 766.843 Q158.531 766.843 155.452 762.26 Q152.397 757.653 152.397 748.927 Q152.397 740.177 155.452 735.593 Q158.531 730.987 164.341 730.987 Z\" fill=\"#000000\" fill-rule=\"evenodd\" fill-opacity=\"1\" /><path clip-path=\"url(#clip070)\" d=\"M94.8276 411.413 L102.466 411.413 L102.466 385.047 L94.1563 386.714 L94.1563 382.455 L102.42 380.788 L107.096 380.788 L107.096 411.413 L114.735 411.413 L114.735 415.348 L94.8276 415.348 L94.8276 411.413 Z\" fill=\"#000000\" fill-rule=\"evenodd\" fill-opacity=\"1\" /><path clip-path=\"url(#clip070)\" d=\"M124.226 380.788 L142.582 380.788 L142.582 384.723 L128.508 384.723 L128.508 393.195 Q129.526 392.848 130.545 392.686 Q131.563 392.501 132.582 392.501 Q138.369 392.501 141.749 395.672 Q145.128 398.843 145.128 404.26 Q145.128 409.839 141.656 412.941 Q138.184 416.019 131.864 416.019 Q129.688 416.019 127.42 415.649 Q125.175 415.279 122.767 414.538 L122.767 409.839 Q124.851 410.973 127.073 411.529 Q129.295 412.084 131.772 412.084 Q135.776 412.084 138.114 409.978 Q140.452 407.871 140.452 404.26 Q140.452 400.649 138.114 398.543 Q135.776 396.436 131.772 396.436 Q129.897 396.436 128.022 396.853 Q126.17 397.269 124.226 398.149 L124.226 380.788 Z\" fill=\"#000000\" fill-rule=\"evenodd\" fill-opacity=\"1\" /><path clip-path=\"url(#clip070)\" d=\"M164.341 383.867 Q160.73 383.867 158.901 387.432 Q157.096 390.973 157.096 398.103 Q157.096 405.209 158.901 408.774 Q160.73 412.316 164.341 412.316 Q167.975 412.316 169.781 408.774 Q171.61 405.209 171.61 398.103 Q171.61 390.973 169.781 387.432 Q167.975 383.867 164.341 383.867 M164.341 380.163 Q170.151 380.163 173.207 384.769 Q176.285 389.353 176.285 398.103 Q176.285 406.83 173.207 411.436 Q170.151 416.019 164.341 416.019 Q158.531 416.019 155.452 411.436 Q152.397 406.83 152.397 398.103 Q152.397 389.353 155.452 384.769 Q158.531 380.163 164.341 380.163 Z\" fill=\"#000000\" fill-rule=\"evenodd\" fill-opacity=\"1\" /><path clip-path=\"url(#clip070)\" d=\"M98.0451 60.5889 L114.364 60.5889 L114.364 64.5241 L92.4202 64.5241 L92.4202 60.5889 Q95.0822 57.8343 99.6655 53.2047 Q104.272 48.552 105.452 47.2094 Q107.698 44.6862 108.577 42.9501 Q109.48 41.1909 109.48 39.5011 Q109.48 36.7465 107.536 35.0104 Q105.615 33.2743 102.513 33.2743 Q100.314 33.2743 97.8599 34.0381 Q95.4294 34.802 92.6516 36.3529 L92.6516 31.6308 Q95.4757 30.4965 97.9294 29.9178 Q100.383 29.3391 102.42 29.3391 Q107.79 29.3391 110.985 32.0243 Q114.179 34.7094 114.179 39.2002 Q114.179 41.3298 113.369 43.2511 Q112.582 45.1492 110.476 47.7418 Q109.897 48.4131 106.795 51.6306 Q103.693 54.8251 98.0451 60.5889 Z\" fill=\"#000000\" fill-rule=\"evenodd\" fill-opacity=\"1\" /><path clip-path=\"url(#clip070)\" d=\"M134.179 33.0428 Q130.568 33.0428 128.739 36.6076 Q126.934 40.1492 126.934 47.2788 Q126.934 54.3853 128.739 57.9501 Q130.568 61.4917 134.179 61.4917 Q137.813 61.4917 139.619 57.9501 Q141.448 54.3853 141.448 47.2788 Q141.448 40.1492 139.619 36.6076 Q137.813 33.0428 134.179 33.0428 M134.179 29.3391 Q139.989 29.3391 143.045 33.9456 Q146.124 38.5289 146.124 47.2788 Q146.124 56.0056 143.045 60.6121 Q139.989 65.1954 134.179 65.1954 Q128.369 65.1954 125.29 60.6121 Q122.235 56.0056 122.235 47.2788 Q122.235 38.5289 125.29 33.9456 Q128.369 29.3391 134.179 29.3391 Z\" fill=\"#000000\" fill-rule=\"evenodd\" fill-opacity=\"1\" /><path clip-path=\"url(#clip070)\" d=\"M164.341 33.0428 Q160.73 33.0428 158.901 36.6076 Q157.096 40.1492 157.096 47.2788 Q157.096 54.3853 158.901 57.9501 Q160.73 61.4917 164.341 61.4917 Q167.975 61.4917 169.781 57.9501 Q171.61 54.3853 171.61 47.2788 Q171.61 40.1492 169.781 36.6076 Q167.975 33.0428 164.341 33.0428 M164.341 29.3391 Q170.151 29.3391 173.207 33.9456 Q176.285 38.5289 176.285 47.2788 Q176.285 56.0056 173.207 60.6121 Q170.151 65.1954 164.341 65.1954 Q158.531 65.1954 155.452 60.6121 Q152.397 56.0056 152.397 47.2788 Q152.397 38.5289 155.452 33.9456 Q158.531 29.3391 164.341 29.3391 Z\" fill=\"#000000\" fill-rule=\"evenodd\" fill-opacity=\"1\" /><path clip-path=\"url(#clip070)\" d=\"M1.55986 734.716 Q3.36339 734.716 4.39398 735.844 Q5.39236 736.971 5.39236 738.259 Q5.39236 739.483 4.68383 740.127 Q3.9753 740.771 3.07354 740.771 Q1.84972 740.771 0.786922 739.869 Q-0.275871 738.967 -0.501312 737.615 Q-1.33866 738.935 -1.33866 740.9 Q-1.33866 742.188 -0.662341 743.315 Q0.0139817 744.41 0.88354 745.087 Q1.7531 745.731 3.00913 746.31 Q4.23295 746.858 4.97368 747.083 Q5.68221 747.277 6.45515 747.438 L15.4728 749.692 Q19.7562 750.787 21.2699 750.787 Q23.1378 750.787 24.3938 749.885 Q25.6176 748.984 25.6176 747.18 Q25.6176 746.471 25.4244 745.666 Q25.199 744.861 24.6193 743.831 Q24.0073 742.768 23.1056 741.834 Q22.1716 740.868 20.5935 739.934 Q19.0154 739 16.9865 738.388 Q16.2779 738.195 16.2779 737.55 Q16.2779 736.745 16.9221 736.745 Q17.4696 736.745 18.629 737.196 Q19.7562 737.615 21.2376 738.549 Q22.6869 739.451 24.0073 740.642 Q25.2956 741.834 26.1973 743.605 Q27.0991 745.376 27.0991 747.309 Q27.0991 750.079 25.6176 751.914 Q24.1362 753.75 22.075 754.426 Q22.3648 754.587 22.7513 754.813 Q23.1378 755.038 24.0073 755.715 Q24.8447 756.359 25.4888 757.099 Q26.1007 757.84 26.5838 759 Q27.0991 760.127 27.0991 761.351 Q27.0991 762.896 26.6482 764.281 Q26.1973 765.634 25.1668 766.6 Q24.1362 767.566 22.7191 767.566 Q21.141 767.566 20.046 766.504 Q18.9188 765.409 18.9188 763.927 Q18.9188 762.993 19.4663 762.252 Q20.0138 761.479 21.2054 761.479 Q22.5259 761.479 23.5243 762.381 Q24.5226 763.283 24.7803 764.571 Q25.6176 763.251 25.6176 761.286 Q25.6176 759.161 23.7497 757.486 Q21.8818 755.811 18.7578 755.006 Q11.2538 753.009 7.90442 752.236 Q4.5228 751.463 3.07354 751.463 Q1.72089 751.463 0.786922 751.818 Q-0.147048 752.172 -0.565724 752.784 Q-1.01661 753.364 -1.17764 753.911 Q-1.33866 754.426 -1.33866 755.006 Q-1.33866 755.972 -0.952194 757.067 Q-0.565724 758.13 0.33604 759.418 Q1.2056 760.674 3.00913 761.866 Q4.81266 763.057 7.29251 763.863 Q8.03324 764.024 8.03324 764.732 Q8.00104 765.505 7.35692 765.505 Q6.80942 765.505 5.68221 765.086 Q4.5228 764.636 3.07354 763.734 Q1.62427 762.8 0.33604 761.608 Q-0.9844 760.384 -1.88616 758.613 Q-2.78793 756.81 -2.78793 754.877 Q-2.78793 754.008 -2.59469 753.17 Q-2.43366 752.301 -1.95058 751.27 Q-1.46749 750.207 -0.404695 749.273 Q0.658099 748.339 2.20398 747.76 Q1.46325 747.373 0.754716 746.858 Q0.0461875 746.31 -0.823371 745.473 Q-1.72513 744.604 -2.24043 743.412 Q-2.78793 742.188 -2.78793 740.835 Q-2.78793 739.515 -2.43366 738.227 Q-2.11161 736.939 -1.04881 735.844 Q-0.0182242 734.716 1.55986 734.716 Z\" fill=\"#000000\" fill-rule=\"evenodd\" fill-opacity=\"1\" /><polyline clip-path=\"url(#clip072)\" style=\"stroke:#009af9; stroke-linecap:butt; stroke-linejoin:round; stroke-width:4; stroke-opacity:1; fill:none\" points=\"\n",
       "  263.51,-1266.93 296.735,-471.002 329.96,-118.393 363.184,91.8046 396.409,235.25 429.634,341.137 462.858,423.433 496.083,489.769 529.308,544.716 562.532,591.2 \n",
       "  595.757,631.192 628.982,666.074 662.207,696.849 695.431,724.265 728.656,748.892 761.881,771.172 795.105,791.456 828.33,810.026 861.555,827.109 894.78,842.895 \n",
       "  928.004,857.539 961.229,871.173 994.454,883.908 1027.68,895.838 1060.9,907.046 1094.13,917.6 1127.35,927.562 1160.58,936.986 1193.8,945.918 1227.03,954.4 \n",
       "  1260.25,962.468 1293.48,970.154 1326.7,977.489 1359.93,984.497 1393.15,991.203 1426.37,997.628 1459.6,1003.79 1492.82,1009.71 1526.05,1015.4 1559.27,1020.87 \n",
       "  1592.5,1026.14 1625.72,1031.23 1658.95,1036.13 1692.17,1040.87 1725.4,1045.44 1758.62,1049.87 1791.85,1054.16 1825.07,1058.31 1858.3,1062.33 1891.52,1066.23 \n",
       "  1924.75,1070.02 1957.97,1073.69 1991.19,1077.27 2024.42,1080.74 2057.64,1084.12 2090.87,1087.4 2124.09,1090.6 2157.32,1093.72 2190.54,1096.76 2223.77,1099.72 \n",
       "  2256.99,1102.6 2290.22,1105.42 2323.44,1108.17 2356.67,1110.86 2389.89,1113.48 2423.12,1116.04 2456.34,1118.55 2489.57,1121 2522.79,1123.39 2556.01,1125.74 \n",
       "  2589.24,1128.04 2622.46,1130.28 2655.69,1132.48 2688.91,1134.64 2722.14,1136.75 2755.36,1138.82 2788.59,1140.86 2821.81,1142.85 2855.04,1144.8 2888.26,1146.72 \n",
       "  2921.49,1148.6 2954.71,1150.45 2987.94,1152.26 3021.16,1154.04 3054.39,1155.79 3087.61,1157.51 3120.83,1159.2 3154.06,1160.86 3187.28,1162.49 3220.51,1164.09 \n",
       "  3253.73,1165.67 3286.96,1167.22 3320.18,1168.75 3353.41,1170.25 3386.63,1171.73 3419.86,1173.19 3453.08,1174.62 3486.31,1176.03 3519.53,1177.42 3552.76,1178.79 \n",
       "  \n",
       "  \"/>\n",
       "<polyline clip-path=\"url(#clip072)\" style=\"stroke:#e26f46; stroke-linecap:butt; stroke-linejoin:round; stroke-width:4; stroke-opacity:1; fill:none\" points=\"\n",
       "  230.285,748.892 263.51,748.19 296.735,747.486 329.96,746.781 363.184,746.074 396.409,745.366 429.634,744.657 462.858,743.946 496.083,743.234 529.308,742.52 \n",
       "  562.532,741.805 595.757,741.088 628.982,740.37 662.207,739.65 695.431,738.929 728.656,738.207 761.881,737.483 795.105,736.758 828.33,736.031 861.555,735.302 \n",
       "  894.78,734.573 928.004,733.841 961.229,733.108 994.454,732.374 1027.68,731.638 1060.9,730.901 1094.13,730.162 1127.35,729.422 1160.58,728.68 1193.8,727.936 \n",
       "  1227.03,727.192 1260.25,726.445 1293.48,725.697 1326.7,724.947 1359.93,724.196 1393.15,723.444 1426.37,722.689 1459.6,721.934 1492.82,721.176 1526.05,720.417 \n",
       "  1559.27,719.657 1592.5,718.895 1625.72,718.131 1658.95,717.365 1692.17,716.599 1725.4,715.83 1758.62,715.06 1791.85,714.288 1825.07,713.515 1858.3,712.74 \n",
       "  1891.52,711.963 1924.75,711.185 1957.97,710.405 1991.19,709.623 2024.42,708.84 2057.64,708.055 2090.87,707.269 2124.09,706.481 2157.32,705.691 2190.54,704.899 \n",
       "  2223.77,704.106 2256.99,703.311 2290.22,702.514 2323.44,701.716 2356.67,700.916 2389.89,700.114 2423.12,699.311 2456.34,698.506 2489.57,697.699 2522.79,696.89 \n",
       "  2556.01,696.08 2589.24,695.268 2622.46,694.454 2655.69,693.638 2688.91,692.821 2722.14,692.002 2755.36,691.181 2788.59,690.358 2821.81,689.533 2855.04,688.707 \n",
       "  2888.26,687.879 2921.49,687.049 2954.71,686.218 2987.94,685.384 3021.16,684.549 3054.39,683.712 3087.61,682.873 3120.83,682.032 3154.06,681.189 3187.28,680.345 \n",
       "  3220.51,679.498 3253.73,678.65 3286.96,677.8 3320.18,676.948 3353.41,676.094 3386.63,675.238 3419.86,674.381 3453.08,673.521 3486.31,672.66 3519.53,671.796 \n",
       "  3552.76,670.931 \n",
       "  \"/>\n",
       "<path clip-path=\"url(#clip070)\" d=\"\n",
       "M2885.98 288.421 L3442.01 288.421 L3442.01 94.0206 L2885.98 94.0206  Z\n",
       "  \" fill=\"#ffffff\" fill-rule=\"evenodd\" fill-opacity=\"1\"/>\n",
       "<polyline clip-path=\"url(#clip070)\" style=\"stroke:#000000; stroke-linecap:butt; stroke-linejoin:round; stroke-width:4; stroke-opacity:1; fill:none\" points=\"\n",
       "  2885.98,288.421 3442.01,288.421 3442.01,94.0206 2885.98,94.0206 2885.98,288.421 \n",
       "  \"/>\n",
       "<polyline clip-path=\"url(#clip070)\" style=\"stroke:#009af9; stroke-linecap:butt; stroke-linejoin:round; stroke-width:5; stroke-opacity:1; fill:none\" points=\"\n",
       "  2922.9,158.821 3144.4,158.821 \n",
       "  \"/>\n",
       "<path clip-path=\"url(#clip070)\" d=\"M3181.31 137.221 L3190.02 137.221 L3201.05 166.619 L3212.13 137.221 L3220.84 137.221 L3220.84 180.421 L3215.14 180.421 L3215.14 142.487 L3204 172.116 L3198.12 172.116 L3186.98 142.487 L3186.98 180.421 L3181.31 180.421 L3181.31 137.221 Z\" fill=\"#000000\" fill-rule=\"evenodd\" fill-opacity=\"1\" /><path clip-path=\"url(#clip070)\" d=\"M3246.94 164.13 Q3240.48 164.13 3238 165.606 Q3235.51 167.082 3235.51 170.641 Q3235.51 173.476 3237.36 175.154 Q3239.24 176.804 3242.45 176.804 Q3246.88 176.804 3249.54 173.679 Q3252.23 170.525 3252.23 165.317 L3252.23 164.13 L3246.94 164.13 M3257.56 161.931 L3257.56 180.421 L3252.23 180.421 L3252.23 175.502 Q3250.41 178.453 3247.69 179.871 Q3244.97 181.26 3241.03 181.26 Q3236.06 181.26 3233.11 178.482 Q3230.18 175.675 3230.18 170.988 Q3230.18 165.519 3233.83 162.741 Q3237.5 159.964 3244.77 159.964 L3252.23 159.964 L3252.23 159.443 Q3252.23 155.768 3249.8 153.771 Q3247.4 151.746 3243.03 151.746 Q3240.25 151.746 3237.62 152.412 Q3234.99 153.077 3232.56 154.408 L3232.56 149.489 Q3235.48 148.361 3238.23 147.811 Q3240.98 147.232 3243.58 147.232 Q3250.61 147.232 3254.08 150.878 Q3257.56 154.524 3257.56 161.931 Z\" fill=\"#000000\" fill-rule=\"evenodd\" fill-opacity=\"1\" /><path clip-path=\"url(#clip070)\" d=\"M3273.79 138.812 L3273.79 148.013 L3284.75 148.013 L3284.75 152.151 L3273.79 152.151 L3273.79 169.744 Q3273.79 173.708 3274.86 174.836 Q3275.96 175.965 3279.29 175.965 L3284.75 175.965 L3284.75 180.421 L3279.29 180.421 Q3273.12 180.421 3270.78 178.135 Q3268.44 175.82 3268.44 169.744 L3268.44 152.151 L3264.53 152.151 L3264.53 148.013 L3268.44 148.013 L3268.44 138.812 L3273.79 138.812 Z\" fill=\"#000000\" fill-rule=\"evenodd\" fill-opacity=\"1\" /><path clip-path=\"url(#clip070)\" d=\"M3318.7 160.861 L3318.7 180.421 L3313.37 180.421 L3313.37 161.034 Q3313.37 156.433 3311.58 154.148 Q3309.78 151.862 3306.2 151.862 Q3301.88 151.862 3299.4 154.611 Q3296.91 157.359 3296.91 162.105 L3296.91 180.421 L3291.55 180.421 L3291.55 135.398 L3296.91 135.398 L3296.91 153.048 Q3298.82 150.126 3301.39 148.679 Q3304 147.232 3307.38 147.232 Q3312.97 147.232 3315.83 150.704 Q3318.7 154.148 3318.7 160.861 Z\" fill=\"#000000\" fill-rule=\"evenodd\" fill-opacity=\"1\" /><path clip-path=\"url(#clip070)\" d=\"M3329.31 148.013 L3334.64 148.013 L3334.64 180.421 L3329.31 180.421 L3329.31 148.013 M3329.31 135.398 L3334.64 135.398 L3334.64 142.14 L3329.31 142.14 L3329.31 135.398 Z\" fill=\"#000000\" fill-rule=\"evenodd\" fill-opacity=\"1\" /><path clip-path=\"url(#clip070)\" d=\"M3366.44 148.968 L3366.44 154.003 Q3364.18 152.846 3361.75 152.267 Q3359.32 151.688 3356.72 151.688 Q3352.75 151.688 3350.76 152.903 Q3348.79 154.119 3348.79 156.549 Q3348.79 158.401 3350.21 159.472 Q3351.62 160.513 3355.91 161.468 L3357.73 161.873 Q3363.4 163.089 3365.77 165.317 Q3368.17 167.516 3368.17 171.48 Q3368.17 175.994 3364.59 178.627 Q3361.03 181.26 3354.78 181.26 Q3352.17 181.26 3349.34 180.739 Q3346.53 180.247 3343.41 179.234 L3343.41 173.737 Q3346.36 175.27 3349.22 176.051 Q3352.09 176.804 3354.89 176.804 Q3358.65 176.804 3360.68 175.531 Q3362.71 174.229 3362.71 171.885 Q3362.71 169.715 3361.23 168.557 Q3359.78 167.4 3354.84 166.329 L3352.98 165.895 Q3348.04 164.854 3345.84 162.712 Q3343.64 160.542 3343.64 156.781 Q3343.64 152.209 3346.88 149.721 Q3350.12 147.232 3356.08 147.232 Q3359.03 147.232 3361.63 147.666 Q3364.24 148.1 3366.44 148.968 Z\" fill=\"#000000\" fill-rule=\"evenodd\" fill-opacity=\"1\" /><polyline clip-path=\"url(#clip070)\" style=\"stroke:#e26f46; stroke-linecap:butt; stroke-linejoin:round; stroke-width:5; stroke-opacity:1; fill:none\" points=\"\n",
       "  2922.9,223.621 3144.4,223.621 \n",
       "  \"/>\n",
       "<path clip-path=\"url(#clip070)\" d=\"M3181.31 202.021 L3187.16 202.021 L3187.16 240.302 L3208.19 240.302 L3208.19 245.221 L3181.31 245.221 L3181.31 202.021 Z\" fill=\"#000000\" fill-rule=\"evenodd\" fill-opacity=\"1\" /><path clip-path=\"url(#clip070)\" d=\"M3214.1 212.813 L3219.42 212.813 L3219.42 245.221 L3214.1 245.221 L3214.1 212.813 M3214.1 200.198 L3219.42 200.198 L3219.42 206.94 L3214.1 206.94 L3214.1 200.198 Z\" fill=\"#000000\" fill-rule=\"evenodd\" fill-opacity=\"1\" /><path clip-path=\"url(#clip070)\" d=\"M3257.5 225.661 L3257.5 245.221 L3252.17 245.221 L3252.17 225.834 Q3252.17 221.233 3250.38 218.948 Q3248.59 216.662 3245 216.662 Q3240.69 216.662 3238.2 219.411 Q3235.71 222.159 3235.71 226.905 L3235.71 245.221 L3230.36 245.221 L3230.36 212.813 L3235.71 212.813 L3235.71 217.848 Q3237.62 214.926 3240.19 213.479 Q3242.8 212.032 3246.18 212.032 Q3251.77 212.032 3254.63 215.504 Q3257.5 218.948 3257.5 225.661 Z\" fill=\"#000000\" fill-rule=\"evenodd\" fill-opacity=\"1\" /><path clip-path=\"url(#clip070)\" d=\"M3267.91 200.198 L3273.27 200.198 L3273.27 226.789 L3289.15 212.813 L3295.95 212.813 L3278.76 227.975 L3296.68 245.221 L3289.73 245.221 L3273.27 229.393 L3273.27 245.221 L3267.91 245.221 L3267.91 200.198 Z\" fill=\"#000000\" fill-rule=\"evenodd\" fill-opacity=\"1\" /></svg>\n"
      ],
      "text/html": [
       "<?xml version=\"1.0\" encoding=\"utf-8\"?>\n",
       "<svg xmlns=\"http://www.w3.org/2000/svg\" xmlns:xlink=\"http://www.w3.org/1999/xlink\" width=\"900\" height=\"400\" viewBox=\"0 0 3600 1600\">\n",
       "<defs>\n",
       "  <clipPath id=\"clip120\">\n",
       "    <rect x=\"0\" y=\"0\" width=\"3600\" height=\"1600\"/>\n",
       "  </clipPath>\n",
       "</defs>\n",
       "<path clip-path=\"url(#clip120)\" d=\"\n",
       "M0 1600 L3600 1600 L3600 0 L0 0  Z\n",
       "  \" fill=\"#ffffff\" fill-rule=\"evenodd\" fill-opacity=\"1\"/>\n",
       "<defs>\n",
       "  <clipPath id=\"clip121\">\n",
       "    <rect x=\"720\" y=\"0\" width=\"2521\" height=\"1600\"/>\n",
       "  </clipPath>\n",
       "</defs>\n",
       "<defs>\n",
       "  <clipPath id=\"clip122\">\n",
       "    <rect x=\"230\" y=\"47\" width=\"3323\" height=\"1404\"/>\n",
       "  </clipPath>\n",
       "</defs>\n",
       "<path clip-path=\"url(#clip120)\" d=\"\n",
       "M230.285 1450.54 L3552.76 1450.54 L3552.76 47.2441 L230.285 47.2441  Z\n",
       "  \" fill=\"#ffffff\" fill-rule=\"evenodd\" fill-opacity=\"1\"/>\n",
       "<polyline clip-path=\"url(#clip122)\" style=\"stroke:#000000; stroke-linecap:butt; stroke-linejoin:round; stroke-width:2; stroke-opacity:0.1; fill:none\" points=\"\n",
       "  230.285,1450.54 230.285,47.2441 \n",
       "  \"/>\n",
       "<polyline clip-path=\"url(#clip122)\" style=\"stroke:#000000; stroke-linecap:butt; stroke-linejoin:round; stroke-width:2; stroke-opacity:0.1; fill:none\" points=\"\n",
       "  894.78,1450.54 894.78,47.2441 \n",
       "  \"/>\n",
       "<polyline clip-path=\"url(#clip122)\" style=\"stroke:#000000; stroke-linecap:butt; stroke-linejoin:round; stroke-width:2; stroke-opacity:0.1; fill:none\" points=\"\n",
       "  1559.27,1450.54 1559.27,47.2441 \n",
       "  \"/>\n",
       "<polyline clip-path=\"url(#clip122)\" style=\"stroke:#000000; stroke-linecap:butt; stroke-linejoin:round; stroke-width:2; stroke-opacity:0.1; fill:none\" points=\"\n",
       "  2223.77,1450.54 2223.77,47.2441 \n",
       "  \"/>\n",
       "<polyline clip-path=\"url(#clip122)\" style=\"stroke:#000000; stroke-linecap:butt; stroke-linejoin:round; stroke-width:2; stroke-opacity:0.1; fill:none\" points=\"\n",
       "  2888.26,1450.54 2888.26,47.2441 \n",
       "  \"/>\n",
       "<polyline clip-path=\"url(#clip122)\" style=\"stroke:#000000; stroke-linecap:butt; stroke-linejoin:round; stroke-width:2; stroke-opacity:0.1; fill:none\" points=\"\n",
       "  3552.76,1450.54 3552.76,47.2441 \n",
       "  \"/>\n",
       "<polyline clip-path=\"url(#clip120)\" style=\"stroke:#000000; stroke-linecap:butt; stroke-linejoin:round; stroke-width:4; stroke-opacity:1; fill:none\" points=\"\n",
       "  230.285,1450.54 3552.76,1450.54 \n",
       "  \"/>\n",
       "<polyline clip-path=\"url(#clip120)\" style=\"stroke:#000000; stroke-linecap:butt; stroke-linejoin:round; stroke-width:4; stroke-opacity:1; fill:none\" points=\"\n",
       "  230.285,1450.54 230.285,1431.64 \n",
       "  \"/>\n",
       "<polyline clip-path=\"url(#clip120)\" style=\"stroke:#000000; stroke-linecap:butt; stroke-linejoin:round; stroke-width:4; stroke-opacity:1; fill:none\" points=\"\n",
       "  894.78,1450.54 894.78,1431.64 \n",
       "  \"/>\n",
       "<polyline clip-path=\"url(#clip120)\" style=\"stroke:#000000; stroke-linecap:butt; stroke-linejoin:round; stroke-width:4; stroke-opacity:1; fill:none\" points=\"\n",
       "  1559.27,1450.54 1559.27,1431.64 \n",
       "  \"/>\n",
       "<polyline clip-path=\"url(#clip120)\" style=\"stroke:#000000; stroke-linecap:butt; stroke-linejoin:round; stroke-width:4; stroke-opacity:1; fill:none\" points=\"\n",
       "  2223.77,1450.54 2223.77,1431.64 \n",
       "  \"/>\n",
       "<polyline clip-path=\"url(#clip120)\" style=\"stroke:#000000; stroke-linecap:butt; stroke-linejoin:round; stroke-width:4; stroke-opacity:1; fill:none\" points=\"\n",
       "  2888.26,1450.54 2888.26,1431.64 \n",
       "  \"/>\n",
       "<polyline clip-path=\"url(#clip120)\" style=\"stroke:#000000; stroke-linecap:butt; stroke-linejoin:round; stroke-width:4; stroke-opacity:1; fill:none\" points=\"\n",
       "  3552.76,1450.54 3552.76,1431.64 \n",
       "  \"/>\n",
       "<path clip-path=\"url(#clip120)\" d=\"M192.589 1491.06 Q188.978 1491.06 187.149 1494.62 Q185.344 1498.16 185.344 1505.29 Q185.344 1512.4 187.149 1515.97 Q188.978 1519.51 192.589 1519.51 Q196.223 1519.51 198.029 1515.97 Q199.857 1512.4 199.857 1505.29 Q199.857 1498.16 198.029 1494.62 Q196.223 1491.06 192.589 1491.06 M192.589 1487.35 Q198.399 1487.35 201.455 1491.96 Q204.533 1496.54 204.533 1505.29 Q204.533 1514.02 201.455 1518.63 Q198.399 1523.21 192.589 1523.21 Q186.779 1523.21 183.7 1518.63 Q180.645 1514.02 180.645 1505.29 Q180.645 1496.54 183.7 1491.96 Q186.779 1487.35 192.589 1487.35 Z\" fill=\"#000000\" fill-rule=\"evenodd\" fill-opacity=\"1\" /><path clip-path=\"url(#clip120)\" d=\"M212.751 1516.66 L217.635 1516.66 L217.635 1522.54 L212.751 1522.54 L212.751 1516.66 Z\" fill=\"#000000\" fill-rule=\"evenodd\" fill-opacity=\"1\" /><path clip-path=\"url(#clip120)\" d=\"M237.82 1491.06 Q234.209 1491.06 232.38 1494.62 Q230.575 1498.16 230.575 1505.29 Q230.575 1512.4 232.38 1515.97 Q234.209 1519.51 237.82 1519.51 Q241.454 1519.51 243.26 1515.97 Q245.089 1512.4 245.089 1505.29 Q245.089 1498.16 243.26 1494.62 Q241.454 1491.06 237.82 1491.06 M237.82 1487.35 Q243.63 1487.35 246.686 1491.96 Q249.765 1496.54 249.765 1505.29 Q249.765 1514.02 246.686 1518.63 Q243.63 1523.21 237.82 1523.21 Q232.01 1523.21 228.931 1518.63 Q225.876 1514.02 225.876 1505.29 Q225.876 1496.54 228.931 1491.96 Q232.01 1487.35 237.82 1487.35 Z\" fill=\"#000000\" fill-rule=\"evenodd\" fill-opacity=\"1\" /><path clip-path=\"url(#clip120)\" d=\"M267.982 1491.06 Q264.371 1491.06 262.542 1494.62 Q260.737 1498.16 260.737 1505.29 Q260.737 1512.4 262.542 1515.97 Q264.371 1519.51 267.982 1519.51 Q271.616 1519.51 273.422 1515.97 Q275.25 1512.4 275.25 1505.29 Q275.25 1498.16 273.422 1494.62 Q271.616 1491.06 267.982 1491.06 M267.982 1487.35 Q273.792 1487.35 276.848 1491.96 Q279.926 1496.54 279.926 1505.29 Q279.926 1514.02 276.848 1518.63 Q273.792 1523.21 267.982 1523.21 Q262.172 1523.21 259.093 1518.63 Q256.038 1514.02 256.038 1505.29 Q256.038 1496.54 259.093 1491.96 Q262.172 1487.35 267.982 1487.35 Z\" fill=\"#000000\" fill-rule=\"evenodd\" fill-opacity=\"1\" /><path clip-path=\"url(#clip120)\" d=\"M857.882 1491.06 Q854.27 1491.06 852.442 1494.62 Q850.636 1498.16 850.636 1505.29 Q850.636 1512.4 852.442 1515.97 Q854.27 1519.51 857.882 1519.51 Q861.516 1519.51 863.321 1515.97 Q865.15 1512.4 865.15 1505.29 Q865.15 1498.16 863.321 1494.62 Q861.516 1491.06 857.882 1491.06 M857.882 1487.35 Q863.692 1487.35 866.747 1491.96 Q869.826 1496.54 869.826 1505.29 Q869.826 1514.02 866.747 1518.63 Q863.692 1523.21 857.882 1523.21 Q852.071 1523.21 848.993 1518.63 Q845.937 1514.02 845.937 1505.29 Q845.937 1496.54 848.993 1491.96 Q852.071 1487.35 857.882 1487.35 Z\" fill=\"#000000\" fill-rule=\"evenodd\" fill-opacity=\"1\" /><path clip-path=\"url(#clip120)\" d=\"M878.044 1516.66 L882.928 1516.66 L882.928 1522.54 L878.044 1522.54 L878.044 1516.66 Z\" fill=\"#000000\" fill-rule=\"evenodd\" fill-opacity=\"1\" /><path clip-path=\"url(#clip120)\" d=\"M903.113 1491.06 Q899.502 1491.06 897.673 1494.62 Q895.867 1498.16 895.867 1505.29 Q895.867 1512.4 897.673 1515.97 Q899.502 1519.51 903.113 1519.51 Q906.747 1519.51 908.553 1515.97 Q910.381 1512.4 910.381 1505.29 Q910.381 1498.16 908.553 1494.62 Q906.747 1491.06 903.113 1491.06 M903.113 1487.35 Q908.923 1487.35 911.979 1491.96 Q915.057 1496.54 915.057 1505.29 Q915.057 1514.02 911.979 1518.63 Q908.923 1523.21 903.113 1523.21 Q897.303 1523.21 894.224 1518.63 Q891.168 1514.02 891.168 1505.29 Q891.168 1496.54 894.224 1491.96 Q897.303 1487.35 903.113 1487.35 Z\" fill=\"#000000\" fill-rule=\"evenodd\" fill-opacity=\"1\" /><path clip-path=\"url(#clip120)\" d=\"M927.303 1518.6 L943.622 1518.6 L943.622 1522.54 L921.678 1522.54 L921.678 1518.6 Q924.34 1515.85 928.923 1511.22 Q933.529 1506.57 934.71 1505.23 Q936.955 1502.7 937.835 1500.97 Q938.738 1499.21 938.738 1497.52 Q938.738 1494.76 936.793 1493.03 Q934.872 1491.29 931.77 1491.29 Q929.571 1491.29 927.117 1492.05 Q924.687 1492.82 921.909 1494.37 L921.909 1489.65 Q924.733 1488.51 927.187 1487.93 Q929.64 1487.35 931.677 1487.35 Q937.048 1487.35 940.242 1490.04 Q943.437 1492.73 943.437 1497.22 Q943.437 1499.35 942.627 1501.27 Q941.839 1503.16 939.733 1505.76 Q939.154 1506.43 936.052 1509.65 Q932.951 1512.84 927.303 1518.6 Z\" fill=\"#000000\" fill-rule=\"evenodd\" fill-opacity=\"1\" /><path clip-path=\"url(#clip120)\" d=\"M1521.33 1491.06 Q1517.72 1491.06 1515.89 1494.62 Q1514.09 1498.16 1514.09 1505.29 Q1514.09 1512.4 1515.89 1515.97 Q1517.72 1519.51 1521.33 1519.51 Q1524.97 1519.51 1526.77 1515.97 Q1528.6 1512.4 1528.6 1505.29 Q1528.6 1498.16 1526.77 1494.62 Q1524.97 1491.06 1521.33 1491.06 M1521.33 1487.35 Q1527.14 1487.35 1530.2 1491.96 Q1533.28 1496.54 1533.28 1505.29 Q1533.28 1514.02 1530.2 1518.63 Q1527.14 1523.21 1521.33 1523.21 Q1515.52 1523.21 1512.45 1518.63 Q1509.39 1514.02 1509.39 1505.29 Q1509.39 1496.54 1512.45 1491.96 Q1515.52 1487.35 1521.33 1487.35 Z\" fill=\"#000000\" fill-rule=\"evenodd\" fill-opacity=\"1\" /><path clip-path=\"url(#clip120)\" d=\"M1541.5 1516.66 L1546.38 1516.66 L1546.38 1522.54 L1541.5 1522.54 L1541.5 1516.66 Z\" fill=\"#000000\" fill-rule=\"evenodd\" fill-opacity=\"1\" /><path clip-path=\"url(#clip120)\" d=\"M1566.57 1491.06 Q1562.95 1491.06 1561.13 1494.62 Q1559.32 1498.16 1559.32 1505.29 Q1559.32 1512.4 1561.13 1515.97 Q1562.95 1519.51 1566.57 1519.51 Q1570.2 1519.51 1572.01 1515.97 Q1573.83 1512.4 1573.83 1505.29 Q1573.83 1498.16 1572.01 1494.62 Q1570.2 1491.06 1566.57 1491.06 M1566.57 1487.35 Q1572.38 1487.35 1575.43 1491.96 Q1578.51 1496.54 1578.51 1505.29 Q1578.51 1514.02 1575.43 1518.63 Q1572.38 1523.21 1566.57 1523.21 Q1560.76 1523.21 1557.68 1518.63 Q1554.62 1514.02 1554.62 1505.29 Q1554.62 1496.54 1557.68 1491.96 Q1560.76 1487.35 1566.57 1487.35 Z\" fill=\"#000000\" fill-rule=\"evenodd\" fill-opacity=\"1\" /><path clip-path=\"url(#clip120)\" d=\"M1599.57 1492.05 L1587.77 1510.5 L1599.57 1510.5 L1599.57 1492.05 M1598.35 1487.98 L1604.23 1487.98 L1604.23 1510.5 L1609.16 1510.5 L1609.16 1514.39 L1604.23 1514.39 L1604.23 1522.54 L1599.57 1522.54 L1599.57 1514.39 L1583.97 1514.39 L1583.97 1509.88 L1598.35 1487.98 Z\" fill=\"#000000\" fill-rule=\"evenodd\" fill-opacity=\"1\" /><path clip-path=\"url(#clip120)\" d=\"M2185.99 1491.06 Q2182.38 1491.06 2180.55 1494.62 Q2178.74 1498.16 2178.74 1505.29 Q2178.74 1512.4 2180.55 1515.97 Q2182.38 1519.51 2185.99 1519.51 Q2189.62 1519.51 2191.43 1515.97 Q2193.26 1512.4 2193.26 1505.29 Q2193.26 1498.16 2191.43 1494.62 Q2189.62 1491.06 2185.99 1491.06 M2185.99 1487.35 Q2191.8 1487.35 2194.86 1491.96 Q2197.93 1496.54 2197.93 1505.29 Q2197.93 1514.02 2194.86 1518.63 Q2191.8 1523.21 2185.99 1523.21 Q2180.18 1523.21 2177.1 1518.63 Q2174.05 1514.02 2174.05 1505.29 Q2174.05 1496.54 2177.1 1491.96 Q2180.18 1487.35 2185.99 1487.35 Z\" fill=\"#000000\" fill-rule=\"evenodd\" fill-opacity=\"1\" /><path clip-path=\"url(#clip120)\" d=\"M2206.15 1516.66 L2211.04 1516.66 L2211.04 1522.54 L2206.15 1522.54 L2206.15 1516.66 Z\" fill=\"#000000\" fill-rule=\"evenodd\" fill-opacity=\"1\" /><path clip-path=\"url(#clip120)\" d=\"M2231.22 1491.06 Q2227.61 1491.06 2225.78 1494.62 Q2223.98 1498.16 2223.98 1505.29 Q2223.98 1512.4 2225.78 1515.97 Q2227.61 1519.51 2231.22 1519.51 Q2234.86 1519.51 2236.66 1515.97 Q2238.49 1512.4 2238.49 1505.29 Q2238.49 1498.16 2236.66 1494.62 Q2234.86 1491.06 2231.22 1491.06 M2231.22 1487.35 Q2237.03 1487.35 2240.09 1491.96 Q2243.17 1496.54 2243.17 1505.29 Q2243.17 1514.02 2240.09 1518.63 Q2237.03 1523.21 2231.22 1523.21 Q2225.41 1523.21 2222.33 1518.63 Q2219.28 1514.02 2219.28 1505.29 Q2219.28 1496.54 2222.33 1491.96 Q2225.41 1487.35 2231.22 1487.35 Z\" fill=\"#000000\" fill-rule=\"evenodd\" fill-opacity=\"1\" /><path clip-path=\"url(#clip120)\" d=\"M2261.96 1503.4 Q2258.81 1503.4 2256.96 1505.55 Q2255.13 1507.7 2255.13 1511.45 Q2255.13 1515.18 2256.96 1517.35 Q2258.81 1519.51 2261.96 1519.51 Q2265.11 1519.51 2266.94 1517.35 Q2268.79 1515.18 2268.79 1511.45 Q2268.79 1507.7 2266.94 1505.55 Q2265.11 1503.4 2261.96 1503.4 M2271.24 1488.74 L2271.24 1493 Q2269.49 1492.17 2267.68 1491.73 Q2265.9 1491.29 2264.14 1491.29 Q2259.51 1491.29 2257.05 1494.41 Q2254.62 1497.54 2254.28 1503.86 Q2255.64 1501.85 2257.7 1500.78 Q2259.76 1499.69 2262.24 1499.69 Q2267.45 1499.69 2270.46 1502.86 Q2273.49 1506.01 2273.49 1511.45 Q2273.49 1516.78 2270.34 1519.99 Q2267.19 1523.21 2261.96 1523.21 Q2255.97 1523.21 2252.8 1518.63 Q2249.62 1514.02 2249.62 1505.29 Q2249.62 1497.1 2253.51 1492.24 Q2257.4 1487.35 2263.95 1487.35 Q2265.71 1487.35 2267.49 1487.7 Q2269.3 1488.05 2271.24 1488.74 Z\" fill=\"#000000\" fill-rule=\"evenodd\" fill-opacity=\"1\" /><path clip-path=\"url(#clip120)\" d=\"M2850.61 1491.06 Q2847 1491.06 2845.17 1494.62 Q2843.37 1498.16 2843.37 1505.29 Q2843.37 1512.4 2845.17 1515.97 Q2847 1519.51 2850.61 1519.51 Q2854.25 1519.51 2856.05 1515.97 Q2857.88 1512.4 2857.88 1505.29 Q2857.88 1498.16 2856.05 1494.62 Q2854.25 1491.06 2850.61 1491.06 M2850.61 1487.35 Q2856.42 1487.35 2859.48 1491.96 Q2862.56 1496.54 2862.56 1505.29 Q2862.56 1514.02 2859.48 1518.63 Q2856.42 1523.21 2850.61 1523.21 Q2844.8 1523.21 2841.72 1518.63 Q2838.67 1514.02 2838.67 1505.29 Q2838.67 1496.54 2841.72 1491.96 Q2844.8 1487.35 2850.61 1487.35 Z\" fill=\"#000000\" fill-rule=\"evenodd\" fill-opacity=\"1\" /><path clip-path=\"url(#clip120)\" d=\"M2870.77 1516.66 L2875.66 1516.66 L2875.66 1522.54 L2870.77 1522.54 L2870.77 1516.66 Z\" fill=\"#000000\" fill-rule=\"evenodd\" fill-opacity=\"1\" /><path clip-path=\"url(#clip120)\" d=\"M2895.84 1491.06 Q2892.23 1491.06 2890.4 1494.62 Q2888.6 1498.16 2888.6 1505.29 Q2888.6 1512.4 2890.4 1515.97 Q2892.23 1519.51 2895.84 1519.51 Q2899.48 1519.51 2901.28 1515.97 Q2903.11 1512.4 2903.11 1505.29 Q2903.11 1498.16 2901.28 1494.62 Q2899.48 1491.06 2895.84 1491.06 M2895.84 1487.35 Q2901.65 1487.35 2904.71 1491.96 Q2907.79 1496.54 2907.79 1505.29 Q2907.79 1514.02 2904.71 1518.63 Q2901.65 1523.21 2895.84 1523.21 Q2890.03 1523.21 2886.95 1518.63 Q2883.9 1514.02 2883.9 1505.29 Q2883.9 1496.54 2886.95 1491.96 Q2890.03 1487.35 2895.84 1487.35 Z\" fill=\"#000000\" fill-rule=\"evenodd\" fill-opacity=\"1\" /><path clip-path=\"url(#clip120)\" d=\"M2926 1506.13 Q2922.67 1506.13 2920.75 1507.91 Q2918.85 1509.69 2918.85 1512.82 Q2918.85 1515.94 2920.75 1517.73 Q2922.67 1519.51 2926 1519.51 Q2929.34 1519.51 2931.26 1517.73 Q2933.18 1515.92 2933.18 1512.82 Q2933.18 1509.69 2931.26 1507.91 Q2929.36 1506.13 2926 1506.13 M2921.33 1504.14 Q2918.32 1503.4 2916.63 1501.34 Q2914.96 1499.28 2914.96 1496.31 Q2914.96 1492.17 2917.9 1489.76 Q2920.87 1487.35 2926 1487.35 Q2931.17 1487.35 2934.11 1489.76 Q2937.05 1492.17 2937.05 1496.31 Q2937.05 1499.28 2935.36 1501.34 Q2933.69 1503.4 2930.7 1504.14 Q2934.08 1504.92 2935.96 1507.22 Q2937.86 1509.51 2937.86 1512.82 Q2937.86 1517.84 2934.78 1520.53 Q2931.72 1523.21 2926 1523.21 Q2920.29 1523.21 2917.21 1520.53 Q2914.15 1517.84 2914.15 1512.82 Q2914.15 1509.51 2916.05 1507.22 Q2917.95 1504.92 2921.33 1504.14 M2919.62 1496.75 Q2919.62 1499.44 2921.28 1500.94 Q2922.97 1502.45 2926 1502.45 Q2929.01 1502.45 2930.7 1500.94 Q2932.42 1499.44 2932.42 1496.75 Q2932.42 1494.07 2930.7 1492.56 Q2929.01 1491.06 2926 1491.06 Q2922.97 1491.06 2921.28 1492.56 Q2919.62 1494.07 2919.62 1496.75 Z\" fill=\"#000000\" fill-rule=\"evenodd\" fill-opacity=\"1\" /><path clip-path=\"url(#clip120)\" d=\"M3515.06 1491.06 Q3511.45 1491.06 3509.62 1494.62 Q3507.81 1498.16 3507.81 1505.29 Q3507.81 1512.4 3509.62 1515.97 Q3511.45 1519.51 3515.06 1519.51 Q3518.69 1519.51 3520.5 1515.97 Q3522.33 1512.4 3522.33 1505.29 Q3522.33 1498.16 3520.5 1494.62 Q3518.69 1491.06 3515.06 1491.06 M3515.06 1487.35 Q3520.87 1487.35 3523.93 1491.96 Q3527 1496.54 3527 1505.29 Q3527 1514.02 3523.93 1518.63 Q3520.87 1523.21 3515.06 1523.21 Q3509.25 1523.21 3506.17 1518.63 Q3503.11 1514.02 3503.11 1505.29 Q3503.11 1496.54 3506.17 1491.96 Q3509.25 1487.35 3515.06 1487.35 Z\" fill=\"#000000\" fill-rule=\"evenodd\" fill-opacity=\"1\" /><path clip-path=\"url(#clip120)\" d=\"M3535.22 1516.66 L3540.11 1516.66 L3540.11 1522.54 L3535.22 1522.54 L3535.22 1516.66 Z\" fill=\"#000000\" fill-rule=\"evenodd\" fill-opacity=\"1\" /><path clip-path=\"url(#clip120)\" d=\"M3551.1 1518.6 L3558.74 1518.6 L3558.74 1492.24 L3550.43 1493.91 L3550.43 1489.65 L3558.69 1487.98 L3563.37 1487.98 L3563.37 1518.6 L3571.01 1518.6 L3571.01 1522.54 L3551.1 1522.54 L3551.1 1518.6 Z\" fill=\"#000000\" fill-rule=\"evenodd\" fill-opacity=\"1\" /><path clip-path=\"url(#clip120)\" d=\"M3590.45 1491.06 Q3586.84 1491.06 3585.01 1494.62 Q3583.21 1498.16 3583.21 1505.29 Q3583.21 1512.4 3585.01 1515.97 Q3586.84 1519.51 3590.45 1519.51 Q3594.09 1519.51 3595.89 1515.97 Q3597.72 1512.4 3597.72 1505.29 Q3597.72 1498.16 3595.89 1494.62 Q3594.09 1491.06 3590.45 1491.06 M3590.45 1487.35 Q3596.26 1487.35 3599.32 1491.96 Q3602.4 1496.54 3602.4 1505.29 Q3602.4 1514.02 3599.32 1518.63 Q3596.26 1523.21 3590.45 1523.21 Q3584.64 1523.21 3581.56 1518.63 Q3578.51 1514.02 3578.51 1505.29 Q3578.51 1496.54 3581.56 1491.96 Q3584.64 1487.35 3590.45 1487.35 Z\" fill=\"#000000\" fill-rule=\"evenodd\" fill-opacity=\"1\" /><path clip-path=\"url(#clip120)\" d=\"M1909.56 1591.02 Q1909.56 1595.72 1907.17 1600.26 Q1904.82 1604.8 1901.12 1607.6 Q1897.41 1610.37 1893.65 1610.37 Q1891.39 1610.37 1889.88 1609.15 Q1888.4 1607.89 1887.59 1606.12 Q1886.98 1608.31 1885.66 1613.56 Q1884.34 1618.81 1884.34 1619.33 Q1884.34 1619.62 1884.4 1619.75 Q1884.47 1619.87 1884.76 1620.04 Q1885.05 1620.23 1885.76 1620.29 Q1886.46 1620.39 1887.66 1620.39 Q1888.27 1620.39 1888.49 1620.39 Q1888.75 1620.42 1888.98 1620.58 Q1889.23 1620.74 1889.23 1621.1 Q1889.23 1622.42 1888.04 1622.42 Q1886.98 1622.42 1884.79 1622.32 Q1882.6 1622.23 1881.5 1622.23 Q1880.57 1622.23 1878.7 1622.32 Q1876.83 1622.42 1875.96 1622.42 Q1875.09 1622.42 1875.09 1621.65 Q1875.09 1621.2 1875.22 1620.91 Q1875.32 1620.65 1875.58 1620.52 Q1875.84 1620.42 1876.06 1620.39 Q1876.25 1620.39 1876.64 1620.39 Q1878.12 1620.39 1878.77 1620.13 Q1879.41 1619.91 1879.64 1619.42 Q1879.89 1618.97 1880.18 1617.68 L1887.59 1588.31 Q1888.04 1586.35 1888.04 1584.96 Q1888.04 1583.22 1887.49 1582.58 Q1886.95 1581.94 1885.98 1581.94 Q1884.31 1581.94 1883.21 1583.93 Q1882.12 1585.93 1881.18 1589.79 Q1880.89 1590.86 1880.7 1591.08 Q1880.54 1591.31 1880.05 1591.31 Q1879.25 1591.28 1879.25 1590.63 Q1879.25 1590.47 1879.51 1589.44 Q1879.76 1588.38 1880.25 1586.83 Q1880.76 1585.25 1881.31 1584.25 Q1881.63 1583.58 1881.92 1583.13 Q1882.21 1582.68 1882.79 1581.97 Q1883.4 1581.26 1884.27 1580.87 Q1885.14 1580.49 1886.21 1580.49 Q1888.27 1580.49 1889.97 1581.71 Q1891.68 1582.93 1892.13 1585.41 Q1893.97 1583.26 1896.22 1581.87 Q1898.48 1580.49 1900.76 1580.49 Q1904.56 1580.49 1907.04 1583.45 Q1909.56 1586.38 1909.56 1591.02 M1904.79 1588.12 Q1904.79 1585.19 1903.66 1583.58 Q1902.57 1581.94 1900.57 1581.94 Q1898.09 1581.94 1895.22 1584.45 Q1892.39 1586.83 1891.81 1589.05 L1888.56 1601.97 L1888.36 1603.03 Q1888.36 1603.22 1888.46 1603.8 Q1888.59 1604.35 1888.94 1605.25 Q1889.33 1606.15 1889.85 1606.96 Q1890.39 1607.73 1891.36 1608.31 Q1892.36 1608.89 1893.58 1608.89 Q1895.55 1608.89 1897.67 1607.15 Q1899.83 1605.41 1901.44 1602.13 Q1902.44 1600 1903.6 1595.43 Q1904.79 1590.82 1904.79 1588.12 Z\" fill=\"#000000\" fill-rule=\"evenodd\" fill-opacity=\"1\" /><polyline clip-path=\"url(#clip122)\" style=\"stroke:#000000; stroke-linecap:butt; stroke-linejoin:round; stroke-width:2; stroke-opacity:0.1; fill:none\" points=\"\n",
       "  230.285,1450.54 3552.76,1450.54 \n",
       "  \"/>\n",
       "<polyline clip-path=\"url(#clip122)\" style=\"stroke:#000000; stroke-linecap:butt; stroke-linejoin:round; stroke-width:2; stroke-opacity:0.1; fill:none\" points=\"\n",
       "  230.285,1099.72 3552.76,1099.72 \n",
       "  \"/>\n",
       "<polyline clip-path=\"url(#clip122)\" style=\"stroke:#000000; stroke-linecap:butt; stroke-linejoin:round; stroke-width:2; stroke-opacity:0.1; fill:none\" points=\"\n",
       "  230.285,748.892 3552.76,748.892 \n",
       "  \"/>\n",
       "<polyline clip-path=\"url(#clip122)\" style=\"stroke:#000000; stroke-linecap:butt; stroke-linejoin:round; stroke-width:2; stroke-opacity:0.1; fill:none\" points=\"\n",
       "  230.285,398.068 3552.76,398.068 \n",
       "  \"/>\n",
       "<polyline clip-path=\"url(#clip122)\" style=\"stroke:#000000; stroke-linecap:butt; stroke-linejoin:round; stroke-width:2; stroke-opacity:0.1; fill:none\" points=\"\n",
       "  230.285,47.2441 3552.76,47.2441 \n",
       "  \"/>\n",
       "<polyline clip-path=\"url(#clip120)\" style=\"stroke:#000000; stroke-linecap:butt; stroke-linejoin:round; stroke-width:4; stroke-opacity:1; fill:none\" points=\"\n",
       "  230.285,1450.54 230.285,47.2441 \n",
       "  \"/>\n",
       "<polyline clip-path=\"url(#clip120)\" style=\"stroke:#000000; stroke-linecap:butt; stroke-linejoin:round; stroke-width:4; stroke-opacity:1; fill:none\" points=\"\n",
       "  230.285,1450.54 249.183,1450.54 \n",
       "  \"/>\n",
       "<polyline clip-path=\"url(#clip120)\" style=\"stroke:#000000; stroke-linecap:butt; stroke-linejoin:round; stroke-width:4; stroke-opacity:1; fill:none\" points=\"\n",
       "  230.285,1099.72 249.183,1099.72 \n",
       "  \"/>\n",
       "<polyline clip-path=\"url(#clip120)\" style=\"stroke:#000000; stroke-linecap:butt; stroke-linejoin:round; stroke-width:4; stroke-opacity:1; fill:none\" points=\"\n",
       "  230.285,748.892 249.183,748.892 \n",
       "  \"/>\n",
       "<polyline clip-path=\"url(#clip120)\" style=\"stroke:#000000; stroke-linecap:butt; stroke-linejoin:round; stroke-width:4; stroke-opacity:1; fill:none\" points=\"\n",
       "  230.285,398.068 249.183,398.068 \n",
       "  \"/>\n",
       "<polyline clip-path=\"url(#clip120)\" style=\"stroke:#000000; stroke-linecap:butt; stroke-linejoin:round; stroke-width:4; stroke-opacity:1; fill:none\" points=\"\n",
       "  230.285,47.2441 249.183,47.2441 \n",
       "  \"/>\n",
       "<path clip-path=\"url(#clip120)\" d=\"M164.341 1436.34 Q160.73 1436.34 158.901 1439.9 Q157.096 1443.44 157.096 1450.57 Q157.096 1457.68 158.901 1461.25 Q160.73 1464.79 164.341 1464.79 Q167.975 1464.79 169.781 1461.25 Q171.61 1457.68 171.61 1450.57 Q171.61 1443.44 169.781 1439.9 Q167.975 1436.34 164.341 1436.34 M164.341 1432.63 Q170.151 1432.63 173.207 1437.24 Q176.285 1441.82 176.285 1450.57 Q176.285 1459.3 173.207 1463.91 Q170.151 1468.49 164.341 1468.49 Q158.531 1468.49 155.452 1463.91 Q152.397 1459.3 152.397 1450.57 Q152.397 1441.82 155.452 1437.24 Q158.531 1432.63 164.341 1432.63 Z\" fill=\"#000000\" fill-rule=\"evenodd\" fill-opacity=\"1\" /><path clip-path=\"url(#clip120)\" d=\"M124.226 1082.44 L142.582 1082.44 L142.582 1086.37 L128.508 1086.37 L128.508 1094.84 Q129.526 1094.5 130.545 1094.33 Q131.563 1094.15 132.582 1094.15 Q138.369 1094.15 141.749 1097.32 Q145.128 1100.49 145.128 1105.91 Q145.128 1111.49 141.656 1114.59 Q138.184 1117.67 131.864 1117.67 Q129.688 1117.67 127.42 1117.3 Q125.175 1116.93 122.767 1116.19 L122.767 1111.49 Q124.851 1112.62 127.073 1113.18 Q129.295 1113.73 131.772 1113.73 Q135.776 1113.73 138.114 1111.63 Q140.452 1109.52 140.452 1105.91 Q140.452 1102.3 138.114 1100.19 Q135.776 1098.08 131.772 1098.08 Q129.897 1098.08 128.022 1098.5 Q126.17 1098.92 124.226 1099.8 L124.226 1082.44 Z\" fill=\"#000000\" fill-rule=\"evenodd\" fill-opacity=\"1\" /><path clip-path=\"url(#clip120)\" d=\"M164.341 1085.51 Q160.73 1085.51 158.901 1089.08 Q157.096 1092.62 157.096 1099.75 Q157.096 1106.86 158.901 1110.42 Q160.73 1113.96 164.341 1113.96 Q167.975 1113.96 169.781 1110.42 Q171.61 1106.86 171.61 1099.75 Q171.61 1092.62 169.781 1089.08 Q167.975 1085.51 164.341 1085.51 M164.341 1081.81 Q170.151 1081.81 173.207 1086.42 Q176.285 1091 176.285 1099.75 Q176.285 1108.48 173.207 1113.08 Q170.151 1117.67 164.341 1117.67 Q158.531 1117.67 155.452 1113.08 Q152.397 1108.48 152.397 1099.75 Q152.397 1091 155.452 1086.42 Q158.531 1081.81 164.341 1081.81 Z\" fill=\"#000000\" fill-rule=\"evenodd\" fill-opacity=\"1\" /><path clip-path=\"url(#clip120)\" d=\"M94.8276 762.237 L102.466 762.237 L102.466 735.871 L94.1563 737.538 L94.1563 733.279 L102.42 731.612 L107.096 731.612 L107.096 762.237 L114.735 762.237 L114.735 766.172 L94.8276 766.172 L94.8276 762.237 Z\" fill=\"#000000\" fill-rule=\"evenodd\" fill-opacity=\"1\" /><path clip-path=\"url(#clip120)\" d=\"M134.179 734.691 Q130.568 734.691 128.739 738.255 Q126.934 741.797 126.934 748.927 Q126.934 756.033 128.739 759.598 Q130.568 763.14 134.179 763.14 Q137.813 763.14 139.619 759.598 Q141.448 756.033 141.448 748.927 Q141.448 741.797 139.619 738.255 Q137.813 734.691 134.179 734.691 M134.179 730.987 Q139.989 730.987 143.045 735.593 Q146.124 740.177 146.124 748.927 Q146.124 757.653 143.045 762.26 Q139.989 766.843 134.179 766.843 Q128.369 766.843 125.29 762.26 Q122.235 757.653 122.235 748.927 Q122.235 740.177 125.29 735.593 Q128.369 730.987 134.179 730.987 Z\" fill=\"#000000\" fill-rule=\"evenodd\" fill-opacity=\"1\" /><path clip-path=\"url(#clip120)\" d=\"M164.341 734.691 Q160.73 734.691 158.901 738.255 Q157.096 741.797 157.096 748.927 Q157.096 756.033 158.901 759.598 Q160.73 763.14 164.341 763.14 Q167.975 763.14 169.781 759.598 Q171.61 756.033 171.61 748.927 Q171.61 741.797 169.781 738.255 Q167.975 734.691 164.341 734.691 M164.341 730.987 Q170.151 730.987 173.207 735.593 Q176.285 740.177 176.285 748.927 Q176.285 757.653 173.207 762.26 Q170.151 766.843 164.341 766.843 Q158.531 766.843 155.452 762.26 Q152.397 757.653 152.397 748.927 Q152.397 740.177 155.452 735.593 Q158.531 730.987 164.341 730.987 Z\" fill=\"#000000\" fill-rule=\"evenodd\" fill-opacity=\"1\" /><path clip-path=\"url(#clip120)\" d=\"M94.8276 411.413 L102.466 411.413 L102.466 385.047 L94.1563 386.714 L94.1563 382.455 L102.42 380.788 L107.096 380.788 L107.096 411.413 L114.735 411.413 L114.735 415.348 L94.8276 415.348 L94.8276 411.413 Z\" fill=\"#000000\" fill-rule=\"evenodd\" fill-opacity=\"1\" /><path clip-path=\"url(#clip120)\" d=\"M124.226 380.788 L142.582 380.788 L142.582 384.723 L128.508 384.723 L128.508 393.195 Q129.526 392.848 130.545 392.686 Q131.563 392.501 132.582 392.501 Q138.369 392.501 141.749 395.672 Q145.128 398.843 145.128 404.26 Q145.128 409.839 141.656 412.941 Q138.184 416.019 131.864 416.019 Q129.688 416.019 127.42 415.649 Q125.175 415.279 122.767 414.538 L122.767 409.839 Q124.851 410.973 127.073 411.529 Q129.295 412.084 131.772 412.084 Q135.776 412.084 138.114 409.978 Q140.452 407.871 140.452 404.26 Q140.452 400.649 138.114 398.543 Q135.776 396.436 131.772 396.436 Q129.897 396.436 128.022 396.853 Q126.17 397.269 124.226 398.149 L124.226 380.788 Z\" fill=\"#000000\" fill-rule=\"evenodd\" fill-opacity=\"1\" /><path clip-path=\"url(#clip120)\" d=\"M164.341 383.867 Q160.73 383.867 158.901 387.432 Q157.096 390.973 157.096 398.103 Q157.096 405.209 158.901 408.774 Q160.73 412.316 164.341 412.316 Q167.975 412.316 169.781 408.774 Q171.61 405.209 171.61 398.103 Q171.61 390.973 169.781 387.432 Q167.975 383.867 164.341 383.867 M164.341 380.163 Q170.151 380.163 173.207 384.769 Q176.285 389.353 176.285 398.103 Q176.285 406.83 173.207 411.436 Q170.151 416.019 164.341 416.019 Q158.531 416.019 155.452 411.436 Q152.397 406.83 152.397 398.103 Q152.397 389.353 155.452 384.769 Q158.531 380.163 164.341 380.163 Z\" fill=\"#000000\" fill-rule=\"evenodd\" fill-opacity=\"1\" /><path clip-path=\"url(#clip120)\" d=\"M98.0451 60.5889 L114.364 60.5889 L114.364 64.5241 L92.4202 64.5241 L92.4202 60.5889 Q95.0822 57.8343 99.6655 53.2047 Q104.272 48.552 105.452 47.2094 Q107.698 44.6862 108.577 42.9501 Q109.48 41.1909 109.48 39.5011 Q109.48 36.7465 107.536 35.0104 Q105.615 33.2743 102.513 33.2743 Q100.314 33.2743 97.8599 34.0381 Q95.4294 34.802 92.6516 36.3529 L92.6516 31.6308 Q95.4757 30.4965 97.9294 29.9178 Q100.383 29.3391 102.42 29.3391 Q107.79 29.3391 110.985 32.0243 Q114.179 34.7094 114.179 39.2002 Q114.179 41.3298 113.369 43.2511 Q112.582 45.1492 110.476 47.7418 Q109.897 48.4131 106.795 51.6306 Q103.693 54.8251 98.0451 60.5889 Z\" fill=\"#000000\" fill-rule=\"evenodd\" fill-opacity=\"1\" /><path clip-path=\"url(#clip120)\" d=\"M134.179 33.0428 Q130.568 33.0428 128.739 36.6076 Q126.934 40.1492 126.934 47.2788 Q126.934 54.3853 128.739 57.9501 Q130.568 61.4917 134.179 61.4917 Q137.813 61.4917 139.619 57.9501 Q141.448 54.3853 141.448 47.2788 Q141.448 40.1492 139.619 36.6076 Q137.813 33.0428 134.179 33.0428 M134.179 29.3391 Q139.989 29.3391 143.045 33.9456 Q146.124 38.5289 146.124 47.2788 Q146.124 56.0056 143.045 60.6121 Q139.989 65.1954 134.179 65.1954 Q128.369 65.1954 125.29 60.6121 Q122.235 56.0056 122.235 47.2788 Q122.235 38.5289 125.29 33.9456 Q128.369 29.3391 134.179 29.3391 Z\" fill=\"#000000\" fill-rule=\"evenodd\" fill-opacity=\"1\" /><path clip-path=\"url(#clip120)\" d=\"M164.341 33.0428 Q160.73 33.0428 158.901 36.6076 Q157.096 40.1492 157.096 47.2788 Q157.096 54.3853 158.901 57.9501 Q160.73 61.4917 164.341 61.4917 Q167.975 61.4917 169.781 57.9501 Q171.61 54.3853 171.61 47.2788 Q171.61 40.1492 169.781 36.6076 Q167.975 33.0428 164.341 33.0428 M164.341 29.3391 Q170.151 29.3391 173.207 33.9456 Q176.285 38.5289 176.285 47.2788 Q176.285 56.0056 173.207 60.6121 Q170.151 65.1954 164.341 65.1954 Q158.531 65.1954 155.452 60.6121 Q152.397 56.0056 152.397 47.2788 Q152.397 38.5289 155.452 33.9456 Q158.531 29.3391 164.341 29.3391 Z\" fill=\"#000000\" fill-rule=\"evenodd\" fill-opacity=\"1\" /><path clip-path=\"url(#clip120)\" d=\"M1.55986 734.716 Q3.36339 734.716 4.39398 735.844 Q5.39236 736.971 5.39236 738.259 Q5.39236 739.483 4.68383 740.127 Q3.9753 740.771 3.07354 740.771 Q1.84972 740.771 0.786922 739.869 Q-0.275871 738.967 -0.501312 737.615 Q-1.33866 738.935 -1.33866 740.9 Q-1.33866 742.188 -0.662341 743.315 Q0.0139817 744.41 0.88354 745.087 Q1.7531 745.731 3.00913 746.31 Q4.23295 746.858 4.97368 747.083 Q5.68221 747.277 6.45515 747.438 L15.4728 749.692 Q19.7562 750.787 21.2699 750.787 Q23.1378 750.787 24.3938 749.885 Q25.6176 748.984 25.6176 747.18 Q25.6176 746.471 25.4244 745.666 Q25.199 744.861 24.6193 743.831 Q24.0073 742.768 23.1056 741.834 Q22.1716 740.868 20.5935 739.934 Q19.0154 739 16.9865 738.388 Q16.2779 738.195 16.2779 737.55 Q16.2779 736.745 16.9221 736.745 Q17.4696 736.745 18.629 737.196 Q19.7562 737.615 21.2376 738.549 Q22.6869 739.451 24.0073 740.642 Q25.2956 741.834 26.1973 743.605 Q27.0991 745.376 27.0991 747.309 Q27.0991 750.079 25.6176 751.914 Q24.1362 753.75 22.075 754.426 Q22.3648 754.587 22.7513 754.813 Q23.1378 755.038 24.0073 755.715 Q24.8447 756.359 25.4888 757.099 Q26.1007 757.84 26.5838 759 Q27.0991 760.127 27.0991 761.351 Q27.0991 762.896 26.6482 764.281 Q26.1973 765.634 25.1668 766.6 Q24.1362 767.566 22.7191 767.566 Q21.141 767.566 20.046 766.504 Q18.9188 765.409 18.9188 763.927 Q18.9188 762.993 19.4663 762.252 Q20.0138 761.479 21.2054 761.479 Q22.5259 761.479 23.5243 762.381 Q24.5226 763.283 24.7803 764.571 Q25.6176 763.251 25.6176 761.286 Q25.6176 759.161 23.7497 757.486 Q21.8818 755.811 18.7578 755.006 Q11.2538 753.009 7.90442 752.236 Q4.5228 751.463 3.07354 751.463 Q1.72089 751.463 0.786922 751.818 Q-0.147048 752.172 -0.565724 752.784 Q-1.01661 753.364 -1.17764 753.911 Q-1.33866 754.426 -1.33866 755.006 Q-1.33866 755.972 -0.952194 757.067 Q-0.565724 758.13 0.33604 759.418 Q1.2056 760.674 3.00913 761.866 Q4.81266 763.057 7.29251 763.863 Q8.03324 764.024 8.03324 764.732 Q8.00104 765.505 7.35692 765.505 Q6.80942 765.505 5.68221 765.086 Q4.5228 764.636 3.07354 763.734 Q1.62427 762.8 0.33604 761.608 Q-0.9844 760.384 -1.88616 758.613 Q-2.78793 756.81 -2.78793 754.877 Q-2.78793 754.008 -2.59469 753.17 Q-2.43366 752.301 -1.95058 751.27 Q-1.46749 750.207 -0.404695 749.273 Q0.658099 748.339 2.20398 747.76 Q1.46325 747.373 0.754716 746.858 Q0.0461875 746.31 -0.823371 745.473 Q-1.72513 744.604 -2.24043 743.412 Q-2.78793 742.188 -2.78793 740.835 Q-2.78793 739.515 -2.43366 738.227 Q-2.11161 736.939 -1.04881 735.844 Q-0.0182242 734.716 1.55986 734.716 Z\" fill=\"#000000\" fill-rule=\"evenodd\" fill-opacity=\"1\" /><polyline clip-path=\"url(#clip122)\" style=\"stroke:#009af9; stroke-linecap:butt; stroke-linejoin:round; stroke-width:4; stroke-opacity:1; fill:none\" points=\"\n",
       "  263.51,-1266.93 296.735,-471.002 329.96,-118.393 363.184,91.8046 396.409,235.25 429.634,341.137 462.858,423.433 496.083,489.769 529.308,544.716 562.532,591.2 \n",
       "  595.757,631.192 628.982,666.074 662.207,696.849 695.431,724.265 728.656,748.892 761.881,771.172 795.105,791.456 828.33,810.026 861.555,827.109 894.78,842.895 \n",
       "  928.004,857.539 961.229,871.173 994.454,883.908 1027.68,895.838 1060.9,907.046 1094.13,917.6 1127.35,927.562 1160.58,936.986 1193.8,945.918 1227.03,954.4 \n",
       "  1260.25,962.468 1293.48,970.154 1326.7,977.489 1359.93,984.497 1393.15,991.203 1426.37,997.628 1459.6,1003.79 1492.82,1009.71 1526.05,1015.4 1559.27,1020.87 \n",
       "  1592.5,1026.14 1625.72,1031.23 1658.95,1036.13 1692.17,1040.87 1725.4,1045.44 1758.62,1049.87 1791.85,1054.16 1825.07,1058.31 1858.3,1062.33 1891.52,1066.23 \n",
       "  1924.75,1070.02 1957.97,1073.69 1991.19,1077.27 2024.42,1080.74 2057.64,1084.12 2090.87,1087.4 2124.09,1090.6 2157.32,1093.72 2190.54,1096.76 2223.77,1099.72 \n",
       "  2256.99,1102.6 2290.22,1105.42 2323.44,1108.17 2356.67,1110.86 2389.89,1113.48 2423.12,1116.04 2456.34,1118.55 2489.57,1121 2522.79,1123.39 2556.01,1125.74 \n",
       "  2589.24,1128.04 2622.46,1130.28 2655.69,1132.48 2688.91,1134.64 2722.14,1136.75 2755.36,1138.82 2788.59,1140.86 2821.81,1142.85 2855.04,1144.8 2888.26,1146.72 \n",
       "  2921.49,1148.6 2954.71,1150.45 2987.94,1152.26 3021.16,1154.04 3054.39,1155.79 3087.61,1157.51 3120.83,1159.2 3154.06,1160.86 3187.28,1162.49 3220.51,1164.09 \n",
       "  3253.73,1165.67 3286.96,1167.22 3320.18,1168.75 3353.41,1170.25 3386.63,1171.73 3419.86,1173.19 3453.08,1174.62 3486.31,1176.03 3519.53,1177.42 3552.76,1178.79 \n",
       "  \n",
       "  \"/>\n",
       "<polyline clip-path=\"url(#clip122)\" style=\"stroke:#e26f46; stroke-linecap:butt; stroke-linejoin:round; stroke-width:4; stroke-opacity:1; fill:none\" points=\"\n",
       "  230.285,748.892 263.51,748.19 296.735,747.486 329.96,746.781 363.184,746.074 396.409,745.366 429.634,744.657 462.858,743.946 496.083,743.234 529.308,742.52 \n",
       "  562.532,741.805 595.757,741.088 628.982,740.37 662.207,739.65 695.431,738.929 728.656,738.207 761.881,737.483 795.105,736.758 828.33,736.031 861.555,735.302 \n",
       "  894.78,734.573 928.004,733.841 961.229,733.108 994.454,732.374 1027.68,731.638 1060.9,730.901 1094.13,730.162 1127.35,729.422 1160.58,728.68 1193.8,727.936 \n",
       "  1227.03,727.192 1260.25,726.445 1293.48,725.697 1326.7,724.947 1359.93,724.196 1393.15,723.444 1426.37,722.689 1459.6,721.934 1492.82,721.176 1526.05,720.417 \n",
       "  1559.27,719.657 1592.5,718.895 1625.72,718.131 1658.95,717.365 1692.17,716.599 1725.4,715.83 1758.62,715.06 1791.85,714.288 1825.07,713.515 1858.3,712.74 \n",
       "  1891.52,711.963 1924.75,711.185 1957.97,710.405 1991.19,709.623 2024.42,708.84 2057.64,708.055 2090.87,707.269 2124.09,706.481 2157.32,705.691 2190.54,704.899 \n",
       "  2223.77,704.106 2256.99,703.311 2290.22,702.514 2323.44,701.716 2356.67,700.916 2389.89,700.114 2423.12,699.311 2456.34,698.506 2489.57,697.699 2522.79,696.89 \n",
       "  2556.01,696.08 2589.24,695.268 2622.46,694.454 2655.69,693.638 2688.91,692.821 2722.14,692.002 2755.36,691.181 2788.59,690.358 2821.81,689.533 2855.04,688.707 \n",
       "  2888.26,687.879 2921.49,687.049 2954.71,686.218 2987.94,685.384 3021.16,684.549 3054.39,683.712 3087.61,682.873 3120.83,682.032 3154.06,681.189 3187.28,680.345 \n",
       "  3220.51,679.498 3253.73,678.65 3286.96,677.8 3320.18,676.948 3353.41,676.094 3386.63,675.238 3419.86,674.381 3453.08,673.521 3486.31,672.66 3519.53,671.796 \n",
       "  3552.76,670.931 \n",
       "  \"/>\n",
       "<path clip-path=\"url(#clip120)\" d=\"\n",
       "M2885.98 288.421 L3442.01 288.421 L3442.01 94.0206 L2885.98 94.0206  Z\n",
       "  \" fill=\"#ffffff\" fill-rule=\"evenodd\" fill-opacity=\"1\"/>\n",
       "<polyline clip-path=\"url(#clip120)\" style=\"stroke:#000000; stroke-linecap:butt; stroke-linejoin:round; stroke-width:4; stroke-opacity:1; fill:none\" points=\"\n",
       "  2885.98,288.421 3442.01,288.421 3442.01,94.0206 2885.98,94.0206 2885.98,288.421 \n",
       "  \"/>\n",
       "<polyline clip-path=\"url(#clip120)\" style=\"stroke:#009af9; stroke-linecap:butt; stroke-linejoin:round; stroke-width:5; stroke-opacity:1; fill:none\" points=\"\n",
       "  2922.9,158.821 3144.4,158.821 \n",
       "  \"/>\n",
       "<path clip-path=\"url(#clip120)\" d=\"M3181.31 137.221 L3190.02 137.221 L3201.05 166.619 L3212.13 137.221 L3220.84 137.221 L3220.84 180.421 L3215.14 180.421 L3215.14 142.487 L3204 172.116 L3198.12 172.116 L3186.98 142.487 L3186.98 180.421 L3181.31 180.421 L3181.31 137.221 Z\" fill=\"#000000\" fill-rule=\"evenodd\" fill-opacity=\"1\" /><path clip-path=\"url(#clip120)\" d=\"M3246.94 164.13 Q3240.48 164.13 3238 165.606 Q3235.51 167.082 3235.51 170.641 Q3235.51 173.476 3237.36 175.154 Q3239.24 176.804 3242.45 176.804 Q3246.88 176.804 3249.54 173.679 Q3252.23 170.525 3252.23 165.317 L3252.23 164.13 L3246.94 164.13 M3257.56 161.931 L3257.56 180.421 L3252.23 180.421 L3252.23 175.502 Q3250.41 178.453 3247.69 179.871 Q3244.97 181.26 3241.03 181.26 Q3236.06 181.26 3233.11 178.482 Q3230.18 175.675 3230.18 170.988 Q3230.18 165.519 3233.83 162.741 Q3237.5 159.964 3244.77 159.964 L3252.23 159.964 L3252.23 159.443 Q3252.23 155.768 3249.8 153.771 Q3247.4 151.746 3243.03 151.746 Q3240.25 151.746 3237.62 152.412 Q3234.99 153.077 3232.56 154.408 L3232.56 149.489 Q3235.48 148.361 3238.23 147.811 Q3240.98 147.232 3243.58 147.232 Q3250.61 147.232 3254.08 150.878 Q3257.56 154.524 3257.56 161.931 Z\" fill=\"#000000\" fill-rule=\"evenodd\" fill-opacity=\"1\" /><path clip-path=\"url(#clip120)\" d=\"M3273.79 138.812 L3273.79 148.013 L3284.75 148.013 L3284.75 152.151 L3273.79 152.151 L3273.79 169.744 Q3273.79 173.708 3274.86 174.836 Q3275.96 175.965 3279.29 175.965 L3284.75 175.965 L3284.75 180.421 L3279.29 180.421 Q3273.12 180.421 3270.78 178.135 Q3268.44 175.82 3268.44 169.744 L3268.44 152.151 L3264.53 152.151 L3264.53 148.013 L3268.44 148.013 L3268.44 138.812 L3273.79 138.812 Z\" fill=\"#000000\" fill-rule=\"evenodd\" fill-opacity=\"1\" /><path clip-path=\"url(#clip120)\" d=\"M3318.7 160.861 L3318.7 180.421 L3313.37 180.421 L3313.37 161.034 Q3313.37 156.433 3311.58 154.148 Q3309.78 151.862 3306.2 151.862 Q3301.88 151.862 3299.4 154.611 Q3296.91 157.359 3296.91 162.105 L3296.91 180.421 L3291.55 180.421 L3291.55 135.398 L3296.91 135.398 L3296.91 153.048 Q3298.82 150.126 3301.39 148.679 Q3304 147.232 3307.38 147.232 Q3312.97 147.232 3315.83 150.704 Q3318.7 154.148 3318.7 160.861 Z\" fill=\"#000000\" fill-rule=\"evenodd\" fill-opacity=\"1\" /><path clip-path=\"url(#clip120)\" d=\"M3329.31 148.013 L3334.64 148.013 L3334.64 180.421 L3329.31 180.421 L3329.31 148.013 M3329.31 135.398 L3334.64 135.398 L3334.64 142.14 L3329.31 142.14 L3329.31 135.398 Z\" fill=\"#000000\" fill-rule=\"evenodd\" fill-opacity=\"1\" /><path clip-path=\"url(#clip120)\" d=\"M3366.44 148.968 L3366.44 154.003 Q3364.18 152.846 3361.75 152.267 Q3359.32 151.688 3356.72 151.688 Q3352.75 151.688 3350.76 152.903 Q3348.79 154.119 3348.79 156.549 Q3348.79 158.401 3350.21 159.472 Q3351.62 160.513 3355.91 161.468 L3357.73 161.873 Q3363.4 163.089 3365.77 165.317 Q3368.17 167.516 3368.17 171.48 Q3368.17 175.994 3364.59 178.627 Q3361.03 181.26 3354.78 181.26 Q3352.17 181.26 3349.34 180.739 Q3346.53 180.247 3343.41 179.234 L3343.41 173.737 Q3346.36 175.27 3349.22 176.051 Q3352.09 176.804 3354.89 176.804 Q3358.65 176.804 3360.68 175.531 Q3362.71 174.229 3362.71 171.885 Q3362.71 169.715 3361.23 168.557 Q3359.78 167.4 3354.84 166.329 L3352.98 165.895 Q3348.04 164.854 3345.84 162.712 Q3343.64 160.542 3343.64 156.781 Q3343.64 152.209 3346.88 149.721 Q3350.12 147.232 3356.08 147.232 Q3359.03 147.232 3361.63 147.666 Q3364.24 148.1 3366.44 148.968 Z\" fill=\"#000000\" fill-rule=\"evenodd\" fill-opacity=\"1\" /><polyline clip-path=\"url(#clip120)\" style=\"stroke:#e26f46; stroke-linecap:butt; stroke-linejoin:round; stroke-width:5; stroke-opacity:1; fill:none\" points=\"\n",
       "  2922.9,223.621 3144.4,223.621 \n",
       "  \"/>\n",
       "<path clip-path=\"url(#clip120)\" d=\"M3181.31 202.021 L3187.16 202.021 L3187.16 240.302 L3208.19 240.302 L3208.19 245.221 L3181.31 245.221 L3181.31 202.021 Z\" fill=\"#000000\" fill-rule=\"evenodd\" fill-opacity=\"1\" /><path clip-path=\"url(#clip120)\" d=\"M3214.1 212.813 L3219.42 212.813 L3219.42 245.221 L3214.1 245.221 L3214.1 212.813 M3214.1 200.198 L3219.42 200.198 L3219.42 206.94 L3214.1 206.94 L3214.1 200.198 Z\" fill=\"#000000\" fill-rule=\"evenodd\" fill-opacity=\"1\" /><path clip-path=\"url(#clip120)\" d=\"M3257.5 225.661 L3257.5 245.221 L3252.17 245.221 L3252.17 225.834 Q3252.17 221.233 3250.38 218.948 Q3248.59 216.662 3245 216.662 Q3240.69 216.662 3238.2 219.411 Q3235.71 222.159 3235.71 226.905 L3235.71 245.221 L3230.36 245.221 L3230.36 212.813 L3235.71 212.813 L3235.71 217.848 Q3237.62 214.926 3240.19 213.479 Q3242.8 212.032 3246.18 212.032 Q3251.77 212.032 3254.63 215.504 Q3257.5 218.948 3257.5 225.661 Z\" fill=\"#000000\" fill-rule=\"evenodd\" fill-opacity=\"1\" /><path clip-path=\"url(#clip120)\" d=\"M3267.91 200.198 L3273.27 200.198 L3273.27 226.789 L3289.15 212.813 L3295.95 212.813 L3278.76 227.975 L3296.68 245.221 L3289.73 245.221 L3273.27 229.393 L3273.27 245.221 L3267.91 245.221 L3267.91 200.198 Z\" fill=\"#000000\" fill-rule=\"evenodd\" fill-opacity=\"1\" /></svg>\n"
      ]
     },
     "execution_count": 2,
     "metadata": {},
     "output_type": "execute_result"
    }
   ],
   "source": [
    "using Plots, LaTeXStrings\n",
    "default(size=(900,400), legendfontsize=10)\n",
    "\n",
    "n=10\n",
    "C=1000\n",
    "d=0.1\n",
    "\n",
    "p=(0:0.001:0.1)\n",
    "\n",
    "plot(p,1/d*sqrt.(1.5./p),xlim=(0,0.1),ylim=(0,200), label=\"Mathis\", xlabel=L\"p\", ylabel=L\"x\")\n",
    "plot!(p,C/n./(1 .-p), label=\"Link\")"
   ]
  },
  {
   "cell_type": "markdown",
   "metadata": {
    "slideshow": {
     "slide_type": "slide"
    }
   },
   "source": [
    "### Solución\n",
    "\n",
    "Resolviendo el sistema de ecuaciones queda:\n",
    "\n",
    "$$\\frac{1}{d}\\sqrt{\\frac{1.5}{p}} = \\frac{C}{N(1-p)}.$$\n",
    "\n",
    "De donde $p\\approx 0.015$ y $x = 101.5$, y el reparto es equitativo."
   ]
  },
  {
   "cell_type": "markdown",
   "metadata": {
    "slideshow": {
     "slide_type": "slide"
    }
   },
   "source": [
    "### Conclusiones\n",
    "\n",
    "El modelo de Mathis permite analizar situaciones más generales de compartición de ancho de banda, generalizando la idea anterior. Exploraremos estas ideas en el próximo cuaderno."
   ]
  }
 ],
 "metadata": {
  "@webio": {
   "lastCommId": null,
   "lastKernelId": null
  },
  "celltoolbar": "Slideshow",
  "hide_input": false,
  "kernelspec": {
   "display_name": "Julia 1.6.3",
   "language": "julia",
   "name": "julia-1.6"
  },
  "language_info": {
   "file_extension": ".jl",
   "mimetype": "application/julia",
   "name": "julia",
   "version": "1.6.3"
  }
 },
 "nbformat": 4,
 "nbformat_minor": 4
}
