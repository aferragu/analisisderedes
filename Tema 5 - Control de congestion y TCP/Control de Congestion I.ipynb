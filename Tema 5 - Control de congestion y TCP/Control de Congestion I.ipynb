{
 "cells": [
  {
   "cell_type": "markdown",
   "metadata": {
    "slideshow": {
     "slide_type": "slide"
    }
   },
   "source": [
    "# Curso Análisis de Redes\n",
    "\n",
    "## Cátedra Teoría de las Telecomunicaciones - Universidad ORT Uruguay\n",
    "\n",
    "\n",
    "\n",
    "# Control de congestión en redes"
   ]
  },
  {
   "cell_type": "code",
   "execution_count": 1,
   "metadata": {
    "slideshow": {
     "slide_type": "skip"
    }
   },
   "outputs": [],
   "source": [
    "#using Pkg;Pkg.instantiate(); Pkg.update()"
   ]
  },
  {
   "cell_type": "markdown",
   "metadata": {
    "slideshow": {
     "slide_type": "slide"
    }
   },
   "source": [
    "## Introducción\n",
    "\n",
    "Uno de los problemas fundamentales de las redes de telecomunicaciones es el *reparto o asignación de recursos*. Una primera aproximación a este problema lo vimos al estudiar el acceso al medio en una red local, donde un conjunto de nodos quiere compartir un único medio común.\n",
    "\n",
    "**Preguntas:**\n",
    "\n",
    " * ¿Cómo se realiza el reparto de recursos en una red compleja o de mayor escala?\n",
    " \n",
    " * ¿Cómo logramos que dicho reparto sea *distribuido*, es decir que no requiera un controlador central?\n",
    " \n",
    " * ¿Cuál o cuáles son los repartos \"justos\" y \"eficientes\"?\n",
    " \n",
    "Estas preguntas nos llevan a la noción de **control de congestión** en redes."
   ]
  },
  {
   "cell_type": "markdown",
   "metadata": {
    "slideshow": {
     "slide_type": "slide"
    }
   },
   "source": [
    "## Un poco de historia\n",
    "\n",
    "<img style=\"float: right; width: 400px; padding-left: 2em\" src=\"../images/pots.jpg\"/>\n",
    "\n",
    "La primera red compleja de telecomunicaciones fue la **red telefónica** tradicional.\n",
    "\n",
    "* Basada en una única aplicación (voz)\n",
    "\n",
    "* Tenía como objetivo que el receptor fuera *lo más simple posible* para garantizar su adopción.\n",
    "\n",
    "* Inicialmente operada manualmente (cables), luego electromecánica y por último digitalizada.\n",
    "\n",
    "* Aplicación homogénea: los recursos necesarios para una llamada consisten en un **circuito**\n",
    "\n",
    "* En el caso digital, son $64kbps$ (una muestra de $8$ bits cada $125 \\mu s$, frec. de muestreo $8kHz$ y ley PCM de codificación.\n",
    "\n"
   ]
  },
  {
   "cell_type": "markdown",
   "metadata": {
    "slideshow": {
     "slide_type": "slide"
    }
   },
   "source": [
    "### La red telefónica: estrategia de diseño\n",
    "\n",
    "Pensemos en el problema de interonectar $N$ personas o nodos. No tiene sentido poner un cable entre cada par de nodos, ya que se requieren:\n",
    "\n",
    "$$C^N_2 = \\frac{N(N-1)}{2}$$\n",
    "\n",
    "cables (observar que crece como $N^2$), y no todos se usan al mismo tiempo (o no se usan nunca).\n",
    "\n",
    "**Estrategia:**\n",
    "\n",
    "<img style=\"width:400px; float:right; padding-left:1em\" src=\"../images/hub.png\" />\n",
    "\n",
    "Construir *centrales telefónicas* que conecten los $N$ nodos a un punto central ($N$ cables).\n",
    "\n",
    " * Cada nodo conectado a la central.\n",
    " \n",
    " * En la central se conectan *solo las lineas necesarias* cuando se van a usar.\n",
    " \n",
    " * Inicialmente esto lo hacía la operadora con un cable, luego relays electromecánicos, y luego conmutadores digitales.\n",
    " \n",
    " \n",
    "**Congestión:**\n",
    "\n",
    "Habría congestión si no me alcanzan los cables en la central. Pero podemos diseñar para que esto no ocurra."
   ]
  },
  {
   "cell_type": "markdown",
   "metadata": {
    "slideshow": {
     "slide_type": "slide"
    }
   },
   "source": [
    "### La red telefónica: interconectando centrales\n",
    "\n",
    "¿Qué ocurre si queremos hacer llamadas entre puntos distantes? Interconectamos las centrales:\n",
    "\n",
    "![Dos centrales](../images/twohubs.png)"
   ]
  },
  {
   "cell_type": "markdown",
   "metadata": {
    "slideshow": {
     "slide_type": "slide"
    }
   },
   "source": [
    "### La red telefónica: congestión\n",
    "\n",
    "En este caso la congestión se produce si hay demasiadas llamadas \"larga distancia\" ente centrales.\n",
    "\n",
    "Sin embargo no era necesaria la noción de \"control de congestión\" porque:\n",
    "\n",
    "* Todas las llamadas ocupan un \"circuito\" (recursos conocidos).\n",
    "\n",
    "* Podemos diseñar el enlace trunk de manera de que la cantidad de circuitos sea suficiente para que la probabilidad de bloqueo sea baja.\n",
    "\n",
    "* Herramienta: fórmula de Erlang, teoría de colas, como ya vimos.\n",
    "\n",
    "\n",
    "Siguiendo esta estrategia se construyó la red mundial PSTN (Public Switched Telephone Network) que interconectó todo el mundo, utilizando una *jerarquía* de centrales cada vez más grandes y circuitos SDH (Synchronous Digital Hierarchy) digitales.\n"
   ]
  },
  {
   "cell_type": "markdown",
   "metadata": {
    "slideshow": {
     "slide_type": "slide"
    }
   },
   "source": [
    "## Las redes de datos\n",
    "\n",
    "<img style=\"float:right; padding-left:2em; width:300px\" src=\"../images/kleinrock.jpg\"/>\n",
    "\n",
    "Hacia los años 60 emerge un nuevo paradigma de comunicación: las **redes de paquetes** o **datagramas**.\n",
    "\n",
    " * Se busca una red que permita enviar cualquier tipo de dato.\n",
    " \n",
    " * Para eso, las terminales dividen los datos en \"paquetes\" o \"datagramas\" que son enviados por los enlaces.\n",
    " \n",
    " * Aparece el concepto de **enrutador** (router) que recibe los datagramas y los redirige hacia el destino.\n",
    " \n",
    " * Los paquetes de diferentes fuentes se mezclan en el enrutador y son atendidos en orden, logrando el reparto de recursos."
   ]
  },
  {
   "cell_type": "markdown",
   "metadata": {
    "slideshow": {
     "slide_type": "slide"
    }
   },
   "source": [
    "### Arquitectura\n",
    "\n",
    "Arquitectura de una red de datagramas:\n",
    "\n",
    "![Network](../images/network.png)"
   ]
  },
  {
   "cell_type": "markdown",
   "metadata": {
    "slideshow": {
     "slide_type": "slide"
    }
   },
   "source": [
    "### Redes de datagramas: estrategia de diseño\n",
    "\n",
    "Para diseñar e interconectar estas redes, hacia los años 80 emerge el *modelo de capas* que divide el problema de comunicación en varias capas, de alcance cada vez más global o extremo a extremo.\n",
    "\n",
    "* **Capa física:** ligada a la modulación y al uso del medio.\n",
    "* **Capa de enlace:** implementa la comunicación entre nodos *adyacentes*.\n",
    "* **Capa de red:** provee un sustrato común de comunicación (ej: espacio de direcciones, rutas).\n",
    "* **Capa de transporte:** primera capa extremo a extremo, regula la comunicación entre nodos distantes.\n",
    "* **Capas de sesión, presentación, aplicación:** implementan los protocolos que soportan las aplicaciones."
   ]
  },
  {
   "cell_type": "markdown",
   "metadata": {
    "slideshow": {
     "slide_type": "slide"
    }
   },
   "source": [
    "### Modelo de capas: el stack TCP/IP\n",
    "\n",
    "El stack de protocolos más exitoso de esta arquitectura es el de TCP/IP, base de la Internet actual.\n",
    "\n",
    "![Modelo de capas](../images/tcpip_stack.png)"
   ]
  },
  {
   "cell_type": "markdown",
   "metadata": {
    "slideshow": {
     "slide_type": "slide"
    }
   },
   "source": [
    "### La necesidad de control\n",
    "\n",
    "En estas redes, que soportan múltiples aplicaciones, la mayoría tienen **requerimientos elásticos** de ancho de banda.\n",
    "\n",
    "Esto es:\n",
    "\n",
    " * Tienen datos para transmitir (ej: un archivo).\n",
    " * Pueden hacer uso de todo el ancho de banda (velocidad de transmisión) disponible.\n",
    " * Idealmente buscan maximizar el *throughput* individualmente, es decir transferir lo más rápido posible.\n",
    " \n",
    "**Ejemplo:** transferencia de archivos (HTTP, FTP, BitTorrent).\n",
    "\n",
    "Otras aplicaciones tienen otros requerimientos:\n",
    "\n",
    " * Ej: llamadas de voz, baja latencia y jitter (variabilidad de retardo).\n",
    " * Ej: aplicaciones interctivas, baja latencia."
   ]
  },
  {
   "cell_type": "markdown",
   "metadata": {
    "slideshow": {
     "slide_type": "slide"
    }
   },
   "source": [
    "### El colapso de congestión\n",
    "\n",
    "Hacia los años 80, el protocolo TCP (Transmission Control Protocol) estaba implementado:\n",
    "\n",
    "* Permite *secuenciar* los datos enviados para garantizar su correcto ordenamiento en el receptor y su integridad.\n",
    "* Provee mensajes de reconocimiento (ACK) para informar al emisor del estado de la transferencia.\n",
    "* Mantiene ordenado el flujo de datos hacia las capas superiores.\n",
    "\n",
    "Sin embargo, **no se especificaba cuántos datos se podían enviar simultáneamente**. Esto es, cada aplicación decidía la \"ventana\" de datos a enviar. A veces solo respondía a un *control de flujo* para no saturar al receptor.\n",
    "\n",
    "**Colapso de congestión:**\n",
    "\n",
    "Ocurre por primera vez en Internet en 1986, cuando el backbone de la National Science Foundation baja su velicidad efectiva de 32kbps a 40bps.\n",
    "\n",
    "En ese momento aparece la noción de **control de congestión**. Se requiere un mecanismo de feedback a los transmisores para **no saturar la red**."
   ]
  },
  {
   "cell_type": "markdown",
   "metadata": {
    "slideshow": {
     "slide_type": "slide"
    }
   },
   "source": [
    "## Control de flujo mediante ventanas\n",
    "\n",
    "La estrategia para regular la velocidad de transmisión en un protocolo como TCP consiste en utilizar una *ventana de transmisión*.\n",
    "\n",
    "> **Ventana de transmisión**:\n",
    ">\n",
    "> Nos. de secuencia de los paquetes que puedo mantener \"en viaje\" sin haber recibido el ACK correspondiente.\n",
    "\n",
    "**Ejemplo:** Protocolo stop-and-wait, espero el ACK antes de enviar el siguiente paquete. Si no llega retransmito el mismo.\n",
    "\n",
    " * Mantiene el orden.\n",
    " * Poco eficiente si el retardo es muy largo.\n",
    " * Corresponde a tomar ventana de transmisión $W=1$."
   ]
  },
  {
   "cell_type": "markdown",
   "metadata": {
    "slideshow": {
     "slide_type": "slide"
    }
   },
   "source": [
    "### Análisis de un protocolo de ventana fija.\n",
    "\n",
    "Supongamos que tenemos el siguiente diagrama de un enlace cuello de botella, donde el transmisor utiliza un protocolo de ventana deslizante con tamaño fijo $W$. ¿Qué valor de $W$ conviene utilizar?\n",
    "\n",
    "![Single link](../images/single_link.png)\n",
    "\n"
   ]
  },
  {
   "cell_type": "markdown",
   "metadata": {
    "slideshow": {
     "slide_type": "slide"
    }
   },
   "source": [
    "### Diagrama temporal\n",
    "\n",
    "Tomemos a modo de ejemplo $W=4$ y realicemos un diagrama temporal de los intercambios:\n",
    "\n",
    "![Ventana deslizante](../images/ventana_deslizante.png)"
   ]
  },
  {
   "cell_type": "markdown",
   "metadata": {
    "slideshow": {
     "slide_type": "slide"
    }
   },
   "source": [
    "### Observaciones\n",
    "\n",
    "* En régimen, los paquetes no se mandan todos juntos. La cadencia de los ACK me da información sobre la velocidad de la red.\n",
    "* Los ACK quedan separados un tiempo de envío $1/C$.\n",
    "* Si la ventana es baja, se logran enviar todos los $W$ paquetes antes de que llegue el primer ACK de la ventana, y la red no se aprovecha completamente.\n",
    "\n",
    "**Tiempo en envíos:** \n",
    "$$WT_{envio} = W/C.$$\n",
    "\n",
    "**Tiempo en espera:** \n",
    "$$T_{total} - W T_{envio} = 1/C + d - W/C.$$"
   ]
  },
  {
   "cell_type": "markdown",
   "metadata": {},
   "source": [
    "### Ventana óptima de transmisión\n",
    "\n",
    "Para que el tiempo en espera sea $0$ y por consiguiente llenar la capacidad se requiere:\n",
    "\n",
    "$$1/C + d - W^*/C = 0 \\Rightarrow W^* = Cd + 1.$$\n",
    "\n",
    "Como en general $Cd$ no es entero, en realidad tomamos $W^*=Cd$.\n",
    "\n",
    "**Conclusión:** el no. de paquetes en viaje que optimiza la velocidad es igual al producto retardo por ancho de banda.\n",
    "\n",
    "**Ejemplo:** enlace de 3Mbps con paquetes de 1500 bytes, es decir $C=250$ paq/s. Si el retardo de comunicación es de $d=200ms$, entonces $W^*=C d = 250 \\text{ paq}/s \\times 0.2 s = 50$ paquetes."
   ]
  },
  {
   "cell_type": "markdown",
   "metadata": {
    "slideshow": {
     "slide_type": "slide"
    }
   },
   "source": [
    "### Diagrama\n",
    "\n",
    "![Ventana optima](../images/ventana_deslizante_2.png)"
   ]
  },
  {
   "cell_type": "markdown",
   "metadata": {
    "slideshow": {
     "slide_type": "slide"
    }
   },
   "source": [
    "### Velocidad de transmisión\n",
    "\n",
    "Si la ventana $W$ es menor que la ventana óptima, el ciclo en régimen es enviar $W$ paquetes cada $d$ segundos (despreciando el tiempo de envío de 1 paquete). Por lo tanto, la velocidad es:\n",
    "\n",
    "$$W< W^* = Cd \\Rightarrow x = \\frac{W}{d}$$\n",
    "\n",
    "y el tiempo que observo entre la salida de un paquete y la vuelta de su ACK se denomina Round Trip Time y es $RTT=d$.\n",
    "\n",
    "Cuando la ventana llega a $W^*$, entonces:\n",
    "\n",
    "$$W=W^* =Cd \\Rightarrow x= \\frac{Cd}{d}= C$$ \n",
    "\n",
    "y se utiliza completamente el ancho de banda disponible."
   ]
  },
  {
   "cell_type": "markdown",
   "metadata": {
    "slideshow": {
     "slide_type": "slide"
    }
   },
   "source": [
    "### Relación ventana y cola\n",
    "\n",
    "Surge la pregunta: ¿podemos seguir aumentando la ventana más allá de $W^*$? ¿Aumenta la velocidad?\n",
    "\n",
    "Tomemos $W=12$ en el diagrama anterior:\n",
    "\n",
    "![Ventana deslizante y cola](../images/ventana_deslizante_3.png)\n"
   ]
  },
  {
   "cell_type": "markdown",
   "metadata": {
    "slideshow": {
     "slide_type": "slide"
    }
   },
   "source": [
    "### Ventana deslizante y cola\n",
    "\n",
    "Si $W>W^*$, los paquetes extra quedan encolados a la entrada del cuello de botella.\n",
    "\n",
    "En régimen, la cola es:\n",
    "\n",
    "$$q = W - W^* = W-Cd.$$\n",
    "\n",
    "Por lo tanto, se incrementa el round trip time de un paquete en el retardo de cola:\n",
    "\n",
    "$$RTT = d + q/C$$\n",
    "\n",
    "Y la velocidad de transmisión es:\n",
    "\n",
    "$$x=\\frac{W}{RTT} = \\frac{W}{d+q/C} = \\frac{Cd+q}{d+q/C} = C.$$\n",
    "\n",
    "Es decir, no aumenta más el throughput, solo aumenta el retardo de cola."
   ]
  },
  {
   "cell_type": "markdown",
   "metadata": {
    "slideshow": {
     "slide_type": "slide"
    }
   },
   "source": [
    "### Resumen: protocolo de ventana fija.\n",
    "\n",
    "Resumiendo, las magnitudes de interés en un enlace tienen el siguiente comportamiento en función de la ventana:\n",
    "\n",
    "![Bottleneck](../images/ventana_bottleneck.png)"
   ]
  },
  {
   "cell_type": "markdown",
   "metadata": {
    "slideshow": {
     "slide_type": "slide"
    }
   },
   "source": [
    "### Limitación del buffer\n",
    "\n",
    "En la práctica, el buffer de paquetes del cuello de botella no es infinito. Tendrá una limitación $B$. Por lo tanto, si la cola supera $B$ se perderán paquetes.\n",
    "![Single link](../images/single_link.png)\n",
    "\n",
    "\n",
    "**Máxima cantidad de paquetes \"en vuelo\":** $$W_{max} = W^* + B = Cd+B.$$\n",
    "\n",
    "Si en una ventana se envía más de esta cantidad de paquetes, los sobrantes no podrán ser encolados y se perderán. Es responsabilidad del protocolo retransmitirlos."
   ]
  },
  {
   "cell_type": "markdown",
   "metadata": {
    "slideshow": {
     "slide_type": "slide"
    }
   },
   "source": [
    "## El control de congestión de TCP\n",
    "\n",
    "Discutamos ahora una implementación práctica del control de congestión.\n",
    "\n",
    "**Objetivos:**\n",
    "\n",
    " * Trabajar por encima de la ventana óptima de transmisión $W^*$ para aumentar el throughput.\n",
    " \n",
    " * Evitar el retardo de cola y las pérdidas de paquetes (en particular, trabajar por debajo de $W_{max}$).\n",
    " \n",
    "**Problemas:**\n",
    "\n",
    " * El emisor no conoce dónde está ni qué capacidad tiene el cuello de botella.\n",
    " \n",
    " * Tampoco sabe el retardo de la comunicación.\n",
    " \n",
    " * Además, no sabe si no comparte esa ventana con otras conexiones.\n",
    " \n",
    "**Idea:**\n",
    "\n",
    " * Realizar un control en feedback, aumentando la ventana hasta saturar y realimentando cuando veamos indicaciones de *congestión*."
   ]
  },
  {
   "cell_type": "markdown",
   "metadata": {
    "slideshow": {
     "slide_type": "slide"
    }
   },
   "source": [
    "### TCP - Tahoe\n",
    "\n",
    "<img style=\"float:right; padding-left:2em\" src=\"../images/tcp_tahoe.jpg\"/>\n",
    "\n",
    "Fue el primer mecanismo de control de congestión, propuesto por Van Jacobson en 1988. Consta de dos fases:\n",
    "\n",
    "\n",
    "**Fase Slow-Start:**\n",
    " * Se inicia la ventana $cwnd=1$ MSS (maximum segment size).\n",
    " * Por cada ACK recibido, se incrementa $cwnd \\to cwnd+1$.\n",
    " * Al cabo de una ventana transmitida correctamente, $cwnd$ se duplicó,\n",
    " \n",
    "**Fase Congestion-Avoidance:**\n",
    "\n",
    " * Se inicia al llegar a un umbral $cwnd=ssthresh$ (slow start threshold)\n",
    " * Se lleva la cuenta de ACKs recibidos. Si la ventana es $cwnd$, al recibir $cwnd$ ACKs correctamente, se incrementa $cwnd\\to cwnd+1$.\n",
    " * Esto hace que al cabo de una ventana transmitida correctamente, $cwnd$ aumenta en $1$. \n",
    "\n",
    "**Pérdidas:**\n",
    "\n",
    " * Se detectan por timeout o triple ACK duplicado. Se interpretan como señal de congestión.\n",
    " * Se actualiza $ssthresh \\to cwnd/2$.\n",
    " * Se vuelve a $cwnd=1$ y fase slow start. "
   ]
  },
  {
   "cell_type": "markdown",
   "metadata": {
    "slideshow": {
     "slide_type": "slide"
    }
   },
   "source": [
    "### TCP - Reno\n",
    "\n",
    "<img style=\"float:right; padding-left:2em; width:400px\" src=\"../images/tcp_reno.png\"/>\n",
    "\n",
    "Fue una actualización del anterior, presentada en 1990. Agrega mecansimsos de recuperación ante pérdidas. Desde el punto de vista del control de congestión el único cambio significativo es el siguiente:\n",
    "\n",
    "**Fase Slow-Start y Fase Congestion Avoidance:** sin cambios.\n",
    "\n",
    "**Pérdidas:**\n",
    "\n",
    " * Se detectan por timeout o triple ACK duplicado. Se interpretan como señal de congestión.\n",
    " * Se actualiza $ssthresh \\to cwnd/2$.\n",
    " * Si es triple ACK duplicado (caso más frecuente), se vuelve a $cwnd=ssthresh$ y continúo en CA.\n",
    " * Si es timeout, se vuelve a $cwnd=1$ y fase SS."
   ]
  },
  {
   "cell_type": "markdown",
   "metadata": {
    "slideshow": {
     "slide_type": "slide"
    }
   },
   "source": [
    "## Ejercicio\n",
    "\n",
    "Considere un enlace cuello de botella de capacidad $100$ paquetes por segundo y retardo de ida y vuelta $d=100ms$. Suponga que el buffer a la entrada del enlace admite hasta $5$ paquetes.\n",
    "\n",
    "1. Calcule la ventana óptima de transmisión y la cantidad máxima de paquetes en vuelo.\n",
    "2. Dibuje la evolución de la ventana de TCP/Reno arrancando de $W=1$ hasta que llega a régimen, incluyendo las fases slow-start y congestion-avoidance. Suponga que el ssthresh es 40 paquetes (aprox. 64K en implementaciones reales).\n",
    "3. ¿Se logra trabajar 100% del tiempo a la máxima velocidad?\n",
    "4. ¿Cuál es la probabilidad de pérdida de paquetes en régimen?"
   ]
  }
 ],
 "metadata": {
  "@webio": {
   "lastCommId": null,
   "lastKernelId": null
  },
  "celltoolbar": "Slideshow",
  "hide_input": false,
  "kernelspec": {
   "display_name": "Julia 1.6.2",
   "language": "julia",
   "name": "julia-1.6"
  },
  "language_info": {
   "file_extension": ".jl",
   "mimetype": "application/julia",
   "name": "julia",
   "version": "1.6.2"
  }
 },
 "nbformat": 4,
 "nbformat_minor": 4
}
