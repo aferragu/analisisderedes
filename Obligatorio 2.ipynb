{
 "cells": [
  {
   "cell_type": "markdown",
   "metadata": {},
   "source": [
    "# Curso Análisis de Redes\n",
    "\n",
    "## Cátedra de Teoría de las Telecomunicaciones - Universidad ORT Uruguay \n",
    "\n",
    "\n",
    "# Trabajo Obligatorio 2, curso 2020\n",
    "\n",
    "\n",
    "------\n",
    "\n",
    "### Datos de entrega:\n",
    "\n",
    "* **Fecha de entrega:** 14/12/2020\n",
    "* **Grupos:** Hasta 3 integrantes\n",
    "* **Modalidad de entrega:** cuaderno en PDF en gestion + repositorio Github\n",
    "\n",
    "-----"
   ]
  },
  {
   "cell_type": "code",
   "execution_count": 1,
   "metadata": {},
   "outputs": [],
   "source": [
    "#using Pkg;Pkg.instantiate(); Pkg.update()"
   ]
  },
  {
   "cell_type": "markdown",
   "metadata": {},
   "source": [
    "## Ejercicio 1\n",
    "\n",
    "El objetivo de este ejercicio es verificar el modelo de Bianchi de WiFi en condiciones idealizadas (simuladas) y sobre una captura real de WiFi 802.11b realizada en el laboratorio.\n",
    "\n",
    "### 1a. parte\n",
    "\n",
    "El siguiente código permite simular en Julia el proceso de Backoff que vimos en WiFi. Se define un objeto (`mutable struct`) que almacena el estado de los contadores internos, y lleva la cuenta de la cantidad de intentos de acceso, éxitos y colisiones obtenidas.\n",
    "\n",
    "Para construir una instancia, basta con realizar `station = BackoffProcess(CWmin,stages)` siendo `CWmin` la ventana mínima de backoff y `stages` el no. de duplicaciones. Por defecto todos los contadores se inicializan en $0$, la ventana en el mínimo y el contador se sortea uniforme."
   ]
  },
  {
   "cell_type": "code",
   "execution_count": 3,
   "metadata": {},
   "outputs": [],
   "source": [
    "using Distributions\n",
    "\n",
    "mutable struct BackoffProcess\n",
    "    \n",
    "    CWmin::Integer ##minimal backoff window\n",
    "    stages::Integer ##maximum number of duplications\n",
    "    w::Integer ##current backoff counter\n",
    "    s::Integer ##current stage\n",
    "    attempts::Integer\n",
    "    successes::Integer\n",
    "    collisions::Integer\n",
    "    \n",
    "    BackoffProcess(CWmin::Integer,stages::Integer)= new(CWmin,stages,rand(DiscreteUniform(0,CWmin-1)),0,0,0,0)\n",
    "end "
   ]
  },
  {
   "cell_type": "markdown",
   "metadata": {},
   "source": [
    "Los siguientes métodos permiten actualizar un objeto de tipo `BackoffProcess` en función de si lo que ocurre es un slot vacío, un slot de transmisión exitosa o una colisión."
   ]
  },
  {
   "cell_type": "code",
   "execution_count": 4,
   "metadata": {},
   "outputs": [
    {
     "data": {
      "text/plain": [
       "update_on_collision! (generic function with 1 method)"
      ]
     },
     "execution_count": 4,
     "metadata": {},
     "output_type": "execute_result"
    }
   ],
   "source": [
    "function update_on_idle!(st::BackoffProcess)\n",
    "    \n",
    "    @assert st.w>0 \"No deberia haber entrado aca ya que esta estación debía acceder\"\n",
    "    \n",
    "    st.w=st.w-1\n",
    "end\n",
    "\n",
    "function update_on_success!(st::BackoffProcess)\n",
    "    \n",
    "    if st.w>0\n",
    "        st.w=st.w-1\n",
    "    else\n",
    "        st.s=0\n",
    "        st.w=rand(DiscreteUniform(0,st.CWmin-1))\n",
    "        st.attempts=st.attempts+1\n",
    "        st.successes=st.successes+1\n",
    "    end\n",
    "end\n",
    "\n",
    "function update_on_collision!(st::BackoffProcess)\n",
    "    \n",
    "    if st.w>0\n",
    "        st.w=st.w-1\n",
    "    else\n",
    "        st.s=min(st.s+1,st.stages)\n",
    "        st.w=rand(DiscreteUniform(0,st.CWmin*2^st.s-1))\n",
    "        st.attempts=st.attempts+1\n",
    "        st.collisions=st.collisions+1\n",
    "    end\n",
    "end"
   ]
  },
  {
   "cell_type": "markdown",
   "metadata": {},
   "source": [
    "Se pide:\n",
    "\n",
    "1. Realice un código basado en los vistos en clase para simular una celda de $N$ estaciones intentando acceder utilizando el proceso de Backoff de WiFi con los parámetros habituales de 802.11b ($CW_{min}=32, CW_{max}=1024$) y los tiempos de slot, transmisión y colisión ya vistos en clase.\n",
    "\n",
    "\n",
    "2. Simule lo anterior para el caso de $N=5$ estaciones transmitiendo a $1Mbps$ durante 60 segundos. Grafique la evolución temporal del sistema (por ejemplo paquetes transmitidos).\n",
    "\n",
    "\n",
    "3. Estime de la simulación:\n",
    "   * El throughput total de la celda (total de paquetes enviados exitosamente sobre tiempo transcurrido).\n",
    "   * La probabilidad de acceso de cada estación.\n",
    "   * La probabilidad condicional de colisión de cada estación.\n",
    "   \n",
    "   \n",
    "4. Compare los resultados anteriores con los que surgen del modelo de Bianchi visto en clase."
   ]
  },
  {
   "cell_type": "markdown",
   "metadata": {},
   "source": [
    "### 2a. parte\n",
    "\n",
    "En el archivo `datos/captura_wifi.csv` se dispone del resumen de una captura Wireshark de $N=5$ estaciones en un AP conectadas a $1Mbps$, intentando transmitir en condiciones de saturación. La captura se realizó del lado del Access Point. La misma puede leerse usando el comando `CSV.read(\"datos/captura_wifi.csv\")` del paquete `CSV`. A su vez puede ser útil el paquete `DataFrames` para trabajar con el resultado. \n",
    "\n",
    "1. Filtre los datos correspondientes a las transmisiones de cada estación.\n",
    "2. Grafique la cantidad de paquetes transmitidos en función del tiempo y compare entre estaciones.\n",
    "3. Compare el throughput total obtenido con el resultante del modelo anterior y comente si el reparto fue equitativo."
   ]
  },
  {
   "cell_type": "markdown",
   "metadata": {},
   "source": [
    "## Ejercicio 2\n",
    "\n",
    "El objetivo del siguiente ejercicio es analizar el algoritmo de control de congestión de TCP, en particular en su versión Reno y validar algunos de los modelos teóricos vistos en clase.\n",
    "\n",
    "Para ello, se realizó una conexión directa entre dos máquinas Linux, y se utilizó la herramienta `tc` para convertir dicho enlace en un cuello de botella, limitando tanto la velocidad como el buffer (FIFO)\n",
    "del mismo.\n",
    "\n",
    "Se utilizó a su vez la herramienta `tcpprobe`, que permite extraer en tiempo real el valor de la ventana de congestión de TCP y del round trip time medido. Obteniéndose las trazas que se detallan más adelante.\n",
    "\n",
    "El formato de la traza tcp probe es el siguiente:\n",
    "\n",
    "`[time][src][dst][header length][next seq][last ack][cwnd][ssthresh][rcv wnd][srtt]`\n",
    "\n",
    "El `srtt` se expresa en múltiplos de kernel ticks, que en el caso de Linux corresponde a 4ms.\n",
    "\n",
    "Las trazas pueden leerse utilizando el comando `CSV.read(<archivo>, header=false)` (ya que no tienen encabezado). Los valores hexadecimales de no. de secuencia y ACK pueden convertirse a entero mediante el comando `parse(Int64,x)` siendo `x` un `String` con el valor.\n",
    "\n",
    "### 1a. parte: Análisis de un flujo TCP\n",
    "\n",
    "En esta parte, se analiza un único flujo TCP pasando por un cuello de botella de capacidad $C$, retardo de ida y vuelta (latencia) $d$ y buffer máximo $B$. Se proporcionan 3 trazas:    \n",
    "\n",
    "   1. `traza1Ma.tr`: C = 1 Mbps, d = 200 ms, B = 6 paquetes.\n",
    "   2. `traza1Mb.tr`: C = 1 Mbps, d = 200 ms, B = 17 paquetes.\n",
    "   3. `traza10M.tr`: C = 10 Mbps, d = 200 ms, B = 20 paquetes.\n",
    "\n",
    "Para los tres casos anteriores:\n",
    "\n",
    " 1. Estime la ventana óptima y la ventana máxima que puede lograr una conexión en el enlace y compare con el comportamiento real logrado por TCP. \n",
    " 2. Grafique la evolución de los números de secuencia enviados y calcule el throughput logrado por la conexión a partir de los mismos. Verifique si TCP logra utilizar toda la capacidad del enlace.\n",
    " 3. Para las trazas 1 y 2, verifique la fórmula de Mathis:\n",
    " \n",
    "     $$x = \\frac{L}{RTT}\\sqrt{\\frac{1.5}{\\beta p}},$$\n",
    "\n",
    "siendo $p$ la tasa de pérdida de paquetes. El parámetro $\\beta$ es la cantidad de paquetes por ACK en el caso\n",
    "en que se utiliza delayed-ACK. En Linux, $\\beta=2$. Para estimar $p$, asuma que se pierde un paquete por cada\n",
    "evento de congestión observado.\n",
    "\n",
    "\n",
    "### 2a. parte: Justicia en TCP\n",
    "\n",
    "En esta parte, se analizan varias conexiones TCP en paralelo. pasando por un cuello de botella de capacidad $C$, retardo de ida y vuelta (latencia) $d$ y buffer máximo $B$. Se proporciona una traza:\n",
    "\n",
    "`traza5M.tr`: C = 5 Mbps, d = 200 ms, B = 40 paquetes.\n",
    "\n",
    "Calcule la cantidad máxima de paquetes que admite esta configuración, y observe cómo se reparte la\n",
    "ventana entre las conexiones. ¿Se logra un reparto justo? Verifique lo anterior calculando el throughput\n",
    "de cada conexión a partir de los nos. de secuencia."
   ]
  }
 ],
 "metadata": {
  "@webio": {
   "lastCommId": null,
   "lastKernelId": null
  },
  "kernelspec": {
   "display_name": "Julia 1.5.2",
   "language": "julia",
   "name": "julia-1.5"
  },
  "language_info": {
   "file_extension": ".jl",
   "mimetype": "application/julia",
   "name": "julia",
   "version": "1.5.2"
  }
 },
 "nbformat": 4,
 "nbformat_minor": 4
}
