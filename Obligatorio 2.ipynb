{
 "cells": [
  {
   "cell_type": "markdown",
   "metadata": {},
   "source": [
    "# Curso Análisis de Redes\n",
    "\n",
    "## Cátedra de Teoría de las Telecomunicaciones - Universidad ORT Uruguay \n",
    "\n",
    "\n",
    "# Trabajo Obligatorio 2, curso 2020\n",
    "\n",
    "\n",
    "------\n",
    "\n",
    "### Datos de entrega:\n",
    "\n",
    "* **Fecha de entrega:** 14/12/2020\n",
    "* **Grupos:** Hasta 3 integrantes\n",
    "* **Modalidad de entrega:** cuaderno en PDF en gestion + repositorio Github\n",
    "\n",
    "-----"
   ]
  },
  {
   "cell_type": "code",
   "execution_count": 1,
   "metadata": {},
   "outputs": [],
   "source": [
    "#using Pkg;Pkg.instantiate(); Pkg.update()"
   ]
  },
  {
   "cell_type": "markdown",
   "metadata": {},
   "source": [
    "## Ejercicio 1\n",
    "\n",
    "El objetivo de este ejercicio es verificar el modelo de Bianchi de WiFi en condiciones idealizadas (simuladas) y sobre una captura real de WiFi 802.11b realizada en el laboratorio.\n",
    "\n",
    "### 1a. parte\n",
    "\n",
    "El siguiente código permite simular en Julia el proceso de Backoff que vimos en WiFi. Se define un objeto (`mutable struct`) que almacena el estado de los contadores internos, y lleva la cuenta de la cantidad de intentos de acceso, éxitos y colisiones obtenidas.\n",
    "\n",
    "Para construir una instancia, basta con realizar `station = BackoffProcess(CWmin,stages)` siendo `CWmin` la ventana mínima de backoff y `stages` el no. de duplicaciones. Por defecto todos los contadores se inicializan en $0$, la ventana en el mínimo y el contador se sortea uniforme."
   ]
  },
  {
   "cell_type": "code",
   "execution_count": 3,
   "metadata": {},
   "outputs": [],
   "source": [
    "using Distributions\n",
    "\n",
    "mutable struct BackoffProcess\n",
    "    \n",
    "    CWmin::Integer ##minimal backoff window\n",
    "    stages::Integer ##maximum number of duplications\n",
    "    w::Integer ##current backoff counter\n",
    "    s::Integer ##current stage\n",
    "    attempts::Integer\n",
    "    successes::Integer\n",
    "    collisions::Integer\n",
    "    \n",
    "    BackoffProcess(CWmin::Integer,stages::Integer)= new(CWmin,stages,rand(DiscreteUniform(0,CWmin-1)),0,0,0,0)\n",
    "end "
   ]
  },
  {
   "cell_type": "markdown",
   "metadata": {},
   "source": [
    "Los siguientes métodos permiten actualizar un objeto de tipo `BackoffProcess` en función de si lo que ocurre es un slot vacío, un slot de transmisión exitosa o una colisión."
   ]
  },
  {
   "cell_type": "code",
   "execution_count": 4,
   "metadata": {},
   "outputs": [
    {
     "data": {
      "text/plain": [
       "update_on_collision! (generic function with 1 method)"
      ]
     },
     "execution_count": 4,
     "metadata": {},
     "output_type": "execute_result"
    }
   ],
   "source": [
    "function update_on_idle!(st::BackoffProcess)\n",
    "    \n",
    "    @assert st.w>0 \"No deberia haber entrado aca ya que esta estación debía acceder\"\n",
    "    \n",
    "    st.w=st.w-1\n",
    "end\n",
    "\n",
    "function update_on_success!(st::BackoffProcess)\n",
    "    \n",
    "    if st.w>0\n",
    "        st.w=st.w-1\n",
    "    else\n",
    "        st.s=0\n",
    "        st.w=rand(DiscreteUniform(0,st.CWmin-1))\n",
    "        st.attempts=st.attempts+1\n",
    "        st.successes=st.successes+1\n",
    "    end\n",
    "end\n",
    "\n",
    "function update_on_collision!(st::BackoffProcess)\n",
    "    \n",
    "    if st.w>0\n",
    "        st.w=st.w-1\n",
    "    else\n",
    "        st.s=min(st.s+1,st.stages)\n",
    "        st.w=rand(DiscreteUniform(0,st.CWmin*2^st.s-1))\n",
    "        st.attempts=st.attempts+1\n",
    "        st.collisions=st.collisions+1\n",
    "    end\n",
    "end"
   ]
  },
  {
   "cell_type": "markdown",
   "metadata": {},
   "source": [
    "Se pide:\n",
    "\n",
    "1. Realice un código basado en los vistos en clase para simular una celda de $N$ estaciones intentando acceder utilizando el proceso de Backoff de WiFi con los parámetros habituales de 802.11b ($CW_{min}=32, CW_{max}=1024$) y los tiempos de slot, transmisión y colisión ya vistos en clase.\n",
    "\n",
    "\n",
    "2. Simule lo anterior para el caso de $N=5$ estaciones transmitiendo a $1Mbps$ durante 60 segundos. Grafique la evolución temporal del sistema (por ejemplo paquetes transmitidos).\n",
    "\n",
    "\n",
    "3. Estime de la simulación:\n",
    "   * El throughput total de la celda (total de paquetes enviados exitosamente sobre tiempo transcurrido).\n",
    "   * La probabilidad de acceso de cada estación.\n",
    "   * La probabilidad condicional de colisión de cada estación.\n",
    "   \n",
    "   \n",
    "4. Compare los resultados anteriores con los que surgen del modelo de Bianchi visto en clase."
   ]
  },
  {
   "cell_type": "markdown",
   "metadata": {},
   "source": [
    "### 2a. parte\n",
    "\n",
    "En el archivo `datos/captura_wifi.csv` se dispone del resumen de una captura Wireshark de $N=5$ estaciones en un AP conectadas a $1Mbps$, intentando transmitir en condiciones de saturación. La captura se realizó del lado del Access Point. La misma puede leerse usando el comando `CSV.read(\"datos/captura_wifi.csv\")` del paquete `CSV`. A su vez puede ser útil el paquete `DataFrames` para trabajar con el resultado. \n",
    "\n",
    "1. Filtre los datos correspondientes a las transmisiones de cada estación.\n",
    "2. Grafique la cantidad de paquetes transmitidos en función del tiempo y compare entre estaciones.\n",
    "3. Compare el throughput total obtenido con el resultante del modelo anterior y comente si el reparto fue equitativo."
   ]
  },
  {
   "cell_type": "markdown",
   "metadata": {},
   "source": [
    "## Ejercicio 2\n",
    "\n",
    "A completar con ejercicio de TCP (se publicará en la semana del 09/11)"
   ]
  }
 ],
 "metadata": {
  "kernelspec": {
   "display_name": "Julia 1.5.2",
   "language": "julia",
   "name": "julia-1.5"
  },
  "language_info": {
   "file_extension": ".jl",
   "mimetype": "application/julia",
   "name": "julia",
   "version": "1.5.2"
  }
 },
 "nbformat": 4,
 "nbformat_minor": 4
}
