{
 "cells": [
  {
   "cell_type": "markdown",
   "metadata": {
    "slideshow": {
     "slide_type": "slide"
    }
   },
   "source": [
    "# Análisis de Redes\n",
    "\n",
    "\n",
    "## Docente: Andrés Ferragut\n",
    "\n",
    "## Cátedra Teoría de las Telecomunicaciones - Universidad ORT Uruguay\n",
    "\n",
    "### Ingeniería en Electrónica y Telecomunicaciones\n",
    "\n"
   ]
  },
  {
   "cell_type": "markdown",
   "metadata": {
    "slideshow": {
     "slide_type": "slide"
    }
   },
   "source": [
    "## Objetivos del curso\n",
    "\n",
    "* Introducir herramientas de análisis (tanto matemáticas como de software) para comprender los fenómenos que ocurren en las redes.\n",
    "\n",
    "* Permitir modelar sistemas tipo *filas de espera*, las cuales permiten a su vez modelar diferentes componentes de un sistema interconectado.\n",
    "\n",
    "* Analizar desde una óptica de *desempeño* los problemas y protocolos de las diferentes capas que componen una red de computadoras.\n",
    "\n",
    "* Analizar el desempeño de protocolos reales utilizando trazas y simulaciones."
   ]
  },
  {
   "cell_type": "markdown",
   "metadata": {
    "slideshow": {
     "slide_type": "slide"
    }
   },
   "source": [
    "## Clases online y vías de contacto\n",
    "\n",
    "* El foco del curso estará en el *equipo de Teams*. En aulas figura el código de acceso.\n",
    "\n",
    "* Aulas funcionará de \"respaldo\" pero las discusiones e info más nueva estará en Teams.\n",
    "\n",
    "* Las clases online irán por Zoom en la reunión creada a tales efectos (link en Aulas y Teams).\n",
    "   * (Si están viendo esto en vivo es porque lo encontraron...)"
   ]
  },
  {
   "cell_type": "markdown",
   "metadata": {
    "slideshow": {
     "slide_type": "slide"
    }
   },
   "source": [
    "## Temario\n",
    "\n",
    "Los temas que cubriremos en el curso son los siguientes:\n",
    "\n",
    "1. Repaso de conceptos de probabilidad. Simulación de variables aleatorias.\n",
    "2. Cadenas de Markov de tiempo discreto y continuo.\n",
    "3. Introducción a la Teoría de colas.\n",
    "4. Análisis de protocolos inalámbricos. El caso de WiFi.\n",
    "5. Análisis de protocolos de transporte. El caso de TCP.\n",
    "6. Análisis de protocolos de ruteo."
   ]
  },
  {
   "cell_type": "markdown",
   "metadata": {
    "slideshow": {
     "slide_type": "slide"
    }
   },
   "source": [
    "## Material de referencia\n",
    "\n",
    "* El material de clase serán los **notebooks de jupyter**. Estarán disponibles en [Github](https://github.com/aferragu/analisisderedes).\n",
    "\n",
    "* Materiales adicionales serán incorporados a medida que avance el curso. Estarán en Aulas y en la pestaña \"Archivos\" de Teams.\n",
    "\n",
    "* Libro recomendado (para consulta, algún tema adicional, para profundizar):\n",
    "[Communication Networks, R. Srikant & L. Ying](https://www.cambridge.org/highereducation/books/communication-networks/C6CA8D83A3390C9022FB880119396312)"
   ]
  },
  {
   "cell_type": "markdown",
   "metadata": {
    "slideshow": {
     "slide_type": "slide"
    }
   },
   "source": [
    "## Software\n",
    "\n",
    "* La principal herramienta del curso es el software [Julia](https://julialang.org/).\n",
    "\n",
    "* Es un software libre, moderno y muy potente de análisis matemático.\n",
    "\n",
    "* Para correr código y trabajar en él, lo haremos mediante [jupyter notebooks](https://jupyter.org/index.html).\n",
    "\n",
    "* Para unir Julia con los notebooks, se requiere el paquete [IJulia](https://github.com/JuliaLang/IJulia.jl)."
   ]
  },
  {
   "cell_type": "markdown",
   "metadata": {
    "slideshow": {
     "slide_type": "slide"
    }
   },
   "source": [
    "### Instalación del software\n",
    "\n",
    "**Windows (y probablemente Mac)**:\n",
    "\n",
    "* Es conveniente instalar la distribución [Anaconda](https://www.anaconda.com/products/individual) de Python, que instala entre otras cosas el entorno de jupyter.\n",
    "\n",
    "* En paralelo, se baja e instala el julia de [la página oficial](https://julialang.org/).\n",
    "\n",
    "* Se abre la consola de Julia y se agrega el paquete IJulia con:\n",
    "\n",
    "`julia> ]`\n",
    "\n",
    "`pkg > add IJulia`\n",
    "\n",
    "* Una vez hecho esto, se puede lanzar `jupyter` desde la interfaz de Anaconda y se pueden crear y correr notebooks de Julia."
   ]
  },
  {
   "cell_type": "markdown",
   "metadata": {
    "slideshow": {
     "slide_type": "slide"
    }
   },
   "source": [
    "### Instalación del software\n",
    "\n",
    "**Linux**:\n",
    "\n",
    "* El método anterior también funciona (y puede ser mejor).\n",
    "* Se puede alternativamente instalar directamente Julia y el paquete IJulia\n",
    "* Luego desde la consola de julia el comando:\n",
    "\n",
    "`julia> notebook()`\n",
    "\n",
    "inicia los notebooks."
   ]
  },
  {
   "cell_type": "markdown",
   "metadata": {
    "slideshow": {
     "slide_type": "slide"
    }
   },
   "source": [
    "### Instalación del software: alternativas en línea.\n",
    "\n",
    "* Existen algunas alternativas en línea que permiten correr notebooks en Julia.\n",
    "* La más estable actualmente es [CoCalc](https://cocalc.com/)\n",
    "* Se puede usar Github para ver los notebooks (pero no correrlos). Se pueden correr en [binder](https://mybinder.org/) pero no guardar ni hacer entregas allí..."
   ]
  },
  {
   "cell_type": "markdown",
   "metadata": {
    "slideshow": {
     "slide_type": "slide"
    }
   },
   "source": [
    "## Aprobación del curso\n",
    "\n",
    "Tres instancias de evaluación:\n",
    "\n",
    " * Obligatorio 1: Fecha de entrega 25/10/2021 (por gestión). 35 puntos (15 mínimo). Grupos de a 3.\n",
    " * Obligatorio 2: Fecha de entrega 6/12/2021 (por gestión). 35 puntos (15 mínimo). Grupos de a 3.\n",
    " * Ejercicios de clase: trabajo continuo. Se entrega al final del curso. 30 puntos.\n",
    " \n",
    "**Aprobación**: total $\\geq$ 86, aprueba el crédito total (exonera), $70\\leq$ total $<86$, examen.\n",
    " "
   ]
  },
  {
   "cell_type": "markdown",
   "metadata": {
    "slideshow": {
     "slide_type": "slide"
    }
   },
   "source": [
    " ## Modalidad de trabajo y entrega\n",
    " \n",
    " * Los obligatorios son \"ejercicios largos\" de análisis y desarrollo de algún ejemplo o protocolo, a realizar en grupo. Se entrega un notebook con el análisis.\n",
    " \n",
    " * Los ejercicios de clase estarán en los notebooks de clase, y la idea es trabajarlos mayormente durante el curso e ir armando la \"carpeta\" para entregar.\n",
    " \n",
    " * Para manejar las entregas, usaremos una organización de Github Classrooms: esto les genera repositorios de base para trabajar a cada grupo y permite mantenernos conectados mediante una organización de Github.\n",
    " "
   ]
  }
 ],
 "metadata": {
  "@webio": {
   "lastCommId": null,
   "lastKernelId": null
  },
  "hide_input": false,
  "kernelspec": {
   "display_name": "Julia 1.6.2",
   "language": "julia",
   "name": "julia-1.6"
  },
  "language_info": {
   "file_extension": ".jl",
   "mimetype": "application/julia",
   "name": "julia",
   "version": "1.6.2"
  },
  "latex_envs": {
   "LaTeX_envs_menu_present": true,
   "autoclose": false,
   "autocomplete": true,
   "bibliofile": "biblio.bib",
   "cite_by": "apalike",
   "current_citInitial": 1,
   "eqLabelWithNumbers": true,
   "eqNumInitial": 1,
   "hotkeys": {
    "equation": "Ctrl-E",
    "itemize": "Ctrl-I"
   },
   "labels_anchors": false,
   "latex_user_defs": false,
   "report_style_numbering": false,
   "user_envs_cfg": false
  }
 },
 "nbformat": 4,
 "nbformat_minor": 4
}
