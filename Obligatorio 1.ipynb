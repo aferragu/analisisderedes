{
 "cells": [
  {
   "cell_type": "markdown",
   "metadata": {},
   "source": [
    "# Curso Análisis de Redes\n",
    "\n",
    "## Cátedra de Teoría de las Telecomunicaciones - Universidad ORT Uruguay \n",
    "\n",
    "\n",
    "# Trabajo Obligatorio 1, curso 2020\n",
    "\n",
    "\n",
    "------\n",
    "\n",
    "### Datos de entrega:\n",
    "\n",
    "* **Fecha de entrega:** 8/10/2020\n",
    "* **Grupos:** Hasta 3 integrantes\n",
    "* **Modalidad de entrega:** cuaderno en PDF en gestion + repositorio Github\n",
    "\n",
    "-----"
   ]
  },
  {
   "cell_type": "markdown",
   "metadata": {},
   "source": [
    "## Ejercicio 1\n",
    "\n",
    "Se considera un sistema de cola en \"batch\" o bloques. Los trabajos llegan como un proceso de Poisson de intensidad $\\lambda$. El sistema encola los trabajos que llegan, y tiene capacidad de servir hasta $K$ trabajos en simultáneo, siendo la duración de este servicio $\\exp(\\mu)$.\n",
    "\n",
    "Hipótesis: Si un trabajo llega, aunque no haya $K$ es atendido de todos modos. Si un trabajo llega y hay menos de $K$ en servicio, se agrega al batch actual y se comienza a atender inmediatamente.\n",
    "\n",
    "Sea $X(t)$ el no. de trabajos en el sistema.\n",
    "\n",
    "1. Modele el sistema como una cadena de Markov de tiempo continuo. Dé el diagrama de estados y transiciones.\n",
    "2. Argumente que la condición de estabilidad de este sistema debe ser $\\lambda < K\\mu$.\n",
    "3. Escriba la ecuación de balance global para un estado $k\\geqslant 1$.\n",
    "4. Proponga una solución de las ecuaciones de balance de la forma: $$\\pi_k = (1-r)r^k,$$ y halle una condición que debe cumplir $r$ para que sea efectivamente solución.\n",
    "5. Muestre que la condición anterior siempre tiene solución $0<r<1$ si $\\lambda < K\\mu$.\n",
    "6. Calcule la ocupación media del sistema, y usando la ley de Little y la condición para $r$, muestre que el *retardo de cola* satisface: $$\\bar{V} = \\frac{r^{K+1}}{\\lambda(1-r)}.$$\n",
    "7. Para $\\lambda=10$, $\\mu=1$, grafique el retardo de cola anterior y halle el tamaño de batch $K$ para que dicho retardo sea menor a $1$ (es decir, al retardo de servicio).\n",
    "8. Simule el sistema anterior y verifique que el retardo medio cumple lo efectivamente calculado.\n",
    "9. Para hacer un modelo más realista, suponga que no se pueden agregar trabajos a un batch ya en curso. Simule nuevamente en este caso y compare la performance, en particular si el retardo se ve afectado."
   ]
  },
  {
   "cell_type": "markdown",
   "metadata": {},
   "source": [
    "## Ejercicio 2\n",
    "\n",
    "En los sistemas celulares basados en CDMA (por ejemplo 3G y 4G) las radiobases tienen la capacidad de hacer \"cell-breathing\", es decir, ajustar el \"radio\" de la celda en función de los códigos utilizados. Nos interesa dimensionar una celda dada.\n",
    "\n",
    "Suponga que en una región dada la *densidad temporal de llamadas* en hora pico es de $\\nu = 60$ llamadas/(min km^2). La llamada típica dura en promedio $2$ min.\n",
    "\n",
    "La radiobase tiene $C=50$ circuitos disponibles para llamadas de voz en simultáneo.\n",
    "\n",
    "1. Calcule el tráfico máximo que soporta la celda, si se quiere mantener una probabilidad de bloqueo de:\n",
    " * B<0.001\n",
    " * B<0.0001\n",
    " \n",
    "2. Para ambos casos, deducir el área máxima de la celda y por consiguiente (asumiendo celdas circulares) el radio máximo de alcance previsto.\n",
    "\n",
    "3. Para el primer caso, simule el proceso de arribo de llamadas y verifique que la probabilidad de bloqueo es efectivamente la deseada."
   ]
  }
 ],
 "metadata": {
  "kernelspec": {
   "display_name": "Julia 1.5.2",
   "language": "julia",
   "name": "julia-1.5"
  },
  "language_info": {
   "file_extension": ".jl",
   "mimetype": "application/julia",
   "name": "julia",
   "version": "1.5.2"
  }
 },
 "nbformat": 4,
 "nbformat_minor": 4
}
