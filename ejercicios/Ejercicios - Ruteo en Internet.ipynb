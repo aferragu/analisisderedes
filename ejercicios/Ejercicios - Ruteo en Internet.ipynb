{
 "cells": [
  {
   "cell_type": "markdown",
   "metadata": {},
   "source": [
    "# Curso Análisis de Redes\n",
    "\n",
    "## Cátedra Teoría de las Telecomunicaciones - Universidad ORT Uruguay\n",
    "\n",
    "\n",
    "# Ejercicios de ruteo en Internet."
   ]
  },
  {
   "cell_type": "markdown",
   "metadata": {},
   "source": [
    "## Ejercicio 1\n",
    "\n",
    "Para la red de la figura, calcular los caminos más cortos al nodo $1$ usando el algortimo de Dijkstra manualmente, construir la tabla de Dijkstra, y verificar con el código provisto. \n",
    "\n",
    "![Ej. Dijkstra](../images/ej_dijkstra.png)"
   ]
  },
  {
   "cell_type": "markdown",
   "metadata": {},
   "source": [
    "## Ejercicio 2\n",
    "\n",
    "Considere la siguiente red de ejemplo:\n",
    "\n",
    "<img style=\"float:centre;width:75%\" src=\"../images/conteo_infinito_ej.png\" />\n",
    "\n",
    "\n",
    "1. Describa las tablas de ruteo de Vector distancia en régimen.\n",
    "2. Suponga que se cae el enlace $1\\leftrightarrow 2$. Describa qué ocurre con las actualizaciones hasta convergencia.\n",
    "3. ¿Cómo cambia la respuesta anterior en el caso de que esté implementado horizonte dividido?\n"
   ]
  }
 ],
 "metadata": {
  "@webio": {
   "lastCommId": null,
   "lastKernelId": null
  },
  "kernelspec": {
   "display_name": "Julia 1.5.3",
   "language": "julia",
   "name": "julia-1.5"
  },
  "language_info": {
   "file_extension": ".jl",
   "mimetype": "application/julia",
   "name": "julia",
   "version": "1.5.3"
  },
  "latex_envs": {
   "LaTeX_envs_menu_present": true,
   "autoclose": false,
   "autocomplete": true,
   "bibliofile": "biblio.bib",
   "cite_by": "apalike",
   "current_citInitial": 1,
   "eqLabelWithNumbers": true,
   "eqNumInitial": 1,
   "hotkeys": {
    "equation": "Ctrl-E",
    "itemize": "Ctrl-I"
   },
   "labels_anchors": false,
   "latex_user_defs": false,
   "report_style_numbering": false,
   "user_envs_cfg": false
  }
 },
 "nbformat": 4,
 "nbformat_minor": 4
}
