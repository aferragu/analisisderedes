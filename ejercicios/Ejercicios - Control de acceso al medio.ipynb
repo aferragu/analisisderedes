{
 "cells": [
  {
   "cell_type": "markdown",
   "metadata": {},
   "source": [
    "# Curso Análisis de Redes\n",
    "\n",
    "## Cátedra Teoría de las Telecomunicaciones - Universidad ORT Uruguay\n",
    "\n",
    "\n",
    "# Ejercicios de control de acceso al medio."
   ]
  },
  {
   "cell_type": "markdown",
   "metadata": {},
   "source": [
    "## Ejercicio 1\n",
    "\n",
    "1. Realizar un análisis por ciclos, en condiciones de saturación, del protocolo CSMA con $N$ estaciones accediendo con probabilidad $p$.\n",
    "\n",
    "2. Calcular el Throughput y graficar en función de la probabilidad de acceso.\n",
    "\n",
    "3. Realizar un simulador de este protocolo."
   ]
  },
  {
   "cell_type": "markdown",
   "metadata": {},
   "source": [
    "## Ejercicio 2: un primer modelo de WiFi\n",
    "\n",
    "Consideremos la norma WiFi IEEE 802.11. En un principio esta norma trabajaba únicamente a $1Mbps$, pero en la revisión $802.11b$ se llevó hasta $11Mbps$. El tamaño de slot se fijó en $20\\mu s$, y el tamaño típico de paquete es de $1500$ bytes ($12000$ bits). A su vez, la ventana mínima del Binary exponential backoff es $W_0=32$. Se permitía habilitar el RTS/CTS.\n",
    "\n",
    "En una primera aproximación podemos modelar este sistema como un CSMA con o sin RTS/CTS. Los tiempos involucrados son:\n",
    "\n",
    "* Tiempo de espera a medio libre (DIFS): $50\\mu s$.\n",
    "* Tiempo de transmisión de un paquete: $T_{datos} + T_{PHY} + T_{MAC} + T_{ack}$ siendo:\n",
    "    * $T_{PHY} = 192 \\mu s$\n",
    "    * $T_{MAC} = 160 $bits (transmitidos a la misma velocidad que los datos).\n",
    "    * $T_{ack} = T_{PHY} + 10 \\mu s + 14 bytes$ (transmitidos a la misma velocidad que los datos).\n",
    "    \n",
    "* Para el caso de RTS/CTS:\n",
    "    * $T_{RTS} = T_{PHY} + 10 \\mu s + 20 bytes = 362 \\mu s$ (los bytes van transmitidos a 1Mbps).\n",
    "    * $T_{CTS} = T_{PHY} + 10 \\mu s + 14 bytes = 314 \\mu s$ (los bytes van transmitidos a 1Mbps).\n",
    "    \n",
    "* Como $W_0=32$, podemos aproximar en primera instancia la probabilidad de acceso por $p=1/16$ (se accede 1 de cada 16 slots en promedio).\n",
    "\n",
    "Realizar los análisis por ciclos de este sistema para $N$ estaciones, con la probabilidad $p$ supuesta antes y los tiempos involucrados, suponiendo:\n",
    "\n",
    "   1. Capa física de $1Mbps$, acceso básico.\n",
    "   2. Capa física de $1Mbps$, acceso RTS/CTS.\n",
    "   3. Capa física de $11Mbps$, acceso básico.\n",
    "   4. Capa física de $11Mbps$, acceso RTS/CTS.\n",
    "\n",
    "Graficar el throughput que se puede lograr en función de la cantidad de estaciones para cada caso."
   ]
  },
  {
   "cell_type": "markdown",
   "metadata": {},
   "source": [
    "## Ejercicio 3\n",
    "\n",
    "Considere la norma IEEE 802.11b básica de 1Mbps. Suponga que hay $N=5$ estaciones y se utilizan paquetes de largo $L=1500$ bytes. La ventana básica es $CW_{min}=32$ y la ventana máxima $CW_{max}=1024$, correspondiente a $5$ duplicaciones. Los restantes tiempos de transmisión y slot son como antes.\n",
    "\n",
    "1. Resuelva el sistema de ecuaciones del modelo de Bianchi para esta celda y calcule la probabilidad neta de acceso.\n",
    "\n",
    "2. Realice el análisis por ciclos resultante y calcule el Throughput neto de la celda suponiendo que se usa RTS/CTS y que no. Compare los resultados y compare con el ejercicio del cuaderno anterior.\n",
    "\n",
    "Algunos datos de la norma:\n",
    "\n",
    "* Tiempo de espera a medio libre (DIFS): $50\\mu s$.\n",
    "* Tiempo de transmisión de un paquete: $T_{datos} + T_{PHY} + T_{MAC} + T_{ack}$ siendo:\n",
    "    * $T_{PHY} = 192 \\mu s$\n",
    "    * $T_{MAC} = 160 $bits (transmitidos a la misma velocidad que los datos).\n",
    "    * $T_{ack} = T_{PHY} + 10 \\mu s + 14 bytes$ (transmitidos a la misma velocidad que los datos).\n",
    "    \n",
    "* Para el caso de RTS/CTS:\n",
    "    * $T_{RTS} = T_{PHY} + 10 \\mu s + 20 bytes = 362 \\mu s$ (los bytes van transmitidos a 1Mbps).\n",
    "    * $T_{CTS} = T_{PHY} + 10 \\mu s + 14 bytes = 314 \\mu s$ (los bytes van transmitidos a 1Mbps)."
   ]
  }
 ],
 "metadata": {
  "kernelspec": {
   "display_name": "Julia 1.5.3",
   "language": "julia",
   "name": "julia-1.5"
  },
  "language_info": {
   "file_extension": ".jl",
   "mimetype": "application/julia",
   "name": "julia",
   "version": "1.5.3"
  },
  "latex_envs": {
   "LaTeX_envs_menu_present": true,
   "autoclose": false,
   "autocomplete": true,
   "bibliofile": "biblio.bib",
   "cite_by": "apalike",
   "current_citInitial": 1,
   "eqLabelWithNumbers": true,
   "eqNumInitial": 1,
   "hotkeys": {
    "equation": "Ctrl-E",
    "itemize": "Ctrl-I"
   },
   "labels_anchors": false,
   "latex_user_defs": false,
   "report_style_numbering": false,
   "user_envs_cfg": false
  }
 },
 "nbformat": 4,
 "nbformat_minor": 4
}
