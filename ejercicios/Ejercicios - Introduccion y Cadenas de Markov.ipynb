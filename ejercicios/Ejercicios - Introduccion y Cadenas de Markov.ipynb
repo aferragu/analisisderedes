{
 "cells": [
  {
   "cell_type": "markdown",
   "metadata": {},
   "source": [
    "# Curso Análisis de Redes\n",
    "\n",
    "## Cátedra Teoría de las Telecomunicaciones - Universidad ORT Uruguay\n",
    "\n",
    "\n",
    "\n",
    "# Ejercicios de introducción y Cadenas de Markov"
   ]
  },
  {
   "cell_type": "markdown",
   "metadata": {},
   "source": [
    "## Ejercicio 1\n",
    "\n",
    "1. Construir una función que sortee una moneda que tiene probabilidad $p$ de salir cara y repita el experimento  las veces que haga falta hasta obtener cara.\n",
    "\n",
    "2. La variable anterior debería tener distribución geométrica. Repite $n$ sorteos del procedimiento anterior y realice un histograma y la distribución empírica, comparando con la distribución teórica.\n",
    "\n",
    "3. Suponga ahora que tenemos un horizonte largo de tiempo $N$, Construya una función que:\n",
    " * Repita los sorteos anteriores hasta acumular $N$ o más intentos.\n",
    " * Devuelva la cantidad de veces que hubo éxito en todo el intervalo.\n",
    " \n",
    " Notar que lo anterior debería tener distribución $Bin(N,p)$. Realizar el experimento varias veces y comparar con el caso teórico.\n",
    " \n",
    "4. Supongamos que la persona que tira la moneda lo hace cada vez más rápido (por ejemplo, le lleva tiempo $1/k$ y no $1$), pero la moneda tiene cada vez menos probabilidad de salir cara. Más formalmente, supongamos que:\n",
    "$$k\\to\\infty \\quad \\text{ y } \\quad kp \\to\\lambda$$\n",
    "\n",
    "Simular la variable $Y= X/k$ con $X\\sim Geo(kp)$ y mostrar que para $k$ grande y $kp\\to\\lambda$, la distribución converge a una exponencial."
   ]
  },
  {
   "cell_type": "markdown",
   "metadata": {},
   "source": [
    "## Ejercicio 2\n",
    "\n",
    "Se considera una máquina en una fábrica que funciona continuamente. En cada día, la máquina tiene probabilidad de romperse. Cuando se rompe, puede llevar varios días repararla. Más específicamente, hay una probabilidad $p_1$ de que se rompa y esté rota un día, $p_2$ de que lo esté dos días o $p_3$ de tres días. Suponemos que $p_1+p_2+p_3\\leqslant 1$.\n",
    "\n",
    "Sea $X_n =$“días que faltan hasta que la máquina funcione nuevamente”, donde $X_n = 0$ representa que la máquina funciona correctamente.\n",
    "\n",
    "1. Modele $X_k$ como una cadena de Markov. Dé el diagrama de estados y transiciones.\n",
    "2. Para $p_1 = p_2 = p_3 = 1/6$ dé la matriz de transiciones $P$ y calcule la distribución de régimen $\\pi$.\n",
    "3. Para el caso anterior, calcule la proporción de días que la máquina funciona correctamente.\n",
    "4. Simule la cadena anterior usando las funciones ya vistas y compare la distribución invariante con la hallada.\n"
   ]
  },
  {
   "cell_type": "markdown",
   "metadata": {},
   "source": [
    "## Ejercicio 3\n",
    "\n",
    "Modifique el paseo al azar de tiempo discreto para que la probabilidad de ir de $k\\to k+1$ sea $p$ y $k\\to k-1$ sea $q$ con $p$ y $q$ tales que $p+q\\leqslant 1$. Utilizando las simulaciones, identifique cuál es la condición para que exista régimen,"
   ]
  },
  {
   "cell_type": "markdown",
   "metadata": {},
   "source": [
    "## Ejercicio 4\n",
    "\n",
    "Un sistema de transmisión con control de congestión por ventanas funciona del siguiente modo. En cada\n",
    "transmisión de una ventana (tiempo discreto) transmite $W = 2^n$ paquetes dependiendo del estado. Dichos\n",
    "paquetes pueden ser recibidos con éxito (no hay congestión) con probabilidad $p$, o perderse alguno con\n",
    "probabilidad $1 − p$, en cuyo caso se baja la ventana a $W = 1$ y se comienza nuevamente. Si se llega a\n",
    "$W = 8$ se mantiene en ese nivel mientras no pierda paquetes. Sea $X_k$ el estado actual de transmisión.\n",
    "\n",
    " 1. Modele $X_k$ como una cadena de Markov de tiempo discreto. Dé el diagrama de estados y transiciones y la matriz $P$ de la cadena.\n",
    " 2. Discuta en qué casos la cadena es irreducible y aperiódica.\n",
    " 3. Hallar la distribución invatiante en aquellos casos que exista.\n",
    " 4. Calcule, en función de la prob. de congestión $p$:\n",
    "       1. La proporción de tiempo que el sistema logra trabajar al máximo de capacidad.\n",
    "       2. La cantidad media de paquetes por slot que el sistema logra transmitir (ventana media, $\\bar{W}$).\n",
    "\n",
    " 5. Simule el caso $p=1/2$, muestre que la ventana media es $\\bar{W}=2.5$ y compare con la simulación.\n"
   ]
  },
  {
   "cell_type": "markdown",
   "metadata": {},
   "source": [
    "## Ejercicio 5\n",
    "\n",
    "Considere un sistema en el cual:\n",
    "\n",
    " * Llegan trabajos a tasa $\\lambda$ cada un tiempo exponencial.\n",
    " * Los trabajos se sirven \"todos juntos\", una vez que se juntan $K$ trabajos. Esto lleva un tiempo exponencial de  media $1/\\mu$. Durante este tiempo no se aceptan nuevos trabajos.\n",
    " \n",
    "1. Analice $X(t) = $cantidad de trabajos en el sistema como una cadena de Markov de tiempo continuo. Hallar la matriz $Q$ y la distribución de régimen. \n",
    "\n",
    "2. Simular la cadena anterior para $K=10$.\n",
    "\n",
    "3. Discutir cuál sería el \"retardo medio\" que ve un trabajo en este sistema."
   ]
  }
 ],
 "metadata": {
  "kernelspec": {
   "display_name": "Julia 1.5.3",
   "language": "julia",
   "name": "julia-1.5"
  },
  "language_info": {
   "file_extension": ".jl",
   "mimetype": "application/julia",
   "name": "julia",
   "version": "1.5.3"
  },
  "latex_envs": {
   "LaTeX_envs_menu_present": true,
   "autoclose": false,
   "autocomplete": true,
   "bibliofile": "biblio.bib",
   "cite_by": "apalike",
   "current_citInitial": 1,
   "eqLabelWithNumbers": true,
   "eqNumInitial": 1,
   "hotkeys": {
    "equation": "Ctrl-E",
    "itemize": "Ctrl-I"
   },
   "labels_anchors": false,
   "latex_user_defs": false,
   "report_style_numbering": false,
   "user_envs_cfg": false
  }
 },
 "nbformat": 4,
 "nbformat_minor": 4
}
