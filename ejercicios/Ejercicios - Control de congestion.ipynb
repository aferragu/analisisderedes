{
 "cells": [
  {
   "cell_type": "markdown",
   "metadata": {},
   "source": [
    "# Curso Análisis de Redes\n",
    "\n",
    "## Cátedra Teoría de las Telecomunicaciones - Universidad ORT Uruguay\n",
    "\n",
    "\n",
    "\n",
    "# Ejercicios de control de congestión"
   ]
  },
  {
   "cell_type": "markdown",
   "metadata": {},
   "source": [
    "## Ejercicio 1\n",
    "\n",
    "Considere un enlace cuello de botella de capacidad $100$ paquetes por segundo y retardo de ida y vuelta $d=100ms$. Suponga que el buffer a la entrada del enlace admite hasta $5$ paquetes.\n",
    "\n",
    "1. Calcule la ventana óptima de transmisión y la cantidad máxima de paquetes en vuelo.\n",
    "2. Dibuje la evolución de la ventana de TCP/Reno arrancando de $W=1$ hasta que llega a régimen, incluyendo las fases slow-start y congestion-avoidance. Suponga que el ssthresh es 40 paquetes (aprox. 64K en implementaciones reales).\n",
    "3. ¿Se logra trabajar 100% del tiempo a la máxima velocidad?\n",
    "4. ¿Cuál es la probabilidad de pérdida de paquetes en régimen?"
   ]
  },
  {
   "cell_type": "markdown",
   "metadata": {},
   "source": [
    "## Ejercicio 2\n",
    "\n",
    "Considere la siguiente red, cuyas restricciones de capacidad se diagraman a continuación:\n",
    "\n",
    "![Three links](../images/three_links.png)\n",
    "\n",
    "1. Discutir cuál es la región Pareto-eficiente.\n",
    "2. Calcular cuál(es) asignaciones son de máximo throughput.\n",
    "3. Calcular la asignación max-min mediante el algoritmo de water-filling.\n",
    "4. Calcular la asignación de TCP/Reno. Puede suponer inicialmente que los enlaces saturados son los mismos que en max-min como hipótesis inicial (pero deberá verificarla)."
   ]
  }
 ],
 "metadata": {
  "@webio": {
   "lastCommId": null,
   "lastKernelId": null
  },
  "kernelspec": {
   "display_name": "Julia 1.5.3",
   "language": "julia",
   "name": "julia-1.5"
  },
  "language_info": {
   "file_extension": ".jl",
   "mimetype": "application/julia",
   "name": "julia",
   "version": "1.5.3"
  },
  "latex_envs": {
   "LaTeX_envs_menu_present": true,
   "autoclose": false,
   "autocomplete": true,
   "bibliofile": "biblio.bib",
   "cite_by": "apalike",
   "current_citInitial": 1,
   "eqLabelWithNumbers": true,
   "eqNumInitial": 1,
   "hotkeys": {
    "equation": "Ctrl-E",
    "itemize": "Ctrl-I"
   },
   "labels_anchors": false,
   "latex_user_defs": false,
   "report_style_numbering": false,
   "user_envs_cfg": false
  }
 },
 "nbformat": 4,
 "nbformat_minor": 4
}
