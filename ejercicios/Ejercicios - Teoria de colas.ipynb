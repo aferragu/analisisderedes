{
 "cells": [
  {
   "cell_type": "markdown",
   "metadata": {},
   "source": [
    "# Curso Análisis de Redes\n",
    "\n",
    "## Cátedra Teoría de las Telecomunicaciones - Universidad ORT Uruguay\n",
    "\n",
    "\n",
    "# Ejercicios de Teoría de Colas"
   ]
  },
  {
   "cell_type": "markdown",
   "metadata": {},
   "source": [
    "## Pregunta 1 (multiplexado de capacidad).\n",
    "\n",
    "Supongamos que tenemos un sistema al que llegan clientes con tasa $N\\lambda$. Cada cliente tiene un trabajo de tiempo exponencial de parámetro $\\mu$. Compare las siguientes situaciones:\n",
    "\n",
    " * Los clientes al llegar son enviados a una de $N$ colas al azar, donde cada una es atendida por un servidor de velocidad $1$.\n",
    " \n",
    " * Los clientes son todos puestos en una única cola de velocidad $N$.\n",
    " \n",
    "¿Cuál sistema le parece mejor? ¿Qué puede decir sobre el retardo medio en uno y otro sistema?\n",
    "\n",
    "**Nota:** la respuesta a esta pregunta es la base de las redes \"de datagramas\" como Internet (Kleinrock, 1969)."
   ]
  },
  {
   "cell_type": "markdown",
   "metadata": {},
   "source": [
    "## Ejercicio 2\n",
    "\n",
    "Se considera un sistema de fila de espera en el cual la cantidad de servidores se adapta a la carga. En particular consideremos el siguiente modelo simplificado:\n",
    "\n",
    "* Los trabajos llegan como un proceso de Poisson de intensidad $\\lambda$.\n",
    "* Todos los trabajos tienen una duración $\\exp(\\mu)$.\n",
    "* Si hay menos de $K$ trabajos (en servicio + en espera), se mantiene un único servidor encendido.\n",
    "* Si hay $K$ trabajos o más, se enciende un segundo servidor idéntico.\n",
    "\n",
    "1. Realice un modelo de Markov para este proceso. Analice su estabilidad\n",
    "2. Para el caso $\\lambda=\\mu=1$, calcule la distribución invariante del sistema.\n",
    "3. Deduzca (analítica o numéricamente) la ocupación media del sistema y el retardo medio.\n",
    "4. Investigue cuál es el *máximo* valor de $K$ que cumple que $\\bar{W}<4$.\n",
    "5. Simule el sistema y estudie su comportamiento empírico para validar los cálculos anteriores."
   ]
  },
  {
   "cell_type": "markdown",
   "metadata": {},
   "source": [
    "## Ejercicio 3\n",
    "\n",
    "Un concentrador telefónico fue diseñado para operar con $C = 30$ circuitos. Las llamadas llegan a tasa\n",
    "$\\lambda = 300$ llamadas por hora y tienen una duración media de $3$ min.\n",
    "\n",
    " 1. Calcule usando la recursión de Erlang provista la probabilidad de bloqueo del sistema. Coteje con la [tabla de Erlang](https://www.pitt.edu/~dtipper/2110/erlang-table.pdf).\n",
    " 2. Indique cuál es la tasa máxima de llamadas que puede recibir el sistema, asumiendo que la duración se mantiene, sin que el grado de servicio supere el 0.5\\% ($B<0.005$).\n",
    " 3. Debido a un cambio en la tarifa, las llamadas pasan a durar en media $5$ min. Calcule cuántos circuitos se deben agregar para mantener el grado de servicio.\n",
    " 4. Simule el sistema y verifique lo obtenido anteriormente."
   ]
  },
  {
   "cell_type": "markdown",
   "metadata": {},
   "source": [
    "## Ejercicio 4\n",
    "\n",
    "Un call center está dividido en dos etapas: la primera etapa dispone de $C$ lı́neas donde se reciben llamadas como un proceso de Poisson de intensidad $\\lambda$, y cada una es atendida por un técnico de primer nivel. Supondremos que si un usuario llama y no hay lı́neas disponibles, el mismo es bloqueado y deja el sistema\n",
    "inmediatamente.\n",
    "\n",
    "Al culminar la primera etapa, o bien el usuario se va satisfecho (con probabilidad $1-p$), o bien es pasado a un técnico de segundo nivel (con probabilidad $p$). El técnico de segundo nivel es uno solo y las llamadas entrantes son puestas en espera si éste está ocupado.\n",
    "\n",
    "   1. Dé un diagrama de bloques del sistema usando colas de las vistas en el curso.\n",
    "   2. Si se sabe que $\\lambda = 8$ llamadas/min, y que la duración media de llamada en el primer nivel es $1/\\mu_1 = 4$ min., halle la cantidad de circuitos necesarios en el primer nivel para que la probabildad de rechazo sea $B ≈ 0.05$.\n",
    "   3. Asumiendo que $B = 0.05$, calcule $\\lambda_2$, la tasa media de salida de la primera etapa.\n",
    "   4. Si en el segundo nivel la duración media de atención es $1/\\mu_2$ = 2 min. calcule el máximo valor de $p$ que permite que el 2o. nivel opere de forma estable.\n",
    "   5. Si el gerente desea que el retardo medio total en el sistema de un cliente que pasa por las dos etapas sea < 10 min., calcule el máximo valor de p que permite cumplir con el pedido."
   ]
  }
 ],
 "metadata": {
  "@webio": {
   "lastCommId": null,
   "lastKernelId": null
  },
  "kernelspec": {
   "display_name": "Julia 1.5.3",
   "language": "julia",
   "name": "julia-1.5"
  },
  "language_info": {
   "file_extension": ".jl",
   "mimetype": "application/julia",
   "name": "julia",
   "version": "1.5.3"
  },
  "latex_envs": {
   "LaTeX_envs_menu_present": true,
   "autoclose": false,
   "autocomplete": true,
   "bibliofile": "biblio.bib",
   "cite_by": "apalike",
   "current_citInitial": 1,
   "eqLabelWithNumbers": true,
   "eqNumInitial": 1,
   "hotkeys": {
    "equation": "Ctrl-E",
    "itemize": "Ctrl-I"
   },
   "labels_anchors": false,
   "latex_user_defs": false,
   "report_style_numbering": false,
   "user_envs_cfg": false
  }
 },
 "nbformat": 4,
 "nbformat_minor": 4
}
