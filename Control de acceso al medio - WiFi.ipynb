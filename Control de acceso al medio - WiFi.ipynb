{
 "cells": [
  {
   "cell_type": "markdown",
   "metadata": {
    "slideshow": {
     "slide_type": "slide"
    }
   },
   "source": [
    "# Curso Análisis de Redes\n",
    "\n",
    "## Cátedra Teoría de las Telecomunicaciones - Universidad ORT Uruguay\n",
    "\n",
    "\n",
    "\n",
    "# Modelado de la capa MAC de WiFi"
   ]
  },
  {
   "cell_type": "code",
   "execution_count": 1,
   "metadata": {
    "slideshow": {
     "slide_type": "skip"
    }
   },
   "outputs": [],
   "source": [
    "#using Pkg;Pkg.instantiate(); Pkg.update()"
   ]
  },
  {
   "cell_type": "markdown",
   "metadata": {
    "slideshow": {
     "slide_type": "slide"
    }
   },
   "source": [
    "## El estandar IEEE 802.11\n",
    "\n",
    "El [estándar IEEE 802.11](https://www.ieee802.org/11/) se creó para definir un tronco común de\n",
    "desarrollo de redes de área local inalámbricas (WLAN).\n",
    "\n",
    "Un poco de historia:\n",
    "\n",
    " * **1997:** Aparece el IEEE 802.11, hoy legacy.\n",
    " * **1999:** 802.11a, capa física de 54Mbps (5GHz).\n",
    " * **1999:** 802.11b, capa física de 11Mbps (2.4GHz).\n",
    " * **2000:** Se crea la WiFi Alliance.\n",
    " * **2003:** 802.11g, capa física de 54Mbps (2.4GHz).\n",
    " * **2005:** 802.11e, QoS Capabilities, service differentiation.\n",
    " * **2007:** 802.11-2007, norma que integra los ammendements ya aprobados.\n",
    " * **2010:** 802.11n, capa física de 300Mbps.\n",
    " * **2011:** 802.11s, soporte para mesh networks (draft).\n",
    " * **2016:** 802.11-2016, norma que integra los ammendements ya aprobados.\n",
    " * Más recientemente, 802.11ac, etc. etc. etc."
   ]
  },
  {
   "cell_type": "markdown",
   "metadata": {
    "slideshow": {
     "slide_type": "slide"
    }
   },
   "source": [
    "### Evolución \n",
    "\n",
    " * Originalmente el estándar proponía el uso de capa física *infrarroja* (802.11 legacy).\n",
    " * Los bitrates previstos eran de 1 a 2 Mbps sobre distancias cortas (un salón).\n",
    " * Normas posteriores introdujeron la radio spread spectrum basada en DHSS/CCK (b) y DHSS/CCK/OFDM (g). Aquí fue que WiFi comenzó a volverse popular.\n",
    " * Debido a las diferentes velocidades, se debe agregar una *una subcapa de convergencia física* (Physical Layer Convergence Protocol, PLCP).\n",
    "     * **Idea:** debo agregar un encabezado de capa física que indique *qué velocidad/modulación* se va a usar para los datos.\n",
    " * En sucesivos updates, la compatibilidad hacia atrás se volvió un peso por la diversidad de rates a soportar.\n"
   ]
  },
  {
   "cell_type": "markdown",
   "metadata": {
    "slideshow": {
     "slide_type": "slide"
    }
   },
   "source": [
    "### Ejemplo: 802.11b\n",
    "\n",
    "En 802.11b se definieron 4 velocidades de modulación:\n",
    "\n",
    " * 1 y 2Mbps basados en DBPSK y DQPSK.\n",
    " * 5.5 y 11Mbps basados en CCK (complementary code keying)\n",
    " \n",
    "Estas velocidades de modulación solo afectan a la parte MAC. Se debe agregar el encabezado PLCP para:\n",
    "\n",
    " * Sincronizar al receptor (preámbulo).\n",
    " * Indicar el modo de transmisión de la parte de datos."
   ]
  },
  {
   "cell_type": "markdown",
   "metadata": {
    "slideshow": {
     "slide_type": "slide"
    }
   },
   "source": [
    "### El encabezado PLCP de 802.11b\n",
    "\n",
    "![PLCP header](images/plcp_long_preamble.png)"
   ]
  },
  {
   "cell_type": "markdown",
   "metadata": {
    "slideshow": {
     "slide_type": "slide"
    }
   },
   "source": [
    "### Ejemplo\n",
    "\n",
    "Consideremos un paquete que a nivel de MAC contiene $1500$ bytes incluyendo encabezados:\n",
    "\n",
    "* Tiempo de transmisión a $1Mbps$:\n",
    "\n",
    "$$T_{tr} = PLCP + \\frac{8L}{1Mbps} = 192 + \\frac{12000}{1.0} = 12192 \\mu s$$\n",
    "es decir, un $1.6\\%$ extra.\n",
    "\n",
    "* Tiempo de transmisión a $11Mbps$:\n",
    "\n",
    "$$T_{tr} = PLCP + \\frac{8L}{11Mbps} = 192 + \\frac{12000}{11.0} = 1282 \\mu s$$\n",
    "es decir un $17.6\\%$ extra.\n",
    "\n",
    "Y esto sin contar los overhead de coordinación (MAC)."
   ]
  },
  {
   "cell_type": "markdown",
   "metadata": {
    "slideshow": {
     "slide_type": "slide"
    }
   },
   "source": [
    "### El encabezado PLCP de 802.11b - short preamble\n",
    "\n",
    "En el caso de 802.11b se comenzó a usar encabezados PLCP más cortos (short preamble) para mejorar esto:\n",
    "\n",
    "![PLCP header](images/plcp_short_preamble.png)"
   ]
  },
  {
   "cell_type": "markdown",
   "metadata": {
    "slideshow": {
     "slide_type": "slide"
    }
   },
   "source": [
    "### Ejemplo: 802.11a/g\n",
    "\n",
    "En estas propuesta, se buscó llevar la velocidad de modulación a $54$ Mbps utilizando OFDM. En el caso de 802.11a se hizo en la banda de 5Ghz y en 802.11g en la banda de 2.4Ghz (más popular debido a su penetración).\n",
    "\n",
    "**Formato de trama**:\n",
    "\n",
    "![80211ag preamble](images/plcp_80211ag.png)\n",
    "\n",
    "**Más detalles:** [Reporte sobre la capa física 802.11](https://www.cnrood.com/en/media/solutions/Wi-Fi_Overview_of_the_802.11_Physical_Layer.pdf)"
   ]
  },
  {
   "cell_type": "markdown",
   "metadata": {
    "slideshow": {
     "slide_type": "slide"
    }
   },
   "source": [
    "## El mecanismo de acceso al medio (DCF)\n",
    "\n",
    "El mecanismo de acceso se basa en el Binary Exponential Backoff de Ethernet, y que es análogo al CSMA que ya vimos. Permite opcionalmente utilizar el mecanismo RTS/CTS para reservar el acceso al medio.\n",
    "\n",
    "> **Binary exponential backoff:**\n",
    "> * Cada estación mantiene una ventana mínima de backoff $W=CW_{min}$ (slots).\n",
    "> * Al intentar transmitir un paquete, se sortea uniforme un contador entre $0$ y $W-1$. Se espera esta cantidad de slots antes de transmitir (es decir se va decrementando el contador).\n",
    "> * Al llegar a $0$ transmite. Si hay colisión (se detecta porque no se recibe ACK), la próxima vez se duplica $W$ y se sortea en un intervalo más largo (hasta un máximo $CW_{max}$ posible).\n",
    "> * Si se transmite con éxito, se vuelve a $W=CW_{min}$.\n",
    "\n",
    "A su vez la norma define algunos tiempos (varían de acuerdo al estándar):\n",
    "\n",
    "* *DIFS*: tiempo para declarar el medio libre.\n",
    "* *SIFS*: tiempo de espera del ACK.\n",
    "* *SlotTime*: tiempo de slot de backoff."
   ]
  },
  {
   "cell_type": "markdown",
   "metadata": {
    "slideshow": {
     "slide_type": "slide"
    }
   },
   "source": [
    "## Mecanismo DCF: diagrama temporal\n",
    "\n",
    "\n",
    "![802.11 DCF](images/80211_dcf.png)"
   ]
  },
  {
   "cell_type": "markdown",
   "metadata": {
    "slideshow": {
     "slide_type": "slide"
    }
   },
   "source": [
    "### Ejemplo: 802.11b con una sola estación.\n",
    "\n",
    "Calculemos el tiempo total de transmisión en 802.11b cuando una sola estación accede. Notar que dicha estación *debe igualmente hacer* backoff al final de cada transmisión (para permitir entrar a otras).\n",
    "\n",
    "Como está sola, aproximaremos su tiempo de backoff por $CW_{min}/2$ slots.\n",
    "\n",
    "$$T_{total} = DIFS + \\frac{CW_{min}}{2}T_{slot} + PLCP + \\frac{8L}{PHY} + SIFS + PLCP + \\frac{8L_{ack}}{PHY}$$\n",
    "\n",
    "Siendo:\n",
    "\n",
    "* $DIFS = 50\\mu s$\n",
    "* $CW_{min} = 32$\n",
    "* $T_{slot} = 20\\mu s$\n",
    "* $PLCP = 192 \\mu s$\n",
    "* $L = 1500$ bytes.\n",
    "* $SIFS = 10\\mu s$.\n",
    "* $L_{ack} = 14$ bytes.\n",
    "* $PHY \\in \\{1, 2, 5.5, 11\\}$ Mbps.\n"
   ]
  },
  {
   "cell_type": "code",
   "execution_count": 2,
   "metadata": {
    "slideshow": {
     "slide_type": "slide"
    }
   },
   "outputs": [
    {
     "data": {
      "text/plain": [
       "tiempo_80211b (generic function with 1 method)"
      ]
     },
     "execution_count": 2,
     "metadata": {},
     "output_type": "execute_result"
    }
   ],
   "source": [
    "function tiempo_80211b(PHY, L)\n",
    "    #devuelve el tiempo de transmision en us si PHY esta en Mbps y L en bytes\n",
    "    DIFS = 50\n",
    "    CW = 32\n",
    "    Tslot = 20\n",
    "    PLCP = 192\n",
    "    Ttr = 8*L/PHY\n",
    "    SIFS = 10\n",
    "    Tack = 8*14/PHY\n",
    "    \n",
    "    Ttotal = DIFS + CW/2*Tslot + PLCP + Ttr + SIFS + PLCP + Tack\n",
    "    return Ttotal\n",
    "end"
   ]
  },
  {
   "cell_type": "code",
   "execution_count": 3,
   "metadata": {
    "slideshow": {
     "slide_type": "slide"
    }
   },
   "outputs": [
    {
     "name": "stdout",
     "output_type": "stream",
     "text": [
      "Throughputs de 802.11b, estacion simple:\n",
      "PHY=1Mbps: 0.9319664492078286\n",
      "PHY=2Mbps: 1.7595307917888563\n",
      "PHY=5.5Mbps: 4.045605001838911\n",
      "PHY=11Mbps: 6.434002729576915\n"
     ]
    }
   ],
   "source": [
    "t1 = tiempo_80211b(1.0,1500)\n",
    "t2 = tiempo_80211b(2.0,1500)\n",
    "t5_5 = tiempo_80211b(5.5,1500)\n",
    "t11 = tiempo_80211b(11.0,1500)\n",
    "\n",
    "Thr1 = 8*1500/t1\n",
    "Thr2 = 8*1500/t2\n",
    "Thr5_5 = 8*1500/t5_5\n",
    "Thr11 = 8*1500/t11\n",
    "\n",
    "println(\"Throughputs de 802.11b, estacion simple:\")\n",
    "println(\"PHY=1Mbps: $Thr1\")\n",
    "println(\"PHY=2Mbps: $Thr2\")\n",
    "println(\"PHY=5.5Mbps: $Thr5_5\")\n",
    "println(\"PHY=11Mbps: $Thr11\")"
   ]
  },
  {
   "cell_type": "markdown",
   "metadata": {
    "slideshow": {
     "slide_type": "slide"
    }
   },
   "source": [
    "### Ejemplo: 802.11g con una sola estación.\n",
    "\n",
    "Con la misma idea, en 802.11g se calcula igual, salvo que cambian los tiempos de la norma:\n",
    "\n",
    "$$T_{total} = DIFS + \\frac{CW_{min}}{2}T_{slot} + PLCP + \\frac{8L}{PHY} + SIFS + PLCP + \\frac{8L_{ack}}{PHY}$$\n",
    "\n",
    "Siendo:\n",
    "\n",
    "* $DIFS = 34\\mu s$\n",
    "* $CW_{min} = 16$\n",
    "* $T_{slot} = 9\\mu s$\n",
    "* $PLCP = 20 \\mu s$\n",
    "* $L = 1500$ bytes.\n",
    "* $SIFS = 16\\mu s$.\n",
    "* $L_{ack} = 14$ bytes.\n",
    "* $PHY \\in \\{6, 9, 12, 18, 24, 35, 48, 54\\}$ Mbps.\n"
   ]
  },
  {
   "cell_type": "code",
   "execution_count": 4,
   "metadata": {
    "slideshow": {
     "slide_type": "slide"
    }
   },
   "outputs": [
    {
     "data": {
      "text/plain": [
       "tiempo_80211g (generic function with 1 method)"
      ]
     },
     "execution_count": 4,
     "metadata": {},
     "output_type": "execute_result"
    }
   ],
   "source": [
    "function tiempo_80211g(PHY, L)\n",
    "    #devuelve el tiempo de transmision en us si PHY esta en Mbps y L en bytes\n",
    "    DIFS = 34\n",
    "    CW = 16\n",
    "    Tslot = 9\n",
    "    PLCP = 20\n",
    "    Ttr = 8*L/PHY\n",
    "    SIFS = 16\n",
    "    Tack = 8*14/PHY\n",
    "    \n",
    "    Ttotal = DIFS + CW/2*Tslot + PLCP + Ttr + SIFS + PLCP + Tack\n",
    "    return Ttotal\n",
    "end"
   ]
  },
  {
   "cell_type": "code",
   "execution_count": 5,
   "metadata": {
    "slideshow": {
     "slide_type": "slide"
    }
   },
   "outputs": [
    {
     "data": {
      "image/png": "[encoded data removed]",
      "image/svg+xml": [
       "<?xml version=\"1.0\" encoding=\"utf-8\"?>\n",
       "<svg xmlns=\"http://www.w3.org/2000/svg\" xmlns:xlink=\"http://www.w3.org/1999/xlink\" width=\"1000\" height=\"500\" viewBox=\"0 0 4000 2000\">\n",
       "<defs>\n",
       "  <clipPath id=\"clip160\">\n",
       "    <rect x=\"0\" y=\"0\" width=\"4000\" height=\"2000\"/>\n",
       "  </clipPath>\n",
       "</defs>\n",
       "<path clip-path=\"url(#clip160)\" d=\"\n",
       "M0 2000 L4000 2000 L4000 0 L0 0  Z\n",
       "  \" fill=\"#ffffff\" fill-rule=\"evenodd\" fill-opacity=\"1\"/>\n",
       "<defs>\n",
       "  <clipPath id=\"clip161\">\n",
       "    <rect x=\"800\" y=\"0\" width=\"2801\" height=\"2000\"/>\n",
       "  </clipPath>\n",
       "</defs>\n",
       "<path clip-path=\"url(#clip160)\" d=\"\n",
       "M155.191 1891.09 L3952.76 1891.09 L3952.76 108.352 L155.191 108.352  Z\n",
       "  \" fill=\"#ffffff\" fill-rule=\"evenodd\" fill-opacity=\"1\"/>\n",
       "<defs>\n",
       "  <clipPath id=\"clip162\">\n",
       "    <rect x=\"155\" y=\"108\" width=\"3799\" height=\"1784\"/>\n",
       "  </clipPath>\n",
       "</defs>\n",
       "<polyline clip-path=\"url(#clip162)\" style=\"stroke:#000000; stroke-width:2; stroke-opacity:0.1; fill:none\" points=\"\n",
       "  561.22,1891.09 561.22,108.352 \n",
       "  \"/>\n",
       "<polyline clip-path=\"url(#clip162)\" style=\"stroke:#000000; stroke-width:2; stroke-opacity:0.1; fill:none\" points=\"\n",
       "  1307.6,1891.09 1307.6,108.352 \n",
       "  \"/>\n",
       "<polyline clip-path=\"url(#clip162)\" style=\"stroke:#000000; stroke-width:2; stroke-opacity:0.1; fill:none\" points=\"\n",
       "  2053.97,1891.09 2053.97,108.352 \n",
       "  \"/>\n",
       "<polyline clip-path=\"url(#clip162)\" style=\"stroke:#000000; stroke-width:2; stroke-opacity:0.1; fill:none\" points=\"\n",
       "  2800.35,1891.09 2800.35,108.352 \n",
       "  \"/>\n",
       "<polyline clip-path=\"url(#clip162)\" style=\"stroke:#000000; stroke-width:2; stroke-opacity:0.1; fill:none\" points=\"\n",
       "  3546.73,1891.09 3546.73,108.352 \n",
       "  \"/>\n",
       "<polyline clip-path=\"url(#clip160)\" style=\"stroke:#000000; stroke-width:4; stroke-opacity:1; fill:none\" points=\"\n",
       "  155.191,1891.09 3952.76,1891.09 \n",
       "  \"/>\n",
       "<polyline clip-path=\"url(#clip160)\" style=\"stroke:#000000; stroke-width:4; stroke-opacity:1; fill:none\" points=\"\n",
       "  561.22,1891.09 561.22,1869.7 \n",
       "  \"/>\n",
       "<polyline clip-path=\"url(#clip160)\" style=\"stroke:#000000; stroke-width:4; stroke-opacity:1; fill:none\" points=\"\n",
       "  1307.6,1891.09 1307.6,1869.7 \n",
       "  \"/>\n",
       "<polyline clip-path=\"url(#clip160)\" style=\"stroke:#000000; stroke-width:4; stroke-opacity:1; fill:none\" points=\"\n",
       "  2053.97,1891.09 2053.97,1869.7 \n",
       "  \"/>\n",
       "<polyline clip-path=\"url(#clip160)\" style=\"stroke:#000000; stroke-width:4; stroke-opacity:1; fill:none\" points=\"\n",
       "  2800.35,1891.09 2800.35,1869.7 \n",
       "  \"/>\n",
       "<polyline clip-path=\"url(#clip160)\" style=\"stroke:#000000; stroke-width:4; stroke-opacity:1; fill:none\" points=\"\n",
       "  3546.73,1891.09 3546.73,1869.7 \n",
       "  \"/>\n",
       "<path clip-path=\"url(#clip160)\" d=\"M 0 0 M538.095 1960.62 L545.734 1960.62 L545.734 1934.26 L537.424 1935.93 L537.424 1931.67 L545.688 1930 L550.363 1930 L550.363 1960.62 L558.002 1960.62 L558.002 1964.56 L538.095 1964.56 L538.095 1960.62 Z\" fill=\"#000000\" fill-rule=\"evenodd\" fill-opacity=\"1\" /><path clip-path=\"url(#clip160)\" d=\"M 0 0 M573.072 1933.08 Q569.461 1933.08 567.632 1936.64 Q565.826 1940.19 565.826 1947.31 Q565.826 1954.42 567.632 1957.99 Q569.461 1961.53 573.072 1961.53 Q576.706 1961.53 578.511 1957.99 Q580.34 1954.42 580.34 1947.31 Q580.34 1940.19 578.511 1936.64 Q576.706 1933.08 573.072 1933.08 M573.072 1929.37 Q578.882 1929.37 581.937 1933.98 Q585.016 1938.56 585.016 1947.31 Q585.016 1956.04 581.937 1960.65 Q578.882 1965.23 573.072 1965.23 Q567.262 1965.23 564.183 1960.65 Q561.127 1956.04 561.127 1947.31 Q561.127 1938.56 564.183 1933.98 Q567.262 1929.37 573.072 1929.37 Z\" fill=\"#000000\" fill-rule=\"evenodd\" fill-opacity=\"1\" /><path clip-path=\"url(#clip160)\" d=\"M 0 0 M1288.74 1960.62 L1305.06 1960.62 L1305.06 1964.56 L1283.12 1964.56 L1283.12 1960.62 Q1285.78 1957.87 1290.36 1953.24 Q1294.97 1948.59 1296.15 1947.25 Q1298.4 1944.72 1299.27 1942.99 Q1300.18 1941.23 1300.18 1939.54 Q1300.18 1936.78 1298.23 1935.05 Q1296.31 1933.31 1293.21 1933.31 Q1291.01 1933.31 1288.56 1934.07 Q1286.13 1934.84 1283.35 1936.39 L1283.35 1931.67 Q1286.17 1930.53 1288.63 1929.95 Q1291.08 1929.37 1293.12 1929.37 Q1298.49 1929.37 1301.68 1932.06 Q1304.88 1934.75 1304.88 1939.24 Q1304.88 1941.37 1304.07 1943.29 Q1303.28 1945.18 1301.17 1947.78 Q1300.59 1948.45 1297.49 1951.67 Q1294.39 1954.86 1288.74 1960.62 Z\" fill=\"#000000\" fill-rule=\"evenodd\" fill-opacity=\"1\" /><path clip-path=\"url(#clip160)\" d=\"M 0 0 M1320.13 1933.08 Q1316.52 1933.08 1314.69 1936.64 Q1312.89 1940.19 1312.89 1947.31 Q1312.89 1954.42 1314.69 1957.99 Q1316.52 1961.53 1320.13 1961.53 Q1323.77 1961.53 1325.57 1957.99 Q1327.4 1954.42 1327.4 1947.31 Q1327.4 1940.19 1325.57 1936.64 Q1323.77 1933.08 1320.13 1933.08 M1320.13 1929.37 Q1325.94 1929.37 1329 1933.98 Q1332.08 1938.56 1332.08 1947.31 Q1332.08 1956.04 1329 1960.65 Q1325.94 1965.23 1320.13 1965.23 Q1314.32 1965.23 1311.24 1960.65 Q1308.19 1956.04 1308.19 1947.31 Q1308.19 1938.56 1311.24 1933.98 Q1314.32 1929.37 1320.13 1929.37 Z\" fill=\"#000000\" fill-rule=\"evenodd\" fill-opacity=\"1\" /><path clip-path=\"url(#clip160)\" d=\"M 0 0 M2044.71 1945.93 Q2048.07 1946.64 2049.95 1948.91 Q2051.84 1951.18 2051.84 1954.51 Q2051.84 1959.63 2048.33 1962.43 Q2044.81 1965.23 2038.33 1965.23 Q2036.15 1965.23 2033.83 1964.79 Q2031.54 1964.37 2029.09 1963.52 L2029.09 1959 Q2031.03 1960.14 2033.35 1960.72 Q2035.66 1961.3 2038.19 1961.3 Q2042.58 1961.3 2044.88 1959.56 Q2047.19 1957.82 2047.19 1954.51 Q2047.19 1951.46 2045.04 1949.75 Q2042.91 1948.01 2039.09 1948.01 L2035.06 1948.01 L2035.06 1944.17 L2039.27 1944.17 Q2042.72 1944.17 2044.55 1942.8 Q2046.38 1941.41 2046.38 1938.82 Q2046.38 1936.16 2044.48 1934.75 Q2042.61 1933.31 2039.09 1933.31 Q2037.17 1933.31 2034.97 1933.73 Q2032.77 1934.14 2030.13 1935.02 L2030.13 1930.86 Q2032.79 1930.12 2035.11 1929.75 Q2037.45 1929.37 2039.51 1929.37 Q2044.83 1929.37 2047.93 1931.81 Q2051.03 1934.21 2051.03 1938.33 Q2051.03 1941.2 2049.39 1943.19 Q2047.75 1945.16 2044.71 1945.93 Z\" fill=\"#000000\" fill-rule=\"evenodd\" fill-opacity=\"1\" /><path clip-path=\"url(#clip160)\" d=\"M 0 0 M2066.91 1933.08 Q2063.3 1933.08 2061.47 1936.64 Q2059.67 1940.19 2059.67 1947.31 Q2059.67 1954.42 2061.47 1957.99 Q2063.3 1961.53 2066.91 1961.53 Q2070.55 1961.53 2072.35 1957.99 Q2074.18 1954.42 2074.18 1947.31 Q2074.18 1940.19 2072.35 1936.64 Q2070.55 1933.08 2066.91 1933.08 M2066.91 1929.37 Q2072.72 1929.37 2075.78 1933.98 Q2078.86 1938.56 2078.86 1947.31 Q2078.86 1956.04 2075.78 1960.65 Q2072.72 1965.23 2066.91 1965.23 Q2061.1 1965.23 2058.02 1960.65 Q2054.97 1956.04 2054.97 1947.31 Q2054.97 1938.56 2058.02 1933.98 Q2061.1 1929.37 2066.91 1929.37 Z\" fill=\"#000000\" fill-rule=\"evenodd\" fill-opacity=\"1\" /><path clip-path=\"url(#clip160)\" d=\"M 0 0 M2789.85 1934.07 L2778.05 1952.52 L2789.85 1952.52 L2789.85 1934.07 M2788.63 1930 L2794.51 1930 L2794.51 1952.52 L2799.44 1952.52 L2799.44 1956.41 L2794.51 1956.41 L2794.51 1964.56 L2789.85 1964.56 L2789.85 1956.41 L2774.25 1956.41 L2774.25 1951.9 L2788.63 1930 Z\" fill=\"#000000\" fill-rule=\"evenodd\" fill-opacity=\"1\" /><path clip-path=\"url(#clip160)\" d=\"M 0 0 M2814.51 1933.08 Q2810.89 1933.08 2809.07 1936.64 Q2807.26 1940.19 2807.26 1947.31 Q2807.26 1954.42 2809.07 1957.99 Q2810.89 1961.53 2814.51 1961.53 Q2818.14 1961.53 2819.94 1957.99 Q2821.77 1954.42 2821.77 1947.31 Q2821.77 1940.19 2819.94 1936.64 Q2818.14 1933.08 2814.51 1933.08 M2814.51 1929.37 Q2820.32 1929.37 2823.37 1933.98 Q2826.45 1938.56 2826.45 1947.31 Q2826.45 1956.04 2823.37 1960.65 Q2820.32 1965.23 2814.51 1965.23 Q2808.7 1965.23 2805.62 1960.65 Q2802.56 1956.04 2802.56 1947.31 Q2802.56 1938.56 2805.62 1933.98 Q2808.7 1929.37 2814.51 1929.37 Z\" fill=\"#000000\" fill-rule=\"evenodd\" fill-opacity=\"1\" /><path clip-path=\"url(#clip160)\" d=\"M 0 0 M3523.5 1930 L3541.85 1930 L3541.85 1933.94 L3527.78 1933.94 L3527.78 1942.41 Q3528.8 1942.06 3529.82 1941.9 Q3530.84 1941.71 3531.85 1941.71 Q3537.64 1941.71 3541.02 1944.88 Q3544.4 1948.06 3544.4 1953.47 Q3544.4 1959.05 3540.93 1962.15 Q3537.46 1965.23 3531.14 1965.23 Q3528.96 1965.23 3526.69 1964.86 Q3524.45 1964.49 3522.04 1963.75 L3522.04 1959.05 Q3524.12 1960.18 3526.35 1960.74 Q3528.57 1961.3 3531.04 1961.3 Q3535.05 1961.3 3537.39 1959.19 Q3539.72 1957.08 3539.72 1953.47 Q3539.72 1949.86 3537.39 1947.75 Q3535.05 1945.65 3531.04 1945.65 Q3529.17 1945.65 3527.29 1946.06 Q3525.44 1946.48 3523.5 1947.36 L3523.5 1930 Z\" fill=\"#000000\" fill-rule=\"evenodd\" fill-opacity=\"1\" /><path clip-path=\"url(#clip160)\" d=\"M 0 0 M3559.47 1933.08 Q3555.86 1933.08 3554.03 1936.64 Q3552.22 1940.19 3552.22 1947.31 Q3552.22 1954.42 3554.03 1957.99 Q3555.86 1961.53 3559.47 1961.53 Q3563.1 1961.53 3564.91 1957.99 Q3566.74 1954.42 3566.74 1947.31 Q3566.74 1940.19 3564.91 1936.64 Q3563.1 1933.08 3559.47 1933.08 M3559.47 1929.37 Q3565.28 1929.37 3568.34 1933.98 Q3571.41 1938.56 3571.41 1947.31 Q3571.41 1956.04 3568.34 1960.65 Q3565.28 1965.23 3559.47 1965.23 Q3553.66 1965.23 3550.58 1960.65 Q3547.53 1956.04 3547.53 1947.31 Q3547.53 1938.56 3550.58 1933.98 Q3553.66 1929.37 3559.47 1929.37 Z\" fill=\"#000000\" fill-rule=\"evenodd\" fill-opacity=\"1\" /><polyline clip-path=\"url(#clip162)\" style=\"stroke:#000000; stroke-width:2; stroke-opacity:0.1; fill:none\" points=\"\n",
       "  155.191,1840.63 3952.76,1840.63 \n",
       "  \"/>\n",
       "<polyline clip-path=\"url(#clip162)\" style=\"stroke:#000000; stroke-width:2; stroke-opacity:0.1; fill:none\" points=\"\n",
       "  155.191,1529.18 3952.76,1529.18 \n",
       "  \"/>\n",
       "<polyline clip-path=\"url(#clip162)\" style=\"stroke:#000000; stroke-width:2; stroke-opacity:0.1; fill:none\" points=\"\n",
       "  155.191,1217.73 3952.76,1217.73 \n",
       "  \"/>\n",
       "<polyline clip-path=\"url(#clip162)\" style=\"stroke:#000000; stroke-width:2; stroke-opacity:0.1; fill:none\" points=\"\n",
       "  155.191,906.285 3952.76,906.285 \n",
       "  \"/>\n",
       "<polyline clip-path=\"url(#clip162)\" style=\"stroke:#000000; stroke-width:2; stroke-opacity:0.1; fill:none\" points=\"\n",
       "  155.191,594.836 3952.76,594.836 \n",
       "  \"/>\n",
       "<polyline clip-path=\"url(#clip162)\" style=\"stroke:#000000; stroke-width:2; stroke-opacity:0.1; fill:none\" points=\"\n",
       "  155.191,283.387 3952.76,283.387 \n",
       "  \"/>\n",
       "<polyline clip-path=\"url(#clip160)\" style=\"stroke:#000000; stroke-width:4; stroke-opacity:1; fill:none\" points=\"\n",
       "  155.191,1891.09 155.191,108.352 \n",
       "  \"/>\n",
       "<polyline clip-path=\"url(#clip160)\" style=\"stroke:#000000; stroke-width:4; stroke-opacity:1; fill:none\" points=\"\n",
       "  155.191,1840.63 200.762,1840.63 \n",
       "  \"/>\n",
       "<polyline clip-path=\"url(#clip160)\" style=\"stroke:#000000; stroke-width:4; stroke-opacity:1; fill:none\" points=\"\n",
       "  155.191,1529.18 200.762,1529.18 \n",
       "  \"/>\n",
       "<polyline clip-path=\"url(#clip160)\" style=\"stroke:#000000; stroke-width:4; stroke-opacity:1; fill:none\" points=\"\n",
       "  155.191,1217.73 200.762,1217.73 \n",
       "  \"/>\n",
       "<polyline clip-path=\"url(#clip160)\" style=\"stroke:#000000; stroke-width:4; stroke-opacity:1; fill:none\" points=\"\n",
       "  155.191,906.285 200.762,906.285 \n",
       "  \"/>\n",
       "<polyline clip-path=\"url(#clip160)\" style=\"stroke:#000000; stroke-width:4; stroke-opacity:1; fill:none\" points=\"\n",
       "  155.191,594.836 200.762,594.836 \n",
       "  \"/>\n",
       "<polyline clip-path=\"url(#clip160)\" style=\"stroke:#000000; stroke-width:4; stroke-opacity:1; fill:none\" points=\"\n",
       "  155.191,283.387 200.762,283.387 \n",
       "  \"/>\n",
       "<path clip-path=\"url(#clip160)\" d=\"M 0 0 M83.2465 1826.43 Q79.6354 1826.43 77.8068 1830 Q76.0012 1833.54 76.0012 1840.67 Q76.0012 1847.77 77.8068 1851.34 Q79.6354 1854.88 83.2465 1854.88 Q86.8808 1854.88 88.6863 1851.34 Q90.515 1847.77 90.515 1840.67 Q90.515 1833.54 88.6863 1830 Q86.8808 1826.43 83.2465 1826.43 M83.2465 1822.73 Q89.0567 1822.73 92.1122 1827.33 Q95.1909 1831.92 95.1909 1840.67 Q95.1909 1849.39 92.1122 1854 Q89.0567 1858.58 83.2465 1858.58 Q77.4364 1858.58 74.3577 1854 Q71.3022 1849.39 71.3022 1840.67 Q71.3022 1831.92 74.3577 1827.33 Q77.4364 1822.73 83.2465 1822.73 Z\" fill=\"#000000\" fill-rule=\"evenodd\" fill-opacity=\"1\" /><path clip-path=\"url(#clip160)\" d=\"M 0 0 M48.2699 1542.53 L55.9087 1542.53 L55.9087 1516.16 L47.5986 1517.83 L47.5986 1513.57 L55.8624 1511.9 L60.5383 1511.9 L60.5383 1542.53 L68.1772 1542.53 L68.1772 1546.46 L48.2699 1546.46 L48.2699 1542.53 Z\" fill=\"#000000\" fill-rule=\"evenodd\" fill-opacity=\"1\" /><path clip-path=\"url(#clip160)\" d=\"M 0 0 M83.2465 1514.98 Q79.6354 1514.98 77.8068 1518.55 Q76.0012 1522.09 76.0012 1529.22 Q76.0012 1536.32 77.8068 1539.89 Q79.6354 1543.43 83.2465 1543.43 Q86.8808 1543.43 88.6863 1539.89 Q90.515 1536.32 90.515 1529.22 Q90.515 1522.09 88.6863 1518.55 Q86.8808 1514.98 83.2465 1514.98 M83.2465 1511.28 Q89.0567 1511.28 92.1122 1515.89 Q95.1909 1520.47 95.1909 1529.22 Q95.1909 1537.95 92.1122 1542.55 Q89.0567 1547.14 83.2465 1547.14 Q77.4364 1547.14 74.3577 1542.55 Q71.3022 1537.95 71.3022 1529.22 Q71.3022 1520.47 74.3577 1515.89 Q77.4364 1511.28 83.2465 1511.28 Z\" fill=\"#000000\" fill-rule=\"evenodd\" fill-opacity=\"1\" /><path clip-path=\"url(#clip160)\" d=\"M 0 0 M51.8578 1231.08 L68.1772 1231.08 L68.1772 1235.01 L46.2328 1235.01 L46.2328 1231.08 Q48.8949 1228.32 53.4782 1223.7 Q58.0846 1219.04 59.2652 1217.7 Q61.5105 1215.18 62.3902 1213.44 Q63.2929 1211.68 63.2929 1209.99 Q63.2929 1207.24 61.3485 1205.5 Q59.4272 1203.76 56.3254 1203.76 Q54.1263 1203.76 51.6726 1204.53 Q49.2421 1205.29 46.4643 1206.84 L46.4643 1202.12 Q49.2884 1200.99 51.7421 1200.41 Q54.1958 1199.83 56.2328 1199.83 Q61.6031 1199.83 64.7976 1202.51 Q67.992 1205.2 67.992 1209.69 Q67.992 1211.82 67.1818 1213.74 Q66.3948 1215.64 64.2883 1218.23 Q63.7096 1218.9 60.6078 1222.12 Q57.5059 1225.32 51.8578 1231.08 Z\" fill=\"#000000\" fill-rule=\"evenodd\" fill-opacity=\"1\" /><path clip-path=\"url(#clip160)\" d=\"M 0 0 M83.2465 1203.53 Q79.6354 1203.53 77.8068 1207.1 Q76.0012 1210.64 76.0012 1217.77 Q76.0012 1224.88 77.8068 1228.44 Q79.6354 1231.98 83.2465 1231.98 Q86.8808 1231.98 88.6863 1228.44 Q90.515 1224.88 90.515 1217.77 Q90.515 1210.64 88.6863 1207.1 Q86.8808 1203.53 83.2465 1203.53 M83.2465 1199.83 Q89.0567 1199.83 92.1122 1204.44 Q95.1909 1209.02 95.1909 1217.77 Q95.1909 1226.5 92.1122 1231.1 Q89.0567 1235.69 83.2465 1235.69 Q77.4364 1235.69 74.3577 1231.1 Q71.3022 1226.5 71.3022 1217.77 Q71.3022 1209.02 74.3577 1204.44 Q77.4364 1199.83 83.2465 1199.83 Z\" fill=\"#000000\" fill-rule=\"evenodd\" fill-opacity=\"1\" /><path clip-path=\"url(#clip160)\" d=\"M 0 0 M61.0476 904.931 Q64.404 905.649 66.279 907.917 Q68.1772 910.186 68.1772 913.519 Q68.1772 918.635 64.6587 921.436 Q61.1402 924.237 54.6587 924.237 Q52.4828 924.237 50.168 923.797 Q47.8764 923.38 45.4227 922.524 L45.4227 918.01 Q47.3671 919.144 49.6819 919.723 Q51.9967 920.301 54.5198 920.301 Q58.918 920.301 61.2096 918.565 Q63.5244 916.829 63.5244 913.519 Q63.5244 910.463 61.3717 908.75 Q59.242 907.014 55.4226 907.014 L51.3949 907.014 L51.3949 903.172 L55.6078 903.172 Q59.0569 903.172 60.8855 901.806 Q62.7142 900.417 62.7142 897.825 Q62.7142 895.163 60.8161 893.751 Q58.9411 892.315 55.4226 892.315 Q53.5013 892.315 51.3023 892.732 Q49.1032 893.149 46.4643 894.028 L46.4643 889.862 Q49.1264 889.121 51.4412 888.751 Q53.7791 888.38 55.8393 888.38 Q61.1633 888.38 64.2652 890.811 Q67.367 893.218 67.367 897.339 Q67.367 900.209 65.7235 902.2 Q64.08 904.167 61.0476 904.931 Z\" fill=\"#000000\" fill-rule=\"evenodd\" fill-opacity=\"1\" /><path clip-path=\"url(#clip160)\" d=\"M 0 0 M83.2465 892.084 Q79.6354 892.084 77.8068 895.649 Q76.0012 899.19 76.0012 906.32 Q76.0012 913.426 77.8068 916.991 Q79.6354 920.533 83.2465 920.533 Q86.8808 920.533 88.6863 916.991 Q90.515 913.426 90.515 906.32 Q90.515 899.19 88.6863 895.649 Q86.8808 892.084 83.2465 892.084 M83.2465 888.38 Q89.0567 888.38 92.1122 892.987 Q95.1909 897.57 95.1909 906.32 Q95.1909 915.047 92.1122 919.653 Q89.0567 924.237 83.2465 924.237 Q77.4364 924.237 74.3577 919.653 Q71.3022 915.047 71.3022 906.32 Q71.3022 897.57 74.3577 892.987 Q77.4364 888.38 83.2465 888.38 Z\" fill=\"#000000\" fill-rule=\"evenodd\" fill-opacity=\"1\" /><path clip-path=\"url(#clip160)\" d=\"M 0 0 M58.5939 581.63 L46.7884 600.079 L58.5939 600.079 L58.5939 581.63 M57.367 577.556 L63.2466 577.556 L63.2466 600.079 L68.1772 600.079 L68.1772 603.968 L63.2466 603.968 L63.2466 612.116 L58.5939 612.116 L58.5939 603.968 L42.9921 603.968 L42.9921 599.454 L57.367 577.556 Z\" fill=\"#000000\" fill-rule=\"evenodd\" fill-opacity=\"1\" /><path clip-path=\"url(#clip160)\" d=\"M 0 0 M83.2465 580.635 Q79.6354 580.635 77.8068 584.199 Q76.0012 587.741 76.0012 594.871 Q76.0012 601.977 77.8068 605.542 Q79.6354 609.084 83.2465 609.084 Q86.8808 609.084 88.6863 605.542 Q90.515 601.977 90.515 594.871 Q90.515 587.741 88.6863 584.199 Q86.8808 580.635 83.2465 580.635 M83.2465 576.931 Q89.0567 576.931 92.1122 581.537 Q95.1909 586.121 95.1909 594.871 Q95.1909 603.597 92.1122 608.204 Q89.0567 612.787 83.2465 612.787 Q77.4364 612.787 74.3577 608.204 Q71.3022 603.597 71.3022 594.871 Q71.3022 586.121 74.3577 581.537 Q77.4364 576.931 83.2465 576.931 Z\" fill=\"#000000\" fill-rule=\"evenodd\" fill-opacity=\"1\" /><path clip-path=\"url(#clip160)\" d=\"M 0 0 M47.2745 266.107 L65.6309 266.107 L65.6309 270.042 L51.5569 270.042 L51.5569 278.514 Q52.5754 278.167 53.5939 278.005 Q54.6124 277.82 55.6309 277.82 Q61.418 277.82 64.7976 280.991 Q68.1772 284.162 68.1772 289.579 Q68.1772 295.157 64.705 298.259 Q61.2328 301.338 54.9134 301.338 Q52.7374 301.338 50.4689 300.968 Q48.2236 300.597 45.8162 299.856 L45.8162 295.157 Q47.8995 296.292 50.1217 296.847 Q52.3439 297.403 54.8208 297.403 Q58.8254 297.403 61.1633 295.296 Q63.5013 293.19 63.5013 289.579 Q63.5013 285.968 61.1633 283.861 Q58.8254 281.755 54.8208 281.755 Q52.9458 281.755 51.0708 282.171 Q49.2189 282.588 47.2745 283.468 L47.2745 266.107 Z\" fill=\"#000000\" fill-rule=\"evenodd\" fill-opacity=\"1\" /><path clip-path=\"url(#clip160)\" d=\"M 0 0 M83.2465 269.185 Q79.6354 269.185 77.8068 272.75 Q76.0012 276.292 76.0012 283.421 Q76.0012 290.528 77.8068 294.093 Q79.6354 297.634 83.2465 297.634 Q86.8808 297.634 88.6863 294.093 Q90.515 290.528 90.515 283.421 Q90.515 276.292 88.6863 272.75 Q86.8808 269.185 83.2465 269.185 M83.2465 265.482 Q89.0567 265.482 92.1122 270.088 Q95.1909 274.671 95.1909 283.421 Q95.1909 292.148 92.1122 296.755 Q89.0567 301.338 83.2465 301.338 Q77.4364 301.338 74.3577 296.755 Q71.3022 292.148 71.3022 283.421 Q71.3022 274.671 74.3577 270.088 Q77.4364 265.482 83.2465 265.482 Z\" fill=\"#000000\" fill-rule=\"evenodd\" fill-opacity=\"1\" /><path clip-path=\"url(#clip160)\" d=\"M 0 0 M1099.34 12.096 L1150.5 12.096 L1150.5 18.9825 L1129.03 18.9825 L1129.03 72.576 L1120.81 72.576 L1120.81 18.9825 L1099.34 18.9825 L1099.34 12.096 Z\" fill=\"#000000\" fill-rule=\"evenodd\" fill-opacity=\"1\" /><path clip-path=\"url(#clip160)\" d=\"M 0 0 M1196.03 45.1919 L1196.03 72.576 L1188.58 72.576 L1188.58 45.4349 Q1188.58 38.994 1186.07 35.7938 Q1183.56 32.5936 1178.53 32.5936 Q1172.5 32.5936 1169.01 36.4419 Q1165.53 40.2903 1165.53 46.9338 L1165.53 72.576 L1158.03 72.576 L1158.03 9.54393 L1165.53 9.54393 L1165.53 34.2544 Q1168.2 30.163 1171.81 28.1376 Q1175.45 26.1121 1180.19 26.1121 Q1188.01 26.1121 1192.02 30.9732 Q1196.03 35.7938 1196.03 45.1919 Z\" fill=\"#000000\" fill-rule=\"evenodd\" fill-opacity=\"1\" /><path clip-path=\"url(#clip160)\" d=\"M 0 0 M1230.14 34.1734 Q1228.89 33.4443 1227.39 33.1202 Q1225.93 32.7556 1224.15 32.7556 Q1217.83 32.7556 1214.42 36.8875 Q1211.06 40.9789 1211.06 48.6757 L1211.06 72.576 L1203.57 72.576 L1203.57 27.2059 L1211.06 27.2059 L1211.06 34.2544 Q1213.41 30.1225 1217.18 28.1376 Q1220.95 26.1121 1226.33 26.1121 Q1227.1 26.1121 1228.03 26.2337 Q1228.97 26.3147 1230.1 26.5172 L1230.14 34.1734 Z\" fill=\"#000000\" fill-rule=\"evenodd\" fill-opacity=\"1\" /><path clip-path=\"url(#clip160)\" d=\"M 0 0 M1253.72 32.4315 Q1247.72 32.4315 1244.24 37.1306 Q1240.75 41.7891 1240.75 49.9314 Q1240.75 58.0738 1244.2 62.7728 Q1247.68 67.4314 1253.72 67.4314 Q1259.67 67.4314 1263.16 62.7323 Q1266.64 58.0333 1266.64 49.9314 Q1266.64 41.8701 1263.16 37.1711 Q1259.67 32.4315 1253.72 32.4315 M1253.72 26.1121 Q1263.44 26.1121 1268.99 32.4315 Q1274.54 38.7509 1274.54 49.9314 Q1274.54 61.0714 1268.99 67.4314 Q1263.44 73.7508 1253.72 73.7508 Q1243.95 73.7508 1238.4 67.4314 Q1232.9 61.0714 1232.9 49.9314 Q1232.9 38.7509 1238.4 32.4315 Q1243.95 26.1121 1253.72 26.1121 Z\" fill=\"#000000\" fill-rule=\"evenodd\" fill-opacity=\"1\" /><path clip-path=\"url(#clip160)\" d=\"M 0 0 M1281.59 54.671 L1281.59 27.2059 L1289.04 27.2059 L1289.04 54.3874 Q1289.04 60.8284 1291.55 64.0691 Q1294.06 67.2693 1299.09 67.2693 Q1305.12 67.2693 1308.61 63.421 Q1312.13 59.5726 1312.13 52.9291 L1312.13 27.2059 L1319.58 27.2059 L1319.58 72.576 L1312.13 72.576 L1312.13 65.6084 Q1309.42 69.7404 1305.81 71.7658 Q1302.25 73.7508 1297.51 73.7508 Q1289.69 73.7508 1285.64 68.8897 Q1281.59 64.0286 1281.59 54.671 M1300.34 26.1121 L1300.34 26.1121 Z\" fill=\"#000000\" fill-rule=\"evenodd\" fill-opacity=\"1\" /><path clip-path=\"url(#clip160)\" d=\"M 0 0 M1357.26 49.3643 Q1357.26 41.2625 1353.9 36.8065 Q1350.57 32.3505 1344.54 32.3505 Q1338.54 32.3505 1335.18 36.8065 Q1331.86 41.2625 1331.86 49.3643 Q1331.86 57.4256 1335.18 61.8816 Q1338.54 66.3376 1344.54 66.3376 Q1350.57 66.3376 1353.9 61.8816 Q1357.26 57.4256 1357.26 49.3643 M1364.71 66.9452 Q1364.71 78.5308 1359.57 84.1616 Q1354.42 89.8329 1343.81 89.8329 Q1339.88 89.8329 1336.4 89.2252 Q1332.91 88.6581 1329.63 87.4428 L1329.63 80.1917 Q1332.91 81.9741 1336.11 82.8248 Q1339.31 83.6755 1342.63 83.6755 Q1349.97 83.6755 1353.61 79.8271 Q1357.26 76.0193 1357.26 68.282 L1357.26 64.5957 Q1354.95 68.6061 1351.34 70.5911 Q1347.74 72.576 1342.72 72.576 Q1334.37 72.576 1329.27 66.2161 Q1324.16 59.8562 1324.16 49.3643 Q1324.16 38.832 1329.27 32.472 Q1334.37 26.1121 1342.72 26.1121 Q1347.74 26.1121 1351.34 28.0971 Q1354.95 30.082 1357.26 34.0924 L1357.26 27.2059 L1364.71 27.2059 L1364.71 66.9452 Z\" fill=\"#000000\" fill-rule=\"evenodd\" fill-opacity=\"1\" /><path clip-path=\"url(#clip160)\" d=\"M 0 0 M1410.24 45.1919 L1410.24 72.576 L1402.79 72.576 L1402.79 45.4349 Q1402.79 38.994 1400.28 35.7938 Q1397.77 32.5936 1392.74 32.5936 Q1386.71 32.5936 1383.22 36.4419 Q1379.74 40.2903 1379.74 46.9338 L1379.74 72.576 L1372.25 72.576 L1372.25 9.54393 L1379.74 9.54393 L1379.74 34.2544 Q1382.41 30.163 1386.02 28.1376 Q1389.67 26.1121 1394.41 26.1121 Q1402.22 26.1121 1406.23 30.9732 Q1410.24 35.7938 1410.24 45.1919 Z\" fill=\"#000000\" fill-rule=\"evenodd\" fill-opacity=\"1\" /><path clip-path=\"url(#clip160)\" d=\"M 0 0 M1425.27 65.7705 L1425.27 89.8329 L1417.78 89.8329 L1417.78 27.2059 L1425.27 27.2059 L1425.27 34.0924 Q1427.62 30.0415 1431.19 28.0971 Q1434.79 26.1121 1439.78 26.1121 Q1448.04 26.1121 1453.18 32.6746 Q1458.37 39.2371 1458.37 49.9314 Q1458.37 60.6258 1453.18 67.1883 Q1448.04 73.7508 1439.78 73.7508 Q1434.79 73.7508 1431.19 71.8063 Q1427.62 69.8214 1425.27 65.7705 M1450.63 49.9314 Q1450.63 41.7081 1447.23 37.0496 Q1443.87 32.3505 1437.95 32.3505 Q1432.04 32.3505 1428.64 37.0496 Q1425.27 41.7081 1425.27 49.9314 Q1425.27 58.1548 1428.64 62.8538 Q1432.04 67.5124 1437.95 67.5124 Q1443.87 67.5124 1447.23 62.8538 Q1450.63 58.1548 1450.63 49.9314 Z\" fill=\"#000000\" fill-rule=\"evenodd\" fill-opacity=\"1\" /><path clip-path=\"url(#clip160)\" d=\"M 0 0 M1465.42 54.671 L1465.42 27.2059 L1472.87 27.2059 L1472.87 54.3874 Q1472.87 60.8284 1475.38 64.0691 Q1477.89 67.2693 1482.92 67.2693 Q1488.95 67.2693 1492.44 63.421 Q1495.96 59.5726 1495.96 52.9291 L1495.96 27.2059 L1503.42 27.2059 L1503.42 72.576 L1495.96 72.576 L1495.96 65.6084 Q1493.25 69.7404 1489.64 71.7658 Q1486.08 73.7508 1481.34 73.7508 Q1473.52 73.7508 1469.47 68.8897 Q1465.42 64.0286 1465.42 54.671 M1484.17 26.1121 L1484.17 26.1121 Z\" fill=\"#000000\" fill-rule=\"evenodd\" fill-opacity=\"1\" /><path clip-path=\"url(#clip160)\" d=\"M 0 0 M1518.61 14.324 L1518.61 27.2059 L1533.96 27.2059 L1533.96 32.9987 L1518.61 32.9987 L1518.61 57.6282 Q1518.61 63.1779 1520.1 64.7578 Q1521.64 66.3376 1526.3 66.3376 L1533.96 66.3376 L1533.96 72.576 L1526.3 72.576 Q1517.67 72.576 1514.39 69.3758 Q1511.11 66.1351 1511.11 57.6282 L1511.11 32.9987 L1505.64 32.9987 L1505.64 27.2059 L1511.11 27.2059 L1511.11 14.324 L1518.61 14.324 Z\" fill=\"#000000\" fill-rule=\"evenodd\" fill-opacity=\"1\" /><path clip-path=\"url(#clip160)\" d=\"M 0 0 M1605.86 45.1919 L1605.86 72.576 L1598.41 72.576 L1598.41 45.4349 Q1598.41 38.994 1595.9 35.7938 Q1593.39 32.5936 1588.36 32.5936 Q1582.33 32.5936 1578.84 36.4419 Q1575.36 40.2903 1575.36 46.9338 L1575.36 72.576 L1567.86 72.576 L1567.86 27.2059 L1575.36 27.2059 L1575.36 34.2544 Q1578.03 30.163 1581.64 28.1376 Q1585.28 26.1121 1590.02 26.1121 Q1597.84 26.1121 1601.85 30.9732 Q1605.86 35.7938 1605.86 45.1919 Z\" fill=\"#000000\" fill-rule=\"evenodd\" fill-opacity=\"1\" /><path clip-path=\"url(#clip160)\" d=\"M 0 0 M1652.49 48.0275 L1652.49 51.6733 L1618.22 51.6733 Q1618.7 59.3701 1622.84 63.421 Q1627.01 67.4314 1634.42 67.4314 Q1638.72 67.4314 1642.73 66.3781 Q1646.78 65.3249 1650.75 63.2184 L1650.75 70.267 Q1646.74 71.9684 1642.52 72.8596 Q1638.31 73.7508 1633.98 73.7508 Q1623.12 73.7508 1616.76 67.4314 Q1610.44 61.1119 1610.44 50.3365 Q1610.44 39.1965 1616.44 32.6746 Q1622.47 26.1121 1632.68 26.1121 Q1641.83 26.1121 1647.14 32.0264 Q1652.49 37.9003 1652.49 48.0275 M1645.03 45.84 Q1644.95 39.7232 1641.59 36.0774 Q1638.27 32.4315 1632.76 32.4315 Q1626.52 32.4315 1622.75 35.9558 Q1619.03 39.4801 1618.46 45.8805 L1645.03 45.84 Z\" fill=\"#000000\" fill-rule=\"evenodd\" fill-opacity=\"1\" /><path clip-path=\"url(#clip160)\" d=\"M 0 0 M1667.68 14.324 L1667.68 27.2059 L1683.03 27.2059 L1683.03 32.9987 L1667.68 32.9987 L1667.68 57.6282 Q1667.68 63.1779 1669.18 64.7578 Q1670.72 66.3376 1675.38 66.3376 L1683.03 66.3376 L1683.03 72.576 L1675.38 72.576 Q1666.75 72.576 1663.47 69.3758 Q1660.19 66.1351 1660.19 57.6282 L1660.19 32.9987 L1654.72 32.9987 L1654.72 27.2059 L1660.19 27.2059 L1660.19 14.324 L1667.68 14.324 Z\" fill=\"#000000\" fill-rule=\"evenodd\" fill-opacity=\"1\" /><path clip-path=\"url(#clip160)\" d=\"M 0 0 M1708.43 32.4315 Q1702.44 32.4315 1698.95 37.1306 Q1695.47 41.7891 1695.47 49.9314 Q1695.47 58.0738 1698.91 62.7728 Q1702.4 67.4314 1708.43 67.4314 Q1714.39 67.4314 1717.87 62.7323 Q1721.35 58.0333 1721.35 49.9314 Q1721.35 41.8701 1717.87 37.1711 Q1714.39 32.4315 1708.43 32.4315 M1708.43 26.1121 Q1718.15 26.1121 1723.7 32.4315 Q1729.25 38.7509 1729.25 49.9314 Q1729.25 61.0714 1723.7 67.4314 Q1718.15 73.7508 1708.43 73.7508 Q1698.67 73.7508 1693.12 67.4314 Q1687.61 61.0714 1687.61 49.9314 Q1687.61 38.7509 1693.12 32.4315 Q1698.67 26.1121 1708.43 26.1121 Z\" fill=\"#000000\" fill-rule=\"evenodd\" fill-opacity=\"1\" /><path clip-path=\"url(#clip160)\" d=\"M 0 0 M1770.65 65.7705 L1770.65 89.8329 L1763.16 89.8329 L1763.16 27.2059 L1770.65 27.2059 L1770.65 34.0924 Q1773 30.0415 1776.57 28.0971 Q1780.17 26.1121 1785.16 26.1121 Q1793.42 26.1121 1798.56 32.6746 Q1803.75 39.2371 1803.75 49.9314 Q1803.75 60.6258 1798.56 67.1883 Q1793.42 73.7508 1785.16 73.7508 Q1780.17 73.7508 1776.57 71.8063 Q1773 69.8214 1770.65 65.7705 M1796.01 49.9314 Q1796.01 41.7081 1792.61 37.0496 Q1789.25 32.3505 1783.33 32.3505 Q1777.42 32.3505 1774.02 37.0496 Q1770.65 41.7081 1770.65 49.9314 Q1770.65 58.1548 1774.02 62.8538 Q1777.42 67.5124 1783.33 67.5124 Q1789.25 67.5124 1792.61 62.8538 Q1796.01 58.1548 1796.01 49.9314 Z\" fill=\"#000000\" fill-rule=\"evenodd\" fill-opacity=\"1\" /><path clip-path=\"url(#clip160)\" d=\"M 0 0 M1832.19 49.7694 Q1823.15 49.7694 1819.67 51.8354 Q1816.19 53.9013 1816.19 58.8839 Q1816.19 62.8538 1818.78 65.2034 Q1821.41 67.5124 1825.91 67.5124 Q1832.11 67.5124 1835.83 63.1374 Q1839.6 58.7219 1839.6 51.4303 L1839.6 49.7694 L1832.19 49.7694 M1847.05 46.6907 L1847.05 72.576 L1839.6 72.576 L1839.6 65.6895 Q1837.05 69.8214 1833.24 71.8063 Q1829.43 73.7508 1823.92 73.7508 Q1816.96 73.7508 1812.82 69.8619 Q1808.73 65.9325 1808.73 59.3701 Q1808.73 51.7138 1813.84 47.825 Q1818.98 43.9361 1829.15 43.9361 L1839.6 43.9361 L1839.6 43.2069 Q1839.6 38.0623 1836.2 35.2672 Q1832.83 32.4315 1826.72 32.4315 Q1822.83 32.4315 1819.14 33.3632 Q1815.46 34.295 1812.05 36.1584 L1812.05 29.2718 Q1816.14 27.692 1819.99 26.9223 Q1823.84 26.1121 1827.49 26.1121 Q1837.33 26.1121 1842.19 31.2163 Q1847.05 36.3204 1847.05 46.6907 Z\" fill=\"#000000\" fill-rule=\"evenodd\" fill-opacity=\"1\" /><path clip-path=\"url(#clip160)\" d=\"M 0 0 M1881.16 34.1734 Q1879.91 33.4443 1878.41 33.1202 Q1876.95 32.7556 1875.17 32.7556 Q1868.85 32.7556 1865.44 36.8875 Q1862.08 40.9789 1862.08 48.6757 L1862.08 72.576 L1854.59 72.576 L1854.59 27.2059 L1862.08 27.2059 L1862.08 34.2544 Q1864.43 30.1225 1868.2 28.1376 Q1871.97 26.1121 1877.35 26.1121 Q1878.12 26.1121 1879.06 26.2337 Q1879.99 26.3147 1881.12 26.5172 L1881.16 34.1734 Z\" fill=\"#000000\" fill-rule=\"evenodd\" fill-opacity=\"1\" /><path clip-path=\"url(#clip160)\" d=\"M 0 0 M1909.6 49.7694 Q1900.57 49.7694 1897.08 51.8354 Q1893.6 53.9013 1893.6 58.8839 Q1893.6 62.8538 1896.19 65.2034 Q1898.82 67.5124 1903.32 67.5124 Q1909.52 67.5124 1913.25 63.1374 Q1917.01 58.7219 1917.01 51.4303 L1917.01 49.7694 L1909.6 49.7694 M1924.47 46.6907 L1924.47 72.576 L1917.01 72.576 L1917.01 65.6895 Q1914.46 69.8214 1910.65 71.8063 Q1906.84 73.7508 1901.34 73.7508 Q1894.37 73.7508 1890.24 69.8619 Q1886.14 65.9325 1886.14 59.3701 Q1886.14 51.7138 1891.25 47.825 Q1896.39 43.9361 1906.56 43.9361 L1917.01 43.9361 L1917.01 43.2069 Q1917.01 38.0623 1913.61 35.2672 Q1910.25 32.4315 1904.13 32.4315 Q1900.24 32.4315 1896.56 33.3632 Q1892.87 34.295 1889.47 36.1584 L1889.47 29.2718 Q1893.56 27.692 1897.41 26.9223 Q1901.25 26.1121 1904.9 26.1121 Q1914.74 26.1121 1919.6 31.2163 Q1924.47 36.3204 1924.47 46.6907 Z\" fill=\"#000000\" fill-rule=\"evenodd\" fill-opacity=\"1\" /><path clip-path=\"url(#clip160)\" d=\"M 0 0 M1958.98 12.096 L1967.16 12.096 L1967.16 65.6895 L1996.61 65.6895 L1996.61 72.576 L1958.98 72.576 L1958.98 12.096 Z\" fill=\"#000000\" fill-rule=\"evenodd\" fill-opacity=\"1\" /><path clip-path=\"url(#clip160)\" d=\"M 0 0 M2005.4 34.9026 L2057.34 34.9026 L2057.34 41.7081 L2005.4 41.7081 L2005.4 34.9026 M2005.4 51.4303 L2057.34 51.4303 L2057.34 58.3168 L2005.4 58.3168 L2005.4 51.4303 Z\" fill=\"#000000\" fill-rule=\"evenodd\" fill-opacity=\"1\" /><path clip-path=\"url(#clip160)\" d=\"M 0 0 M2067.62 65.6895 L2080.99 65.6895 L2080.99 19.5497 L2066.45 22.4663 L2066.45 15.0127 L2080.91 12.096 L2089.09 12.096 L2089.09 65.6895 L2102.46 65.6895 L2102.46 72.576 L2067.62 72.576 L2067.62 65.6895 Z\" fill=\"#000000\" fill-rule=\"evenodd\" fill-opacity=\"1\" /><path clip-path=\"url(#clip160)\" d=\"M 0 0 M2111.42 12.096 L2143.54 12.096 L2143.54 18.9825 L2118.91 18.9825 L2118.91 33.8088 Q2120.69 33.2012 2122.47 32.9176 Q2124.26 32.5936 2126.04 32.5936 Q2136.17 32.5936 2142.08 38.1433 Q2147.99 43.6931 2147.99 53.1722 Q2147.99 62.9348 2141.92 68.3631 Q2135.84 73.7508 2124.78 73.7508 Q2120.98 73.7508 2117.01 73.1026 Q2113.08 72.4545 2108.86 71.1582 L2108.86 62.9348 Q2112.51 64.9198 2116.4 65.892 Q2120.29 66.8642 2124.62 66.8642 Q2131.63 66.8642 2135.72 63.1779 Q2139.81 59.4916 2139.81 53.1722 Q2139.81 46.8528 2135.72 43.1664 Q2131.63 39.4801 2124.62 39.4801 Q2121.34 39.4801 2118.06 40.2093 Q2114.82 40.9384 2111.42 42.4778 L2111.42 12.096 Z\" fill=\"#000000\" fill-rule=\"evenodd\" fill-opacity=\"1\" /><path clip-path=\"url(#clip160)\" d=\"M 0 0 M2174.37 17.4837 Q2168.05 17.4837 2164.85 23.7221 Q2161.69 29.92 2161.69 42.3968 Q2161.69 54.833 2164.85 61.0714 Q2168.05 67.2693 2174.37 67.2693 Q2180.73 67.2693 2183.89 61.0714 Q2187.09 54.833 2187.09 42.3968 Q2187.09 29.92 2183.89 23.7221 Q2180.73 17.4837 2174.37 17.4837 M2174.37 11.0023 Q2184.53 11.0023 2189.88 19.0636 Q2195.27 27.0843 2195.27 42.3968 Q2195.27 57.6687 2189.88 65.73 Q2184.53 73.7508 2174.37 73.7508 Q2164.2 73.7508 2158.81 65.73 Q2153.46 57.6687 2153.46 42.3968 Q2153.46 27.0843 2158.81 19.0636 Q2164.2 11.0023 2174.37 11.0023 Z\" fill=\"#000000\" fill-rule=\"evenodd\" fill-opacity=\"1\" /><path clip-path=\"url(#clip160)\" d=\"M 0 0 M2221.64 17.4837 Q2215.32 17.4837 2212.12 23.7221 Q2208.96 29.92 2208.96 42.3968 Q2208.96 54.833 2212.12 61.0714 Q2215.32 67.2693 2221.64 67.2693 Q2228 67.2693 2231.16 61.0714 Q2234.36 54.833 2234.36 42.3968 Q2234.36 29.92 2231.16 23.7221 Q2228 17.4837 2221.64 17.4837 M2221.64 11.0023 Q2231.81 11.0023 2237.16 19.0636 Q2242.54 27.0843 2242.54 42.3968 Q2242.54 57.6687 2237.16 65.73 Q2231.81 73.7508 2221.64 73.7508 Q2211.47 73.7508 2206.08 65.73 Q2200.74 57.6687 2200.74 42.3968 Q2200.74 27.0843 2206.08 19.0636 Q2211.47 11.0023 2221.64 11.0023 Z\" fill=\"#000000\" fill-rule=\"evenodd\" fill-opacity=\"1\" /><path clip-path=\"url(#clip160)\" d=\"M 0 0 M2309.3 49.9314 Q2309.3 41.7081 2305.9 37.0496 Q2302.54 32.3505 2296.62 32.3505 Q2290.71 32.3505 2287.31 37.0496 Q2283.94 41.7081 2283.94 49.9314 Q2283.94 58.1548 2287.31 62.8538 Q2290.71 67.5124 2296.62 67.5124 Q2302.54 67.5124 2305.9 62.8538 Q2309.3 58.1548 2309.3 49.9314 M2283.94 34.0924 Q2286.29 30.0415 2289.86 28.0971 Q2293.46 26.1121 2298.45 26.1121 Q2306.71 26.1121 2311.85 32.6746 Q2317.04 39.2371 2317.04 49.9314 Q2317.04 60.6258 2311.85 67.1883 Q2306.71 73.7508 2298.45 73.7508 Q2293.46 73.7508 2289.86 71.8063 Q2286.29 69.8214 2283.94 65.7705 L2283.94 72.576 L2276.45 72.576 L2276.45 9.54393 L2283.94 9.54393 L2283.94 34.0924 Z\" fill=\"#000000\" fill-rule=\"evenodd\" fill-opacity=\"1\" /><path clip-path=\"url(#clip160)\" d=\"M 0 0 M2343.73 76.7889 Q2340.57 84.8907 2337.58 87.3618 Q2334.58 89.8329 2329.56 89.8329 L2323.6 89.8329 L2323.6 83.5945 L2327.98 83.5945 Q2331.06 83.5945 2332.76 82.1361 Q2334.46 80.6778 2336.52 75.2496 L2337.86 71.8468 L2319.51 27.2059 L2327.41 27.2059 L2341.59 62.6918 L2355.77 27.2059 L2363.67 27.2059 L2343.73 76.7889 Z\" fill=\"#000000\" fill-rule=\"evenodd\" fill-opacity=\"1\" /><path clip-path=\"url(#clip160)\" d=\"M 0 0 M2378.86 14.324 L2378.86 27.2059 L2394.21 27.2059 L2394.21 32.9987 L2378.86 32.9987 L2378.86 57.6282 Q2378.86 63.1779 2380.35 64.7578 Q2381.89 66.3376 2386.55 66.3376 L2394.21 66.3376 L2394.21 72.576 L2386.55 72.576 Q2377.92 72.576 2374.64 69.3758 Q2371.36 66.1351 2371.36 57.6282 L2371.36 32.9987 L2365.89 32.9987 L2365.89 27.2059 L2371.36 27.2059 L2371.36 14.324 L2378.86 14.324 Z\" fill=\"#000000\" fill-rule=\"evenodd\" fill-opacity=\"1\" /><path clip-path=\"url(#clip160)\" d=\"M 0 0 M2440.83 48.0275 L2440.83 51.6733 L2406.56 51.6733 Q2407.05 59.3701 2411.18 63.421 Q2415.35 67.4314 2422.77 67.4314 Q2427.06 67.4314 2431.07 66.3781 Q2435.12 65.3249 2439.09 63.2184 L2439.09 70.267 Q2435.08 71.9684 2430.87 72.8596 Q2426.66 73.7508 2422.32 73.7508 Q2411.47 73.7508 2405.11 67.4314 Q2398.79 61.1119 2398.79 50.3365 Q2398.79 39.1965 2404.78 32.6746 Q2410.82 26.1121 2421.03 26.1121 Q2430.18 26.1121 2435.49 32.0264 Q2440.83 37.9003 2440.83 48.0275 M2433.38 45.84 Q2433.3 39.7232 2429.94 36.0774 Q2426.62 32.4315 2421.11 32.4315 Q2414.87 32.4315 2411.1 35.9558 Q2407.37 39.4801 2406.81 45.8805 L2433.38 45.84 Z\" fill=\"#000000\" fill-rule=\"evenodd\" fill-opacity=\"1\" /><path clip-path=\"url(#clip160)\" d=\"M 0 0 M2477.58 28.5427 L2477.58 35.5912 Q2474.42 33.9709 2471.01 33.1607 Q2467.61 32.3505 2463.97 32.3505 Q2458.42 32.3505 2455.62 34.0519 Q2452.87 35.7533 2452.87 39.156 Q2452.87 41.7486 2454.85 43.2475 Q2456.84 44.7058 2462.83 46.0426 L2465.38 46.6097 Q2473.32 48.3111 2476.64 51.4303 Q2480.01 54.509 2480.01 60.0587 Q2480.01 66.3781 2474.98 70.0644 Q2470 73.7508 2461.25 73.7508 Q2457.61 73.7508 2453.64 73.0216 Q2449.71 72.3329 2445.33 70.9151 L2445.33 63.2184 Q2449.46 65.3654 2453.47 66.4591 Q2457.48 67.5124 2461.41 67.5124 Q2466.68 67.5124 2469.52 65.73 Q2472.35 63.9071 2472.35 60.6258 Q2472.35 57.5877 2470.28 55.9673 Q2468.26 54.3469 2461.33 52.8481 L2458.74 52.2405 Q2451.81 50.7821 2448.73 47.7845 Q2445.66 44.7463 2445.66 39.4801 Q2445.66 33.0797 2450.19 29.5959 Q2454.73 26.1121 2463.07 26.1121 Q2467.21 26.1121 2470.85 26.7198 Q2474.5 27.3274 2477.58 28.5427 Z\" fill=\"#000000\" fill-rule=\"evenodd\" fill-opacity=\"1\" /><path clip-path=\"url(#clip160)\" d=\"M 0 0 M2489.73 62.2867 L2498.28 62.2867 L2498.28 69.2543 L2491.63 82.2172 L2486.41 82.2172 L2489.73 69.2543 L2489.73 62.2867 Z\" fill=\"#000000\" fill-rule=\"evenodd\" fill-opacity=\"1\" /><path clip-path=\"url(#clip160)\" d=\"M 0 0 M2561.39 28.5427 L2561.39 35.5912 Q2558.23 33.9709 2554.83 33.1607 Q2551.42 32.3505 2547.78 32.3505 Q2542.23 32.3505 2539.43 34.0519 Q2536.68 35.7533 2536.68 39.156 Q2536.68 41.7486 2538.66 43.2475 Q2540.65 44.7058 2546.64 46.0426 L2549.2 46.6097 Q2557.14 48.3111 2560.46 51.4303 Q2563.82 54.509 2563.82 60.0587 Q2563.82 66.3781 2558.8 70.0644 Q2553.81 73.7508 2545.06 73.7508 Q2541.42 73.7508 2537.45 73.0216 Q2533.52 72.3329 2529.14 70.9151 L2529.14 63.2184 Q2533.28 65.3654 2537.29 66.4591 Q2541.3 67.5124 2545.23 67.5124 Q2550.49 67.5124 2553.33 65.73 Q2556.16 63.9071 2556.16 60.6258 Q2556.16 57.5877 2554.1 55.9673 Q2552.07 54.3469 2545.15 52.8481 L2542.55 52.2405 Q2535.63 50.7821 2532.55 47.7845 Q2529.47 44.7463 2529.47 39.4801 Q2529.47 33.0797 2534.01 29.5959 Q2538.54 26.1121 2546.89 26.1121 Q2551.02 26.1121 2554.67 26.7198 Q2558.31 27.3274 2561.39 28.5427 Z\" fill=\"#000000\" fill-rule=\"evenodd\" fill-opacity=\"1\" /><path clip-path=\"url(#clip160)\" d=\"M 0 0 M2571.64 27.2059 L2579.09 27.2059 L2579.09 72.576 L2571.64 72.576 L2571.64 27.2059 M2571.64 9.54393 L2579.09 9.54393 L2579.09 18.9825 L2571.64 18.9825 L2571.64 9.54393 Z\" fill=\"#000000\" fill-rule=\"evenodd\" fill-opacity=\"1\" /><path clip-path=\"url(#clip160)\" d=\"M 0 0 M2624.62 45.1919 L2624.62 72.576 L2617.17 72.576 L2617.17 45.4349 Q2617.17 38.994 2614.66 35.7938 Q2612.15 32.5936 2607.12 32.5936 Q2601.09 32.5936 2597.6 36.4419 Q2594.12 40.2903 2594.12 46.9338 L2594.12 72.576 L2586.63 72.576 L2586.63 27.2059 L2594.12 27.2059 L2594.12 34.2544 Q2596.79 30.163 2600.4 28.1376 Q2604.05 26.1121 2608.79 26.1121 Q2616.6 26.1121 2620.61 30.9732 Q2624.62 35.7938 2624.62 45.1919 Z\" fill=\"#000000\" fill-rule=\"evenodd\" fill-opacity=\"1\" /><path clip-path=\"url(#clip160)\" d=\"M 0 0 M2662.3 49.3643 Q2662.3 41.2625 2658.94 36.8065 Q2655.61 32.3505 2649.58 32.3505 Q2643.58 32.3505 2640.22 36.8065 Q2636.9 41.2625 2636.9 49.3643 Q2636.9 57.4256 2640.22 61.8816 Q2643.58 66.3376 2649.58 66.3376 Q2655.61 66.3376 2658.94 61.8816 Q2662.3 57.4256 2662.3 49.3643 M2669.75 66.9452 Q2669.75 78.5308 2664.61 84.1616 Q2659.46 89.8329 2648.85 89.8329 Q2644.92 89.8329 2641.44 89.2252 Q2637.95 88.6581 2634.67 87.4428 L2634.67 80.1917 Q2637.95 81.9741 2641.15 82.8248 Q2644.35 83.6755 2647.67 83.6755 Q2655.01 83.6755 2658.65 79.8271 Q2662.3 76.0193 2662.3 68.282 L2662.3 64.5957 Q2659.99 68.6061 2656.38 70.5911 Q2652.78 72.576 2647.75 72.576 Q2639.41 72.576 2634.31 66.2161 Q2629.2 59.8562 2629.2 49.3643 Q2629.2 38.832 2634.31 32.472 Q2639.41 26.1121 2647.75 26.1121 Q2652.78 26.1121 2656.38 28.0971 Q2659.99 30.082 2662.3 34.0924 L2662.3 27.2059 L2669.75 27.2059 L2669.75 66.9452 Z\" fill=\"#000000\" fill-rule=\"evenodd\" fill-opacity=\"1\" /><path clip-path=\"url(#clip160)\" d=\"M 0 0 M2677.57 9.54393 L2685.02 9.54393 L2685.02 72.576 L2677.57 72.576 L2677.57 9.54393 Z\" fill=\"#000000\" fill-rule=\"evenodd\" fill-opacity=\"1\" /><path clip-path=\"url(#clip160)\" d=\"M 0 0 M2731.65 48.0275 L2731.65 51.6733 L2697.38 51.6733 Q2697.86 59.3701 2702 63.421 Q2706.17 67.4314 2713.58 67.4314 Q2717.88 67.4314 2721.89 66.3781 Q2725.94 65.3249 2729.91 63.2184 L2729.91 70.267 Q2725.9 71.9684 2721.68 72.8596 Q2717.47 73.7508 2713.14 73.7508 Q2702.28 73.7508 2695.92 67.4314 Q2689.6 61.1119 2689.6 50.3365 Q2689.6 39.1965 2695.6 32.6746 Q2701.63 26.1121 2711.84 26.1121 Q2721 26.1121 2726.3 32.0264 Q2731.65 37.9003 2731.65 48.0275 M2724.2 45.84 Q2724.11 39.7232 2720.75 36.0774 Q2717.43 32.4315 2711.92 32.4315 Q2705.68 32.4315 2701.92 35.9558 Q2698.19 39.4801 2697.62 45.8805 L2724.2 45.84 Z\" fill=\"#000000\" fill-rule=\"evenodd\" fill-opacity=\"1\" /><path clip-path=\"url(#clip160)\" d=\"M 0 0 M2794.76 28.5427 L2794.76 35.5912 Q2791.6 33.9709 2788.2 33.1607 Q2784.8 32.3505 2781.15 32.3505 Q2775.6 32.3505 2772.81 34.0519 Q2770.05 35.7533 2770.05 39.156 Q2770.05 41.7486 2772.04 43.2475 Q2774.02 44.7058 2780.02 46.0426 L2782.57 46.6097 Q2790.51 48.3111 2793.83 51.4303 Q2797.19 54.509 2797.19 60.0587 Q2797.19 66.3781 2792.17 70.0644 Q2787.19 73.7508 2778.44 73.7508 Q2774.79 73.7508 2770.82 73.0216 Q2766.89 72.3329 2762.52 70.9151 L2762.52 63.2184 Q2766.65 65.3654 2770.66 66.4591 Q2774.67 67.5124 2778.6 67.5124 Q2783.87 67.5124 2786.7 65.73 Q2789.54 63.9071 2789.54 60.6258 Q2789.54 57.5877 2787.47 55.9673 Q2785.45 54.3469 2778.52 52.8481 L2775.93 52.2405 Q2769 50.7821 2765.92 47.7845 Q2762.84 44.7463 2762.84 39.4801 Q2762.84 33.0797 2767.38 29.5959 Q2771.92 26.1121 2780.26 26.1121 Q2784.39 26.1121 2788.04 26.7198 Q2791.68 27.3274 2794.76 28.5427 Z\" fill=\"#000000\" fill-rule=\"evenodd\" fill-opacity=\"1\" /><path clip-path=\"url(#clip160)\" d=\"M 0 0 M2812.38 14.324 L2812.38 27.2059 L2827.74 27.2059 L2827.74 32.9987 L2812.38 32.9987 L2812.38 57.6282 Q2812.38 63.1779 2813.88 64.7578 Q2815.42 66.3376 2820.08 66.3376 L2827.74 66.3376 L2827.74 72.576 L2820.08 72.576 Q2811.45 72.576 2808.17 69.3758 Q2804.89 66.1351 2804.89 57.6282 L2804.89 32.9987 L2799.42 32.9987 L2799.42 27.2059 L2804.89 27.2059 L2804.89 14.324 L2812.38 14.324 Z\" fill=\"#000000\" fill-rule=\"evenodd\" fill-opacity=\"1\" /><path clip-path=\"url(#clip160)\" d=\"M 0 0 M2856.17 49.7694 Q2847.14 49.7694 2843.66 51.8354 Q2840.17 53.9013 2840.17 58.8839 Q2840.17 62.8538 2842.77 65.2034 Q2845.4 67.5124 2849.9 67.5124 Q2856.09 67.5124 2859.82 63.1374 Q2863.59 58.7219 2863.59 51.4303 L2863.59 49.7694 L2856.17 49.7694 M2871.04 46.6907 L2871.04 72.576 L2863.59 72.576 L2863.59 65.6895 Q2861.04 69.8214 2857.23 71.8063 Q2853.42 73.7508 2847.91 73.7508 Q2840.94 73.7508 2836.81 69.8619 Q2832.72 65.9325 2832.72 59.3701 Q2832.72 51.7138 2837.82 47.825 Q2842.97 43.9361 2853.14 43.9361 L2863.59 43.9361 L2863.59 43.2069 Q2863.59 38.0623 2860.18 35.2672 Q2856.82 32.4315 2850.71 32.4315 Q2846.82 32.4315 2843.13 33.3632 Q2839.44 34.295 2836.04 36.1584 L2836.04 29.2718 Q2840.13 27.692 2843.98 26.9223 Q2847.83 26.1121 2851.47 26.1121 Q2861.32 26.1121 2866.18 31.2163 Q2871.04 36.3204 2871.04 46.6907 Z\" fill=\"#000000\" fill-rule=\"evenodd\" fill-opacity=\"1\" /><path clip-path=\"url(#clip160)\" d=\"M 0 0 M2886.23 14.324 L2886.23 27.2059 L2901.58 27.2059 L2901.58 32.9987 L2886.23 32.9987 L2886.23 57.6282 Q2886.23 63.1779 2887.73 64.7578 Q2889.27 66.3376 2893.93 66.3376 L2901.58 66.3376 L2901.58 72.576 L2893.93 72.576 Q2885.3 72.576 2882.02 69.3758 Q2878.74 66.1351 2878.74 57.6282 L2878.74 32.9987 L2873.27 32.9987 L2873.27 27.2059 L2878.74 27.2059 L2878.74 14.324 L2886.23 14.324 Z\" fill=\"#000000\" fill-rule=\"evenodd\" fill-opacity=\"1\" /><path clip-path=\"url(#clip160)\" d=\"M 0 0 M2909.4 27.2059 L2916.86 27.2059 L2916.86 72.576 L2909.4 72.576 L2909.4 27.2059 M2909.4 9.54393 L2916.86 9.54393 L2916.86 18.9825 L2909.4 18.9825 L2909.4 9.54393 Z\" fill=\"#000000\" fill-rule=\"evenodd\" fill-opacity=\"1\" /><path clip-path=\"url(#clip160)\" d=\"M 0 0 M2942.26 32.4315 Q2936.26 32.4315 2932.78 37.1306 Q2929.29 41.7891 2929.29 49.9314 Q2929.29 58.0738 2932.74 62.7728 Q2936.22 67.4314 2942.26 67.4314 Q2948.21 67.4314 2951.69 62.7323 Q2955.18 58.0333 2955.18 49.9314 Q2955.18 41.8701 2951.69 37.1711 Q2948.21 32.4315 2942.26 32.4315 M2942.26 26.1121 Q2951.98 26.1121 2957.53 32.4315 Q2963.08 38.7509 2963.08 49.9314 Q2963.08 61.0714 2957.53 67.4314 Q2951.98 73.7508 2942.26 73.7508 Q2932.49 73.7508 2926.94 67.4314 Q2921.43 61.0714 2921.43 49.9314 Q2921.43 38.7509 2926.94 32.4315 Q2932.49 26.1121 2942.26 26.1121 Z\" fill=\"#000000\" fill-rule=\"evenodd\" fill-opacity=\"1\" /><path clip-path=\"url(#clip160)\" d=\"M 0 0 M3008.61 45.1919 L3008.61 72.576 L3001.16 72.576 L3001.16 45.4349 Q3001.16 38.994 2998.64 35.7938 Q2996.13 32.5936 2991.11 32.5936 Q2985.07 32.5936 2981.59 36.4419 Q2978.11 40.2903 2978.11 46.9338 L2978.11 72.576 L2970.61 72.576 L2970.61 27.2059 L2978.11 27.2059 L2978.11 34.2544 Q2980.78 30.163 2984.39 28.1376 Q2988.03 26.1121 2992.77 26.1121 Q3000.59 26.1121 3004.6 30.9732 Q3008.61 35.7938 3008.61 45.1919 Z\" fill=\"#000000\" fill-rule=\"evenodd\" fill-opacity=\"1\" /><path clip-path=\"url(#clip162)\" d=\"M246.669 1653.25 L246.669 1685.25 L278.669 1685.25 L278.669 1653.25 L246.669 1653.25 Z\" fill=\"#009af9\" fill-rule=\"evenodd\" fill-opacity=\"1\" stroke=\"#000000\" stroke-opacity=\"1\" stroke-width=\"4\"/>\n",
       "<path clip-path=\"url(#clip162)\" d=\"M470.582 1576.76 L470.582 1608.76 L502.582 1608.76 L502.582 1576.76 L470.582 1576.76 Z\" fill=\"#009af9\" fill-rule=\"evenodd\" fill-opacity=\"1\" stroke=\"#000000\" stroke-opacity=\"1\" stroke-width=\"4\"/>\n",
       "<path clip-path=\"url(#clip162)\" d=\"M694.495 1505.56 L694.495 1537.56 L726.495 1537.56 L726.495 1505.56 L694.495 1505.56 Z\" fill=\"#009af9\" fill-rule=\"evenodd\" fill-opacity=\"1\" stroke=\"#000000\" stroke-opacity=\"1\" stroke-width=\"4\"/>\n",
       "<path clip-path=\"url(#clip162)\" d=\"M1142.32 1376.98 L1142.32 1408.98 L1174.32 1408.98 L1174.32 1376.98 L1142.32 1376.98 Z\" fill=\"#009af9\" fill-rule=\"evenodd\" fill-opacity=\"1\" stroke=\"#000000\" stroke-opacity=\"1\" stroke-width=\"4\"/>\n",
       "<path clip-path=\"url(#clip162)\" d=\"M1590.15 1264.02 L1590.15 1296.02 L1622.15 1296.02 L1622.15 1264.02 L1590.15 1264.02 Z\" fill=\"#009af9\" fill-rule=\"evenodd\" fill-opacity=\"1\" stroke=\"#000000\" stroke-opacity=\"1\" stroke-width=\"4\"/>\n",
       "<path clip-path=\"url(#clip162)\" d=\"M2411.16 1089.01 L2411.16 1121.01 L2443.16 1121.01 L2443.16 1089.01 L2411.16 1089.01 Z\" fill=\"#009af9\" fill-rule=\"evenodd\" fill-opacity=\"1\" stroke=\"#000000\" stroke-opacity=\"1\" stroke-width=\"4\"/>\n",
       "<path clip-path=\"url(#clip162)\" d=\"M3381.45 922.608 L3381.45 954.608 L3413.45 954.608 L3413.45 922.608 L3381.45 922.608 Z\" fill=\"#009af9\" fill-rule=\"evenodd\" fill-opacity=\"1\" stroke=\"#000000\" stroke-opacity=\"1\" stroke-width=\"4\"/>\n",
       "<path clip-path=\"url(#clip162)\" d=\"M3829.28 857.14 L3829.28 889.14 L3861.28 889.14 L3861.28 857.14 L3829.28 857.14 Z\" fill=\"#009af9\" fill-rule=\"evenodd\" fill-opacity=\"1\" stroke=\"#000000\" stroke-opacity=\"1\" stroke-width=\"4\"/>\n",
       "<polyline clip-path=\"url(#clip162)\" style=\"stroke:#009af9; stroke-width:16; stroke-opacity:1; fill:none\" points=\"\n",
       "  262.669,1840.63 262.669,1669.25 \n",
       "  \"/>\n",
       "<polyline clip-path=\"url(#clip162)\" style=\"stroke:#009af9; stroke-width:16; stroke-opacity:1; fill:none\" points=\"\n",
       "  486.582,1840.63 486.582,1592.76 \n",
       "  \"/>\n",
       "<polyline clip-path=\"url(#clip162)\" style=\"stroke:#009af9; stroke-width:16; stroke-opacity:1; fill:none\" points=\"\n",
       "  710.495,1840.63 710.495,1521.56 \n",
       "  \"/>\n",
       "<polyline clip-path=\"url(#clip162)\" style=\"stroke:#009af9; stroke-width:16; stroke-opacity:1; fill:none\" points=\"\n",
       "  1158.32,1840.63 1158.32,1392.98 \n",
       "  \"/>\n",
       "<polyline clip-path=\"url(#clip162)\" style=\"stroke:#009af9; stroke-width:16; stroke-opacity:1; fill:none\" points=\"\n",
       "  1606.15,1840.63 1606.15,1280.02 \n",
       "  \"/>\n",
       "<polyline clip-path=\"url(#clip162)\" style=\"stroke:#009af9; stroke-width:16; stroke-opacity:1; fill:none\" points=\"\n",
       "  2427.16,1840.63 2427.16,1105.01 \n",
       "  \"/>\n",
       "<polyline clip-path=\"url(#clip162)\" style=\"stroke:#009af9; stroke-width:16; stroke-opacity:1; fill:none\" points=\"\n",
       "  3397.45,1840.63 3397.45,938.608 \n",
       "  \"/>\n",
       "<polyline clip-path=\"url(#clip162)\" style=\"stroke:#009af9; stroke-width:16; stroke-opacity:1; fill:none\" points=\"\n",
       "  3845.28,1840.63 3845.28,873.14 \n",
       "  \"/>\n",
       "<polyline clip-path=\"url(#clip162)\" style=\"stroke:#e26f46; stroke-width:4; stroke-opacity:1; fill:none\" stroke-dasharray=\"2, 4\" points=\"\n",
       "  262.669,1653.76 486.582,1560.33 710.495,1466.89 1158.32,1280.02 1606.15,1093.15 2427.16,750.561 3397.45,345.676 3845.28,158.807 \n",
       "  \"/>\n",
       "</svg>\n"
      ],
      "text/html": [
       "<?xml version=\"1.0\" encoding=\"utf-8\"?>\n",
       "<svg xmlns=\"http://www.w3.org/2000/svg\" xmlns:xlink=\"http://www.w3.org/1999/xlink\" width=\"1000\" height=\"500\" viewBox=\"0 0 4000 2000\">\n",
       "<defs>\n",
       "  <clipPath id=\"clip210\">\n",
       "    <rect x=\"0\" y=\"0\" width=\"4000\" height=\"2000\"/>\n",
       "  </clipPath>\n",
       "</defs>\n",
       "<path clip-path=\"url(#clip210)\" d=\"\n",
       "M0 2000 L4000 2000 L4000 0 L0 0  Z\n",
       "  \" fill=\"#ffffff\" fill-rule=\"evenodd\" fill-opacity=\"1\"/>\n",
       "<defs>\n",
       "  <clipPath id=\"clip211\">\n",
       "    <rect x=\"800\" y=\"0\" width=\"2801\" height=\"2000\"/>\n",
       "  </clipPath>\n",
       "</defs>\n",
       "<path clip-path=\"url(#clip210)\" d=\"\n",
       "M155.191 1891.09 L3952.76 1891.09 L3952.76 108.352 L155.191 108.352  Z\n",
       "  \" fill=\"#ffffff\" fill-rule=\"evenodd\" fill-opacity=\"1\"/>\n",
       "<defs>\n",
       "  <clipPath id=\"clip212\">\n",
       "    <rect x=\"155\" y=\"108\" width=\"3799\" height=\"1784\"/>\n",
       "  </clipPath>\n",
       "</defs>\n",
       "<polyline clip-path=\"url(#clip212)\" style=\"stroke:#000000; stroke-width:2; stroke-opacity:0.1; fill:none\" points=\"\n",
       "  561.22,1891.09 561.22,108.352 \n",
       "  \"/>\n",
       "<polyline clip-path=\"url(#clip212)\" style=\"stroke:#000000; stroke-width:2; stroke-opacity:0.1; fill:none\" points=\"\n",
       "  1307.6,1891.09 1307.6,108.352 \n",
       "  \"/>\n",
       "<polyline clip-path=\"url(#clip212)\" style=\"stroke:#000000; stroke-width:2; stroke-opacity:0.1; fill:none\" points=\"\n",
       "  2053.97,1891.09 2053.97,108.352 \n",
       "  \"/>\n",
       "<polyline clip-path=\"url(#clip212)\" style=\"stroke:#000000; stroke-width:2; stroke-opacity:0.1; fill:none\" points=\"\n",
       "  2800.35,1891.09 2800.35,108.352 \n",
       "  \"/>\n",
       "<polyline clip-path=\"url(#clip212)\" style=\"stroke:#000000; stroke-width:2; stroke-opacity:0.1; fill:none\" points=\"\n",
       "  3546.73,1891.09 3546.73,108.352 \n",
       "  \"/>\n",
       "<polyline clip-path=\"url(#clip210)\" style=\"stroke:#000000; stroke-width:4; stroke-opacity:1; fill:none\" points=\"\n",
       "  155.191,1891.09 3952.76,1891.09 \n",
       "  \"/>\n",
       "<polyline clip-path=\"url(#clip210)\" style=\"stroke:#000000; stroke-width:4; stroke-opacity:1; fill:none\" points=\"\n",
       "  561.22,1891.09 561.22,1869.7 \n",
       "  \"/>\n",
       "<polyline clip-path=\"url(#clip210)\" style=\"stroke:#000000; stroke-width:4; stroke-opacity:1; fill:none\" points=\"\n",
       "  1307.6,1891.09 1307.6,1869.7 \n",
       "  \"/>\n",
       "<polyline clip-path=\"url(#clip210)\" style=\"stroke:#000000; stroke-width:4; stroke-opacity:1; fill:none\" points=\"\n",
       "  2053.97,1891.09 2053.97,1869.7 \n",
       "  \"/>\n",
       "<polyline clip-path=\"url(#clip210)\" style=\"stroke:#000000; stroke-width:4; stroke-opacity:1; fill:none\" points=\"\n",
       "  2800.35,1891.09 2800.35,1869.7 \n",
       "  \"/>\n",
       "<polyline clip-path=\"url(#clip210)\" style=\"stroke:#000000; stroke-width:4; stroke-opacity:1; fill:none\" points=\"\n",
       "  3546.73,1891.09 3546.73,1869.7 \n",
       "  \"/>\n",
       "<path clip-path=\"url(#clip210)\" d=\"M 0 0 M538.095 1960.62 L545.734 1960.62 L545.734 1934.26 L537.424 1935.93 L537.424 1931.67 L545.688 1930 L550.363 1930 L550.363 1960.62 L558.002 1960.62 L558.002 1964.56 L538.095 1964.56 L538.095 1960.62 Z\" fill=\"#000000\" fill-rule=\"evenodd\" fill-opacity=\"1\" /><path clip-path=\"url(#clip210)\" d=\"M 0 0 M573.072 1933.08 Q569.461 1933.08 567.632 1936.64 Q565.826 1940.19 565.826 1947.31 Q565.826 1954.42 567.632 1957.99 Q569.461 1961.53 573.072 1961.53 Q576.706 1961.53 578.511 1957.99 Q580.34 1954.42 580.34 1947.31 Q580.34 1940.19 578.511 1936.64 Q576.706 1933.08 573.072 1933.08 M573.072 1929.37 Q578.882 1929.37 581.937 1933.98 Q585.016 1938.56 585.016 1947.31 Q585.016 1956.04 581.937 1960.65 Q578.882 1965.23 573.072 1965.23 Q567.262 1965.23 564.183 1960.65 Q561.127 1956.04 561.127 1947.31 Q561.127 1938.56 564.183 1933.98 Q567.262 1929.37 573.072 1929.37 Z\" fill=\"#000000\" fill-rule=\"evenodd\" fill-opacity=\"1\" /><path clip-path=\"url(#clip210)\" d=\"M 0 0 M1288.74 1960.62 L1305.06 1960.62 L1305.06 1964.56 L1283.12 1964.56 L1283.12 1960.62 Q1285.78 1957.87 1290.36 1953.24 Q1294.97 1948.59 1296.15 1947.25 Q1298.4 1944.72 1299.27 1942.99 Q1300.18 1941.23 1300.18 1939.54 Q1300.18 1936.78 1298.23 1935.05 Q1296.31 1933.31 1293.21 1933.31 Q1291.01 1933.31 1288.56 1934.07 Q1286.13 1934.84 1283.35 1936.39 L1283.35 1931.67 Q1286.17 1930.53 1288.63 1929.95 Q1291.08 1929.37 1293.12 1929.37 Q1298.49 1929.37 1301.68 1932.06 Q1304.88 1934.75 1304.88 1939.24 Q1304.88 1941.37 1304.07 1943.29 Q1303.28 1945.18 1301.17 1947.78 Q1300.59 1948.45 1297.49 1951.67 Q1294.39 1954.86 1288.74 1960.62 Z\" fill=\"#000000\" fill-rule=\"evenodd\" fill-opacity=\"1\" /><path clip-path=\"url(#clip210)\" d=\"M 0 0 M1320.13 1933.08 Q1316.52 1933.08 1314.69 1936.64 Q1312.89 1940.19 1312.89 1947.31 Q1312.89 1954.42 1314.69 1957.99 Q1316.52 1961.53 1320.13 1961.53 Q1323.77 1961.53 1325.57 1957.99 Q1327.4 1954.42 1327.4 1947.31 Q1327.4 1940.19 1325.57 1936.64 Q1323.77 1933.08 1320.13 1933.08 M1320.13 1929.37 Q1325.94 1929.37 1329 1933.98 Q1332.08 1938.56 1332.08 1947.31 Q1332.08 1956.04 1329 1960.65 Q1325.94 1965.23 1320.13 1965.23 Q1314.32 1965.23 1311.24 1960.65 Q1308.19 1956.04 1308.19 1947.31 Q1308.19 1938.56 1311.24 1933.98 Q1314.32 1929.37 1320.13 1929.37 Z\" fill=\"#000000\" fill-rule=\"evenodd\" fill-opacity=\"1\" /><path clip-path=\"url(#clip210)\" d=\"M 0 0 M2044.71 1945.93 Q2048.07 1946.64 2049.95 1948.91 Q2051.84 1951.18 2051.84 1954.51 Q2051.84 1959.63 2048.33 1962.43 Q2044.81 1965.23 2038.33 1965.23 Q2036.15 1965.23 2033.83 1964.79 Q2031.54 1964.37 2029.09 1963.52 L2029.09 1959 Q2031.03 1960.14 2033.35 1960.72 Q2035.66 1961.3 2038.19 1961.3 Q2042.58 1961.3 2044.88 1959.56 Q2047.19 1957.82 2047.19 1954.51 Q2047.19 1951.46 2045.04 1949.75 Q2042.91 1948.01 2039.09 1948.01 L2035.06 1948.01 L2035.06 1944.17 L2039.27 1944.17 Q2042.72 1944.17 2044.55 1942.8 Q2046.38 1941.41 2046.38 1938.82 Q2046.38 1936.16 2044.48 1934.75 Q2042.61 1933.31 2039.09 1933.31 Q2037.17 1933.31 2034.97 1933.73 Q2032.77 1934.14 2030.13 1935.02 L2030.13 1930.86 Q2032.79 1930.12 2035.11 1929.75 Q2037.45 1929.37 2039.51 1929.37 Q2044.83 1929.37 2047.93 1931.81 Q2051.03 1934.21 2051.03 1938.33 Q2051.03 1941.2 2049.39 1943.19 Q2047.75 1945.16 2044.71 1945.93 Z\" fill=\"#000000\" fill-rule=\"evenodd\" fill-opacity=\"1\" /><path clip-path=\"url(#clip210)\" d=\"M 0 0 M2066.91 1933.08 Q2063.3 1933.08 2061.47 1936.64 Q2059.67 1940.19 2059.67 1947.31 Q2059.67 1954.42 2061.47 1957.99 Q2063.3 1961.53 2066.91 1961.53 Q2070.55 1961.53 2072.35 1957.99 Q2074.18 1954.42 2074.18 1947.31 Q2074.18 1940.19 2072.35 1936.64 Q2070.55 1933.08 2066.91 1933.08 M2066.91 1929.37 Q2072.72 1929.37 2075.78 1933.98 Q2078.86 1938.56 2078.86 1947.31 Q2078.86 1956.04 2075.78 1960.65 Q2072.72 1965.23 2066.91 1965.23 Q2061.1 1965.23 2058.02 1960.65 Q2054.97 1956.04 2054.97 1947.31 Q2054.97 1938.56 2058.02 1933.98 Q2061.1 1929.37 2066.91 1929.37 Z\" fill=\"#000000\" fill-rule=\"evenodd\" fill-opacity=\"1\" /><path clip-path=\"url(#clip210)\" d=\"M 0 0 M2789.85 1934.07 L2778.05 1952.52 L2789.85 1952.52 L2789.85 1934.07 M2788.63 1930 L2794.51 1930 L2794.51 1952.52 L2799.44 1952.52 L2799.44 1956.41 L2794.51 1956.41 L2794.51 1964.56 L2789.85 1964.56 L2789.85 1956.41 L2774.25 1956.41 L2774.25 1951.9 L2788.63 1930 Z\" fill=\"#000000\" fill-rule=\"evenodd\" fill-opacity=\"1\" /><path clip-path=\"url(#clip210)\" d=\"M 0 0 M2814.51 1933.08 Q2810.89 1933.08 2809.07 1936.64 Q2807.26 1940.19 2807.26 1947.31 Q2807.26 1954.42 2809.07 1957.99 Q2810.89 1961.53 2814.51 1961.53 Q2818.14 1961.53 2819.94 1957.99 Q2821.77 1954.42 2821.77 1947.31 Q2821.77 1940.19 2819.94 1936.64 Q2818.14 1933.08 2814.51 1933.08 M2814.51 1929.37 Q2820.32 1929.37 2823.37 1933.98 Q2826.45 1938.56 2826.45 1947.31 Q2826.45 1956.04 2823.37 1960.65 Q2820.32 1965.23 2814.51 1965.23 Q2808.7 1965.23 2805.62 1960.65 Q2802.56 1956.04 2802.56 1947.31 Q2802.56 1938.56 2805.62 1933.98 Q2808.7 1929.37 2814.51 1929.37 Z\" fill=\"#000000\" fill-rule=\"evenodd\" fill-opacity=\"1\" /><path clip-path=\"url(#clip210)\" d=\"M 0 0 M3523.5 1930 L3541.85 1930 L3541.85 1933.94 L3527.78 1933.94 L3527.78 1942.41 Q3528.8 1942.06 3529.82 1941.9 Q3530.84 1941.71 3531.85 1941.71 Q3537.64 1941.71 3541.02 1944.88 Q3544.4 1948.06 3544.4 1953.47 Q3544.4 1959.05 3540.93 1962.15 Q3537.46 1965.23 3531.14 1965.23 Q3528.96 1965.23 3526.69 1964.86 Q3524.45 1964.49 3522.04 1963.75 L3522.04 1959.05 Q3524.12 1960.18 3526.35 1960.74 Q3528.57 1961.3 3531.04 1961.3 Q3535.05 1961.3 3537.39 1959.19 Q3539.72 1957.08 3539.72 1953.47 Q3539.72 1949.86 3537.39 1947.75 Q3535.05 1945.65 3531.04 1945.65 Q3529.17 1945.65 3527.29 1946.06 Q3525.44 1946.48 3523.5 1947.36 L3523.5 1930 Z\" fill=\"#000000\" fill-rule=\"evenodd\" fill-opacity=\"1\" /><path clip-path=\"url(#clip210)\" d=\"M 0 0 M3559.47 1933.08 Q3555.86 1933.08 3554.03 1936.64 Q3552.22 1940.19 3552.22 1947.31 Q3552.22 1954.42 3554.03 1957.99 Q3555.86 1961.53 3559.47 1961.53 Q3563.1 1961.53 3564.91 1957.99 Q3566.74 1954.42 3566.74 1947.31 Q3566.74 1940.19 3564.91 1936.64 Q3563.1 1933.08 3559.47 1933.08 M3559.47 1929.37 Q3565.28 1929.37 3568.34 1933.98 Q3571.41 1938.56 3571.41 1947.31 Q3571.41 1956.04 3568.34 1960.65 Q3565.28 1965.23 3559.47 1965.23 Q3553.66 1965.23 3550.58 1960.65 Q3547.53 1956.04 3547.53 1947.31 Q3547.53 1938.56 3550.58 1933.98 Q3553.66 1929.37 3559.47 1929.37 Z\" fill=\"#000000\" fill-rule=\"evenodd\" fill-opacity=\"1\" /><polyline clip-path=\"url(#clip212)\" style=\"stroke:#000000; stroke-width:2; stroke-opacity:0.1; fill:none\" points=\"\n",
       "  155.191,1840.63 3952.76,1840.63 \n",
       "  \"/>\n",
       "<polyline clip-path=\"url(#clip212)\" style=\"stroke:#000000; stroke-width:2; stroke-opacity:0.1; fill:none\" points=\"\n",
       "  155.191,1529.18 3952.76,1529.18 \n",
       "  \"/>\n",
       "<polyline clip-path=\"url(#clip212)\" style=\"stroke:#000000; stroke-width:2; stroke-opacity:0.1; fill:none\" points=\"\n",
       "  155.191,1217.73 3952.76,1217.73 \n",
       "  \"/>\n",
       "<polyline clip-path=\"url(#clip212)\" style=\"stroke:#000000; stroke-width:2; stroke-opacity:0.1; fill:none\" points=\"\n",
       "  155.191,906.285 3952.76,906.285 \n",
       "  \"/>\n",
       "<polyline clip-path=\"url(#clip212)\" style=\"stroke:#000000; stroke-width:2; stroke-opacity:0.1; fill:none\" points=\"\n",
       "  155.191,594.836 3952.76,594.836 \n",
       "  \"/>\n",
       "<polyline clip-path=\"url(#clip212)\" style=\"stroke:#000000; stroke-width:2; stroke-opacity:0.1; fill:none\" points=\"\n",
       "  155.191,283.387 3952.76,283.387 \n",
       "  \"/>\n",
       "<polyline clip-path=\"url(#clip210)\" style=\"stroke:#000000; stroke-width:4; stroke-opacity:1; fill:none\" points=\"\n",
       "  155.191,1891.09 155.191,108.352 \n",
       "  \"/>\n",
       "<polyline clip-path=\"url(#clip210)\" style=\"stroke:#000000; stroke-width:4; stroke-opacity:1; fill:none\" points=\"\n",
       "  155.191,1840.63 200.762,1840.63 \n",
       "  \"/>\n",
       "<polyline clip-path=\"url(#clip210)\" style=\"stroke:#000000; stroke-width:4; stroke-opacity:1; fill:none\" points=\"\n",
       "  155.191,1529.18 200.762,1529.18 \n",
       "  \"/>\n",
       "<polyline clip-path=\"url(#clip210)\" style=\"stroke:#000000; stroke-width:4; stroke-opacity:1; fill:none\" points=\"\n",
       "  155.191,1217.73 200.762,1217.73 \n",
       "  \"/>\n",
       "<polyline clip-path=\"url(#clip210)\" style=\"stroke:#000000; stroke-width:4; stroke-opacity:1; fill:none\" points=\"\n",
       "  155.191,906.285 200.762,906.285 \n",
       "  \"/>\n",
       "<polyline clip-path=\"url(#clip210)\" style=\"stroke:#000000; stroke-width:4; stroke-opacity:1; fill:none\" points=\"\n",
       "  155.191,594.836 200.762,594.836 \n",
       "  \"/>\n",
       "<polyline clip-path=\"url(#clip210)\" style=\"stroke:#000000; stroke-width:4; stroke-opacity:1; fill:none\" points=\"\n",
       "  155.191,283.387 200.762,283.387 \n",
       "  \"/>\n",
       "<path clip-path=\"url(#clip210)\" d=\"M 0 0 M83.2465 1826.43 Q79.6354 1826.43 77.8068 1830 Q76.0012 1833.54 76.0012 1840.67 Q76.0012 1847.77 77.8068 1851.34 Q79.6354 1854.88 83.2465 1854.88 Q86.8808 1854.88 88.6863 1851.34 Q90.515 1847.77 90.515 1840.67 Q90.515 1833.54 88.6863 1830 Q86.8808 1826.43 83.2465 1826.43 M83.2465 1822.73 Q89.0567 1822.73 92.1122 1827.33 Q95.1909 1831.92 95.1909 1840.67 Q95.1909 1849.39 92.1122 1854 Q89.0567 1858.58 83.2465 1858.58 Q77.4364 1858.58 74.3577 1854 Q71.3022 1849.39 71.3022 1840.67 Q71.3022 1831.92 74.3577 1827.33 Q77.4364 1822.73 83.2465 1822.73 Z\" fill=\"#000000\" fill-rule=\"evenodd\" fill-opacity=\"1\" /><path clip-path=\"url(#clip210)\" d=\"M 0 0 M48.2699 1542.53 L55.9087 1542.53 L55.9087 1516.16 L47.5986 1517.83 L47.5986 1513.57 L55.8624 1511.9 L60.5383 1511.9 L60.5383 1542.53 L68.1772 1542.53 L68.1772 1546.46 L48.2699 1546.46 L48.2699 1542.53 Z\" fill=\"#000000\" fill-rule=\"evenodd\" fill-opacity=\"1\" /><path clip-path=\"url(#clip210)\" d=\"M 0 0 M83.2465 1514.98 Q79.6354 1514.98 77.8068 1518.55 Q76.0012 1522.09 76.0012 1529.22 Q76.0012 1536.32 77.8068 1539.89 Q79.6354 1543.43 83.2465 1543.43 Q86.8808 1543.43 88.6863 1539.89 Q90.515 1536.32 90.515 1529.22 Q90.515 1522.09 88.6863 1518.55 Q86.8808 1514.98 83.2465 1514.98 M83.2465 1511.28 Q89.0567 1511.28 92.1122 1515.89 Q95.1909 1520.47 95.1909 1529.22 Q95.1909 1537.95 92.1122 1542.55 Q89.0567 1547.14 83.2465 1547.14 Q77.4364 1547.14 74.3577 1542.55 Q71.3022 1537.95 71.3022 1529.22 Q71.3022 1520.47 74.3577 1515.89 Q77.4364 1511.28 83.2465 1511.28 Z\" fill=\"#000000\" fill-rule=\"evenodd\" fill-opacity=\"1\" /><path clip-path=\"url(#clip210)\" d=\"M 0 0 M51.8578 1231.08 L68.1772 1231.08 L68.1772 1235.01 L46.2328 1235.01 L46.2328 1231.08 Q48.8949 1228.32 53.4782 1223.7 Q58.0846 1219.04 59.2652 1217.7 Q61.5105 1215.18 62.3902 1213.44 Q63.2929 1211.68 63.2929 1209.99 Q63.2929 1207.24 61.3485 1205.5 Q59.4272 1203.76 56.3254 1203.76 Q54.1263 1203.76 51.6726 1204.53 Q49.2421 1205.29 46.4643 1206.84 L46.4643 1202.12 Q49.2884 1200.99 51.7421 1200.41 Q54.1958 1199.83 56.2328 1199.83 Q61.6031 1199.83 64.7976 1202.51 Q67.992 1205.2 67.992 1209.69 Q67.992 1211.82 67.1818 1213.74 Q66.3948 1215.64 64.2883 1218.23 Q63.7096 1218.9 60.6078 1222.12 Q57.5059 1225.32 51.8578 1231.08 Z\" fill=\"#000000\" fill-rule=\"evenodd\" fill-opacity=\"1\" /><path clip-path=\"url(#clip210)\" d=\"M 0 0 M83.2465 1203.53 Q79.6354 1203.53 77.8068 1207.1 Q76.0012 1210.64 76.0012 1217.77 Q76.0012 1224.88 77.8068 1228.44 Q79.6354 1231.98 83.2465 1231.98 Q86.8808 1231.98 88.6863 1228.44 Q90.515 1224.88 90.515 1217.77 Q90.515 1210.64 88.6863 1207.1 Q86.8808 1203.53 83.2465 1203.53 M83.2465 1199.83 Q89.0567 1199.83 92.1122 1204.44 Q95.1909 1209.02 95.1909 1217.77 Q95.1909 1226.5 92.1122 1231.1 Q89.0567 1235.69 83.2465 1235.69 Q77.4364 1235.69 74.3577 1231.1 Q71.3022 1226.5 71.3022 1217.77 Q71.3022 1209.02 74.3577 1204.44 Q77.4364 1199.83 83.2465 1199.83 Z\" fill=\"#000000\" fill-rule=\"evenodd\" fill-opacity=\"1\" /><path clip-path=\"url(#clip210)\" d=\"M 0 0 M61.0476 904.931 Q64.404 905.649 66.279 907.917 Q68.1772 910.186 68.1772 913.519 Q68.1772 918.635 64.6587 921.436 Q61.1402 924.237 54.6587 924.237 Q52.4828 924.237 50.168 923.797 Q47.8764 923.38 45.4227 922.524 L45.4227 918.01 Q47.3671 919.144 49.6819 919.723 Q51.9967 920.301 54.5198 920.301 Q58.918 920.301 61.2096 918.565 Q63.5244 916.829 63.5244 913.519 Q63.5244 910.463 61.3717 908.75 Q59.242 907.014 55.4226 907.014 L51.3949 907.014 L51.3949 903.172 L55.6078 903.172 Q59.0569 903.172 60.8855 901.806 Q62.7142 900.417 62.7142 897.825 Q62.7142 895.163 60.8161 893.751 Q58.9411 892.315 55.4226 892.315 Q53.5013 892.315 51.3023 892.732 Q49.1032 893.149 46.4643 894.028 L46.4643 889.862 Q49.1264 889.121 51.4412 888.751 Q53.7791 888.38 55.8393 888.38 Q61.1633 888.38 64.2652 890.811 Q67.367 893.218 67.367 897.339 Q67.367 900.209 65.7235 902.2 Q64.08 904.167 61.0476 904.931 Z\" fill=\"#000000\" fill-rule=\"evenodd\" fill-opacity=\"1\" /><path clip-path=\"url(#clip210)\" d=\"M 0 0 M83.2465 892.084 Q79.6354 892.084 77.8068 895.649 Q76.0012 899.19 76.0012 906.32 Q76.0012 913.426 77.8068 916.991 Q79.6354 920.533 83.2465 920.533 Q86.8808 920.533 88.6863 916.991 Q90.515 913.426 90.515 906.32 Q90.515 899.19 88.6863 895.649 Q86.8808 892.084 83.2465 892.084 M83.2465 888.38 Q89.0567 888.38 92.1122 892.987 Q95.1909 897.57 95.1909 906.32 Q95.1909 915.047 92.1122 919.653 Q89.0567 924.237 83.2465 924.237 Q77.4364 924.237 74.3577 919.653 Q71.3022 915.047 71.3022 906.32 Q71.3022 897.57 74.3577 892.987 Q77.4364 888.38 83.2465 888.38 Z\" fill=\"#000000\" fill-rule=\"evenodd\" fill-opacity=\"1\" /><path clip-path=\"url(#clip210)\" d=\"M 0 0 M58.5939 581.63 L46.7884 600.079 L58.5939 600.079 L58.5939 581.63 M57.367 577.556 L63.2466 577.556 L63.2466 600.079 L68.1772 600.079 L68.1772 603.968 L63.2466 603.968 L63.2466 612.116 L58.5939 612.116 L58.5939 603.968 L42.9921 603.968 L42.9921 599.454 L57.367 577.556 Z\" fill=\"#000000\" fill-rule=\"evenodd\" fill-opacity=\"1\" /><path clip-path=\"url(#clip210)\" d=\"M 0 0 M83.2465 580.635 Q79.6354 580.635 77.8068 584.199 Q76.0012 587.741 76.0012 594.871 Q76.0012 601.977 77.8068 605.542 Q79.6354 609.084 83.2465 609.084 Q86.8808 609.084 88.6863 605.542 Q90.515 601.977 90.515 594.871 Q90.515 587.741 88.6863 584.199 Q86.8808 580.635 83.2465 580.635 M83.2465 576.931 Q89.0567 576.931 92.1122 581.537 Q95.1909 586.121 95.1909 594.871 Q95.1909 603.597 92.1122 608.204 Q89.0567 612.787 83.2465 612.787 Q77.4364 612.787 74.3577 608.204 Q71.3022 603.597 71.3022 594.871 Q71.3022 586.121 74.3577 581.537 Q77.4364 576.931 83.2465 576.931 Z\" fill=\"#000000\" fill-rule=\"evenodd\" fill-opacity=\"1\" /><path clip-path=\"url(#clip210)\" d=\"M 0 0 M47.2745 266.107 L65.6309 266.107 L65.6309 270.042 L51.5569 270.042 L51.5569 278.514 Q52.5754 278.167 53.5939 278.005 Q54.6124 277.82 55.6309 277.82 Q61.418 277.82 64.7976 280.991 Q68.1772 284.162 68.1772 289.579 Q68.1772 295.157 64.705 298.259 Q61.2328 301.338 54.9134 301.338 Q52.7374 301.338 50.4689 300.968 Q48.2236 300.597 45.8162 299.856 L45.8162 295.157 Q47.8995 296.292 50.1217 296.847 Q52.3439 297.403 54.8208 297.403 Q58.8254 297.403 61.1633 295.296 Q63.5013 293.19 63.5013 289.579 Q63.5013 285.968 61.1633 283.861 Q58.8254 281.755 54.8208 281.755 Q52.9458 281.755 51.0708 282.171 Q49.2189 282.588 47.2745 283.468 L47.2745 266.107 Z\" fill=\"#000000\" fill-rule=\"evenodd\" fill-opacity=\"1\" /><path clip-path=\"url(#clip210)\" d=\"M 0 0 M83.2465 269.185 Q79.6354 269.185 77.8068 272.75 Q76.0012 276.292 76.0012 283.421 Q76.0012 290.528 77.8068 294.093 Q79.6354 297.634 83.2465 297.634 Q86.8808 297.634 88.6863 294.093 Q90.515 290.528 90.515 283.421 Q90.515 276.292 88.6863 272.75 Q86.8808 269.185 83.2465 269.185 M83.2465 265.482 Q89.0567 265.482 92.1122 270.088 Q95.1909 274.671 95.1909 283.421 Q95.1909 292.148 92.1122 296.755 Q89.0567 301.338 83.2465 301.338 Q77.4364 301.338 74.3577 296.755 Q71.3022 292.148 71.3022 283.421 Q71.3022 274.671 74.3577 270.088 Q77.4364 265.482 83.2465 265.482 Z\" fill=\"#000000\" fill-rule=\"evenodd\" fill-opacity=\"1\" /><path clip-path=\"url(#clip210)\" d=\"M 0 0 M1099.34 12.096 L1150.5 12.096 L1150.5 18.9825 L1129.03 18.9825 L1129.03 72.576 L1120.81 72.576 L1120.81 18.9825 L1099.34 18.9825 L1099.34 12.096 Z\" fill=\"#000000\" fill-rule=\"evenodd\" fill-opacity=\"1\" /><path clip-path=\"url(#clip210)\" d=\"M 0 0 M1196.03 45.1919 L1196.03 72.576 L1188.58 72.576 L1188.58 45.4349 Q1188.58 38.994 1186.07 35.7938 Q1183.56 32.5936 1178.53 32.5936 Q1172.5 32.5936 1169.01 36.4419 Q1165.53 40.2903 1165.53 46.9338 L1165.53 72.576 L1158.03 72.576 L1158.03 9.54393 L1165.53 9.54393 L1165.53 34.2544 Q1168.2 30.163 1171.81 28.1376 Q1175.45 26.1121 1180.19 26.1121 Q1188.01 26.1121 1192.02 30.9732 Q1196.03 35.7938 1196.03 45.1919 Z\" fill=\"#000000\" fill-rule=\"evenodd\" fill-opacity=\"1\" /><path clip-path=\"url(#clip210)\" d=\"M 0 0 M1230.14 34.1734 Q1228.89 33.4443 1227.39 33.1202 Q1225.93 32.7556 1224.15 32.7556 Q1217.83 32.7556 1214.42 36.8875 Q1211.06 40.9789 1211.06 48.6757 L1211.06 72.576 L1203.57 72.576 L1203.57 27.2059 L1211.06 27.2059 L1211.06 34.2544 Q1213.41 30.1225 1217.18 28.1376 Q1220.95 26.1121 1226.33 26.1121 Q1227.1 26.1121 1228.03 26.2337 Q1228.97 26.3147 1230.1 26.5172 L1230.14 34.1734 Z\" fill=\"#000000\" fill-rule=\"evenodd\" fill-opacity=\"1\" /><path clip-path=\"url(#clip210)\" d=\"M 0 0 M1253.72 32.4315 Q1247.72 32.4315 1244.24 37.1306 Q1240.75 41.7891 1240.75 49.9314 Q1240.75 58.0738 1244.2 62.7728 Q1247.68 67.4314 1253.72 67.4314 Q1259.67 67.4314 1263.16 62.7323 Q1266.64 58.0333 1266.64 49.9314 Q1266.64 41.8701 1263.16 37.1711 Q1259.67 32.4315 1253.72 32.4315 M1253.72 26.1121 Q1263.44 26.1121 1268.99 32.4315 Q1274.54 38.7509 1274.54 49.9314 Q1274.54 61.0714 1268.99 67.4314 Q1263.44 73.7508 1253.72 73.7508 Q1243.95 73.7508 1238.4 67.4314 Q1232.9 61.0714 1232.9 49.9314 Q1232.9 38.7509 1238.4 32.4315 Q1243.95 26.1121 1253.72 26.1121 Z\" fill=\"#000000\" fill-rule=\"evenodd\" fill-opacity=\"1\" /><path clip-path=\"url(#clip210)\" d=\"M 0 0 M1281.59 54.671 L1281.59 27.2059 L1289.04 27.2059 L1289.04 54.3874 Q1289.04 60.8284 1291.55 64.0691 Q1294.06 67.2693 1299.09 67.2693 Q1305.12 67.2693 1308.61 63.421 Q1312.13 59.5726 1312.13 52.9291 L1312.13 27.2059 L1319.58 27.2059 L1319.58 72.576 L1312.13 72.576 L1312.13 65.6084 Q1309.42 69.7404 1305.81 71.7658 Q1302.25 73.7508 1297.51 73.7508 Q1289.69 73.7508 1285.64 68.8897 Q1281.59 64.0286 1281.59 54.671 M1300.34 26.1121 L1300.34 26.1121 Z\" fill=\"#000000\" fill-rule=\"evenodd\" fill-opacity=\"1\" /><path clip-path=\"url(#clip210)\" d=\"M 0 0 M1357.26 49.3643 Q1357.26 41.2625 1353.9 36.8065 Q1350.57 32.3505 1344.54 32.3505 Q1338.54 32.3505 1335.18 36.8065 Q1331.86 41.2625 1331.86 49.3643 Q1331.86 57.4256 1335.18 61.8816 Q1338.54 66.3376 1344.54 66.3376 Q1350.57 66.3376 1353.9 61.8816 Q1357.26 57.4256 1357.26 49.3643 M1364.71 66.9452 Q1364.71 78.5308 1359.57 84.1616 Q1354.42 89.8329 1343.81 89.8329 Q1339.88 89.8329 1336.4 89.2252 Q1332.91 88.6581 1329.63 87.4428 L1329.63 80.1917 Q1332.91 81.9741 1336.11 82.8248 Q1339.31 83.6755 1342.63 83.6755 Q1349.97 83.6755 1353.61 79.8271 Q1357.26 76.0193 1357.26 68.282 L1357.26 64.5957 Q1354.95 68.6061 1351.34 70.5911 Q1347.74 72.576 1342.72 72.576 Q1334.37 72.576 1329.27 66.2161 Q1324.16 59.8562 1324.16 49.3643 Q1324.16 38.832 1329.27 32.472 Q1334.37 26.1121 1342.72 26.1121 Q1347.74 26.1121 1351.34 28.0971 Q1354.95 30.082 1357.26 34.0924 L1357.26 27.2059 L1364.71 27.2059 L1364.71 66.9452 Z\" fill=\"#000000\" fill-rule=\"evenodd\" fill-opacity=\"1\" /><path clip-path=\"url(#clip210)\" d=\"M 0 0 M1410.24 45.1919 L1410.24 72.576 L1402.79 72.576 L1402.79 45.4349 Q1402.79 38.994 1400.28 35.7938 Q1397.77 32.5936 1392.74 32.5936 Q1386.71 32.5936 1383.22 36.4419 Q1379.74 40.2903 1379.74 46.9338 L1379.74 72.576 L1372.25 72.576 L1372.25 9.54393 L1379.74 9.54393 L1379.74 34.2544 Q1382.41 30.163 1386.02 28.1376 Q1389.67 26.1121 1394.41 26.1121 Q1402.22 26.1121 1406.23 30.9732 Q1410.24 35.7938 1410.24 45.1919 Z\" fill=\"#000000\" fill-rule=\"evenodd\" fill-opacity=\"1\" /><path clip-path=\"url(#clip210)\" d=\"M 0 0 M1425.27 65.7705 L1425.27 89.8329 L1417.78 89.8329 L1417.78 27.2059 L1425.27 27.2059 L1425.27 34.0924 Q1427.62 30.0415 1431.19 28.0971 Q1434.79 26.1121 1439.78 26.1121 Q1448.04 26.1121 1453.18 32.6746 Q1458.37 39.2371 1458.37 49.9314 Q1458.37 60.6258 1453.18 67.1883 Q1448.04 73.7508 1439.78 73.7508 Q1434.79 73.7508 1431.19 71.8063 Q1427.62 69.8214 1425.27 65.7705 M1450.63 49.9314 Q1450.63 41.7081 1447.23 37.0496 Q1443.87 32.3505 1437.95 32.3505 Q1432.04 32.3505 1428.64 37.0496 Q1425.27 41.7081 1425.27 49.9314 Q1425.27 58.1548 1428.64 62.8538 Q1432.04 67.5124 1437.95 67.5124 Q1443.87 67.5124 1447.23 62.8538 Q1450.63 58.1548 1450.63 49.9314 Z\" fill=\"#000000\" fill-rule=\"evenodd\" fill-opacity=\"1\" /><path clip-path=\"url(#clip210)\" d=\"M 0 0 M1465.42 54.671 L1465.42 27.2059 L1472.87 27.2059 L1472.87 54.3874 Q1472.87 60.8284 1475.38 64.0691 Q1477.89 67.2693 1482.92 67.2693 Q1488.95 67.2693 1492.44 63.421 Q1495.96 59.5726 1495.96 52.9291 L1495.96 27.2059 L1503.42 27.2059 L1503.42 72.576 L1495.96 72.576 L1495.96 65.6084 Q1493.25 69.7404 1489.64 71.7658 Q1486.08 73.7508 1481.34 73.7508 Q1473.52 73.7508 1469.47 68.8897 Q1465.42 64.0286 1465.42 54.671 M1484.17 26.1121 L1484.17 26.1121 Z\" fill=\"#000000\" fill-rule=\"evenodd\" fill-opacity=\"1\" /><path clip-path=\"url(#clip210)\" d=\"M 0 0 M1518.61 14.324 L1518.61 27.2059 L1533.96 27.2059 L1533.96 32.9987 L1518.61 32.9987 L1518.61 57.6282 Q1518.61 63.1779 1520.1 64.7578 Q1521.64 66.3376 1526.3 66.3376 L1533.96 66.3376 L1533.96 72.576 L1526.3 72.576 Q1517.67 72.576 1514.39 69.3758 Q1511.11 66.1351 1511.11 57.6282 L1511.11 32.9987 L1505.64 32.9987 L1505.64 27.2059 L1511.11 27.2059 L1511.11 14.324 L1518.61 14.324 Z\" fill=\"#000000\" fill-rule=\"evenodd\" fill-opacity=\"1\" /><path clip-path=\"url(#clip210)\" d=\"M 0 0 M1605.86 45.1919 L1605.86 72.576 L1598.41 72.576 L1598.41 45.4349 Q1598.41 38.994 1595.9 35.7938 Q1593.39 32.5936 1588.36 32.5936 Q1582.33 32.5936 1578.84 36.4419 Q1575.36 40.2903 1575.36 46.9338 L1575.36 72.576 L1567.86 72.576 L1567.86 27.2059 L1575.36 27.2059 L1575.36 34.2544 Q1578.03 30.163 1581.64 28.1376 Q1585.28 26.1121 1590.02 26.1121 Q1597.84 26.1121 1601.85 30.9732 Q1605.86 35.7938 1605.86 45.1919 Z\" fill=\"#000000\" fill-rule=\"evenodd\" fill-opacity=\"1\" /><path clip-path=\"url(#clip210)\" d=\"M 0 0 M1652.49 48.0275 L1652.49 51.6733 L1618.22 51.6733 Q1618.7 59.3701 1622.84 63.421 Q1627.01 67.4314 1634.42 67.4314 Q1638.72 67.4314 1642.73 66.3781 Q1646.78 65.3249 1650.75 63.2184 L1650.75 70.267 Q1646.74 71.9684 1642.52 72.8596 Q1638.31 73.7508 1633.98 73.7508 Q1623.12 73.7508 1616.76 67.4314 Q1610.44 61.1119 1610.44 50.3365 Q1610.44 39.1965 1616.44 32.6746 Q1622.47 26.1121 1632.68 26.1121 Q1641.83 26.1121 1647.14 32.0264 Q1652.49 37.9003 1652.49 48.0275 M1645.03 45.84 Q1644.95 39.7232 1641.59 36.0774 Q1638.27 32.4315 1632.76 32.4315 Q1626.52 32.4315 1622.75 35.9558 Q1619.03 39.4801 1618.46 45.8805 L1645.03 45.84 Z\" fill=\"#000000\" fill-rule=\"evenodd\" fill-opacity=\"1\" /><path clip-path=\"url(#clip210)\" d=\"M 0 0 M1667.68 14.324 L1667.68 27.2059 L1683.03 27.2059 L1683.03 32.9987 L1667.68 32.9987 L1667.68 57.6282 Q1667.68 63.1779 1669.18 64.7578 Q1670.72 66.3376 1675.38 66.3376 L1683.03 66.3376 L1683.03 72.576 L1675.38 72.576 Q1666.75 72.576 1663.47 69.3758 Q1660.19 66.1351 1660.19 57.6282 L1660.19 32.9987 L1654.72 32.9987 L1654.72 27.2059 L1660.19 27.2059 L1660.19 14.324 L1667.68 14.324 Z\" fill=\"#000000\" fill-rule=\"evenodd\" fill-opacity=\"1\" /><path clip-path=\"url(#clip210)\" d=\"M 0 0 M1708.43 32.4315 Q1702.44 32.4315 1698.95 37.1306 Q1695.47 41.7891 1695.47 49.9314 Q1695.47 58.0738 1698.91 62.7728 Q1702.4 67.4314 1708.43 67.4314 Q1714.39 67.4314 1717.87 62.7323 Q1721.35 58.0333 1721.35 49.9314 Q1721.35 41.8701 1717.87 37.1711 Q1714.39 32.4315 1708.43 32.4315 M1708.43 26.1121 Q1718.15 26.1121 1723.7 32.4315 Q1729.25 38.7509 1729.25 49.9314 Q1729.25 61.0714 1723.7 67.4314 Q1718.15 73.7508 1708.43 73.7508 Q1698.67 73.7508 1693.12 67.4314 Q1687.61 61.0714 1687.61 49.9314 Q1687.61 38.7509 1693.12 32.4315 Q1698.67 26.1121 1708.43 26.1121 Z\" fill=\"#000000\" fill-rule=\"evenodd\" fill-opacity=\"1\" /><path clip-path=\"url(#clip210)\" d=\"M 0 0 M1770.65 65.7705 L1770.65 89.8329 L1763.16 89.8329 L1763.16 27.2059 L1770.65 27.2059 L1770.65 34.0924 Q1773 30.0415 1776.57 28.0971 Q1780.17 26.1121 1785.16 26.1121 Q1793.42 26.1121 1798.56 32.6746 Q1803.75 39.2371 1803.75 49.9314 Q1803.75 60.6258 1798.56 67.1883 Q1793.42 73.7508 1785.16 73.7508 Q1780.17 73.7508 1776.57 71.8063 Q1773 69.8214 1770.65 65.7705 M1796.01 49.9314 Q1796.01 41.7081 1792.61 37.0496 Q1789.25 32.3505 1783.33 32.3505 Q1777.42 32.3505 1774.02 37.0496 Q1770.65 41.7081 1770.65 49.9314 Q1770.65 58.1548 1774.02 62.8538 Q1777.42 67.5124 1783.33 67.5124 Q1789.25 67.5124 1792.61 62.8538 Q1796.01 58.1548 1796.01 49.9314 Z\" fill=\"#000000\" fill-rule=\"evenodd\" fill-opacity=\"1\" /><path clip-path=\"url(#clip210)\" d=\"M 0 0 M1832.19 49.7694 Q1823.15 49.7694 1819.67 51.8354 Q1816.19 53.9013 1816.19 58.8839 Q1816.19 62.8538 1818.78 65.2034 Q1821.41 67.5124 1825.91 67.5124 Q1832.11 67.5124 1835.83 63.1374 Q1839.6 58.7219 1839.6 51.4303 L1839.6 49.7694 L1832.19 49.7694 M1847.05 46.6907 L1847.05 72.576 L1839.6 72.576 L1839.6 65.6895 Q1837.05 69.8214 1833.24 71.8063 Q1829.43 73.7508 1823.92 73.7508 Q1816.96 73.7508 1812.82 69.8619 Q1808.73 65.9325 1808.73 59.3701 Q1808.73 51.7138 1813.84 47.825 Q1818.98 43.9361 1829.15 43.9361 L1839.6 43.9361 L1839.6 43.2069 Q1839.6 38.0623 1836.2 35.2672 Q1832.83 32.4315 1826.72 32.4315 Q1822.83 32.4315 1819.14 33.3632 Q1815.46 34.295 1812.05 36.1584 L1812.05 29.2718 Q1816.14 27.692 1819.99 26.9223 Q1823.84 26.1121 1827.49 26.1121 Q1837.33 26.1121 1842.19 31.2163 Q1847.05 36.3204 1847.05 46.6907 Z\" fill=\"#000000\" fill-rule=\"evenodd\" fill-opacity=\"1\" /><path clip-path=\"url(#clip210)\" d=\"M 0 0 M1881.16 34.1734 Q1879.91 33.4443 1878.41 33.1202 Q1876.95 32.7556 1875.17 32.7556 Q1868.85 32.7556 1865.44 36.8875 Q1862.08 40.9789 1862.08 48.6757 L1862.08 72.576 L1854.59 72.576 L1854.59 27.2059 L1862.08 27.2059 L1862.08 34.2544 Q1864.43 30.1225 1868.2 28.1376 Q1871.97 26.1121 1877.35 26.1121 Q1878.12 26.1121 1879.06 26.2337 Q1879.99 26.3147 1881.12 26.5172 L1881.16 34.1734 Z\" fill=\"#000000\" fill-rule=\"evenodd\" fill-opacity=\"1\" /><path clip-path=\"url(#clip210)\" d=\"M 0 0 M1909.6 49.7694 Q1900.57 49.7694 1897.08 51.8354 Q1893.6 53.9013 1893.6 58.8839 Q1893.6 62.8538 1896.19 65.2034 Q1898.82 67.5124 1903.32 67.5124 Q1909.52 67.5124 1913.25 63.1374 Q1917.01 58.7219 1917.01 51.4303 L1917.01 49.7694 L1909.6 49.7694 M1924.47 46.6907 L1924.47 72.576 L1917.01 72.576 L1917.01 65.6895 Q1914.46 69.8214 1910.65 71.8063 Q1906.84 73.7508 1901.34 73.7508 Q1894.37 73.7508 1890.24 69.8619 Q1886.14 65.9325 1886.14 59.3701 Q1886.14 51.7138 1891.25 47.825 Q1896.39 43.9361 1906.56 43.9361 L1917.01 43.9361 L1917.01 43.2069 Q1917.01 38.0623 1913.61 35.2672 Q1910.25 32.4315 1904.13 32.4315 Q1900.24 32.4315 1896.56 33.3632 Q1892.87 34.295 1889.47 36.1584 L1889.47 29.2718 Q1893.56 27.692 1897.41 26.9223 Q1901.25 26.1121 1904.9 26.1121 Q1914.74 26.1121 1919.6 31.2163 Q1924.47 36.3204 1924.47 46.6907 Z\" fill=\"#000000\" fill-rule=\"evenodd\" fill-opacity=\"1\" /><path clip-path=\"url(#clip210)\" d=\"M 0 0 M1958.98 12.096 L1967.16 12.096 L1967.16 65.6895 L1996.61 65.6895 L1996.61 72.576 L1958.98 72.576 L1958.98 12.096 Z\" fill=\"#000000\" fill-rule=\"evenodd\" fill-opacity=\"1\" /><path clip-path=\"url(#clip210)\" d=\"M 0 0 M2005.4 34.9026 L2057.34 34.9026 L2057.34 41.7081 L2005.4 41.7081 L2005.4 34.9026 M2005.4 51.4303 L2057.34 51.4303 L2057.34 58.3168 L2005.4 58.3168 L2005.4 51.4303 Z\" fill=\"#000000\" fill-rule=\"evenodd\" fill-opacity=\"1\" /><path clip-path=\"url(#clip210)\" d=\"M 0 0 M2067.62 65.6895 L2080.99 65.6895 L2080.99 19.5497 L2066.45 22.4663 L2066.45 15.0127 L2080.91 12.096 L2089.09 12.096 L2089.09 65.6895 L2102.46 65.6895 L2102.46 72.576 L2067.62 72.576 L2067.62 65.6895 Z\" fill=\"#000000\" fill-rule=\"evenodd\" fill-opacity=\"1\" /><path clip-path=\"url(#clip210)\" d=\"M 0 0 M2111.42 12.096 L2143.54 12.096 L2143.54 18.9825 L2118.91 18.9825 L2118.91 33.8088 Q2120.69 33.2012 2122.47 32.9176 Q2124.26 32.5936 2126.04 32.5936 Q2136.17 32.5936 2142.08 38.1433 Q2147.99 43.6931 2147.99 53.1722 Q2147.99 62.9348 2141.92 68.3631 Q2135.84 73.7508 2124.78 73.7508 Q2120.98 73.7508 2117.01 73.1026 Q2113.08 72.4545 2108.86 71.1582 L2108.86 62.9348 Q2112.51 64.9198 2116.4 65.892 Q2120.29 66.8642 2124.62 66.8642 Q2131.63 66.8642 2135.72 63.1779 Q2139.81 59.4916 2139.81 53.1722 Q2139.81 46.8528 2135.72 43.1664 Q2131.63 39.4801 2124.62 39.4801 Q2121.34 39.4801 2118.06 40.2093 Q2114.82 40.9384 2111.42 42.4778 L2111.42 12.096 Z\" fill=\"#000000\" fill-rule=\"evenodd\" fill-opacity=\"1\" /><path clip-path=\"url(#clip210)\" d=\"M 0 0 M2174.37 17.4837 Q2168.05 17.4837 2164.85 23.7221 Q2161.69 29.92 2161.69 42.3968 Q2161.69 54.833 2164.85 61.0714 Q2168.05 67.2693 2174.37 67.2693 Q2180.73 67.2693 2183.89 61.0714 Q2187.09 54.833 2187.09 42.3968 Q2187.09 29.92 2183.89 23.7221 Q2180.73 17.4837 2174.37 17.4837 M2174.37 11.0023 Q2184.53 11.0023 2189.88 19.0636 Q2195.27 27.0843 2195.27 42.3968 Q2195.27 57.6687 2189.88 65.73 Q2184.53 73.7508 2174.37 73.7508 Q2164.2 73.7508 2158.81 65.73 Q2153.46 57.6687 2153.46 42.3968 Q2153.46 27.0843 2158.81 19.0636 Q2164.2 11.0023 2174.37 11.0023 Z\" fill=\"#000000\" fill-rule=\"evenodd\" fill-opacity=\"1\" /><path clip-path=\"url(#clip210)\" d=\"M 0 0 M2221.64 17.4837 Q2215.32 17.4837 2212.12 23.7221 Q2208.96 29.92 2208.96 42.3968 Q2208.96 54.833 2212.12 61.0714 Q2215.32 67.2693 2221.64 67.2693 Q2228 67.2693 2231.16 61.0714 Q2234.36 54.833 2234.36 42.3968 Q2234.36 29.92 2231.16 23.7221 Q2228 17.4837 2221.64 17.4837 M2221.64 11.0023 Q2231.81 11.0023 2237.16 19.0636 Q2242.54 27.0843 2242.54 42.3968 Q2242.54 57.6687 2237.16 65.73 Q2231.81 73.7508 2221.64 73.7508 Q2211.47 73.7508 2206.08 65.73 Q2200.74 57.6687 2200.74 42.3968 Q2200.74 27.0843 2206.08 19.0636 Q2211.47 11.0023 2221.64 11.0023 Z\" fill=\"#000000\" fill-rule=\"evenodd\" fill-opacity=\"1\" /><path clip-path=\"url(#clip210)\" d=\"M 0 0 M2309.3 49.9314 Q2309.3 41.7081 2305.9 37.0496 Q2302.54 32.3505 2296.62 32.3505 Q2290.71 32.3505 2287.31 37.0496 Q2283.94 41.7081 2283.94 49.9314 Q2283.94 58.1548 2287.31 62.8538 Q2290.71 67.5124 2296.62 67.5124 Q2302.54 67.5124 2305.9 62.8538 Q2309.3 58.1548 2309.3 49.9314 M2283.94 34.0924 Q2286.29 30.0415 2289.86 28.0971 Q2293.46 26.1121 2298.45 26.1121 Q2306.71 26.1121 2311.85 32.6746 Q2317.04 39.2371 2317.04 49.9314 Q2317.04 60.6258 2311.85 67.1883 Q2306.71 73.7508 2298.45 73.7508 Q2293.46 73.7508 2289.86 71.8063 Q2286.29 69.8214 2283.94 65.7705 L2283.94 72.576 L2276.45 72.576 L2276.45 9.54393 L2283.94 9.54393 L2283.94 34.0924 Z\" fill=\"#000000\" fill-rule=\"evenodd\" fill-opacity=\"1\" /><path clip-path=\"url(#clip210)\" d=\"M 0 0 M2343.73 76.7889 Q2340.57 84.8907 2337.58 87.3618 Q2334.58 89.8329 2329.56 89.8329 L2323.6 89.8329 L2323.6 83.5945 L2327.98 83.5945 Q2331.06 83.5945 2332.76 82.1361 Q2334.46 80.6778 2336.52 75.2496 L2337.86 71.8468 L2319.51 27.2059 L2327.41 27.2059 L2341.59 62.6918 L2355.77 27.2059 L2363.67 27.2059 L2343.73 76.7889 Z\" fill=\"#000000\" fill-rule=\"evenodd\" fill-opacity=\"1\" /><path clip-path=\"url(#clip210)\" d=\"M 0 0 M2378.86 14.324 L2378.86 27.2059 L2394.21 27.2059 L2394.21 32.9987 L2378.86 32.9987 L2378.86 57.6282 Q2378.86 63.1779 2380.35 64.7578 Q2381.89 66.3376 2386.55 66.3376 L2394.21 66.3376 L2394.21 72.576 L2386.55 72.576 Q2377.92 72.576 2374.64 69.3758 Q2371.36 66.1351 2371.36 57.6282 L2371.36 32.9987 L2365.89 32.9987 L2365.89 27.2059 L2371.36 27.2059 L2371.36 14.324 L2378.86 14.324 Z\" fill=\"#000000\" fill-rule=\"evenodd\" fill-opacity=\"1\" /><path clip-path=\"url(#clip210)\" d=\"M 0 0 M2440.83 48.0275 L2440.83 51.6733 L2406.56 51.6733 Q2407.05 59.3701 2411.18 63.421 Q2415.35 67.4314 2422.77 67.4314 Q2427.06 67.4314 2431.07 66.3781 Q2435.12 65.3249 2439.09 63.2184 L2439.09 70.267 Q2435.08 71.9684 2430.87 72.8596 Q2426.66 73.7508 2422.32 73.7508 Q2411.47 73.7508 2405.11 67.4314 Q2398.79 61.1119 2398.79 50.3365 Q2398.79 39.1965 2404.78 32.6746 Q2410.82 26.1121 2421.03 26.1121 Q2430.18 26.1121 2435.49 32.0264 Q2440.83 37.9003 2440.83 48.0275 M2433.38 45.84 Q2433.3 39.7232 2429.94 36.0774 Q2426.62 32.4315 2421.11 32.4315 Q2414.87 32.4315 2411.1 35.9558 Q2407.37 39.4801 2406.81 45.8805 L2433.38 45.84 Z\" fill=\"#000000\" fill-rule=\"evenodd\" fill-opacity=\"1\" /><path clip-path=\"url(#clip210)\" d=\"M 0 0 M2477.58 28.5427 L2477.58 35.5912 Q2474.42 33.9709 2471.01 33.1607 Q2467.61 32.3505 2463.97 32.3505 Q2458.42 32.3505 2455.62 34.0519 Q2452.87 35.7533 2452.87 39.156 Q2452.87 41.7486 2454.85 43.2475 Q2456.84 44.7058 2462.83 46.0426 L2465.38 46.6097 Q2473.32 48.3111 2476.64 51.4303 Q2480.01 54.509 2480.01 60.0587 Q2480.01 66.3781 2474.98 70.0644 Q2470 73.7508 2461.25 73.7508 Q2457.61 73.7508 2453.64 73.0216 Q2449.71 72.3329 2445.33 70.9151 L2445.33 63.2184 Q2449.46 65.3654 2453.47 66.4591 Q2457.48 67.5124 2461.41 67.5124 Q2466.68 67.5124 2469.52 65.73 Q2472.35 63.9071 2472.35 60.6258 Q2472.35 57.5877 2470.28 55.9673 Q2468.26 54.3469 2461.33 52.8481 L2458.74 52.2405 Q2451.81 50.7821 2448.73 47.7845 Q2445.66 44.7463 2445.66 39.4801 Q2445.66 33.0797 2450.19 29.5959 Q2454.73 26.1121 2463.07 26.1121 Q2467.21 26.1121 2470.85 26.7198 Q2474.5 27.3274 2477.58 28.5427 Z\" fill=\"#000000\" fill-rule=\"evenodd\" fill-opacity=\"1\" /><path clip-path=\"url(#clip210)\" d=\"M 0 0 M2489.73 62.2867 L2498.28 62.2867 L2498.28 69.2543 L2491.63 82.2172 L2486.41 82.2172 L2489.73 69.2543 L2489.73 62.2867 Z\" fill=\"#000000\" fill-rule=\"evenodd\" fill-opacity=\"1\" /><path clip-path=\"url(#clip210)\" d=\"M 0 0 M2561.39 28.5427 L2561.39 35.5912 Q2558.23 33.9709 2554.83 33.1607 Q2551.42 32.3505 2547.78 32.3505 Q2542.23 32.3505 2539.43 34.0519 Q2536.68 35.7533 2536.68 39.156 Q2536.68 41.7486 2538.66 43.2475 Q2540.65 44.7058 2546.64 46.0426 L2549.2 46.6097 Q2557.14 48.3111 2560.46 51.4303 Q2563.82 54.509 2563.82 60.0587 Q2563.82 66.3781 2558.8 70.0644 Q2553.81 73.7508 2545.06 73.7508 Q2541.42 73.7508 2537.45 73.0216 Q2533.52 72.3329 2529.14 70.9151 L2529.14 63.2184 Q2533.28 65.3654 2537.29 66.4591 Q2541.3 67.5124 2545.23 67.5124 Q2550.49 67.5124 2553.33 65.73 Q2556.16 63.9071 2556.16 60.6258 Q2556.16 57.5877 2554.1 55.9673 Q2552.07 54.3469 2545.15 52.8481 L2542.55 52.2405 Q2535.63 50.7821 2532.55 47.7845 Q2529.47 44.7463 2529.47 39.4801 Q2529.47 33.0797 2534.01 29.5959 Q2538.54 26.1121 2546.89 26.1121 Q2551.02 26.1121 2554.67 26.7198 Q2558.31 27.3274 2561.39 28.5427 Z\" fill=\"#000000\" fill-rule=\"evenodd\" fill-opacity=\"1\" /><path clip-path=\"url(#clip210)\" d=\"M 0 0 M2571.64 27.2059 L2579.09 27.2059 L2579.09 72.576 L2571.64 72.576 L2571.64 27.2059 M2571.64 9.54393 L2579.09 9.54393 L2579.09 18.9825 L2571.64 18.9825 L2571.64 9.54393 Z\" fill=\"#000000\" fill-rule=\"evenodd\" fill-opacity=\"1\" /><path clip-path=\"url(#clip210)\" d=\"M 0 0 M2624.62 45.1919 L2624.62 72.576 L2617.17 72.576 L2617.17 45.4349 Q2617.17 38.994 2614.66 35.7938 Q2612.15 32.5936 2607.12 32.5936 Q2601.09 32.5936 2597.6 36.4419 Q2594.12 40.2903 2594.12 46.9338 L2594.12 72.576 L2586.63 72.576 L2586.63 27.2059 L2594.12 27.2059 L2594.12 34.2544 Q2596.79 30.163 2600.4 28.1376 Q2604.05 26.1121 2608.79 26.1121 Q2616.6 26.1121 2620.61 30.9732 Q2624.62 35.7938 2624.62 45.1919 Z\" fill=\"#000000\" fill-rule=\"evenodd\" fill-opacity=\"1\" /><path clip-path=\"url(#clip210)\" d=\"M 0 0 M2662.3 49.3643 Q2662.3 41.2625 2658.94 36.8065 Q2655.61 32.3505 2649.58 32.3505 Q2643.58 32.3505 2640.22 36.8065 Q2636.9 41.2625 2636.9 49.3643 Q2636.9 57.4256 2640.22 61.8816 Q2643.58 66.3376 2649.58 66.3376 Q2655.61 66.3376 2658.94 61.8816 Q2662.3 57.4256 2662.3 49.3643 M2669.75 66.9452 Q2669.75 78.5308 2664.61 84.1616 Q2659.46 89.8329 2648.85 89.8329 Q2644.92 89.8329 2641.44 89.2252 Q2637.95 88.6581 2634.67 87.4428 L2634.67 80.1917 Q2637.95 81.9741 2641.15 82.8248 Q2644.35 83.6755 2647.67 83.6755 Q2655.01 83.6755 2658.65 79.8271 Q2662.3 76.0193 2662.3 68.282 L2662.3 64.5957 Q2659.99 68.6061 2656.38 70.5911 Q2652.78 72.576 2647.75 72.576 Q2639.41 72.576 2634.31 66.2161 Q2629.2 59.8562 2629.2 49.3643 Q2629.2 38.832 2634.31 32.472 Q2639.41 26.1121 2647.75 26.1121 Q2652.78 26.1121 2656.38 28.0971 Q2659.99 30.082 2662.3 34.0924 L2662.3 27.2059 L2669.75 27.2059 L2669.75 66.9452 Z\" fill=\"#000000\" fill-rule=\"evenodd\" fill-opacity=\"1\" /><path clip-path=\"url(#clip210)\" d=\"M 0 0 M2677.57 9.54393 L2685.02 9.54393 L2685.02 72.576 L2677.57 72.576 L2677.57 9.54393 Z\" fill=\"#000000\" fill-rule=\"evenodd\" fill-opacity=\"1\" /><path clip-path=\"url(#clip210)\" d=\"M 0 0 M2731.65 48.0275 L2731.65 51.6733 L2697.38 51.6733 Q2697.86 59.3701 2702 63.421 Q2706.17 67.4314 2713.58 67.4314 Q2717.88 67.4314 2721.89 66.3781 Q2725.94 65.3249 2729.91 63.2184 L2729.91 70.267 Q2725.9 71.9684 2721.68 72.8596 Q2717.47 73.7508 2713.14 73.7508 Q2702.28 73.7508 2695.92 67.4314 Q2689.6 61.1119 2689.6 50.3365 Q2689.6 39.1965 2695.6 32.6746 Q2701.63 26.1121 2711.84 26.1121 Q2721 26.1121 2726.3 32.0264 Q2731.65 37.9003 2731.65 48.0275 M2724.2 45.84 Q2724.11 39.7232 2720.75 36.0774 Q2717.43 32.4315 2711.92 32.4315 Q2705.68 32.4315 2701.92 35.9558 Q2698.19 39.4801 2697.62 45.8805 L2724.2 45.84 Z\" fill=\"#000000\" fill-rule=\"evenodd\" fill-opacity=\"1\" /><path clip-path=\"url(#clip210)\" d=\"M 0 0 M2794.76 28.5427 L2794.76 35.5912 Q2791.6 33.9709 2788.2 33.1607 Q2784.8 32.3505 2781.15 32.3505 Q2775.6 32.3505 2772.81 34.0519 Q2770.05 35.7533 2770.05 39.156 Q2770.05 41.7486 2772.04 43.2475 Q2774.02 44.7058 2780.02 46.0426 L2782.57 46.6097 Q2790.51 48.3111 2793.83 51.4303 Q2797.19 54.509 2797.19 60.0587 Q2797.19 66.3781 2792.17 70.0644 Q2787.19 73.7508 2778.44 73.7508 Q2774.79 73.7508 2770.82 73.0216 Q2766.89 72.3329 2762.52 70.9151 L2762.52 63.2184 Q2766.65 65.3654 2770.66 66.4591 Q2774.67 67.5124 2778.6 67.5124 Q2783.87 67.5124 2786.7 65.73 Q2789.54 63.9071 2789.54 60.6258 Q2789.54 57.5877 2787.47 55.9673 Q2785.45 54.3469 2778.52 52.8481 L2775.93 52.2405 Q2769 50.7821 2765.92 47.7845 Q2762.84 44.7463 2762.84 39.4801 Q2762.84 33.0797 2767.38 29.5959 Q2771.92 26.1121 2780.26 26.1121 Q2784.39 26.1121 2788.04 26.7198 Q2791.68 27.3274 2794.76 28.5427 Z\" fill=\"#000000\" fill-rule=\"evenodd\" fill-opacity=\"1\" /><path clip-path=\"url(#clip210)\" d=\"M 0 0 M2812.38 14.324 L2812.38 27.2059 L2827.74 27.2059 L2827.74 32.9987 L2812.38 32.9987 L2812.38 57.6282 Q2812.38 63.1779 2813.88 64.7578 Q2815.42 66.3376 2820.08 66.3376 L2827.74 66.3376 L2827.74 72.576 L2820.08 72.576 Q2811.45 72.576 2808.17 69.3758 Q2804.89 66.1351 2804.89 57.6282 L2804.89 32.9987 L2799.42 32.9987 L2799.42 27.2059 L2804.89 27.2059 L2804.89 14.324 L2812.38 14.324 Z\" fill=\"#000000\" fill-rule=\"evenodd\" fill-opacity=\"1\" /><path clip-path=\"url(#clip210)\" d=\"M 0 0 M2856.17 49.7694 Q2847.14 49.7694 2843.66 51.8354 Q2840.17 53.9013 2840.17 58.8839 Q2840.17 62.8538 2842.77 65.2034 Q2845.4 67.5124 2849.9 67.5124 Q2856.09 67.5124 2859.82 63.1374 Q2863.59 58.7219 2863.59 51.4303 L2863.59 49.7694 L2856.17 49.7694 M2871.04 46.6907 L2871.04 72.576 L2863.59 72.576 L2863.59 65.6895 Q2861.04 69.8214 2857.23 71.8063 Q2853.42 73.7508 2847.91 73.7508 Q2840.94 73.7508 2836.81 69.8619 Q2832.72 65.9325 2832.72 59.3701 Q2832.72 51.7138 2837.82 47.825 Q2842.97 43.9361 2853.14 43.9361 L2863.59 43.9361 L2863.59 43.2069 Q2863.59 38.0623 2860.18 35.2672 Q2856.82 32.4315 2850.71 32.4315 Q2846.82 32.4315 2843.13 33.3632 Q2839.44 34.295 2836.04 36.1584 L2836.04 29.2718 Q2840.13 27.692 2843.98 26.9223 Q2847.83 26.1121 2851.47 26.1121 Q2861.32 26.1121 2866.18 31.2163 Q2871.04 36.3204 2871.04 46.6907 Z\" fill=\"#000000\" fill-rule=\"evenodd\" fill-opacity=\"1\" /><path clip-path=\"url(#clip210)\" d=\"M 0 0 M2886.23 14.324 L2886.23 27.2059 L2901.58 27.2059 L2901.58 32.9987 L2886.23 32.9987 L2886.23 57.6282 Q2886.23 63.1779 2887.73 64.7578 Q2889.27 66.3376 2893.93 66.3376 L2901.58 66.3376 L2901.58 72.576 L2893.93 72.576 Q2885.3 72.576 2882.02 69.3758 Q2878.74 66.1351 2878.74 57.6282 L2878.74 32.9987 L2873.27 32.9987 L2873.27 27.2059 L2878.74 27.2059 L2878.74 14.324 L2886.23 14.324 Z\" fill=\"#000000\" fill-rule=\"evenodd\" fill-opacity=\"1\" /><path clip-path=\"url(#clip210)\" d=\"M 0 0 M2909.4 27.2059 L2916.86 27.2059 L2916.86 72.576 L2909.4 72.576 L2909.4 27.2059 M2909.4 9.54393 L2916.86 9.54393 L2916.86 18.9825 L2909.4 18.9825 L2909.4 9.54393 Z\" fill=\"#000000\" fill-rule=\"evenodd\" fill-opacity=\"1\" /><path clip-path=\"url(#clip210)\" d=\"M 0 0 M2942.26 32.4315 Q2936.26 32.4315 2932.78 37.1306 Q2929.29 41.7891 2929.29 49.9314 Q2929.29 58.0738 2932.74 62.7728 Q2936.22 67.4314 2942.26 67.4314 Q2948.21 67.4314 2951.69 62.7323 Q2955.18 58.0333 2955.18 49.9314 Q2955.18 41.8701 2951.69 37.1711 Q2948.21 32.4315 2942.26 32.4315 M2942.26 26.1121 Q2951.98 26.1121 2957.53 32.4315 Q2963.08 38.7509 2963.08 49.9314 Q2963.08 61.0714 2957.53 67.4314 Q2951.98 73.7508 2942.26 73.7508 Q2932.49 73.7508 2926.94 67.4314 Q2921.43 61.0714 2921.43 49.9314 Q2921.43 38.7509 2926.94 32.4315 Q2932.49 26.1121 2942.26 26.1121 Z\" fill=\"#000000\" fill-rule=\"evenodd\" fill-opacity=\"1\" /><path clip-path=\"url(#clip210)\" d=\"M 0 0 M3008.61 45.1919 L3008.61 72.576 L3001.16 72.576 L3001.16 45.4349 Q3001.16 38.994 2998.64 35.7938 Q2996.13 32.5936 2991.11 32.5936 Q2985.07 32.5936 2981.59 36.4419 Q2978.11 40.2903 2978.11 46.9338 L2978.11 72.576 L2970.61 72.576 L2970.61 27.2059 L2978.11 27.2059 L2978.11 34.2544 Q2980.78 30.163 2984.39 28.1376 Q2988.03 26.1121 2992.77 26.1121 Q3000.59 26.1121 3004.6 30.9732 Q3008.61 35.7938 3008.61 45.1919 Z\" fill=\"#000000\" fill-rule=\"evenodd\" fill-opacity=\"1\" /><path clip-path=\"url(#clip212)\" d=\"M246.669 1653.25 L246.669 1685.25 L278.669 1685.25 L278.669 1653.25 L246.669 1653.25 Z\" fill=\"#009af9\" fill-rule=\"evenodd\" fill-opacity=\"1\" stroke=\"#000000\" stroke-opacity=\"1\" stroke-width=\"4\"/>\n",
       "<path clip-path=\"url(#clip212)\" d=\"M470.582 1576.76 L470.582 1608.76 L502.582 1608.76 L502.582 1576.76 L470.582 1576.76 Z\" fill=\"#009af9\" fill-rule=\"evenodd\" fill-opacity=\"1\" stroke=\"#000000\" stroke-opacity=\"1\" stroke-width=\"4\"/>\n",
       "<path clip-path=\"url(#clip212)\" d=\"M694.495 1505.56 L694.495 1537.56 L726.495 1537.56 L726.495 1505.56 L694.495 1505.56 Z\" fill=\"#009af9\" fill-rule=\"evenodd\" fill-opacity=\"1\" stroke=\"#000000\" stroke-opacity=\"1\" stroke-width=\"4\"/>\n",
       "<path clip-path=\"url(#clip212)\" d=\"M1142.32 1376.98 L1142.32 1408.98 L1174.32 1408.98 L1174.32 1376.98 L1142.32 1376.98 Z\" fill=\"#009af9\" fill-rule=\"evenodd\" fill-opacity=\"1\" stroke=\"#000000\" stroke-opacity=\"1\" stroke-width=\"4\"/>\n",
       "<path clip-path=\"url(#clip212)\" d=\"M1590.15 1264.02 L1590.15 1296.02 L1622.15 1296.02 L1622.15 1264.02 L1590.15 1264.02 Z\" fill=\"#009af9\" fill-rule=\"evenodd\" fill-opacity=\"1\" stroke=\"#000000\" stroke-opacity=\"1\" stroke-width=\"4\"/>\n",
       "<path clip-path=\"url(#clip212)\" d=\"M2411.16 1089.01 L2411.16 1121.01 L2443.16 1121.01 L2443.16 1089.01 L2411.16 1089.01 Z\" fill=\"#009af9\" fill-rule=\"evenodd\" fill-opacity=\"1\" stroke=\"#000000\" stroke-opacity=\"1\" stroke-width=\"4\"/>\n",
       "<path clip-path=\"url(#clip212)\" d=\"M3381.45 922.608 L3381.45 954.608 L3413.45 954.608 L3413.45 922.608 L3381.45 922.608 Z\" fill=\"#009af9\" fill-rule=\"evenodd\" fill-opacity=\"1\" stroke=\"#000000\" stroke-opacity=\"1\" stroke-width=\"4\"/>\n",
       "<path clip-path=\"url(#clip212)\" d=\"M3829.28 857.14 L3829.28 889.14 L3861.28 889.14 L3861.28 857.14 L3829.28 857.14 Z\" fill=\"#009af9\" fill-rule=\"evenodd\" fill-opacity=\"1\" stroke=\"#000000\" stroke-opacity=\"1\" stroke-width=\"4\"/>\n",
       "<polyline clip-path=\"url(#clip212)\" style=\"stroke:#009af9; stroke-width:16; stroke-opacity:1; fill:none\" points=\"\n",
       "  262.669,1840.63 262.669,1669.25 \n",
       "  \"/>\n",
       "<polyline clip-path=\"url(#clip212)\" style=\"stroke:#009af9; stroke-width:16; stroke-opacity:1; fill:none\" points=\"\n",
       "  486.582,1840.63 486.582,1592.76 \n",
       "  \"/>\n",
       "<polyline clip-path=\"url(#clip212)\" style=\"stroke:#009af9; stroke-width:16; stroke-opacity:1; fill:none\" points=\"\n",
       "  710.495,1840.63 710.495,1521.56 \n",
       "  \"/>\n",
       "<polyline clip-path=\"url(#clip212)\" style=\"stroke:#009af9; stroke-width:16; stroke-opacity:1; fill:none\" points=\"\n",
       "  1158.32,1840.63 1158.32,1392.98 \n",
       "  \"/>\n",
       "<polyline clip-path=\"url(#clip212)\" style=\"stroke:#009af9; stroke-width:16; stroke-opacity:1; fill:none\" points=\"\n",
       "  1606.15,1840.63 1606.15,1280.02 \n",
       "  \"/>\n",
       "<polyline clip-path=\"url(#clip212)\" style=\"stroke:#009af9; stroke-width:16; stroke-opacity:1; fill:none\" points=\"\n",
       "  2427.16,1840.63 2427.16,1105.01 \n",
       "  \"/>\n",
       "<polyline clip-path=\"url(#clip212)\" style=\"stroke:#009af9; stroke-width:16; stroke-opacity:1; fill:none\" points=\"\n",
       "  3397.45,1840.63 3397.45,938.608 \n",
       "  \"/>\n",
       "<polyline clip-path=\"url(#clip212)\" style=\"stroke:#009af9; stroke-width:16; stroke-opacity:1; fill:none\" points=\"\n",
       "  3845.28,1840.63 3845.28,873.14 \n",
       "  \"/>\n",
       "<polyline clip-path=\"url(#clip212)\" style=\"stroke:#e26f46; stroke-width:4; stroke-opacity:1; fill:none\" stroke-dasharray=\"2, 4\" points=\"\n",
       "  262.669,1653.76 486.582,1560.33 710.495,1466.89 1158.32,1280.02 1606.15,1093.15 2427.16,750.561 3397.45,345.676 3845.28,158.807 \n",
       "  \"/>\n",
       "</svg>\n"
      ]
     },
     "execution_count": 5,
     "metadata": {},
     "output_type": "execute_result"
    }
   ],
   "source": [
    "using Plots\n",
    "default(size=(1000,500), legend=:bottomright)\n",
    "\n",
    "L=1500\n",
    "PHY = [6,9,12,18,24,35,48,54]\n",
    "Thr = [8*L/tiempo_80211g(phy,L) for phy in PHY]\n",
    "\n",
    "plot(PHY, Thr, lt=:stem, lw=4, marker=:square, title=\"Throughput neto para L=1500 bytes, single station\", legend=:none)\n",
    "plot!(PHY,PHY,ls=:dot)"
   ]
  },
  {
   "cell_type": "markdown",
   "metadata": {
    "slideshow": {
     "slide_type": "slide"
    }
   },
   "source": [
    "## Modelo de una celda 802.11 en saturación.\n",
    "\n",
    "Deseamos realizar un modelo de una celda 802.11 donde $N$ estaciones compiten por el acceso al medio. Supondremos que estamos en condiciones de saturación (siempre hay paquetes) y que todas las estaciones se ven entre sí.\n",
    "\n",
    "Para poder realizar un análisis del caso de múltiples estaciones, del estilo del análisis por ciclos, necesitamos modelar adecuadamente el *proceso de backoff* para calcular la *probabilidad neta de acceso al medio*.\n",
    "\n",
    "**Modelo (G. Bianchi, 2000):**\n",
    "\n",
    " * Se realiza un modelo de Markov del proceso de backoff, en función de los parámetros de la norma. Identifica la probabilidad condicional de colisión (cuantas colisiones ve cada estación) y la probabilidad neta de acceso al medio del Binary Exponential Backoff.\n",
    " \n",
    " * Utilizando la probabilidad resultante y un análisis por ciclos, determina el throughput resultante en una celda de $N$ estaciones accediendo mediante DCF en saturación.\n",
    " \n"
   ]
  },
  {
   "cell_type": "markdown",
   "metadata": {
    "slideshow": {
     "slide_type": "slide"
    }
   },
   "source": [
    "### Modelo del proceso de backoff: caso simple.\n",
    "\n",
    "Para entender el modelo, conviene comenzar con el caso en que la ventana de Backoff $W$ es fija (no se duplica). Sea $b(t)$ el valor actual del contador. \n",
    "\n",
    "El proceso $b(t)$ es una CMTD con el siguiente diagrama:\n",
    "\n",
    "![Cadena backoff simple](images/simple_backoff.png)"
   ]
  },
  {
   "cell_type": "markdown",
   "metadata": {
    "slideshow": {
     "slide_type": "slide"
    }
   },
   "source": [
    "### Probabilidad de acceso: ec. de balance\n",
    "\n",
    "Planteando ecuaciones de balance se obtiene:\n",
    "\n",
    "$$\\begin{align}\n",
    "\\pi_0& \\frac{W-1}{W} = \\pi_1 \\\\\n",
    "\\pi_1 &= \\pi_0 \\frac{1}{W} + \\pi_2 \\\\\n",
    "\\pi_2 &= \\pi_0 \\frac{1}{W} + \\pi_3 \\\\\n",
    "&\\ldots \\\\\n",
    "\\pi_{W-2} &= \\pi_0 \\frac{1}{W} + \\pi_{W-1}\\\\\n",
    "\\pi_{W-1} &= \\pi_0 \\frac{1}{W}\n",
    "\\end{align}$$\n",
    "\n",
    "Despejando se obtiene:\n",
    "$$\\pi_k = \\frac{W-k}{W} \\pi_0, \\quad k=0,\\ldots,W-1$$"
   ]
  },
  {
   "cell_type": "markdown",
   "metadata": {
    "slideshow": {
     "slide_type": "slide"
    }
   },
   "source": [
    "### Probabilidad de acceso\n",
    "\n",
    "Planteando:\n",
    "\n",
    "$$1 = \\sum_{k=0}^{W-1} \\pi_k = \\pi_0 \\frac{1}{W} \\sum_{k=0}^{W-1} (W-k) = \\pi_0 \\frac{1}{W} \\frac{W(W+1)}{2}= \\pi_0\\frac{W+1}{2}$$\n",
    "\n",
    "De donde la probabilidad en régimen de que el contador de backoff esté en $0$ (probabilidad de acceso) es:\n",
    "\n",
    "$$p = P(acceso) = \\pi_0 = \\frac{2}{W+1}$$\n",
    "\n",
    "Asumiendo que los procesos de backoff de cada estación se comportan de manera independiente, podemos hacer un análisis por ciclos utilizando esta $p$."
   ]
  },
  {
   "cell_type": "markdown",
   "metadata": {
    "slideshow": {
     "slide_type": "slide"
    }
   },
   "source": [
    "### Modelo del proceso de backoff: caso completo.\n",
    "\n",
    "En la práctica, el backoff va entre $0$ y $W-1$, pero si se colisiona se duplica la ventana. Si se transmite exitosamente, se vuelve a la ventana básica. Sea $p_c$ la *probabilidad condicional de colisión*, es decir, la probabilidad de que haya una colisión dado que una estación transmite.\n",
    "\n",
    "Sea $s(t),b(t)$ el proceso que cuenta el estado de la ventana y el contador actual. Es una CMTD con el siguiente diagrama:\n",
    "\n",
    "![Backoff model](images/complete_backoff.png)"
   ]
  },
  {
   "cell_type": "markdown",
   "metadata": {
    "slideshow": {
     "slide_type": "slide"
    }
   },
   "source": [
    "### Probabilidad de acceso\n",
    "\n",
    "Afortunadamente, la cadena anterior se resuelve para el caso en que $W_i = 2^iW_0$. Básicamente en cada renglón se comporta como la que ya vimos. La probabilidad de acceso es:\n",
    "\n",
    "$$p = \\sum_{s=0}^m \\pi_{s,0} = \\frac{2(1-2p_c)}{(1-2p_c)(W+1) +p_c W(1-(2p_c)^m)}$$\n",
    "\n",
    "**Observación:** si $m=0$, es decir, nunca se duplica, $p=2/(W+1)$ como hallamos antes.\n",
    "\n",
    "El resultado nos dice cuál es la tasa de acceso neta del proceso de backoff para una probabilidad de colisión dada."
   ]
  },
  {
   "cell_type": "markdown",
   "metadata": {
    "slideshow": {
     "slide_type": "slide"
    }
   },
   "source": [
    "### Probabilidad condicional de colisión\n",
    "\n",
    "La ecuación anterior nos da una relación para la probabilidad de acceso. ¿Cuál será la probabilidad condicional de colisión?\n",
    "\n",
    "Supongamos nuevamente que estamos en saturación y hay $N$ estaciones tratando de transmitir.\n",
    "\n",
    "**Idea:** si cada estación está haciendo backoff de manera independiente, cada una tiene una probabilidad neta de acceso $p$.\n",
    "\n",
    "Dado que una transmite, la probabilidad condicional de colisión será la probabilidad de que **alguna más lo haga**:\n",
    "\n",
    "$$p_c = 1 - (1-p)^{N-1}.$$\n"
   ]
  },
  {
   "cell_type": "markdown",
   "metadata": {
    "slideshow": {
     "slide_type": "slide"
    }
   },
   "source": [
    "### Modelo completo de una celda WiFi con colisiones.\n",
    "\n",
    "Para hallar la probabilidad neta de acceso y de colisión resultantes, debemos resolver entonces el sistema de ecuaciones:\n",
    "\n",
    "$$\\begin{align}\n",
    "p &= \\frac{2(1-2p_c)}{(1-2p_c)(W+1) +p_c W(1-(2p_c)^m)},\\\\\n",
    "p_c &= 1- (1-p)^{N-1}.\n",
    "\\end{align}$$\n",
    "\n",
    "El resultado $p^*, p_c^*$ nos dará la probabilidad de acceso y la probabilidad condicional de colisión en que operará el sistema.\n",
    "\n",
    "Luego usamos $p^*$ para realizar un análisis por ciclos."
   ]
  },
  {
   "cell_type": "markdown",
   "metadata": {
    "slideshow": {
     "slide_type": "slide"
    }
   },
   "source": [
    "## Ejercicio\n",
    "\n",
    "Considere la norma IEEE 802.11b básica de 1Mbps. Suponga que hay $N=10$ estaciones y se utilizan paquetes de largo $L=1500$ bytes. La ventana básica es $CW_{min}=32$ y la ventana máxima $CW_{max}=1024$, correspondiente a $5$ duplicaciones. Los restantes tiempos de transmisión y slot son como antes.\n",
    "\n",
    "1. Resuelva el sistema de ecuaciones del modelo de Bianchi para esta celda y calcule la probabilidad neta de acceso.\n",
    "\n",
    "2. Realice el análisis por ciclos resultante y calcule el Throughput neto de la celda."
   ]
  }
 ],
 "metadata": {
  "@webio": {
   "lastCommId": null,
   "lastKernelId": null
  },
  "celltoolbar": "Slideshow",
  "kernelspec": {
   "display_name": "Julia 1.5.2",
   "language": "julia",
   "name": "julia-1.5"
  },
  "language_info": {
   "file_extension": ".jl",
   "mimetype": "application/julia",
   "name": "julia",
   "version": "1.5.2"
  }
 },
 "nbformat": 4,
 "nbformat_minor": 4
}
