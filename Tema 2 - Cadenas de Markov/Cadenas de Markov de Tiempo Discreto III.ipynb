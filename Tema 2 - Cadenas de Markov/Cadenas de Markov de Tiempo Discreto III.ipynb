{
 "cells": [
  {
   "cell_type": "markdown",
   "metadata": {
    "slideshow": {
     "slide_type": "slide"
    }
   },
   "source": [
    "# Curso Análisis de Redes\n",
    "\n",
    "## Cátedra Teoría de las Telecomunicaciones - Universidad ORT Uruguay\n",
    "\n",
    "\n",
    "\n",
    "# Cadenas de Markov de Tiempo discreto (3a. parte)"
   ]
  },
  {
   "cell_type": "code",
   "execution_count": 1,
   "metadata": {
    "slideshow": {
     "slide_type": "skip"
    }
   },
   "outputs": [],
   "source": [
    "#using Pkg;Pkg.instantiate();Pkg.update()"
   ]
  },
  {
   "cell_type": "markdown",
   "metadata": {
    "slideshow": {
     "slide_type": "slide"
    }
   },
   "source": [
    "## Cadenas de Markov de Tiempo Discreto\n",
    "\n",
    "Recordemos que una cadena de Markov queda caracterizada por:\n",
    "\n",
    "* Un espacio de estados $E=\\{i,j,\\ldots\\}$ discreto *finito* o *infinito*\n",
    "\n",
    "* Una matriz de transición $P$ que almacena las probabilidades de salto:\n",
    "\n",
    "$$p_{ij} = P(X_{n+1}= j\\mid X_n=i), \\quad i,j\\in E.$$\n",
    "\n",
    "* Una distribución de probabilidad inicial $\\pi^{(0)}$ que dice cómo se sortea el primer estado\n",
    "\n",
    "\n",
    "**Pregunta:** ¿Qué debe cumplir la cadena para que exista régimen?"
   ]
  },
  {
   "cell_type": "markdown",
   "metadata": {
    "slideshow": {
     "slide_type": "slide"
    }
   },
   "source": [
    "## Estructura de estados de una CMTD\n",
    "\n",
    "### Irreducibilidad\n",
    "\n",
    "> **Definición:** Dos estados $i$,$j$ están *conectados* si y solo si existen $n$ y $m$ tales que:\n",
    ">\n",
    "> $$p_{ij}^{(m)} >0 ,\\quad p_{ji}^{(n)}>0.$$\n",
    "\n",
    "Es decir, existen caminos de ida y vuelta de $i$ a $j$ (en alguna cantidad finita de pasos).\n",
    "\n",
    "> **Definición:** Una cadena (o su matriz $P$) se dice *irreducible* si y solo si todos sus estados están conectados."
   ]
  },
  {
   "cell_type": "markdown",
   "metadata": {
    "slideshow": {
     "slide_type": "slide"
    }
   },
   "source": [
    "### Ejemplo\n",
    "\n",
    "Consideremos nuevamente el paseo al azar con barrera. El diagrama de estados es:\n",
    "![Ejemplo](../images/random_walk_barrier.png)\n",
    "\n",
    "Recordemos que $q=1-p$ en este caso. Se tiene que:\n",
    "\n",
    "* Si $p=0$, no es irreducible (solo le puede ir a la izquierda)\n",
    "* Si $p=1$, no es irreducible (solo le puede ir a la derecha)\n",
    "* Si $0<p<1$, es irreducible."
   ]
  },
  {
   "cell_type": "markdown",
   "metadata": {
    "slideshow": {
     "slide_type": "slide"
    }
   },
   "source": [
    "### Ejemplo: cadena ON-OFF\n",
    "\n",
    "![Ejemplo](../images/on_off_discrete.png)\n",
    "\n",
    "Si $p_{01}=0$ o $p_{10}=0$, entonces la cadena no es irreducible. Si ambos son positivos, la cadena es irreducible."
   ]
  },
  {
   "cell_type": "markdown",
   "metadata": {
    "slideshow": {
     "slide_type": "slide"
    }
   },
   "source": [
    "### Periodicidad\n",
    "\n",
    "> **Definición:** Un estado $i$ se dice periódico si y solo si:\n",
    ">\n",
    ">$$p_{ii}^{(n)}>0$$\n",
    ">\n",
    ">solo cuando $n$ es múltiplo de un período entero $d>1$. Si no hay un período entonces el estado es aperiódico.\n",
    "\n",
    "\n",
    "**Observación:** si la probabilidad de volver en un paso $p_{ii}$ es positiva, entonces ya es aperiódico."
   ]
  },
  {
   "cell_type": "markdown",
   "metadata": {
    "slideshow": {
     "slide_type": "slide"
    }
   },
   "source": [
    "### Ejemplo: cadena ON-OFF periódica\n",
    "\n",
    "![Ejemplo](../images/on_off_discrete.png)\n",
    "\n",
    "Si $p_{01}=1$ y $p_{10}=1$, entonces ambos estados son periódicos de período $2$. La matriz $P$ queda:\n",
    "\n",
    "$$P=\\begin{pmatrix} 0 & 1 \\\\ 1 & 0\\end{pmatrix}.$$\n",
    "\n",
    "En cualquier otro caso, los estados son aperiódicos (en un paso ya se puede volver)."
   ]
  },
  {
   "cell_type": "markdown",
   "metadata": {
    "slideshow": {
     "slide_type": "slide"
    }
   },
   "source": [
    "### Periodicidad de cadenas irreducibles\n",
    "\n",
    "> **Proposición:** Si una cadena es irreducible, todos los estados tienen el mismo período, o son todos aperiódicos.\n",
    "\n",
    "Esto permite estudiar si una cadena es periódica mirando un único estado \"fácil\"."
   ]
  },
  {
   "cell_type": "markdown",
   "metadata": {
    "slideshow": {
     "slide_type": "slide"
    }
   },
   "source": [
    "### Ejemplo: el paseo con barrera es aperiódico.\n",
    "\n",
    "Consideremos nuevamente el paseo al azar con barrera:\n",
    "![Ejemplo](../images/random_walk_barrier.png)\n",
    "\n",
    "Si $0<p<1$, la cadena es irreducible. Como además en este caso $p_{00}>0$, el estado $0$ es aperiódico, y por lo tanto, toda la cadena lo es.\n",
    "\n",
    "\n",
    "**Observación:** si el paseo fuera \"sin barrera\", entonces sería periódico de período $2$ (necesito una cantidad par de pasos para volver al mismo estado)."
   ]
  },
  {
   "cell_type": "markdown",
   "metadata": {
    "slideshow": {
     "slide_type": "slide"
    }
   },
   "source": [
    "## Recurrencia, transitoriedad\n",
    "\n",
    "**Idea:** ¿los estados de una cadena, se visitan para siempre o dejan de verse?\n",
    "\n",
    "> **Definición:** Un estado $i$ es *recurrente* si la probabilidad de volver a él en algún momento es $1$, o sea:\n",
    ">\n",
    "> $$P\\left(\\bigcup_{n=1}^\\infty \\{X_n=i\\} \\mid X_0=i\\right) =1.$$\n",
    ">\n",
    "> Si esta probabilidad es estrictamente $<1$, entonces el estado es *transitorio*.\n",
    "\n",
    "**Nota:** Si la probabilidad es $<1$, como la cadena \"comienza nuevamente\" en cada visita, habrá alguna vez que no vuelve más."
   ]
  },
  {
   "cell_type": "markdown",
   "metadata": {
    "slideshow": {
     "slide_type": "slide"
    }
   },
   "source": [
    "### Ejemplo: cadena ON-OFF con estado transitorio y absorbente.\n",
    "\n",
    "![Ejemplo](../images/on_off_discrete.png)\n",
    "\n",
    "Si $p_{10}=0$, $p_{11}=1$, entonces la cadena:\n",
    "\n",
    "* No es irreducible (no se puede volver a $0$).\n",
    "* El estado $0$ es transitorio: si comienzo en $0$ tiro una moneda con probabilidad $p_{01}$ para salir. Eventualmente salgo y no vuelvo.\n",
    "* El estado $1$ es recurrente. En particular es absorbente ya que vuelve inmediatamente con probabilidad $1$ (nunca sale)."
   ]
  },
  {
   "cell_type": "markdown",
   "metadata": {
    "slideshow": {
     "slide_type": "slide"
    }
   },
   "source": [
    "### Tipos de recurrencia\n",
    "\n",
    "Sea $\\tau_i$ el tiempo (aleatorio) que le toma a la cadena volver a $i$ (cantidad de pasos desde que salgo hasta que vuelvo a $i$).\n",
    "\n",
    "> **Definición**: Un estado se dice *recurrente positivo* si:\n",
    ">\n",
    "> $$E[\\tau_i\\mid X_0=i] < \\infty,$$\n",
    ">\n",
    "\n",
    "En este caso, el tiempo promedio de retorno está bien definido.\n",
    "\n",
    "> **Definición**: Un estado se dice *recurrente nulo* si:\n",
    ">\n",
    "> $$E[\\tau_i\\mid X_0=i] = \\infty,$$\n",
    ">\n",
    "\n",
    "En este segundo caso, la probabilidad de volver es $1$, pero la cadena \"demora mucho\" en volver. Es un caso \"de borde\" entre recurrente y transitorio."
   ]
  },
  {
   "cell_type": "markdown",
   "metadata": {
    "slideshow": {
     "slide_type": "slide"
    }
   },
   "source": [
    "### Irreducibilidad y recurrencia\n",
    "\n",
    "> **Proposicion:** En una cadena irreducible, todos los estados son necesariamente del mismo tipo. Es decir, todos transitorios, recurrentes positivos o recurrentes nulos. En ese caso, decimos que *la cadena es recurrente/rec. nula/transitoria.*\n",
    "\n",
    "Las cadenas irreducibles tienen entonces un comportamiento homogéneo: o visitamos recurrentemente todos sus estados o todos dejan de verse. En particular, esto último solo es posible si la cadena es infinita.\n"
   ]
  },
  {
   "cell_type": "markdown",
   "metadata": {
    "slideshow": {
     "slide_type": "slide"
    }
   },
   "source": [
    "## Cadenas ergódicas\n",
    "\n",
    "Decimos que una cadena es *ergódica* si es irreducible, aperiódica y recurrente positiva.\n",
    "\n",
    "> **Teorema:** Si una cadena es ergódica, entonces existe:\n",
    ">\n",
    ">$$\\pi = \\lim_n \\pi^{(0)} P^n.$$\n",
    ">\n",
    "> Dicho límite no depende de $\\pi^{(0)}$, verifica las ecuaciones de balance global:\n",
    ">\n",
    "> $$\\pi: \\left\\{\\begin{array}{cc}\\pi = \\pi P \\\\ \\pi \\mathbf{1} = 1\\end{array}\\right.$$\n",
    ">\n",
    "> Además se verifica que:\n",
    ">\n",
    "> $$\\pi_i = \\frac{1}{E[\\tau_i]} > 0 \\quad \\forall i.$$\n",
    "\n",
    "Es decir, existe el régimen bien definido, y puedo interpretar $\\pi_i$ como la proporción de tiempo que la cadena pasa en $i$."
   ]
  },
  {
   "cell_type": "markdown",
   "metadata": {
    "slideshow": {
     "slide_type": "slide"
    }
   },
   "source": [
    "### ¿Por qué es necesario que sea irreducible?\n",
    "\n",
    "Consideremos de nuevo el ON-OFF con un estado absorbente, es decir:\n",
    "\n",
    "$$P= \\begin{pmatrix}1-p & p \\\\ 0 & 1\\end{pmatrix}.$$\n",
    "\n",
    "¿Qué ocurre si hacemos $P^n$?"
   ]
  },
  {
   "cell_type": "code",
   "execution_count": 10,
   "metadata": {
    "slideshow": {
     "slide_type": "slide"
    }
   },
   "outputs": [
    {
     "data": {
      "text/plain": [
       "2×2 Matrix{Float64}:\n",
       " 0.9  0.1\n",
       " 0.0  1.0"
      ]
     },
     "execution_count": 10,
     "metadata": {},
     "output_type": "execute_result"
    }
   ],
   "source": [
    "p=0.1\n",
    "\n",
    "P=[1-p p;0 1]"
   ]
  },
  {
   "cell_type": "code",
   "execution_count": 3,
   "metadata": {
    "slideshow": {
     "slide_type": "fragment"
    }
   },
   "outputs": [
    {
     "data": {
      "text/plain": [
       "2×2 Array{Float64,2}:\n",
       " 0.81  0.19\n",
       " 0.0   1.0"
      ]
     },
     "execution_count": 3,
     "metadata": {},
     "output_type": "execute_result"
    }
   ],
   "source": [
    "P^2"
   ]
  },
  {
   "cell_type": "code",
   "execution_count": 4,
   "metadata": {
    "slideshow": {
     "slide_type": "fragment"
    }
   },
   "outputs": [
    {
     "data": {
      "text/plain": [
       "2×2 Array{Float64,2}:\n",
       " 1.74787e-46  1.0\n",
       " 0.0          1.0"
      ]
     },
     "execution_count": 4,
     "metadata": {},
     "output_type": "execute_result"
    }
   ],
   "source": [
    "P^1000"
   ]
  },
  {
   "cell_type": "markdown",
   "metadata": {
    "slideshow": {
     "slide_type": "fragment"
    }
   },
   "source": [
    "Es decir, hay estados que desaparecen y el tiempo de retorno no está bien definido."
   ]
  },
  {
   "cell_type": "markdown",
   "metadata": {
    "slideshow": {
     "slide_type": "slide"
    }
   },
   "source": [
    "### ¿Por qué es necesario que sea aperiódica?\n",
    "\n",
    "Consideremos de nuevo el ON-OFF con probabilidad de cruzarse $1$, es decir:\n",
    "\n",
    "$$P= \\begin{pmatrix}0 & 1 \\\\ 1 & 0\\end{pmatrix}.$$\n",
    "\n",
    "¿Qué ocurre si hacemos $P^n$?"
   ]
  },
  {
   "cell_type": "code",
   "execution_count": 5,
   "metadata": {
    "slideshow": {
     "slide_type": "slide"
    }
   },
   "outputs": [
    {
     "data": {
      "text/plain": [
       "2×2 Array{Int64,2}:\n",
       " 0  1\n",
       " 1  0"
      ]
     },
     "execution_count": 5,
     "metadata": {},
     "output_type": "execute_result"
    }
   ],
   "source": [
    "P=[0 1;1 0]"
   ]
  },
  {
   "cell_type": "code",
   "execution_count": 6,
   "metadata": {
    "slideshow": {
     "slide_type": "fragment"
    }
   },
   "outputs": [
    {
     "data": {
      "text/plain": [
       "2×2 Array{Int64,2}:\n",
       " 1  0\n",
       " 0  1"
      ]
     },
     "execution_count": 6,
     "metadata": {},
     "output_type": "execute_result"
    }
   ],
   "source": [
    "P^2"
   ]
  },
  {
   "cell_type": "code",
   "execution_count": 7,
   "metadata": {
    "slideshow": {
     "slide_type": "fragment"
    }
   },
   "outputs": [
    {
     "data": {
      "text/plain": [
       "2×2 Array{Int64,2}:\n",
       " 0  1\n",
       " 1  0"
      ]
     },
     "execution_count": 7,
     "metadata": {},
     "output_type": "execute_result"
    }
   ],
   "source": [
    "P^3"
   ]
  },
  {
   "cell_type": "markdown",
   "metadata": {
    "slideshow": {
     "slide_type": "fragment"
    }
   },
   "source": [
    "No hay límite, la cadena siempre recuerda en qué estado comenzó, y solo puede volver a él en múltiplos del período."
   ]
  },
  {
   "cell_type": "markdown",
   "metadata": {
    "slideshow": {
     "slide_type": "slide"
    }
   },
   "source": [
    "## Criterio de ergodicidad para cadenas finitas\n",
    "\n",
    "La recurrencia positiva es la condición más difícil de chequear. Por suerte esto es \"gratis\" en el caso finito:\n",
    "\n",
    "> **Teorema:** Si una cadena es *finita*, *irreducible* y *aperiódica*, entonces es necesariamente ergódica y tendŕa un régimen bien definido (necesariamente visita todos los estados).\n",
    ">\n",
    "> El régimen se calcula resolviendo las ecuaciones de balance."
   ]
  },
  {
   "cell_type": "markdown",
   "metadata": {
    "slideshow": {
     "slide_type": "slide"
    }
   },
   "source": [
    "## Criterio de ergodicidad para cadenas infinitas\n",
    "\n",
    "> **Teorema:** Si una cadena es *irreducible* y *aperiódica* y existe **una única solución** de las ecuaciones de balance global:\n",
    ">\n",
    "> $$\\pi: \\left\\{\\begin{array}{cc}\\pi = \\pi P \\\\ \\pi \\mathbf{1} = 1\\end{array}\\right.$$\n",
    ">\n",
    "> que además verifica $\\pi_i>0$ $\\forall i$, entonces la cadena es ergódica y $\\pi$ es su distribución invariante. En otro caso la cadena es transitoria o recurrente nula."
   ]
  },
  {
   "cell_type": "markdown",
   "metadata": {
    "slideshow": {
     "slide_type": "slide"
    }
   },
   "source": [
    "### Ejemplo: caso infinito\n",
    "\n",
    "Volviendo al paseo al azar analizado antes:\n",
    "![Ejemplo](../images/random_walk_barrier.png)\n",
    "\n",
    "* Si $0<p<1$ es irreducible y aperiódico.\n",
    "* Si $p<1/2$, existe una única solución a las ecuaciones de balance (ver cuaderno anterior).\n",
    "\n",
    "Por lo tanto en este caso la cadena es ergódica y tiene el régimen ya calculado (distribución geométrica).\n",
    "\n",
    "* Si $p\\geqslant 1/2$ entonces no hay solución y no es ergódica. De hecho es transitoria para $p>1/2$ y recurrente nula para $p=1/2$."
   ]
  },
  {
   "cell_type": "markdown",
   "metadata": {
    "slideshow": {
     "slide_type": "slide"
    }
   },
   "source": [
    "## Interpretación de las ecuaciones de balance\n",
    "\n",
    "Escribamos la ecuación $j$ de las ecuaciones de balance $\\pi P = \\pi$:\n",
    "\n",
    "$$\\sum_{i\\in E} \\pi_i p_{ij} = \\pi_j.$$\n",
    "\n",
    "Pasando el término de la diagonal para el otro lado queda:\n",
    "\n",
    "$$\\sum_{i\\neq j} \\pi_i p_{ij} = (1-p_{jj})\\pi_j.$$\n",
    "\n",
    "O equivalentemente, de forma más simétrica:\n",
    "$$\\sum_{i\\neq j} \\pi_i p_{ij} = \\sum_{i\\neq j} \\pi_jp_{ji}.$$\n",
    "\n",
    "Esto debe leerse como \"la probabilidad de estar en un estado y salir se balancea con la de estar en cualquier otro y llegar a él\". Con este criterio, se pueden escribir directamente las ecuaciones de balance del grafo de la cadena, sin pasar por la matriz $P$. "
   ]
  },
  {
   "cell_type": "markdown",
   "metadata": {
    "slideshow": {
     "slide_type": "slide"
    }
   },
   "source": [
    "## Ejercicio\n",
    "\n",
    "Un sistema de transmisión con control de congestión por ventanas funciona del siguiente modo. En cada\n",
    "transmisión de una ventana (tiempo discreto) transmite $W = 2^n$ paquetes dependiendo del estado. Dichos\n",
    "paquetes pueden ser recibidos con éxito (no hay congestión) con probabilidad $p$, o perderse alguno con\n",
    "probabilidad $1 − p$, en cuyo caso se baja la ventana a $W = 1$ y se comienza nuevamente. Si se llega a\n",
    "$W = 8$ se mantiene en ese nivel mientras no pierda paquetes. Sea $X_k$ el estado actual de transmisión.\n",
    "\n",
    " 1. Modele $X_k$ como una cadena de Markov de tiempo discreto. Dé el diagrama de estados y transiciones y la matriz $P$ de la cadena.\n",
    " 2. Discuta en qué casos la cadena es irreducible y aperiódica.\n",
    " 3. Hallar la distribución invariante en aquellos casos que exista.\n",
    " 4. Calcule, en función de la prob. de congestión $p$:\n",
    "       1. La proporción de tiempo que el sistema logra trabajar al máximo de capacidad.\n",
    "       2. La cantidad media de paquetes por slot que el sistema logra transmitir (ventana media, $\\bar{W}$).\n",
    "\n",
    " 5. Simule el caso $p=1/2$, muestre que la ventana media es $\\bar{W}=2.5$ y compare con la simulación.\n"
   ]
  }
 ],
 "metadata": {
  "@webio": {
   "lastCommId": null,
   "lastKernelId": null
  },
  "hide_input": false,
  "kernelspec": {
   "display_name": "Julia 1.6.2",
   "language": "julia",
   "name": "julia-1.6"
  },
  "language_info": {
   "file_extension": ".jl",
   "mimetype": "application/julia",
   "name": "julia",
   "version": "1.6.2"
  }
 },
 "nbformat": 4,
 "nbformat_minor": 4
}
